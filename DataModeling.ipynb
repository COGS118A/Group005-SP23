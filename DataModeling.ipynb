{
 "cells": [
  {
   "attachments": {},
   "cell_type": "markdown",
   "metadata": {},
   "source": [
    "## Setup and Load Data"
   ]
  },
  {
   "attachments": {},
   "cell_type": "markdown",
   "metadata": {},
   "source": [
    "First, we retrieve the dataste from https://www.kaggle.com/datasets/mrdaniilak/russia-real-estate-20182021.\n",
    "\n",
    "If using the below cell, make sure you have a Kaggle API token in a `kaggle.json` file in `~/.kaggle/`. Otherwise, please download the data manually and place it under a folder `./data/`."
   ]
  },
  {
   "cell_type": "code",
   "execution_count": 503,
   "metadata": {},
   "outputs": [],
   "source": [
    "import pandas as pd\n",
    "import numpy as np\n",
    "import matplotlib.pyplot as plt\n",
    "import seaborn as sns\n",
    "from sklearn import preprocessing\n"
   ]
  },
  {
   "cell_type": "code",
   "execution_count": 504,
   "metadata": {},
   "outputs": [],
   "source": [
    "moscow_df = pd.read_csv('data/Moscow.csv')"
   ]
  },
  {
   "cell_type": "code",
   "execution_count": 505,
   "metadata": {},
   "outputs": [
    {
     "data": {
      "text/plain": [
       "False"
      ]
     },
     "execution_count": 505,
     "metadata": {},
     "output_type": "execute_result"
    }
   ],
   "source": [
    "moscow_df.isnull().values.any()"
   ]
  },
  {
   "cell_type": "code",
   "execution_count": 506,
   "metadata": {},
   "outputs": [
    {
     "data": {
      "text/html": [
       "<div>\n",
       "<style scoped>\n",
       "    .dataframe tbody tr th:only-of-type {\n",
       "        vertical-align: middle;\n",
       "    }\n",
       "\n",
       "    .dataframe tbody tr th {\n",
       "        vertical-align: top;\n",
       "    }\n",
       "\n",
       "    .dataframe thead th {\n",
       "        text-align: right;\n",
       "    }\n",
       "</style>\n",
       "<table border=\"1\" class=\"dataframe\">\n",
       "  <thead>\n",
       "    <tr style=\"text-align: right;\">\n",
       "      <th></th>\n",
       "      <th>Unnamed: 0</th>\n",
       "      <th>price</th>\n",
       "      <th>date</th>\n",
       "      <th>building_type</th>\n",
       "      <th>level</th>\n",
       "      <th>levels</th>\n",
       "      <th>rooms</th>\n",
       "      <th>area</th>\n",
       "      <th>kitchen_area</th>\n",
       "      <th>object_type</th>\n",
       "    </tr>\n",
       "  </thead>\n",
       "  <tbody>\n",
       "    <tr>\n",
       "      <th>30270</th>\n",
       "      <td>293584</td>\n",
       "      <td>9000000</td>\n",
       "      <td>2018</td>\n",
       "      <td>panel</td>\n",
       "      <td>22</td>\n",
       "      <td>25</td>\n",
       "      <td>3</td>\n",
       "      <td>80.0</td>\n",
       "      <td>10.0</td>\n",
       "      <td>preowned</td>\n",
       "    </tr>\n",
       "    <tr>\n",
       "      <th>174627</th>\n",
       "      <td>1731745</td>\n",
       "      <td>10750000</td>\n",
       "      <td>2019</td>\n",
       "      <td>brick</td>\n",
       "      <td>15</td>\n",
       "      <td>23</td>\n",
       "      <td>3</td>\n",
       "      <td>95.3</td>\n",
       "      <td>19.3</td>\n",
       "      <td>preowned</td>\n",
       "    </tr>\n",
       "    <tr>\n",
       "      <th>376939</th>\n",
       "      <td>4091186</td>\n",
       "      <td>6100000</td>\n",
       "      <td>2020</td>\n",
       "      <td>panel</td>\n",
       "      <td>6</td>\n",
       "      <td>9</td>\n",
       "      <td>3</td>\n",
       "      <td>62.0</td>\n",
       "      <td>7.4</td>\n",
       "      <td>preowned</td>\n",
       "    </tr>\n",
       "    <tr>\n",
       "      <th>86427</th>\n",
       "      <td>844812</td>\n",
       "      <td>4585680</td>\n",
       "      <td>2018</td>\n",
       "      <td>panel</td>\n",
       "      <td>17</td>\n",
       "      <td>25</td>\n",
       "      <td>1</td>\n",
       "      <td>39.6</td>\n",
       "      <td>18.1</td>\n",
       "      <td>new</td>\n",
       "    </tr>\n",
       "    <tr>\n",
       "      <th>247136</th>\n",
       "      <td>2516510</td>\n",
       "      <td>2800000</td>\n",
       "      <td>2019</td>\n",
       "      <td>panel</td>\n",
       "      <td>4</td>\n",
       "      <td>5</td>\n",
       "      <td>1</td>\n",
       "      <td>32.0</td>\n",
       "      <td>6.0</td>\n",
       "      <td>preowned</td>\n",
       "    </tr>\n",
       "  </tbody>\n",
       "</table>\n",
       "</div>"
      ],
      "text/plain": [
       "        Unnamed: 0     price  date building_type  level  levels  rooms  area  \\\n",
       "30270       293584   9000000  2018         panel     22      25      3  80.0   \n",
       "174627     1731745  10750000  2019         brick     15      23      3  95.3   \n",
       "376939     4091186   6100000  2020         panel      6       9      3  62.0   \n",
       "86427       844812   4585680  2018         panel     17      25      1  39.6   \n",
       "247136     2516510   2800000  2019         panel      4       5      1  32.0   \n",
       "\n",
       "        kitchen_area object_type  \n",
       "30270           10.0    preowned  \n",
       "174627          19.3    preowned  \n",
       "376939           7.4    preowned  \n",
       "86427           18.1         new  \n",
       "247136           6.0    preowned  "
      ]
     },
     "execution_count": 506,
     "metadata": {},
     "output_type": "execute_result"
    }
   ],
   "source": [
    "moscow_df.sample(5)"
   ]
  },
  {
   "attachments": {},
   "cell_type": "markdown",
   "metadata": {},
   "source": [
    "Some additional data cleaning"
   ]
  },
  {
   "cell_type": "code",
   "execution_count": 507,
   "metadata": {},
   "outputs": [
    {
     "data": {
      "text/html": [
       "<div>\n",
       "<style scoped>\n",
       "    .dataframe tbody tr th:only-of-type {\n",
       "        vertical-align: middle;\n",
       "    }\n",
       "\n",
       "    .dataframe tbody tr th {\n",
       "        vertical-align: top;\n",
       "    }\n",
       "\n",
       "    .dataframe thead th {\n",
       "        text-align: right;\n",
       "    }\n",
       "</style>\n",
       "<table border=\"1\" class=\"dataframe\">\n",
       "  <thead>\n",
       "    <tr style=\"text-align: right;\">\n",
       "      <th></th>\n",
       "      <th>Unnamed: 0</th>\n",
       "      <th>price</th>\n",
       "      <th>date</th>\n",
       "      <th>level</th>\n",
       "      <th>levels</th>\n",
       "      <th>rooms</th>\n",
       "      <th>area</th>\n",
       "      <th>kitchen_area</th>\n",
       "    </tr>\n",
       "  </thead>\n",
       "  <tbody>\n",
       "    <tr>\n",
       "      <th>count</th>\n",
       "      <td>5.001920e+05</td>\n",
       "      <td>5.001920e+05</td>\n",
       "      <td>500192.000000</td>\n",
       "      <td>500192.00000</td>\n",
       "      <td>500192.000000</td>\n",
       "      <td>500192.000000</td>\n",
       "      <td>500192.000000</td>\n",
       "      <td>500192.000000</td>\n",
       "    </tr>\n",
       "    <tr>\n",
       "      <th>mean</th>\n",
       "      <td>2.629106e+06</td>\n",
       "      <td>4.765453e+06</td>\n",
       "      <td>2019.310803</td>\n",
       "      <td>7.05152</td>\n",
       "      <td>12.741489</td>\n",
       "      <td>1.782240</td>\n",
       "      <td>51.734531</td>\n",
       "      <td>10.364580</td>\n",
       "    </tr>\n",
       "    <tr>\n",
       "      <th>std</th>\n",
       "      <td>1.606013e+06</td>\n",
       "      <td>4.208466e+06</td>\n",
       "      <td>0.880217</td>\n",
       "      <td>5.71243</td>\n",
       "      <td>7.391100</td>\n",
       "      <td>0.864063</td>\n",
       "      <td>25.727061</td>\n",
       "      <td>7.177274</td>\n",
       "    </tr>\n",
       "    <tr>\n",
       "      <th>min</th>\n",
       "      <td>1.000000e+00</td>\n",
       "      <td>0.000000e+00</td>\n",
       "      <td>2018.000000</td>\n",
       "      <td>1.00000</td>\n",
       "      <td>1.000000</td>\n",
       "      <td>0.000000</td>\n",
       "      <td>1.000000</td>\n",
       "      <td>0.050000</td>\n",
       "    </tr>\n",
       "    <tr>\n",
       "      <th>25%</th>\n",
       "      <td>1.227914e+06</td>\n",
       "      <td>3.000000e+06</td>\n",
       "      <td>2019.000000</td>\n",
       "      <td>3.00000</td>\n",
       "      <td>5.000000</td>\n",
       "      <td>1.000000</td>\n",
       "      <td>38.000000</td>\n",
       "      <td>7.000000</td>\n",
       "    </tr>\n",
       "    <tr>\n",
       "      <th>50%</th>\n",
       "      <td>2.550342e+06</td>\n",
       "      <td>4.300000e+06</td>\n",
       "      <td>2019.000000</td>\n",
       "      <td>5.00000</td>\n",
       "      <td>12.000000</td>\n",
       "      <td>2.000000</td>\n",
       "      <td>46.200000</td>\n",
       "      <td>9.600000</td>\n",
       "    </tr>\n",
       "    <tr>\n",
       "      <th>75%</th>\n",
       "      <td>4.072241e+06</td>\n",
       "      <td>5.950000e+06</td>\n",
       "      <td>2020.000000</td>\n",
       "      <td>10.00000</td>\n",
       "      <td>17.000000</td>\n",
       "      <td>2.000000</td>\n",
       "      <td>62.000000</td>\n",
       "      <td>12.000000</td>\n",
       "    </tr>\n",
       "    <tr>\n",
       "      <th>max</th>\n",
       "      <td>5.476996e+06</td>\n",
       "      <td>2.147484e+09</td>\n",
       "      <td>2021.000000</td>\n",
       "      <td>36.00000</td>\n",
       "      <td>39.000000</td>\n",
       "      <td>9.000000</td>\n",
       "      <td>5000.000000</td>\n",
       "      <td>3000.000000</td>\n",
       "    </tr>\n",
       "  </tbody>\n",
       "</table>\n",
       "</div>"
      ],
      "text/plain": [
       "         Unnamed: 0         price           date         level         levels  \\\n",
       "count  5.001920e+05  5.001920e+05  500192.000000  500192.00000  500192.000000   \n",
       "mean   2.629106e+06  4.765453e+06    2019.310803       7.05152      12.741489   \n",
       "std    1.606013e+06  4.208466e+06       0.880217       5.71243       7.391100   \n",
       "min    1.000000e+00  0.000000e+00    2018.000000       1.00000       1.000000   \n",
       "25%    1.227914e+06  3.000000e+06    2019.000000       3.00000       5.000000   \n",
       "50%    2.550342e+06  4.300000e+06    2019.000000       5.00000      12.000000   \n",
       "75%    4.072241e+06  5.950000e+06    2020.000000      10.00000      17.000000   \n",
       "max    5.476996e+06  2.147484e+09    2021.000000      36.00000      39.000000   \n",
       "\n",
       "               rooms           area   kitchen_area  \n",
       "count  500192.000000  500192.000000  500192.000000  \n",
       "mean        1.782240      51.734531      10.364580  \n",
       "std         0.864063      25.727061       7.177274  \n",
       "min         0.000000       1.000000       0.050000  \n",
       "25%         1.000000      38.000000       7.000000  \n",
       "50%         2.000000      46.200000       9.600000  \n",
       "75%         2.000000      62.000000      12.000000  \n",
       "max         9.000000    5000.000000    3000.000000  "
      ]
     },
     "execution_count": 507,
     "metadata": {},
     "output_type": "execute_result"
    }
   ],
   "source": [
    "moscow_df.describe()"
   ]
  },
  {
   "cell_type": "code",
   "execution_count": 418,
   "metadata": {},
   "outputs": [],
   "source": [
    "moscow_df = moscow_df[moscow_df['price'] > 0]"
   ]
  },
  {
   "cell_type": "code",
   "execution_count": 509,
   "metadata": {},
   "outputs": [],
   "source": [
    "moscow_df = moscow_df[(moscow_df['kitchen_area']<moscow_df['area'])]"
   ]
  },
  {
   "cell_type": "code",
   "execution_count": 510,
   "metadata": {},
   "outputs": [
    {
     "data": {
      "text/plain": [
       "(499867, 10)"
      ]
     },
     "execution_count": 510,
     "metadata": {},
     "output_type": "execute_result"
    }
   ],
   "source": [
    "moscow_df.shape"
   ]
  },
  {
   "attachments": {},
   "cell_type": "markdown",
   "metadata": {},
   "source": [
    "Remove outliers using standard deviation"
   ]
  },
  {
   "cell_type": "code",
   "execution_count": 511,
   "metadata": {},
   "outputs": [
    {
     "name": "stdout",
     "output_type": "stream",
     "text": [
      "Highest allowed 17394461.73105081\n",
      "Lowest allowed -7861778.512738741\n"
     ]
    }
   ],
   "source": [
    "print(\"Highest allowed\",moscow_df['price'].mean() + 3*moscow_df['price'].std())\n",
    "print(\"Lowest allowed\",moscow_df['price'].mean() - 3*moscow_df['price'].std())"
   ]
  },
  {
   "cell_type": "code",
   "execution_count": 512,
   "metadata": {},
   "outputs": [],
   "source": [
    "moscow_df=moscow_df[(moscow_df['price'] < 17390861.981078297)]"
   ]
  },
  {
   "cell_type": "code",
   "execution_count": 513,
   "metadata": {},
   "outputs": [
    {
     "data": {
      "text/plain": [
       "<Axes: >"
      ]
     },
     "execution_count": 513,
     "metadata": {},
     "output_type": "execute_result"
    },
    {
     "data": {
      "image/png": "[encoded data removed]",
      "text/plain": [
       "<Figure size 640x480 with 1 Axes>"
      ]
     },
     "metadata": {},
     "output_type": "display_data"
    }
   ],
   "source": [
    "moscow_df['price'].plot()"
   ]
  },
  {
   "cell_type": "code",
   "execution_count": 514,
   "metadata": {},
   "outputs": [],
   "source": [
    "moscow_df = pd.get_dummies(moscow_df, columns=['building_type', 'object_type'],dtype=int,drop_first=True)\n"
   ]
  },
  {
   "cell_type": "code",
   "execution_count": 518,
   "metadata": {},
   "outputs": [
    {
     "data": {
      "text/html": [
       "<div>\n",
       "<style scoped>\n",
       "    .dataframe tbody tr th:only-of-type {\n",
       "        vertical-align: middle;\n",
       "    }\n",
       "\n",
       "    .dataframe tbody tr th {\n",
       "        vertical-align: top;\n",
       "    }\n",
       "\n",
       "    .dataframe thead th {\n",
       "        text-align: right;\n",
       "    }\n",
       "</style>\n",
       "<table border=\"1\" class=\"dataframe\">\n",
       "  <thead>\n",
       "    <tr style=\"text-align: right;\">\n",
       "      <th></th>\n",
       "      <th>Unnamed: 0</th>\n",
       "      <th>price</th>\n",
       "      <th>date</th>\n",
       "      <th>level</th>\n",
       "      <th>levels</th>\n",
       "      <th>rooms</th>\n",
       "      <th>area</th>\n",
       "      <th>kitchen_area</th>\n",
       "      <th>building_type_brick</th>\n",
       "      <th>building_type_monolithic</th>\n",
       "      <th>building_type_other</th>\n",
       "      <th>building_type_panel</th>\n",
       "      <th>building_type_wooden</th>\n",
       "      <th>object_type_preowned</th>\n",
       "    </tr>\n",
       "  </thead>\n",
       "  <tbody>\n",
       "    <tr>\n",
       "      <th>count</th>\n",
       "      <td>4.983360e+05</td>\n",
       "      <td>4.983360e+05</td>\n",
       "      <td>498336.000000</td>\n",
       "      <td>498336.000000</td>\n",
       "      <td>498336.000000</td>\n",
       "      <td>498336.000000</td>\n",
       "      <td>498336.000000</td>\n",
       "      <td>498336.000000</td>\n",
       "      <td>498336.000000</td>\n",
       "      <td>498336.000000</td>\n",
       "      <td>498336.000000</td>\n",
       "      <td>498336.000000</td>\n",
       "      <td>498336.000000</td>\n",
       "      <td>498336.000000</td>\n",
       "    </tr>\n",
       "    <tr>\n",
       "      <th>mean</th>\n",
       "      <td>2.626982e+06</td>\n",
       "      <td>4.695838e+06</td>\n",
       "      <td>2019.309630</td>\n",
       "      <td>7.049416</td>\n",
       "      <td>12.741448</td>\n",
       "      <td>1.776811</td>\n",
       "      <td>51.460134</td>\n",
       "      <td>10.312379</td>\n",
       "      <td>0.285578</td>\n",
       "      <td>0.319614</td>\n",
       "      <td>0.011639</td>\n",
       "      <td>0.366387</td>\n",
       "      <td>0.003102</td>\n",
       "      <td>0.755807</td>\n",
       "    </tr>\n",
       "    <tr>\n",
       "      <th>std</th>\n",
       "      <td>1.605609e+06</td>\n",
       "      <td>2.353911e+06</td>\n",
       "      <td>0.879894</td>\n",
       "      <td>5.710634</td>\n",
       "      <td>7.389206</td>\n",
       "      <td>0.857096</td>\n",
       "      <td>22.998968</td>\n",
       "      <td>4.611932</td>\n",
       "      <td>0.451690</td>\n",
       "      <td>0.466327</td>\n",
       "      <td>0.107253</td>\n",
       "      <td>0.481818</td>\n",
       "      <td>0.055612</td>\n",
       "      <td>0.429608</td>\n",
       "    </tr>\n",
       "    <tr>\n",
       "      <th>min</th>\n",
       "      <td>1.000000e+00</td>\n",
       "      <td>0.000000e+00</td>\n",
       "      <td>2018.000000</td>\n",
       "      <td>1.000000</td>\n",
       "      <td>1.000000</td>\n",
       "      <td>0.000000</td>\n",
       "      <td>2.240000</td>\n",
       "      <td>0.050000</td>\n",
       "      <td>0.000000</td>\n",
       "      <td>0.000000</td>\n",
       "      <td>0.000000</td>\n",
       "      <td>0.000000</td>\n",
       "      <td>0.000000</td>\n",
       "      <td>0.000000</td>\n",
       "    </tr>\n",
       "    <tr>\n",
       "      <th>25%</th>\n",
       "      <td>1.227163e+06</td>\n",
       "      <td>3.000000e+06</td>\n",
       "      <td>2019.000000</td>\n",
       "      <td>3.000000</td>\n",
       "      <td>5.000000</td>\n",
       "      <td>1.000000</td>\n",
       "      <td>38.000000</td>\n",
       "      <td>7.000000</td>\n",
       "      <td>0.000000</td>\n",
       "      <td>0.000000</td>\n",
       "      <td>0.000000</td>\n",
       "      <td>0.000000</td>\n",
       "      <td>0.000000</td>\n",
       "      <td>1.000000</td>\n",
       "    </tr>\n",
       "    <tr>\n",
       "      <th>50%</th>\n",
       "      <td>2.548818e+06</td>\n",
       "      <td>4.300000e+06</td>\n",
       "      <td>2019.000000</td>\n",
       "      <td>5.000000</td>\n",
       "      <td>12.000000</td>\n",
       "      <td>2.000000</td>\n",
       "      <td>46.100000</td>\n",
       "      <td>9.600000</td>\n",
       "      <td>0.000000</td>\n",
       "      <td>0.000000</td>\n",
       "      <td>0.000000</td>\n",
       "      <td>0.000000</td>\n",
       "      <td>0.000000</td>\n",
       "      <td>1.000000</td>\n",
       "    </tr>\n",
       "    <tr>\n",
       "      <th>75%</th>\n",
       "      <td>4.068950e+06</td>\n",
       "      <td>5.948732e+06</td>\n",
       "      <td>2020.000000</td>\n",
       "      <td>10.000000</td>\n",
       "      <td>17.000000</td>\n",
       "      <td>2.000000</td>\n",
       "      <td>61.800000</td>\n",
       "      <td>12.000000</td>\n",
       "      <td>1.000000</td>\n",
       "      <td>1.000000</td>\n",
       "      <td>0.000000</td>\n",
       "      <td>1.000000</td>\n",
       "      <td>0.000000</td>\n",
       "      <td>1.000000</td>\n",
       "    </tr>\n",
       "    <tr>\n",
       "      <th>max</th>\n",
       "      <td>5.476996e+06</td>\n",
       "      <td>1.736218e+07</td>\n",
       "      <td>2021.000000</td>\n",
       "      <td>36.000000</td>\n",
       "      <td>39.000000</td>\n",
       "      <td>9.000000</td>\n",
       "      <td>5000.000000</td>\n",
       "      <td>180.000000</td>\n",
       "      <td>1.000000</td>\n",
       "      <td>1.000000</td>\n",
       "      <td>1.000000</td>\n",
       "      <td>1.000000</td>\n",
       "      <td>1.000000</td>\n",
       "      <td>1.000000</td>\n",
       "    </tr>\n",
       "  </tbody>\n",
       "</table>\n",
       "</div>"
      ],
      "text/plain": [
       "         Unnamed: 0         price           date          level  \\\n",
       "count  4.983360e+05  4.983360e+05  498336.000000  498336.000000   \n",
       "mean   2.626982e+06  4.695838e+06    2019.309630       7.049416   \n",
       "std    1.605609e+06  2.353911e+06       0.879894       5.710634   \n",
       "min    1.000000e+00  0.000000e+00    2018.000000       1.000000   \n",
       "25%    1.227163e+06  3.000000e+06    2019.000000       3.000000   \n",
       "50%    2.548818e+06  4.300000e+06    2019.000000       5.000000   \n",
       "75%    4.068950e+06  5.948732e+06    2020.000000      10.000000   \n",
       "max    5.476996e+06  1.736218e+07    2021.000000      36.000000   \n",
       "\n",
       "              levels          rooms           area   kitchen_area  \\\n",
       "count  498336.000000  498336.000000  498336.000000  498336.000000   \n",
       "mean       12.741448       1.776811      51.460134      10.312379   \n",
       "std         7.389206       0.857096      22.998968       4.611932   \n",
       "min         1.000000       0.000000       2.240000       0.050000   \n",
       "25%         5.000000       1.000000      38.000000       7.000000   \n",
       "50%        12.000000       2.000000      46.100000       9.600000   \n",
       "75%        17.000000       2.000000      61.800000      12.000000   \n",
       "max        39.000000       9.000000    5000.000000     180.000000   \n",
       "\n",
       "       building_type_brick  building_type_monolithic  building_type_other  \\\n",
       "count        498336.000000             498336.000000        498336.000000   \n",
       "mean              0.285578                  0.319614             0.011639   \n",
       "std               0.451690                  0.466327             0.107253   \n",
       "min               0.000000                  0.000000             0.000000   \n",
       "25%               0.000000                  0.000000             0.000000   \n",
       "50%               0.000000                  0.000000             0.000000   \n",
       "75%               1.000000                  1.000000             0.000000   \n",
       "max               1.000000                  1.000000             1.000000   \n",
       "\n",
       "       building_type_panel  building_type_wooden  object_type_preowned  \n",
       "count        498336.000000         498336.000000         498336.000000  \n",
       "mean              0.366387              0.003102              0.755807  \n",
       "std               0.481818              0.055612              0.429608  \n",
       "min               0.000000              0.000000              0.000000  \n",
       "25%               0.000000              0.000000              1.000000  \n",
       "50%               0.000000              0.000000              1.000000  \n",
       "75%               1.000000              0.000000              1.000000  \n",
       "max               1.000000              1.000000              1.000000  "
      ]
     },
     "execution_count": 518,
     "metadata": {},
     "output_type": "execute_result"
    }
   ],
   "source": [
    "moscow_df.describe()"
   ]
  },
  {
   "attachments": {},
   "cell_type": "markdown",
   "metadata": {},
   "source": [
    "## Model Fitting"
   ]
  },
  {
   "cell_type": "code",
   "execution_count": 489,
   "metadata": {},
   "outputs": [
    {
     "name": "stdout",
     "output_type": "stream",
     "text": [
      "348833 train samples; 149501 test samples\n"
     ]
    }
   ],
   "source": [
    "from sklearn.model_selection import train_test_split\n",
    "\n",
    "X = moscow_df[['date', 'level', 'levels', 'rooms', 'area', 'kitchen_area', 'building_type_brick', 'building_type_monolithic','building_type_other','building_type_panel','building_type_wooden','object_type_preowned']]\n",
    "y = moscow_df['price']\n",
    "\n",
    "X_train, X_test, y_train, y_test = train_test_split(X, y, test_size=0.3, random_state=42)\n",
    "\n",
    "print(f'{len(y_train)} train samples; {len(y_test)} test samples')"
   ]
  },
  {
   "attachments": {},
   "cell_type": "markdown",
   "metadata": {},
   "source": [
    "Next, we will scale the data. Note that not all models require scaled data; while models like linear regression require scaling to avoid overemphasis of certain datapoints, models like descision trees (and, by extension, random forests) are not affected by unscaled variables.\n",
    "\n",
    "It is also important to note that scaled data won't *negatively* impact descision trees, but we make a copy of scaled data to more explicitly demonstrate model understanding."
   ]
  },
  {
   "cell_type": "code",
   "execution_count": 520,
   "metadata": {},
   "outputs": [
    {
     "data": {
      "text/html": [
       "<div>\n",
       "<style scoped>\n",
       "    .dataframe tbody tr th:only-of-type {\n",
       "        vertical-align: middle;\n",
       "    }\n",
       "\n",
       "    .dataframe tbody tr th {\n",
       "        vertical-align: top;\n",
       "    }\n",
       "\n",
       "    .dataframe thead th {\n",
       "        text-align: right;\n",
       "    }\n",
       "</style>\n",
       "<table border=\"1\" class=\"dataframe\">\n",
       "  <thead>\n",
       "    <tr style=\"text-align: right;\">\n",
       "      <th></th>\n",
       "      <th>date</th>\n",
       "      <th>level</th>\n",
       "      <th>levels</th>\n",
       "      <th>rooms</th>\n",
       "      <th>area</th>\n",
       "      <th>kitchen_area</th>\n",
       "      <th>building_type_brick</th>\n",
       "      <th>building_type_monolithic</th>\n",
       "      <th>building_type_other</th>\n",
       "      <th>building_type_panel</th>\n",
       "      <th>building_type_wooden</th>\n",
       "      <th>object_type_preowned</th>\n",
       "    </tr>\n",
       "  </thead>\n",
       "  <tbody>\n",
       "    <tr>\n",
       "      <th>3298673</th>\n",
       "      <td>0.784912</td>\n",
       "      <td>-0.359891</td>\n",
       "      <td>0.575057</td>\n",
       "      <td>-0.906298</td>\n",
       "      <td>-0.731025</td>\n",
       "      <td>-0.285076</td>\n",
       "      <td>0</td>\n",
       "      <td>1</td>\n",
       "      <td>0</td>\n",
       "      <td>0</td>\n",
       "      <td>0</td>\n",
       "      <td>1</td>\n",
       "    </tr>\n",
       "    <tr>\n",
       "      <th>967811</th>\n",
       "      <td>-0.352433</td>\n",
       "      <td>-0.534842</td>\n",
       "      <td>-0.507343</td>\n",
       "      <td>2.595147</td>\n",
       "      <td>0.557987</td>\n",
       "      <td>-0.938260</td>\n",
       "      <td>0</td>\n",
       "      <td>0</td>\n",
       "      <td>0</td>\n",
       "      <td>1</td>\n",
       "      <td>0</td>\n",
       "      <td>1</td>\n",
       "    </tr>\n",
       "    <tr>\n",
       "      <th>4595181</th>\n",
       "      <td>0.784912</td>\n",
       "      <td>-0.534842</td>\n",
       "      <td>-0.372043</td>\n",
       "      <td>0.260850</td>\n",
       "      <td>0.557987</td>\n",
       "      <td>-0.067348</td>\n",
       "      <td>1</td>\n",
       "      <td>0</td>\n",
       "      <td>0</td>\n",
       "      <td>0</td>\n",
       "      <td>0</td>\n",
       "      <td>1</td>\n",
       "    </tr>\n",
       "    <tr>\n",
       "      <th>5356583</th>\n",
       "      <td>1.922256</td>\n",
       "      <td>-0.709794</td>\n",
       "      <td>-1.048543</td>\n",
       "      <td>-0.906298</td>\n",
       "      <td>-0.953269</td>\n",
       "      <td>-0.872941</td>\n",
       "      <td>0</td>\n",
       "      <td>0</td>\n",
       "      <td>0</td>\n",
       "      <td>1</td>\n",
       "      <td>0</td>\n",
       "      <td>1</td>\n",
       "    </tr>\n",
       "    <tr>\n",
       "      <th>2605939</th>\n",
       "      <td>-0.352433</td>\n",
       "      <td>-0.534842</td>\n",
       "      <td>-1.048543</td>\n",
       "      <td>0.260850</td>\n",
       "      <td>-0.179861</td>\n",
       "      <td>-0.829396</td>\n",
       "      <td>1</td>\n",
       "      <td>0</td>\n",
       "      <td>0</td>\n",
       "      <td>0</td>\n",
       "      <td>0</td>\n",
       "      <td>1</td>\n",
       "    </tr>\n",
       "  </tbody>\n",
       "</table>\n",
       "</div>"
      ],
      "text/plain": [
       "             date     level    levels     rooms      area  kitchen_area  \\\n",
       "3298673  0.784912 -0.359891  0.575057 -0.906298 -0.731025     -0.285076   \n",
       "967811  -0.352433 -0.534842 -0.507343  2.595147  0.557987     -0.938260   \n",
       "4595181  0.784912 -0.534842 -0.372043  0.260850  0.557987     -0.067348   \n",
       "5356583  1.922256 -0.709794 -1.048543 -0.906298 -0.953269     -0.872941   \n",
       "2605939 -0.352433 -0.534842 -1.048543  0.260850 -0.179861     -0.829396   \n",
       "\n",
       "         building_type_brick  building_type_monolithic  building_type_other  \\\n",
       "3298673                    0                         1                    0   \n",
       "967811                     0                         0                    0   \n",
       "4595181                    1                         0                    0   \n",
       "5356583                    0                         0                    0   \n",
       "2605939                    1                         0                    0   \n",
       "\n",
       "         building_type_panel  building_type_wooden  object_type_preowned  \n",
       "3298673                    0                     0                     1  \n",
       "967811                     1                     0                     1  \n",
       "4595181                    0                     0                     1  \n",
       "5356583                    1                     0                     1  \n",
       "2605939                    0                     0                     1  "
      ]
     },
     "execution_count": 520,
     "metadata": {},
     "output_type": "execute_result"
    }
   ],
   "source": [
    "from sklearn.preprocessing import StandardScaler\n",
    "\n",
    "ordinal_cols = ['date', 'level', 'levels', 'rooms', 'area', 'kitchen_area']\n",
    "X_train_ordinal, X_test_ordinal = X_train[ordinal_cols], X_test[ordinal_cols]\n",
    "\n",
    "scaler = StandardScaler()\n",
    "scaler.fit(X_train_ordinal)\n",
    "\n",
    "X_train_scaled, X_test_scaled = X_train, X_test\n",
    "\n",
    "X_train_scaled.loc[:, scaler.feature_names_in_] = scaler.transform(X_train_ordinal)\n",
    "X_test_scaled.loc[:, scaler.feature_names_in_] = scaler.transform(X_test_ordinal)\n",
    "\n",
    "X_train_scaled.sample(5)"
   ]
  },
  {
   "attachments": {},
   "cell_type": "markdown",
   "metadata": {},
   "source": [
    "Trying Cart Regression using Decision Tree"
   ]
  },
  {
   "cell_type": "code",
   "execution_count": 491,
   "metadata": {},
   "outputs": [],
   "source": [
    "from sklearn.model_selection import train_test_split # for splitting the data into train and test samples\n",
    "from sklearn.metrics import classification_report # for model evaluation metrics\n",
    "from sklearn import metrics\n",
    "from sklearn import tree # for decision tree models\n",
    "from sklearn.ensemble import RandomForestRegressor"
   ]
  },
  {
   "cell_type": "code",
   "execution_count": 492,
   "metadata": {},
   "outputs": [
    {
     "data": {
      "text/plain": [
       "0.692775748101222"
      ]
     },
     "execution_count": 492,
     "metadata": {},
     "output_type": "execute_result"
    }
   ],
   "source": [
    "model = tree.DecisionTreeRegressor(criterion='squared_error', \n",
    "                                    splitter='best', \n",
    "                                    max_depth=15,\n",
    "                                    min_samples_leaf=20, \n",
    "                                )\n",
    "clf = model.fit(X_train, y_train)\n",
    "clf.score(X_test,y_test)\n"
   ]
  },
  {
   "attachments": {},
   "cell_type": "markdown",
   "metadata": {},
   "source": [
    "Try with using Randomized Search to find good parameters"
   ]
  },
  {
   "cell_type": "code",
   "execution_count": 493,
   "metadata": {},
   "outputs": [],
   "source": [
    "from sklearn.model_selection import RandomizedSearchCV"
   ]
  },
  {
   "cell_type": "code",
   "execution_count": 494,
   "metadata": {},
   "outputs": [],
   "source": [
    "model = tree.DecisionTreeRegressor()"
   ]
  },
  {
   "cell_type": "code",
   "execution_count": 495,
   "metadata": {},
   "outputs": [],
   "source": [
    "params = {'criterion': ['squared_error'],\n",
    "            'max_depth': range(1, 50, 2),\n",
    "             'min_samples_leaf': range(1, 50, 2)}\n",
    "             "
   ]
  },
  {
   "cell_type": "code",
   "execution_count": 496,
   "metadata": {},
   "outputs": [],
   "source": [
    "model_search = RandomizedSearchCV(model, params,n_jobs=-1)"
   ]
  },
  {
   "cell_type": "code",
   "execution_count": 497,
   "metadata": {},
   "outputs": [
    {
     "data": {
      "text/html": [
       "<style>#sk-container-id-12 {color: black;background-color: white;}#sk-container-id-12 pre{padding: 0;}#sk-container-id-12 div.sk-toggleable {background-color: white;}#sk-container-id-12 label.sk-toggleable__label {cursor: pointer;display: block;width: 100%;margin-bottom: 0;padding: 0.3em;box-sizing: border-box;text-align: center;}#sk-container-id-12 label.sk-toggleable__label-arrow:before {content: \"▸\";float: left;margin-right: 0.25em;color: #696969;}#sk-container-id-12 label.sk-toggleable__label-arrow:hover:before {color: black;}#sk-container-id-12 div.sk-estimator:hover label.sk-toggleable__label-arrow:before {color: black;}#sk-container-id-12 div.sk-toggleable__content {max-height: 0;max-width: 0;overflow: hidden;text-align: left;background-color: #f0f8ff;}#sk-container-id-12 div.sk-toggleable__content pre {margin: 0.2em;color: black;border-radius: 0.25em;background-color: #f0f8ff;}#sk-container-id-12 input.sk-toggleable__control:checked~div.sk-toggleable__content {max-height: 200px;max-width: 100%;overflow: auto;}#sk-container-id-12 input.sk-toggleable__control:checked~label.sk-toggleable__label-arrow:before {content: \"▾\";}#sk-container-id-12 div.sk-estimator input.sk-toggleable__control:checked~label.sk-toggleable__label {background-color: #d4ebff;}#sk-container-id-12 div.sk-label input.sk-toggleable__control:checked~label.sk-toggleable__label {background-color: #d4ebff;}#sk-container-id-12 input.sk-hidden--visually {border: 0;clip: rect(1px 1px 1px 1px);clip: rect(1px, 1px, 1px, 1px);height: 1px;margin: -1px;overflow: hidden;padding: 0;position: absolute;width: 1px;}#sk-container-id-12 div.sk-estimator {font-family: monospace;background-color: #f0f8ff;border: 1px dotted black;border-radius: 0.25em;box-sizing: border-box;margin-bottom: 0.5em;}#sk-container-id-12 div.sk-estimator:hover {background-color: #d4ebff;}#sk-container-id-12 div.sk-parallel-item::after {content: \"\";width: 100%;border-bottom: 1px solid gray;flex-grow: 1;}#sk-container-id-12 div.sk-label:hover label.sk-toggleable__label {background-color: #d4ebff;}#sk-container-id-12 div.sk-serial::before {content: \"\";position: absolute;border-left: 1px solid gray;box-sizing: border-box;top: 0;bottom: 0;left: 50%;z-index: 0;}#sk-container-id-12 div.sk-serial {display: flex;flex-direction: column;align-items: center;background-color: white;padding-right: 0.2em;padding-left: 0.2em;position: relative;}#sk-container-id-12 div.sk-item {position: relative;z-index: 1;}#sk-container-id-12 div.sk-parallel {display: flex;align-items: stretch;justify-content: center;background-color: white;position: relative;}#sk-container-id-12 div.sk-item::before, #sk-container-id-12 div.sk-parallel-item::before {content: \"\";position: absolute;border-left: 1px solid gray;box-sizing: border-box;top: 0;bottom: 0;left: 50%;z-index: -1;}#sk-container-id-12 div.sk-parallel-item {display: flex;flex-direction: column;z-index: 1;position: relative;background-color: white;}#sk-container-id-12 div.sk-parallel-item:first-child::after {align-self: flex-end;width: 50%;}#sk-container-id-12 div.sk-parallel-item:last-child::after {align-self: flex-start;width: 50%;}#sk-container-id-12 div.sk-parallel-item:only-child::after {width: 0;}#sk-container-id-12 div.sk-dashed-wrapped {border: 1px dashed gray;margin: 0 0.4em 0.5em 0.4em;box-sizing: border-box;padding-bottom: 0.4em;background-color: white;}#sk-container-id-12 div.sk-label label {font-family: monospace;font-weight: bold;display: inline-block;line-height: 1.2em;}#sk-container-id-12 div.sk-label-container {text-align: center;}#sk-container-id-12 div.sk-container {/* jupyter's `normalize.less` sets `[hidden] { display: none; }` but bootstrap.min.css set `[hidden] { display: none !important; }` so we also need the `!important` here to be able to override the default hidden behavior on the sphinx rendered scikit-learn.org. See: https://github.com/scikit-learn/scikit-learn/issues/21755 */display: inline-block !important;position: relative;}#sk-container-id-12 div.sk-text-repr-fallback {display: none;}</style><div id=\"sk-container-id-12\" class=\"sk-top-container\"><div class=\"sk-text-repr-fallback\"><pre>RandomizedSearchCV(estimator=DecisionTreeRegressor(), n_jobs=-1,\n",
       "                   param_distributions={&#x27;criterion&#x27;: [&#x27;squared_error&#x27;],\n",
       "                                        &#x27;max_depth&#x27;: range(1, 50, 2),\n",
       "                                        &#x27;min_samples_leaf&#x27;: range(1, 50, 2)})</pre><b>In a Jupyter environment, please rerun this cell to show the HTML representation or trust the notebook. <br />On GitHub, the HTML representation is unable to render, please try loading this page with nbviewer.org.</b></div><div class=\"sk-container\" hidden><div class=\"sk-item sk-dashed-wrapped\"><div class=\"sk-label-container\"><div class=\"sk-label sk-toggleable\"><input class=\"sk-toggleable__control sk-hidden--visually\" id=\"sk-estimator-id-32\" type=\"checkbox\" ><label for=\"sk-estimator-id-32\" class=\"sk-toggleable__label sk-toggleable__label-arrow\">RandomizedSearchCV</label><div class=\"sk-toggleable__content\"><pre>RandomizedSearchCV(estimator=DecisionTreeRegressor(), n_jobs=-1,\n",
       "                   param_distributions={&#x27;criterion&#x27;: [&#x27;squared_error&#x27;],\n",
       "                                        &#x27;max_depth&#x27;: range(1, 50, 2),\n",
       "                                        &#x27;min_samples_leaf&#x27;: range(1, 50, 2)})</pre></div></div></div><div class=\"sk-parallel\"><div class=\"sk-parallel-item\"><div class=\"sk-item\"><div class=\"sk-label-container\"><div class=\"sk-label sk-toggleable\"><input class=\"sk-toggleable__control sk-hidden--visually\" id=\"sk-estimator-id-33\" type=\"checkbox\" ><label for=\"sk-estimator-id-33\" class=\"sk-toggleable__label sk-toggleable__label-arrow\">estimator: DecisionTreeRegressor</label><div class=\"sk-toggleable__content\"><pre>DecisionTreeRegressor()</pre></div></div></div><div class=\"sk-serial\"><div class=\"sk-item\"><div class=\"sk-estimator sk-toggleable\"><input class=\"sk-toggleable__control sk-hidden--visually\" id=\"sk-estimator-id-34\" type=\"checkbox\" ><label for=\"sk-estimator-id-34\" class=\"sk-toggleable__label sk-toggleable__label-arrow\">DecisionTreeRegressor</label><div class=\"sk-toggleable__content\"><pre>DecisionTreeRegressor()</pre></div></div></div></div></div></div></div></div></div></div>"
      ],
      "text/plain": [
       "RandomizedSearchCV(estimator=DecisionTreeRegressor(), n_jobs=-1,\n",
       "                   param_distributions={'criterion': ['squared_error'],\n",
       "                                        'max_depth': range(1, 50, 2),\n",
       "                                        'min_samples_leaf': range(1, 50, 2)})"
      ]
     },
     "execution_count": 497,
     "metadata": {},
     "output_type": "execute_result"
    }
   ],
   "source": [
    "model_search.fit(X_train, y_train)"
   ]
  },
  {
   "cell_type": "code",
   "execution_count": 498,
   "metadata": {},
   "outputs": [
    {
     "data": {
      "text/plain": [
       "{'min_samples_leaf': 29, 'max_depth': 23, 'criterion': 'squared_error'}"
      ]
     },
     "execution_count": 498,
     "metadata": {},
     "output_type": "execute_result"
    }
   ],
   "source": [
    "model_search.best_params_"
   ]
  },
  {
   "cell_type": "code",
   "execution_count": 499,
   "metadata": {},
   "outputs": [],
   "source": [
    "best_model_tree = model_search.best_estimator_"
   ]
  },
  {
   "cell_type": "code",
   "execution_count": 500,
   "metadata": {},
   "outputs": [],
   "source": [
    "y_pred = best_model_tree.predict(X_test)"
   ]
  },
  {
   "cell_type": "code",
   "execution_count": 501,
   "metadata": {},
   "outputs": [
    {
     "data": {
      "text/plain": [
       "1.0"
      ]
     },
     "execution_count": 501,
     "metadata": {},
     "output_type": "execute_result"
    }
   ],
   "source": [
    "model_search.score(X_test, y_pred)"
   ]
  },
  {
   "cell_type": "code",
   "execution_count": 502,
   "metadata": {},
   "outputs": [
    {
     "data": {
      "text/plain": [
       "920394.5069100859"
      ]
     },
     "execution_count": 502,
     "metadata": {},
     "output_type": "execute_result"
    }
   ],
   "source": [
    "metrics.mean_absolute_error(y_test, y_pred)"
   ]
  },
  {
   "attachments": {},
   "cell_type": "markdown",
   "metadata": {},
   "source": [
    "Trying Random Forest"
   ]
  },
  {
   "cell_type": "code",
   "execution_count": 425,
   "metadata": {},
   "outputs": [],
   "source": [
    "from sklearn.tree import DecisionTreeClassifier\n",
    "from sklearn.ensemble import RandomForestClassifier,AdaBoostClassifier,GradientBoostingClassifier"
   ]
  },
  {
   "cell_type": "code",
   "execution_count": 527,
   "metadata": {},
   "outputs": [],
   "source": [
    "forest_param = {'n_estimators': range(5, 15, 5), 'max_depth': range(1, 10, 2)}\n",
    "forest_model = RandomForestRegressor(random_state=0)"
   ]
  },
  {
   "cell_type": "code",
   "execution_count": 528,
   "metadata": {},
   "outputs": [],
   "source": [
    "forest_search = RandomizedSearchCV(forest_model, forest_param, n_jobs=-1)"
   ]
  },
  {
   "cell_type": "code",
   "execution_count": 529,
   "metadata": {},
   "outputs": [
    {
     "data": {
      "text/html": [
       "<style>#sk-container-id-13 {color: black;background-color: white;}#sk-container-id-13 pre{padding: 0;}#sk-container-id-13 div.sk-toggleable {background-color: white;}#sk-container-id-13 label.sk-toggleable__label {cursor: pointer;display: block;width: 100%;margin-bottom: 0;padding: 0.3em;box-sizing: border-box;text-align: center;}#sk-container-id-13 label.sk-toggleable__label-arrow:before {content: \"▸\";float: left;margin-right: 0.25em;color: #696969;}#sk-container-id-13 label.sk-toggleable__label-arrow:hover:before {color: black;}#sk-container-id-13 div.sk-estimator:hover label.sk-toggleable__label-arrow:before {color: black;}#sk-container-id-13 div.sk-toggleable__content {max-height: 0;max-width: 0;overflow: hidden;text-align: left;background-color: #f0f8ff;}#sk-container-id-13 div.sk-toggleable__content pre {margin: 0.2em;color: black;border-radius: 0.25em;background-color: #f0f8ff;}#sk-container-id-13 input.sk-toggleable__control:checked~div.sk-toggleable__content {max-height: 200px;max-width: 100%;overflow: auto;}#sk-container-id-13 input.sk-toggleable__control:checked~label.sk-toggleable__label-arrow:before {content: \"▾\";}#sk-container-id-13 div.sk-estimator input.sk-toggleable__control:checked~label.sk-toggleable__label {background-color: #d4ebff;}#sk-container-id-13 div.sk-label input.sk-toggleable__control:checked~label.sk-toggleable__label {background-color: #d4ebff;}#sk-container-id-13 input.sk-hidden--visually {border: 0;clip: rect(1px 1px 1px 1px);clip: rect(1px, 1px, 1px, 1px);height: 1px;margin: -1px;overflow: hidden;padding: 0;position: absolute;width: 1px;}#sk-container-id-13 div.sk-estimator {font-family: monospace;background-color: #f0f8ff;border: 1px dotted black;border-radius: 0.25em;box-sizing: border-box;margin-bottom: 0.5em;}#sk-container-id-13 div.sk-estimator:hover {background-color: #d4ebff;}#sk-container-id-13 div.sk-parallel-item::after {content: \"\";width: 100%;border-bottom: 1px solid gray;flex-grow: 1;}#sk-container-id-13 div.sk-label:hover label.sk-toggleable__label {background-color: #d4ebff;}#sk-container-id-13 div.sk-serial::before {content: \"\";position: absolute;border-left: 1px solid gray;box-sizing: border-box;top: 0;bottom: 0;left: 50%;z-index: 0;}#sk-container-id-13 div.sk-serial {display: flex;flex-direction: column;align-items: center;background-color: white;padding-right: 0.2em;padding-left: 0.2em;position: relative;}#sk-container-id-13 div.sk-item {position: relative;z-index: 1;}#sk-container-id-13 div.sk-parallel {display: flex;align-items: stretch;justify-content: center;background-color: white;position: relative;}#sk-container-id-13 div.sk-item::before, #sk-container-id-13 div.sk-parallel-item::before {content: \"\";position: absolute;border-left: 1px solid gray;box-sizing: border-box;top: 0;bottom: 0;left: 50%;z-index: -1;}#sk-container-id-13 div.sk-parallel-item {display: flex;flex-direction: column;z-index: 1;position: relative;background-color: white;}#sk-container-id-13 div.sk-parallel-item:first-child::after {align-self: flex-end;width: 50%;}#sk-container-id-13 div.sk-parallel-item:last-child::after {align-self: flex-start;width: 50%;}#sk-container-id-13 div.sk-parallel-item:only-child::after {width: 0;}#sk-container-id-13 div.sk-dashed-wrapped {border: 1px dashed gray;margin: 0 0.4em 0.5em 0.4em;box-sizing: border-box;padding-bottom: 0.4em;background-color: white;}#sk-container-id-13 div.sk-label label {font-family: monospace;font-weight: bold;display: inline-block;line-height: 1.2em;}#sk-container-id-13 div.sk-label-container {text-align: center;}#sk-container-id-13 div.sk-container {/* jupyter's `normalize.less` sets `[hidden] { display: none; }` but bootstrap.min.css set `[hidden] { display: none !important; }` so we also need the `!important` here to be able to override the default hidden behavior on the sphinx rendered scikit-learn.org. See: https://github.com/scikit-learn/scikit-learn/issues/21755 */display: inline-block !important;position: relative;}#sk-container-id-13 div.sk-text-repr-fallback {display: none;}</style><div id=\"sk-container-id-13\" class=\"sk-top-container\"><div class=\"sk-text-repr-fallback\"><pre>RandomizedSearchCV(estimator=RandomForestRegressor(random_state=0), n_jobs=-1,\n",
       "                   param_distributions={&#x27;max_depth&#x27;: range(1, 10, 2),\n",
       "                                        &#x27;n_estimators&#x27;: range(5, 15, 5)})</pre><b>In a Jupyter environment, please rerun this cell to show the HTML representation or trust the notebook. <br />On GitHub, the HTML representation is unable to render, please try loading this page with nbviewer.org.</b></div><div class=\"sk-container\" hidden><div class=\"sk-item sk-dashed-wrapped\"><div class=\"sk-label-container\"><div class=\"sk-label sk-toggleable\"><input class=\"sk-toggleable__control sk-hidden--visually\" id=\"sk-estimator-id-35\" type=\"checkbox\" ><label for=\"sk-estimator-id-35\" class=\"sk-toggleable__label sk-toggleable__label-arrow\">RandomizedSearchCV</label><div class=\"sk-toggleable__content\"><pre>RandomizedSearchCV(estimator=RandomForestRegressor(random_state=0), n_jobs=-1,\n",
       "                   param_distributions={&#x27;max_depth&#x27;: range(1, 10, 2),\n",
       "                                        &#x27;n_estimators&#x27;: range(5, 15, 5)})</pre></div></div></div><div class=\"sk-parallel\"><div class=\"sk-parallel-item\"><div class=\"sk-item\"><div class=\"sk-label-container\"><div class=\"sk-label sk-toggleable\"><input class=\"sk-toggleable__control sk-hidden--visually\" id=\"sk-estimator-id-36\" type=\"checkbox\" ><label for=\"sk-estimator-id-36\" class=\"sk-toggleable__label sk-toggleable__label-arrow\">estimator: RandomForestRegressor</label><div class=\"sk-toggleable__content\"><pre>RandomForestRegressor(random_state=0)</pre></div></div></div><div class=\"sk-serial\"><div class=\"sk-item\"><div class=\"sk-estimator sk-toggleable\"><input class=\"sk-toggleable__control sk-hidden--visually\" id=\"sk-estimator-id-37\" type=\"checkbox\" ><label for=\"sk-estimator-id-37\" class=\"sk-toggleable__label sk-toggleable__label-arrow\">RandomForestRegressor</label><div class=\"sk-toggleable__content\"><pre>RandomForestRegressor(random_state=0)</pre></div></div></div></div></div></div></div></div></div></div>"
      ],
      "text/plain": [
       "RandomizedSearchCV(estimator=RandomForestRegressor(random_state=0), n_jobs=-1,\n",
       "                   param_distributions={'max_depth': range(1, 10, 2),\n",
       "                                        'n_estimators': range(5, 15, 5)})"
      ]
     },
     "execution_count": 529,
     "metadata": {},
     "output_type": "execute_result"
    }
   ],
   "source": [
    "forest_search.fit(X_train_scaled, y_train)"
   ]
  },
  {
   "cell_type": "code",
   "execution_count": 530,
   "metadata": {},
   "outputs": [
    {
     "data": {
      "text/plain": [
       "{'n_estimators': 10, 'max_depth': 9}"
      ]
     },
     "execution_count": 530,
     "metadata": {},
     "output_type": "execute_result"
    }
   ],
   "source": [
    "forest_search.best_params_"
   ]
  },
  {
   "cell_type": "code",
   "execution_count": 531,
   "metadata": {},
   "outputs": [],
   "source": [
    "best_forest_model = forest_search.best_estimator_"
   ]
  },
  {
   "cell_type": "code",
   "execution_count": 532,
   "metadata": {},
   "outputs": [],
   "source": [
    "y_pred_forest = best_forest_model.predict(X_test_scaled)"
   ]
  },
  {
   "cell_type": "code",
   "execution_count": 533,
   "metadata": {},
   "outputs": [
    {
     "data": {
      "text/plain": [
       "0.675687628397059"
      ]
     },
     "execution_count": 533,
     "metadata": {},
     "output_type": "execute_result"
    }
   ],
   "source": [
    "metrics.r2_score(y_test, y_pred_forest)"
   ]
  },
  {
   "cell_type": "code",
   "execution_count": 534,
   "metadata": {},
   "outputs": [
    {
     "data": {
      "text/plain": [
       "977216.7917730961"
      ]
     },
     "execution_count": 534,
     "metadata": {},
     "output_type": "execute_result"
    }
   ],
   "source": [
    "metrics.mean_absolute_error(y_test, y_pred_forest)"
   ]
  },
  {
   "cell_type": "code",
   "execution_count": null,
   "metadata": {},
   "outputs": [],
   "source": []
  }
 ],
 "metadata": {
  "kernelspec": {
   "display_name": "Python 3",
   "language": "python",
   "name": "python3"
  },
  "language_info": {
   "codemirror_mode": {
    "name": "ipython",
    "version": 3
   },
   "file_extension": ".py",
   "mimetype": "text/x-python",
   "name": "python",
   "nbconvert_exporter": "python",
   "pygments_lexer": "ipython3",
   "version": "3.10.11"
  }
 },
 "nbformat": 4,
 "nbformat_minor": 2
}
