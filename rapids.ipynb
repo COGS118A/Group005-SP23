{
 "cells": [
  {
   "cell_type": "markdown",
   "metadata": {},
   "source": [
    "# Group 005 Real Estate Analysis"
   ]
  },
  {
   "cell_type": "markdown",
   "metadata": {},
   "source": [
    "## Setup and Load Data"
   ]
  },
  {
   "cell_type": "markdown",
   "metadata": {},
   "source": [
    "First, we retrieve the dataste from https://www.kaggle.com/datasets/mrdaniilak/russia-real-estate-20182021.\n",
    "\n",
    "If using the below cell, make sure you have a Kaggle API token in a `kaggle.json` file in `~/.kaggle/`. Otherwise, please download the data manually and place it under a folder `./data/`."
   ]
  },
  {
   "cell_type": "code",
   "execution_count": 26,
   "metadata": {},
   "outputs": [
    {
     "name": "stdout",
     "output_type": "stream",
     "text": [
      "mkdir: data: File exists\n",
      "Downloading russia-real-estate-20182021.zip to /Users/wonjae/Desktop/COGS 118A/Final Project/Group005-SP23/Untitled/Group005-SP23\n",
      " 99%|███████████████████████████████████████▋| 110M/111M [00:04<00:00, 33.9MB/s]\n",
      "100%|████████████████████████████████████████| 111M/111M [00:04<00:00, 26.6MB/s]\n"
     ]
    }
   ],
   "source": [
    "!mkdir data\n",
    "!kaggle datasets download mrdaniilak/russia-real-estate-20182021\n",
    "!mv ./russia-real-estate-20182021.zip ./data/russia-real-estate-20182021.zip"
   ]
  },
  {
   "cell_type": "code",
   "execution_count": 27,
   "metadata": {},
   "outputs": [],
   "source": [
    "import zipfile\n",
    "with zipfile.ZipFile('./data/russia-real-estate-20182021.zip', 'r') as zip_ref:\n",
    "    zip_ref.extractall('./data')"
   ]
  },
  {
   "cell_type": "markdown",
   "metadata": {},
   "source": [
    "Now, we may proceed with exploration."
   ]
  },
  {
   "cell_type": "code",
   "execution_count": 28,
   "metadata": {},
   "outputs": [],
   "source": [
    "import pandas as pd\n",
    "import numpy as np\n",
    "import matplotlib.pyplot as plt\n",
    "import seaborn as sns"
   ]
  },
  {
   "cell_type": "code",
   "execution_count": 29,
   "metadata": {},
   "outputs": [],
   "source": [
    "DATA_CSV_PATH = './data/all_v2.csv'\n",
    "\n",
    "# load csv data\n",
    "df = pd.read_csv(DATA_CSV_PATH)\n",
    "\n",
    "# remove duplicate data\n",
    "df = df.drop_duplicates()"
   ]
  },
  {
   "cell_type": "code",
   "execution_count": 30,
   "metadata": {},
   "outputs": [
    {
     "data": {
      "text/html": [
       "<div>\n",
       "<style scoped>\n",
       "    .dataframe tbody tr th:only-of-type {\n",
       "        vertical-align: middle;\n",
       "    }\n",
       "\n",
       "    .dataframe tbody tr th {\n",
       "        vertical-align: top;\n",
       "    }\n",
       "\n",
       "    .dataframe thead th {\n",
       "        text-align: right;\n",
       "    }\n",
       "</style>\n",
       "<table border=\"1\" class=\"dataframe\">\n",
       "  <thead>\n",
       "    <tr style=\"text-align: right;\">\n",
       "      <th></th>\n",
       "      <th>price</th>\n",
       "      <th>date</th>\n",
       "      <th>time</th>\n",
       "      <th>geo_lat</th>\n",
       "      <th>geo_lon</th>\n",
       "      <th>region</th>\n",
       "      <th>building_type</th>\n",
       "      <th>level</th>\n",
       "      <th>levels</th>\n",
       "      <th>rooms</th>\n",
       "      <th>area</th>\n",
       "      <th>kitchen_area</th>\n",
       "      <th>object_type</th>\n",
       "    </tr>\n",
       "  </thead>\n",
       "  <tbody>\n",
       "    <tr>\n",
       "      <th>1136020</th>\n",
       "      <td>1337000</td>\n",
       "      <td>2019-02-13</td>\n",
       "      <td>03:32:35</td>\n",
       "      <td>55.014108</td>\n",
       "      <td>83.001661</td>\n",
       "      <td>9654</td>\n",
       "      <td>1</td>\n",
       "      <td>3</td>\n",
       "      <td>10</td>\n",
       "      <td>1</td>\n",
       "      <td>48.2</td>\n",
       "      <td>13.78</td>\n",
       "      <td>11</td>\n",
       "    </tr>\n",
       "    <tr>\n",
       "      <th>1645542</th>\n",
       "      <td>3370000</td>\n",
       "      <td>2019-04-19</td>\n",
       "      <td>23:50:09</td>\n",
       "      <td>55.765230</td>\n",
       "      <td>49.145536</td>\n",
       "      <td>2922</td>\n",
       "      <td>0</td>\n",
       "      <td>5</td>\n",
       "      <td>19</td>\n",
       "      <td>1</td>\n",
       "      <td>42.3</td>\n",
       "      <td>9.30</td>\n",
       "      <td>1</td>\n",
       "    </tr>\n",
       "    <tr>\n",
       "      <th>3380166</th>\n",
       "      <td>3900000</td>\n",
       "      <td>2020-03-01</td>\n",
       "      <td>09:25:51</td>\n",
       "      <td>54.723763</td>\n",
       "      <td>20.537714</td>\n",
       "      <td>7896</td>\n",
       "      <td>3</td>\n",
       "      <td>6</td>\n",
       "      <td>10</td>\n",
       "      <td>1</td>\n",
       "      <td>46.0</td>\n",
       "      <td>11.00</td>\n",
       "      <td>1</td>\n",
       "    </tr>\n",
       "    <tr>\n",
       "      <th>2617126</th>\n",
       "      <td>2060000</td>\n",
       "      <td>2019-09-23</td>\n",
       "      <td>06:47:12</td>\n",
       "      <td>55.991465</td>\n",
       "      <td>92.884597</td>\n",
       "      <td>3870</td>\n",
       "      <td>0</td>\n",
       "      <td>9</td>\n",
       "      <td>20</td>\n",
       "      <td>1</td>\n",
       "      <td>39.0</td>\n",
       "      <td>9.00</td>\n",
       "      <td>11</td>\n",
       "    </tr>\n",
       "    <tr>\n",
       "      <th>256060</th>\n",
       "      <td>3450000</td>\n",
       "      <td>2018-10-12</td>\n",
       "      <td>10:20:09</td>\n",
       "      <td>55.167253</td>\n",
       "      <td>61.291372</td>\n",
       "      <td>5282</td>\n",
       "      <td>0</td>\n",
       "      <td>13</td>\n",
       "      <td>15</td>\n",
       "      <td>2</td>\n",
       "      <td>63.4</td>\n",
       "      <td>19.40</td>\n",
       "      <td>11</td>\n",
       "    </tr>\n",
       "  </tbody>\n",
       "</table>\n",
       "</div>"
      ],
      "text/plain": [
       "           price        date      time    geo_lat    geo_lon  region  \\\n",
       "1136020  1337000  2019-02-13  03:32:35  55.014108  83.001661    9654   \n",
       "1645542  3370000  2019-04-19  23:50:09  55.765230  49.145536    2922   \n",
       "3380166  3900000  2020-03-01  09:25:51  54.723763  20.537714    7896   \n",
       "2617126  2060000  2019-09-23  06:47:12  55.991465  92.884597    3870   \n",
       "256060   3450000  2018-10-12  10:20:09  55.167253  61.291372    5282   \n",
       "\n",
       "         building_type  level  levels  rooms  area  kitchen_area  object_type  \n",
       "1136020              1      3      10      1  48.2         13.78           11  \n",
       "1645542              0      5      19      1  42.3          9.30            1  \n",
       "3380166              3      6      10      1  46.0         11.00            1  \n",
       "2617126              0      9      20      1  39.0          9.00           11  \n",
       "256060               0     13      15      2  63.4         19.40           11  "
      ]
     },
     "execution_count": 30,
     "metadata": {},
     "output_type": "execute_result"
    }
   ],
   "source": [
    "df.sample(5)"
   ]
  },
  {
   "cell_type": "markdown",
   "metadata": {},
   "source": [
    "Note that this Kaggle Dataset was originally pulled from GeoNames (http://www.geonames.org/), which has its own \"regions\" separated by county. Our city of interest, Moscow, has ID 81.\n",
    "\n",
    "Addtionally, we will give categorical data appropriate labels given by the dataset spec.\n",
    "\n",
    "Finally, while the dataset used Russian rubles for real estate price, we use US Dollars for more interpretable loss (since the Ruble prices are in the millions, and since we are more familiar with the US Dollar)."
   ]
  },
  {
   "cell_type": "code",
   "execution_count": 31,
   "metadata": {},
   "outputs": [],
   "source": [
    "MOSCOW_CODE = 81\n",
    "MAX_NUM_SAMPLES = 100000\n",
    "SEED = 69\n",
    "\n",
    "RUBLE_TO_DOLLAR = 0.012\n",
    "\n",
    "moscow_df = df.loc[df['region'] == MOSCOW_CODE]\n",
    "moscow_df = moscow_df.drop(['time', 'geo_lat', 'geo_lon', 'region'], axis=1)\n",
    "moscow_df['date'] = moscow_df['date'].apply(lambda x: int(x[:4]))\n",
    "\n",
    "moscow_df['object_type'] = moscow_df['object_type'].replace(1, 'preowned').replace(11, 'new')\n",
    "moscow_df['building_type'] = moscow_df['building_type'].replace(0, 'other').replace(1, 'panel').replace(2, 'monolithic').replace(3, 'brick').replace(4, 'blocky').replace(5, 'wooden')\n",
    "\n",
    "# -1 means studio apartment, so we replace with 0 (since studio apartments have no extra rooms)\n",
    "# there are not other datapoints with value 0\n",
    "moscow_df['rooms'] = moscow_df['rooms'].replace(-1, 0)\n",
    "\n",
    "# remove rows with errorneous data\n",
    "moscow_df = moscow_df[moscow_df['price'] >= 0]\n",
    "moscow_df = moscow_df[moscow_df['rooms'] >= 0]\n",
    "\n",
    "#  convert to US dollar per conversion rate as of June 12, 2023\n",
    "moscow_df['price'] = moscow_df['price'] * RUBLE_TO_DOLLAR\n",
    "\n",
    "# cap number of elements\n",
    "moscow_df = moscow_df.sample(MAX_NUM_SAMPLES, random_state=SEED)"
   ]
  },
  {
   "cell_type": "code",
   "execution_count": 32,
   "metadata": {},
   "outputs": [
    {
     "data": {
      "text/plain": [
       "False"
      ]
     },
     "execution_count": 32,
     "metadata": {},
     "output_type": "execute_result"
    }
   ],
   "source": [
    "moscow_df.isnull().values.any()"
   ]
  },
  {
   "cell_type": "code",
   "execution_count": 33,
   "metadata": {},
   "outputs": [
    {
     "data": {
      "text/html": [
       "<div>\n",
       "<style scoped>\n",
       "    .dataframe tbody tr th:only-of-type {\n",
       "        vertical-align: middle;\n",
       "    }\n",
       "\n",
       "    .dataframe tbody tr th {\n",
       "        vertical-align: top;\n",
       "    }\n",
       "\n",
       "    .dataframe thead th {\n",
       "        text-align: right;\n",
       "    }\n",
       "</style>\n",
       "<table border=\"1\" class=\"dataframe\">\n",
       "  <thead>\n",
       "    <tr style=\"text-align: right;\">\n",
       "      <th></th>\n",
       "      <th>price</th>\n",
       "      <th>date</th>\n",
       "      <th>building_type</th>\n",
       "      <th>level</th>\n",
       "      <th>levels</th>\n",
       "      <th>rooms</th>\n",
       "      <th>area</th>\n",
       "      <th>kitchen_area</th>\n",
       "      <th>object_type</th>\n",
       "    </tr>\n",
       "  </thead>\n",
       "  <tbody>\n",
       "    <tr>\n",
       "      <th>854554</th>\n",
       "      <td>74710.776</td>\n",
       "      <td>2018</td>\n",
       "      <td>panel</td>\n",
       "      <td>23</td>\n",
       "      <td>25</td>\n",
       "      <td>2</td>\n",
       "      <td>70.91</td>\n",
       "      <td>20.05</td>\n",
       "      <td>new</td>\n",
       "    </tr>\n",
       "    <tr>\n",
       "      <th>1631331</th>\n",
       "      <td>33600.000</td>\n",
       "      <td>2019</td>\n",
       "      <td>panel</td>\n",
       "      <td>8</td>\n",
       "      <td>9</td>\n",
       "      <td>2</td>\n",
       "      <td>61.00</td>\n",
       "      <td>8.00</td>\n",
       "      <td>preowned</td>\n",
       "    </tr>\n",
       "    <tr>\n",
       "      <th>5265041</th>\n",
       "      <td>86460.000</td>\n",
       "      <td>2021</td>\n",
       "      <td>panel</td>\n",
       "      <td>15</td>\n",
       "      <td>17</td>\n",
       "      <td>3</td>\n",
       "      <td>80.00</td>\n",
       "      <td>16.00</td>\n",
       "      <td>preowned</td>\n",
       "    </tr>\n",
       "    <tr>\n",
       "      <th>4809192</th>\n",
       "      <td>37200.000</td>\n",
       "      <td>2020</td>\n",
       "      <td>panel</td>\n",
       "      <td>7</td>\n",
       "      <td>21</td>\n",
       "      <td>1</td>\n",
       "      <td>35.30</td>\n",
       "      <td>9.00</td>\n",
       "      <td>new</td>\n",
       "    </tr>\n",
       "    <tr>\n",
       "      <th>1225028</th>\n",
       "      <td>20400.000</td>\n",
       "      <td>2019</td>\n",
       "      <td>brick</td>\n",
       "      <td>5</td>\n",
       "      <td>5</td>\n",
       "      <td>1</td>\n",
       "      <td>31.00</td>\n",
       "      <td>6.00</td>\n",
       "      <td>preowned</td>\n",
       "    </tr>\n",
       "  </tbody>\n",
       "</table>\n",
       "</div>"
      ],
      "text/plain": [
       "             price  date building_type  level  levels  rooms   area  \\\n",
       "854554   74710.776  2018         panel     23      25      2  70.91   \n",
       "1631331  33600.000  2019         panel      8       9      2  61.00   \n",
       "5265041  86460.000  2021         panel     15      17      3  80.00   \n",
       "4809192  37200.000  2020         panel      7      21      1  35.30   \n",
       "1225028  20400.000  2019         brick      5       5      1  31.00   \n",
       "\n",
       "         kitchen_area object_type  \n",
       "854554          20.05         new  \n",
       "1631331          8.00    preowned  \n",
       "5265041         16.00    preowned  \n",
       "4809192          9.00         new  \n",
       "1225028          6.00    preowned  "
      ]
     },
     "execution_count": 33,
     "metadata": {},
     "output_type": "execute_result"
    }
   ],
   "source": [
    "moscow_df.sample(5)"
   ]
  },
  {
   "cell_type": "markdown",
   "metadata": {},
   "source": [
    "## Exploration"
   ]
  },
  {
   "cell_type": "markdown",
   "metadata": {},
   "source": [
    "First, we'll look at the data distributions for the ordinal data."
   ]
  },
  {
   "cell_type": "code",
   "execution_count": 34,
   "metadata": {},
   "outputs": [
    {
     "data": {
      "text/html": [
       "<div>\n",
       "<style scoped>\n",
       "    .dataframe tbody tr th:only-of-type {\n",
       "        vertical-align: middle;\n",
       "    }\n",
       "\n",
       "    .dataframe tbody tr th {\n",
       "        vertical-align: top;\n",
       "    }\n",
       "\n",
       "    .dataframe thead th {\n",
       "        text-align: right;\n",
       "    }\n",
       "</style>\n",
       "<table border=\"1\" class=\"dataframe\">\n",
       "  <thead>\n",
       "    <tr style=\"text-align: right;\">\n",
       "      <th></th>\n",
       "      <th>price</th>\n",
       "      <th>date</th>\n",
       "      <th>level</th>\n",
       "      <th>levels</th>\n",
       "      <th>rooms</th>\n",
       "      <th>area</th>\n",
       "      <th>kitchen_area</th>\n",
       "    </tr>\n",
       "  </thead>\n",
       "  <tbody>\n",
       "    <tr>\n",
       "      <th>count</th>\n",
       "      <td>1.000000e+05</td>\n",
       "      <td>100000.000000</td>\n",
       "      <td>100000.000000</td>\n",
       "      <td>100000.000000</td>\n",
       "      <td>100000.000000</td>\n",
       "      <td>100000.000000</td>\n",
       "      <td>100000.000000</td>\n",
       "    </tr>\n",
       "    <tr>\n",
       "      <th>mean</th>\n",
       "      <td>5.707663e+04</td>\n",
       "      <td>2019.310120</td>\n",
       "      <td>7.053700</td>\n",
       "      <td>12.752370</td>\n",
       "      <td>1.776320</td>\n",
       "      <td>51.592710</td>\n",
       "      <td>10.362995</td>\n",
       "    </tr>\n",
       "    <tr>\n",
       "      <th>std</th>\n",
       "      <td>3.556933e+04</td>\n",
       "      <td>0.880621</td>\n",
       "      <td>5.692804</td>\n",
       "      <td>7.411351</td>\n",
       "      <td>0.862656</td>\n",
       "      <td>21.748209</td>\n",
       "      <td>6.834285</td>\n",
       "    </tr>\n",
       "    <tr>\n",
       "      <th>min</th>\n",
       "      <td>1.800000e+01</td>\n",
       "      <td>2018.000000</td>\n",
       "      <td>1.000000</td>\n",
       "      <td>1.000000</td>\n",
       "      <td>0.000000</td>\n",
       "      <td>2.400000</td>\n",
       "      <td>0.120000</td>\n",
       "    </tr>\n",
       "    <tr>\n",
       "      <th>25%</th>\n",
       "      <td>3.600000e+04</td>\n",
       "      <td>2019.000000</td>\n",
       "      <td>3.000000</td>\n",
       "      <td>5.000000</td>\n",
       "      <td>1.000000</td>\n",
       "      <td>38.000000</td>\n",
       "      <td>7.000000</td>\n",
       "    </tr>\n",
       "    <tr>\n",
       "      <th>50%</th>\n",
       "      <td>5.160000e+04</td>\n",
       "      <td>2019.000000</td>\n",
       "      <td>5.000000</td>\n",
       "      <td>12.000000</td>\n",
       "      <td>2.000000</td>\n",
       "      <td>46.000000</td>\n",
       "      <td>9.700000</td>\n",
       "    </tr>\n",
       "    <tr>\n",
       "      <th>75%</th>\n",
       "      <td>7.140000e+04</td>\n",
       "      <td>2020.000000</td>\n",
       "      <td>10.000000</td>\n",
       "      <td>17.000000</td>\n",
       "      <td>2.000000</td>\n",
       "      <td>61.900000</td>\n",
       "      <td>12.000000</td>\n",
       "    </tr>\n",
       "    <tr>\n",
       "      <th>max</th>\n",
       "      <td>3.572896e+06</td>\n",
       "      <td>2021.000000</td>\n",
       "      <td>36.000000</td>\n",
       "      <td>38.000000</td>\n",
       "      <td>9.000000</td>\n",
       "      <td>997.000000</td>\n",
       "      <td>1131.000000</td>\n",
       "    </tr>\n",
       "  </tbody>\n",
       "</table>\n",
       "</div>"
      ],
      "text/plain": [
       "              price           date          level         levels  \\\n",
       "count  1.000000e+05  100000.000000  100000.000000  100000.000000   \n",
       "mean   5.707663e+04    2019.310120       7.053700      12.752370   \n",
       "std    3.556933e+04       0.880621       5.692804       7.411351   \n",
       "min    1.800000e+01    2018.000000       1.000000       1.000000   \n",
       "25%    3.600000e+04    2019.000000       3.000000       5.000000   \n",
       "50%    5.160000e+04    2019.000000       5.000000      12.000000   \n",
       "75%    7.140000e+04    2020.000000      10.000000      17.000000   \n",
       "max    3.572896e+06    2021.000000      36.000000      38.000000   \n",
       "\n",
       "               rooms           area   kitchen_area  \n",
       "count  100000.000000  100000.000000  100000.000000  \n",
       "mean        1.776320      51.592710      10.362995  \n",
       "std         0.862656      21.748209       6.834285  \n",
       "min         0.000000       2.400000       0.120000  \n",
       "25%         1.000000      38.000000       7.000000  \n",
       "50%         2.000000      46.000000       9.700000  \n",
       "75%         2.000000      61.900000      12.000000  \n",
       "max         9.000000     997.000000    1131.000000  "
      ]
     },
     "execution_count": 34,
     "metadata": {},
     "output_type": "execute_result"
    }
   ],
   "source": [
    "moscow_df.describe()"
   ]
  },
  {
   "cell_type": "markdown",
   "metadata": {},
   "source": [
    "Each column is skewed right, meaning we have some extreme outliers for each column. This is because in the real estate market, while most \"normal\" places have a similar price, the price ceiling for real estate can be very high. While these outliers are sparse, they could still bias our model."
   ]
  },
  {
   "cell_type": "markdown",
   "metadata": {},
   "source": [
    "Next, we can plot each variable against price to look for possible correlations. We will only looks at data points with price less than $2 \\cdot 10^7$ to get better plots by removing price outliers. We will also plot regression lines for each to quantify per-variable correlation strength."
   ]
  },
  {
   "cell_type": "code",
   "execution_count": 59,
   "metadata": {},
   "outputs": [
    {
     "data": {
      "image/png": "[encoded data removed]",
      "text/plain": [
       "<Figure size 1750x250 with 8 Axes>"
      ]
     },
     "metadata": {},
     "output_type": "display_data"
    }
   ],
   "source": [
    "from scipy.stats import linregress\n",
    "\n",
    "def calc_R2(x, y, ax=None, **kwargs):\n",
    "    ax = ax or plt.gca()\n",
    "    _, _, r_value, _, _ = linregress(x=x, y=y)\n",
    "    ax.annotate(f'$R^2 = {r_value ** 2:.2f}$', xy=(.05, 1), xycoords=ax.transAxes, fontsize=8, ha='left', va='top')\n",
    "\n",
    "g = sns.pairplot(moscow_df.loc[moscow_df['price'] < 2e7].sample(1000, random_state=21), kind='reg', y_vars=['price'], plot_kws={'line_kws':{'color':'red'}})\n",
    "\n",
    "g.map_upper(calc_R2)\n",
    "plt.show()"
   ]
  },
  {
   "cell_type": "markdown",
   "metadata": {},
   "source": [
    "Data and level have near-zero correlations. The number of levels in the building (i.e. building size) and number of rooms, as well have kitchen area, seem like they might have some signidicance. The most important (single) variable seems to be area. However, even here we don't have a strong correlation. Hopefully combining these variables into a multivariate regression will lead to stronger correlation.\n",
    "\n",
    "Additionally, all of the correlations seem to be closest to linear (as opposed to some polynomial fit). So, a polynomial regression may not perform better than a linear regression.\n",
    "\n",
    "However, in the above we only use about 1000 samples (for efficiency). We can see these correlation results across the dataset more easily with a heatmap:"
   ]
  },
  {
   "cell_type": "code",
   "execution_count": 60,
   "metadata": {},
   "outputs": [
    {
     "data": {
      "image/png": "[encoded data removed]",
      "text/plain": [
       "<Figure size 640x480 with 2 Axes>"
      ]
     },
     "metadata": {},
     "output_type": "display_data"
    }
   ],
   "source": [
    "sns.heatmap(moscow_df.drop(['building_type', 'object_type'], axis=1).corr(), annot=True)\n",
    "plt.show()"
   ]
  },
  {
   "cell_type": "markdown",
   "metadata": {},
   "source": [
    "Notably, `date` and `level` have a stronger correlation than from our 1000 samples, but each individual variable still does not have a strong enough correlation for prediction.\n",
    "\n",
    "Thus, we proceed to fitting some models."
   ]
  },
  {
   "cell_type": "markdown",
   "metadata": {},
   "source": [
    "## Preprocessing Data for Models"
   ]
  },
  {
   "cell_type": "code",
   "execution_count": 37,
   "metadata": {
    "tags": []
   },
   "outputs": [
    {
     "name": "stdout",
     "output_type": "stream",
     "text": [
      "70000 train samples; 30000 test samples\n"
     ]
    }
   ],
   "source": [
    "from sklearn.model_selection import train_test_split\n",
    "\n",
    "X = moscow_df[['date', 'building_type', 'level', 'levels', 'rooms', 'area', 'kitchen_area', 'object_type']]\n",
    "y = moscow_df['price']\n",
    "\n",
    "X_train, X_test, y_train, y_test = train_test_split(X, y, test_size=0.3, random_state=SEED)\n",
    "\n",
    "print(f'{len(y_train)} train samples; {len(y_test)} test samples')"
   ]
  },
  {
   "cell_type": "markdown",
   "metadata": {},
   "source": [
    "Now, we will one-hot the categorical data using sklearn's one hot encoder."
   ]
  },
  {
   "cell_type": "code",
   "execution_count": 38,
   "metadata": {},
   "outputs": [
    {
     "data": {
      "text/html": [
       "<div>\n",
       "<style scoped>\n",
       "    .dataframe tbody tr th:only-of-type {\n",
       "        vertical-align: middle;\n",
       "    }\n",
       "\n",
       "    .dataframe tbody tr th {\n",
       "        vertical-align: top;\n",
       "    }\n",
       "\n",
       "    .dataframe thead th {\n",
       "        text-align: right;\n",
       "    }\n",
       "</style>\n",
       "<table border=\"1\" class=\"dataframe\">\n",
       "  <thead>\n",
       "    <tr style=\"text-align: right;\">\n",
       "      <th></th>\n",
       "      <th>date</th>\n",
       "      <th>level</th>\n",
       "      <th>levels</th>\n",
       "      <th>rooms</th>\n",
       "      <th>area</th>\n",
       "      <th>kitchen_area</th>\n",
       "      <th>blocky</th>\n",
       "      <th>brick</th>\n",
       "      <th>monolithic</th>\n",
       "      <th>other</th>\n",
       "      <th>panel</th>\n",
       "      <th>wooden</th>\n",
       "      <th>new</th>\n",
       "      <th>preowned</th>\n",
       "    </tr>\n",
       "  </thead>\n",
       "  <tbody>\n",
       "    <tr>\n",
       "      <th>5456247</th>\n",
       "      <td>2021</td>\n",
       "      <td>5</td>\n",
       "      <td>5</td>\n",
       "      <td>1</td>\n",
       "      <td>28.0</td>\n",
       "      <td>6.5</td>\n",
       "      <td>0.0</td>\n",
       "      <td>0.0</td>\n",
       "      <td>0.0</td>\n",
       "      <td>0.0</td>\n",
       "      <td>1.0</td>\n",
       "      <td>0.0</td>\n",
       "      <td>0.0</td>\n",
       "      <td>1.0</td>\n",
       "    </tr>\n",
       "    <tr>\n",
       "      <th>25528</th>\n",
       "      <td>2018</td>\n",
       "      <td>11</td>\n",
       "      <td>21</td>\n",
       "      <td>1</td>\n",
       "      <td>38.1</td>\n",
       "      <td>8.9</td>\n",
       "      <td>0.0</td>\n",
       "      <td>0.0</td>\n",
       "      <td>0.0</td>\n",
       "      <td>0.0</td>\n",
       "      <td>0.0</td>\n",
       "      <td>1.0</td>\n",
       "      <td>0.0</td>\n",
       "      <td>1.0</td>\n",
       "    </tr>\n",
       "    <tr>\n",
       "      <th>5342674</th>\n",
       "      <td>2021</td>\n",
       "      <td>10</td>\n",
       "      <td>25</td>\n",
       "      <td>1</td>\n",
       "      <td>37.0</td>\n",
       "      <td>10.0</td>\n",
       "      <td>0.0</td>\n",
       "      <td>0.0</td>\n",
       "      <td>1.0</td>\n",
       "      <td>0.0</td>\n",
       "      <td>0.0</td>\n",
       "      <td>0.0</td>\n",
       "      <td>0.0</td>\n",
       "      <td>1.0</td>\n",
       "    </tr>\n",
       "    <tr>\n",
       "      <th>3196535</th>\n",
       "      <td>2020</td>\n",
       "      <td>4</td>\n",
       "      <td>4</td>\n",
       "      <td>1</td>\n",
       "      <td>32.0</td>\n",
       "      <td>6.0</td>\n",
       "      <td>0.0</td>\n",
       "      <td>1.0</td>\n",
       "      <td>0.0</td>\n",
       "      <td>0.0</td>\n",
       "      <td>0.0</td>\n",
       "      <td>0.0</td>\n",
       "      <td>0.0</td>\n",
       "      <td>1.0</td>\n",
       "    </tr>\n",
       "    <tr>\n",
       "      <th>470783</th>\n",
       "      <td>2018</td>\n",
       "      <td>1</td>\n",
       "      <td>5</td>\n",
       "      <td>3</td>\n",
       "      <td>51.0</td>\n",
       "      <td>8.0</td>\n",
       "      <td>0.0</td>\n",
       "      <td>0.0</td>\n",
       "      <td>0.0</td>\n",
       "      <td>0.0</td>\n",
       "      <td>1.0</td>\n",
       "      <td>0.0</td>\n",
       "      <td>0.0</td>\n",
       "      <td>1.0</td>\n",
       "    </tr>\n",
       "  </tbody>\n",
       "</table>\n",
       "</div>"
      ],
      "text/plain": [
       "         date  level  levels  rooms  area  kitchen_area  blocky  brick  \\\n",
       "5456247  2021      5       5      1  28.0           6.5     0.0    0.0   \n",
       "25528    2018     11      21      1  38.1           8.9     0.0    0.0   \n",
       "5342674  2021     10      25      1  37.0          10.0     0.0    0.0   \n",
       "3196535  2020      4       4      1  32.0           6.0     0.0    1.0   \n",
       "470783   2018      1       5      3  51.0           8.0     0.0    0.0   \n",
       "\n",
       "         monolithic  other  panel  wooden  new  preowned  \n",
       "5456247         0.0    0.0    1.0     0.0  0.0       1.0  \n",
       "25528           0.0    0.0    0.0     1.0  0.0       1.0  \n",
       "5342674         1.0    0.0    0.0     0.0  0.0       1.0  \n",
       "3196535         0.0    0.0    0.0     0.0  0.0       1.0  \n",
       "470783          0.0    0.0    1.0     0.0  0.0       1.0  "
      ]
     },
     "execution_count": 38,
     "metadata": {},
     "output_type": "execute_result"
    }
   ],
   "source": [
    "from sklearn.preprocessing import OneHotEncoder\n",
    "\n",
    "for col in ['building_type', 'object_type']:\n",
    "\n",
    "    one_hot = OneHotEncoder()\n",
    "    one_hot.fit(X_train[[col]])\n",
    "\n",
    "    X_train.loc[:, one_hot.categories_[0]] = one_hot.transform(X_train[[col]]).todense()\n",
    "    X_test.loc[:, one_hot.categories_[0]] = one_hot.transform(X_test[[col]]).todense()\n",
    "\n",
    "    X_train = X_train.drop(col, axis=1)\n",
    "    X_test = X_test.drop(col, axis=1)\n",
    "\n",
    "X_train.sample(5)"
   ]
  },
  {
   "cell_type": "markdown",
   "metadata": {},
   "source": [
    "Next, we will scale the data. Note that not all models require scaled data; while models like linear regression require scaling to avoid overemphasis of certain datapoints, models like descision trees (and, by extension, random forests) are not affected by unscaled variables (though, of course, scaled data won't negatively impact performance models like descision trees, either)."
   ]
  },
  {
   "cell_type": "code",
   "execution_count": 39,
   "metadata": {},
   "outputs": [
    {
     "data": {
      "text/html": [
       "<div>\n",
       "<style scoped>\n",
       "    .dataframe tbody tr th:only-of-type {\n",
       "        vertical-align: middle;\n",
       "    }\n",
       "\n",
       "    .dataframe tbody tr th {\n",
       "        vertical-align: top;\n",
       "    }\n",
       "\n",
       "    .dataframe thead th {\n",
       "        text-align: right;\n",
       "    }\n",
       "</style>\n",
       "<table border=\"1\" class=\"dataframe\">\n",
       "  <thead>\n",
       "    <tr style=\"text-align: right;\">\n",
       "      <th></th>\n",
       "      <th>date</th>\n",
       "      <th>level</th>\n",
       "      <th>levels</th>\n",
       "      <th>rooms</th>\n",
       "      <th>area</th>\n",
       "      <th>kitchen_area</th>\n",
       "      <th>blocky</th>\n",
       "      <th>brick</th>\n",
       "      <th>monolithic</th>\n",
       "      <th>other</th>\n",
       "      <th>panel</th>\n",
       "      <th>wooden</th>\n",
       "      <th>new</th>\n",
       "      <th>preowned</th>\n",
       "    </tr>\n",
       "  </thead>\n",
       "  <tbody>\n",
       "    <tr>\n",
       "      <th>1291885</th>\n",
       "      <td>-0.350955</td>\n",
       "      <td>1.394036</td>\n",
       "      <td>0.297780</td>\n",
       "      <td>-2.057966</td>\n",
       "      <td>-1.493653</td>\n",
       "      <td>-0.845626</td>\n",
       "      <td>0.0</td>\n",
       "      <td>0.0</td>\n",
       "      <td>0.0</td>\n",
       "      <td>0.0</td>\n",
       "      <td>1.0</td>\n",
       "      <td>0.0</td>\n",
       "      <td>1.0</td>\n",
       "      <td>0.0</td>\n",
       "    </tr>\n",
       "    <tr>\n",
       "      <th>5220870</th>\n",
       "      <td>1.919550</td>\n",
       "      <td>-0.716377</td>\n",
       "      <td>-0.512101</td>\n",
       "      <td>0.257887</td>\n",
       "      <td>-0.257313</td>\n",
       "      <td>-0.448787</td>\n",
       "      <td>0.0</td>\n",
       "      <td>0.0</td>\n",
       "      <td>0.0</td>\n",
       "      <td>0.0</td>\n",
       "      <td>1.0</td>\n",
       "      <td>0.0</td>\n",
       "      <td>0.0</td>\n",
       "      <td>1.0</td>\n",
       "    </tr>\n",
       "    <tr>\n",
       "      <th>4262953</th>\n",
       "      <td>0.784297</td>\n",
       "      <td>-0.892245</td>\n",
       "      <td>1.242640</td>\n",
       "      <td>0.257887</td>\n",
       "      <td>0.144156</td>\n",
       "      <td>0.384575</td>\n",
       "      <td>0.0</td>\n",
       "      <td>0.0</td>\n",
       "      <td>1.0</td>\n",
       "      <td>0.0</td>\n",
       "      <td>0.0</td>\n",
       "      <td>0.0</td>\n",
       "      <td>1.0</td>\n",
       "      <td>0.0</td>\n",
       "    </tr>\n",
       "    <tr>\n",
       "      <th>2116713</th>\n",
       "      <td>-0.350955</td>\n",
       "      <td>-0.364642</td>\n",
       "      <td>-0.782061</td>\n",
       "      <td>-0.900040</td>\n",
       "      <td>-0.512793</td>\n",
       "      <td>0.053876</td>\n",
       "      <td>0.0</td>\n",
       "      <td>0.0</td>\n",
       "      <td>1.0</td>\n",
       "      <td>0.0</td>\n",
       "      <td>0.0</td>\n",
       "      <td>0.0</td>\n",
       "      <td>1.0</td>\n",
       "      <td>0.0</td>\n",
       "    </tr>\n",
       "    <tr>\n",
       "      <th>106073</th>\n",
       "      <td>-1.486208</td>\n",
       "      <td>-0.540510</td>\n",
       "      <td>1.242640</td>\n",
       "      <td>-0.900040</td>\n",
       "      <td>-0.467171</td>\n",
       "      <td>0.053876</td>\n",
       "      <td>0.0</td>\n",
       "      <td>0.0</td>\n",
       "      <td>0.0</td>\n",
       "      <td>0.0</td>\n",
       "      <td>0.0</td>\n",
       "      <td>1.0</td>\n",
       "      <td>0.0</td>\n",
       "      <td>1.0</td>\n",
       "    </tr>\n",
       "  </tbody>\n",
       "</table>\n",
       "</div>"
      ],
      "text/plain": [
       "             date     level    levels     rooms      area  kitchen_area  \\\n",
       "1291885 -0.350955  1.394036  0.297780 -2.057966 -1.493653     -0.845626   \n",
       "5220870  1.919550 -0.716377 -0.512101  0.257887 -0.257313     -0.448787   \n",
       "4262953  0.784297 -0.892245  1.242640  0.257887  0.144156      0.384575   \n",
       "2116713 -0.350955 -0.364642 -0.782061 -0.900040 -0.512793      0.053876   \n",
       "106073  -1.486208 -0.540510  1.242640 -0.900040 -0.467171      0.053876   \n",
       "\n",
       "         blocky  brick  monolithic  other  panel  wooden  new  preowned  \n",
       "1291885     0.0    0.0         0.0    0.0    1.0     0.0  1.0       0.0  \n",
       "5220870     0.0    0.0         0.0    0.0    1.0     0.0  0.0       1.0  \n",
       "4262953     0.0    0.0         1.0    0.0    0.0     0.0  1.0       0.0  \n",
       "2116713     0.0    0.0         1.0    0.0    0.0     0.0  1.0       0.0  \n",
       "106073      0.0    0.0         0.0    0.0    0.0     1.0  0.0       1.0  "
      ]
     },
     "execution_count": 39,
     "metadata": {},
     "output_type": "execute_result"
    }
   ],
   "source": [
    "from sklearn.preprocessing import StandardScaler\n",
    "\n",
    "ordinal_cols = ['date', 'level', 'levels', 'rooms', 'area', 'kitchen_area']\n",
    "X_train_ordinal, X_test_ordinal = X_train[ordinal_cols], X_test[ordinal_cols]\n",
    "\n",
    "scaler = StandardScaler()\n",
    "scaler.fit(X_train_ordinal)\n",
    "\n",
    "X_train_scaled, X_test_scaled = X_train, X_test\n",
    "\n",
    "X_train_scaled.loc[:, scaler.feature_names_in_] = scaler.transform(X_train_ordinal)\n",
    "X_test_scaled.loc[:, scaler.feature_names_in_] = scaler.transform(X_test_ordinal)\n",
    "\n",
    "X_train_scaled.sample(5)"
   ]
  },
  {
   "cell_type": "code",
   "execution_count": 18,
   "metadata": {},
   "outputs": [
    {
     "ename": "NameError",
     "evalue": "name 'gkeokde' is not defined",
     "output_type": "error",
     "traceback": [
      "\u001b[0;31m---------------------------------------------------------------------------\u001b[0m",
      "\u001b[0;31mNameError\u001b[0m                                 Traceback (most recent call last)",
      "\u001b[0;32m/var/folders/nh/4m422g1j5gl3d8dz537dcgth0000gn/T/ipykernel_92069/2616248546.py\u001b[0m in \u001b[0;36m<module>\u001b[0;34m\u001b[0m\n\u001b[0;32m----> 1\u001b[0;31m \u001b[0mgkeokde\u001b[0m\u001b[0;34m\u001b[0m\u001b[0;34m\u001b[0m\u001b[0m\n\u001b[0m",
      "\u001b[0;31mNameError\u001b[0m: name 'gkeokde' is not defined"
     ]
    }
   ],
   "source": [
    "gkeokde"
   ]
  },
  {
   "cell_type": "markdown",
   "metadata": {},
   "source": [
    "## Model Fitting"
   ]
  },
  {
   "cell_type": "markdown",
   "metadata": {},
   "source": [
    "When we began training models, an immediate issue presented itself: we didn't have sufficient compuational resources to handle very large data using only Sklearn's cpu-only implenetaions. This made training very slow and hyperparameter tuning out of the question.\n",
    "\n",
    "Thus, we implement Nvidia's [RAPIDS](https://rapids.ai/) API, which offers models with similar syntax to Sklearn, but with GPU acceleration. In particular, RAPIDS includes the CuML package, which accelerates training significantly. (For example, when training our Random Forests, one hyperparam test took Sklearn hours, while RAPIDS completed the same task in mere seconds).\n",
    "\n",
    "The main challenge with using RAPIDS was technical implementation: we acheived most stability on WSL2 Ubuntu on Windows with CUDA 11.5.\n",
    "\n",
    "**Finally**, although we will be testing different models, we will not be peforming Nested CV for algorithm selection. Even with the RAPIDS API, perfroming Nested CV would be simply too computationally intensive, and also likely wouldn't realize better results on our large data."
   ]
  },
  {
   "cell_type": "markdown",
   "metadata": {},
   "source": [
    "### Rapids CuML Setup"
   ]
  },
  {
   "cell_type": "markdown",
   "metadata": {},
   "source": [
    "First, we convert our data using CuDF and CuPY to allow our CuML models to use GPU acceleration."
   ]
  },
  {
   "cell_type": "code",
   "execution_count": null,
   "metadata": {},
   "outputs": [],
   "source": [
    "import cudf\n",
    "import cupy as cp\n",
    "\n",
    "def to_cudf(pd_df):\n",
    "    data = dict()\n",
    "\n",
    "    for col in pd_df.columns:\n",
    "        data[col] = pd_df[col].to_numpy(dtype=np.float32)\n",
    "\n",
    "    return cudf.DataFrame(data)\n",
    "\n",
    "def to_cupy(pd_df):\n",
    "    return cp.from_dlpack(pd_df.to_dlpack())"
   ]
  },
  {
   "cell_type": "code",
   "execution_count": null,
   "metadata": {},
   "outputs": [],
   "source": [
    "X_train_cudf = to_cudf(X_train)\n",
    "X_test_cudf = to_cudf(X_test)\n",
    "\n",
    "X_train_cupy = to_cupy(X_train_cudf)\n",
    "X_test_cupy = to_cupy(X_test_cudf)"
   ]
  },
  {
   "cell_type": "code",
   "execution_count": null,
   "metadata": {},
   "outputs": [],
   "source": [
    "X_train_scaled_cudf = to_cudf(X_train_scaled)\n",
    "X_test_scaled_cudf = to_cudf(X_test_scaled)\n",
    "\n",
    "X_train_scaled_cupy = to_cupy(X_train_scaled_cudf)\n",
    "X_test_scaled_cupy = to_cupy(X_test_scaled_cudf)"
   ]
  },
  {
   "cell_type": "code",
   "execution_count": null,
   "metadata": {},
   "outputs": [],
   "source": [
    "y_train_cudf = cudf.Series(y_train.to_numpy())\n",
    "y_test_cudf = cudf.Series(y_test.to_numpy())\n",
    "\n",
    "y_train_cupy = to_cupy(y_train_cudf)\n",
    "y_test_cupy = to_cupy(y_test_cudf)"
   ]
  },
  {
   "cell_type": "markdown",
   "metadata": {},
   "source": [
    "Next, we found that Sklearn's `GridSearchCV` and `RandomizedSearchCV` were somewhat unstable with RAPIDS on our machines; in particular, there seemed to be some issues regarding the way Sklearn creates new models for hyperparam tuning.\n",
    "\n",
    "For this reason, we create a `custom_grid_search` function which, though containing fewer features, is more stable with RAPIDS.\n",
    "\n",
    "Addtionally, our cross-validation will use 3 folds. Because our data is larger, fewer splits in our CV will still give our models enough data to train while reducing variability in predicitons."
   ]
  },
  {
   "cell_type": "code",
   "execution_count": null,
   "metadata": {},
   "outputs": [],
   "source": [
    "from sklearn.metrics import mean_absolute_error\n",
    "\n",
    "def custom_grid_search(model, hparams, default_kwargs, X_train_cupy, y_train_cupy,\n",
    "                       folds=3, verbose=0):\n",
    "    import itertools\n",
    "    \n",
    "    # note that the KFold class in SciKit by default does not use shuffling, so we will not implement shuffling here\n",
    "    X_splits = cp.array_split(X_train_cupy, folds)\n",
    "    y_splits = cp.array_split(y_train_cupy, folds)\n",
    "    cv_scores = dict()\n",
    "\n",
    "    # we use the same model instance to avoid RAPIDS crashing\n",
    "    cuml_model = model(**default_kwargs)\n",
    "    for hparam_comb in itertools.product(*hparams.values()):\n",
    "        kwargs = dict(zip(hparams.keys(), hparam_comb))\n",
    "        \n",
    "        holdouts = []\n",
    "        \n",
    "        if verbose >= 1:\n",
    "            print(f'Training CV with {folds} folds on hparams {kwargs}')\n",
    "\n",
    "        # setting new params seems more stable on CuML\n",
    "        cuml_model.set_params(**kwargs, **default_kwargs)\n",
    "        \n",
    "        for i in range(folds):\n",
    "            \n",
    "            # train data is everything except hold-out\n",
    "            train_sets = [X_splits[j] for j in range(len(X_splits)) if j != i]\n",
    "            label_sets = [y_splits[j] for j in range(len(y_splits)) if j != i]\n",
    "                \n",
    "            train_arr = cp.vstack(train_sets)\n",
    "            labels_arr = cp.hstack(label_sets)\n",
    "            cuml_model.fit(train_arr, labels_arr)\n",
    "            \n",
    "            # get pred error using hold-out\n",
    "            preds = cuml_model.predict(X_splits[i])   \n",
    "            score = mean_absolute_error(cp.asnumpy(preds), cp.asnumpy(y_splits[i]))     \n",
    "            holdouts.append(score)\n",
    "            \n",
    "            if verbose >= 2:\n",
    "                print(f'\\tholdout {i}: {score}')\n",
    "            \n",
    "            del train_arr, labels_arr, train_sets, label_sets\n",
    "\n",
    "        cv_score = np.mean(holdouts)\n",
    "        cv_scores[str(kwargs)] = cv_score\n",
    "        \n",
    "        if verbose >= 1:\n",
    "            print('CV Score:', cv_score)\n",
    "            \n",
    "    del X_splits, y_splits\n",
    "    \n",
    "    return cv_scores"
   ]
  },
  {
   "cell_type": "markdown",
   "metadata": {},
   "source": [
    "Finally, we set our device to GPU for accelerated testing."
   ]
  },
  {
   "cell_type": "code",
   "execution_count": null,
   "metadata": {},
   "outputs": [],
   "source": [
    "from cuml.common.device_selection import using_device_type, set_global_device_type\n",
    "import pickle\n",
    "set_global_device_type('GPU')"
   ]
  },
  {
   "cell_type": "code",
   "execution_count": null,
   "metadata": {},
   "outputs": [
    {
     "ename": "NameError",
     "evalue": "name 'gkeokde' is not defined",
     "output_type": "error",
     "traceback": [
      "\u001b[0;31m---------------------------------------------------------------------------\u001b[0m",
      "\u001b[0;31mNameError\u001b[0m                                 Traceback (most recent call last)",
      "Cell \u001b[0;32mIn[21], line 1\u001b[0m\n\u001b[0;32m----> 1\u001b[0m gkeokde\n",
      "\u001b[0;31mNameError\u001b[0m: name 'gkeokde' is not defined"
     ]
    }
   ],
   "source": [
    "gkeokde"
   ]
  },
  {
   "cell_type": "markdown",
   "metadata": {},
   "source": [
    "### Linear Regression"
   ]
  },
  {
   "cell_type": "markdown",
   "metadata": {},
   "source": [
    "Each of our ordinal variables seemed to have a (weak) close-to-linear relationship with price. So, using Linear Regression as our first model seems reasonable. We will also not be using Polynomal features for the same reason.\n",
    "\n",
    "Unfortunately CuML does not natively support MAE Loss for linear regression. However, we can still perfrom mini-batch SGD linear regression and measure MAE loss after-the-fact. We expect this will increase the end MAE loss, and thus negatively affect the model's performance. However, the sklearn implementation's large train time is infeasible given our computational resources.\n",
    "\n",
    "**NOTE**: Oftentimes many one-hotted features can negatively impact performance for linear regression. To address this, we will train on the ordinal (not one-hotted) data for linear regression. Later, we will train other models which aren't affected by data with many categorical features (e.g. random forests)."
   ]
  },
  {
   "cell_type": "code",
   "execution_count": null,
   "metadata": {},
   "outputs": [],
   "source": [
    "from cuml.linear_model import MBSGDRegressor as cumlMBSGDRegressor"
   ]
  },
  {
   "cell_type": "markdown",
   "metadata": {},
   "source": [
    "We will try no regularization, L1 (LASSO) regularization, and L2 (Ridge) regression. We will also try different learning rates and numbers of epochs."
   ]
  },
  {
   "cell_type": "code",
   "execution_count": null,
   "metadata": {},
   "outputs": [],
   "source": [
    "learning_rates = [1e-3, 5e-4, 1e-4]\n",
    "penatlies = ['none', 'l1', 'l2']\n",
    "epochs = [5, 10, 20]\n",
    "variable_lr = ['constant', 'adaptive']\n",
    "\n",
    "hparam_grid = dict(\n",
    "    learning_rate=variable_lr,\n",
    "    eta0=learning_rates,\n",
    "    penalty=penatlies,\n",
    "    epochs=epochs,\n",
    ")\n",
    "\n",
    "def_kwargs = dict(\n",
    "    loss='squared_loss',\n",
    "    tol=0.0,\n",
    "    fit_intercept=True,\n",
    "    batch_size=16,\n",
    "    verbose=False,\n",
    ")"
   ]
  },
  {
   "cell_type": "code",
   "execution_count": null,
   "metadata": {},
   "outputs": [
    {
     "name": "stdout",
     "output_type": "stream",
     "text": [
      "Training CV with 3 folds on hparams {'learning_rate': 'constant', 'eta0': 0.001, 'penalty': 'none', 'epochs': 5}\n",
      "CV Score: 14403.76738693239\n",
      "Training CV with 3 folds on hparams {'learning_rate': 'constant', 'eta0': 0.001, 'penalty': 'none', 'epochs': 10}\n",
      "CV Score: 13731.922702740245\n",
      "Training CV with 3 folds on hparams {'learning_rate': 'constant', 'eta0': 0.001, 'penalty': 'none', 'epochs': 20}\n",
      "CV Score: 13735.842440235096\n",
      "Training CV with 3 folds on hparams {'learning_rate': 'constant', 'eta0': 0.001, 'penalty': 'l1', 'epochs': 5}\n",
      "CV Score: 14403.767361263963\n",
      "Training CV with 3 folds on hparams {'learning_rate': 'constant', 'eta0': 0.001, 'penalty': 'l1', 'epochs': 10}\n",
      "CV Score: 13731.92264526168\n",
      "Training CV with 3 folds on hparams {'learning_rate': 'constant', 'eta0': 0.001, 'penalty': 'l1', 'epochs': 20}\n",
      "CV Score: 13735.84239620721\n",
      "Training CV with 3 folds on hparams {'learning_rate': 'constant', 'eta0': 0.001, 'penalty': 'l2', 'epochs': 5}\n",
      "CV Score: 14403.729347750179\n",
      "Training CV with 3 folds on hparams {'learning_rate': 'constant', 'eta0': 0.001, 'penalty': 'l2', 'epochs': 10}\n",
      "CV Score: 13731.77704944797\n",
      "Training CV with 3 folds on hparams {'learning_rate': 'constant', 'eta0': 0.001, 'penalty': 'l2', 'epochs': 20}\n",
      "CV Score: 13735.774906471992\n",
      "Training CV with 3 folds on hparams {'learning_rate': 'constant', 'eta0': 0.0005, 'penalty': 'none', 'epochs': 5}\n",
      "CV Score: 13999.366175365923\n",
      "Training CV with 3 folds on hparams {'learning_rate': 'constant', 'eta0': 0.0005, 'penalty': 'none', 'epochs': 10}\n",
      "CV Score: 13689.968811665962\n",
      "Training CV with 3 folds on hparams {'learning_rate': 'constant', 'eta0': 0.0005, 'penalty': 'none', 'epochs': 20}\n",
      "CV Score: 13726.747814436421\n",
      "Training CV with 3 folds on hparams {'learning_rate': 'constant', 'eta0': 0.0005, 'penalty': 'l1', 'epochs': 5}\n",
      "CV Score: 13999.366165879655\n",
      "Training CV with 3 folds on hparams {'learning_rate': 'constant', 'eta0': 0.0005, 'penalty': 'l1', 'epochs': 10}\n",
      "CV Score: 13689.968836693151\n",
      "Training CV with 3 folds on hparams {'learning_rate': 'constant', 'eta0': 0.0005, 'penalty': 'l1', 'epochs': 20}\n",
      "CV Score: 13726.7478050614\n",
      "Training CV with 3 folds on hparams {'learning_rate': 'constant', 'eta0': 0.0005, 'penalty': 'l2', 'epochs': 5}\n",
      "CV Score: 13999.454543386712\n",
      "Training CV with 3 folds on hparams {'learning_rate': 'constant', 'eta0': 0.0005, 'penalty': 'l2', 'epochs': 10}\n",
      "CV Score: 13689.977600031285\n",
      "Training CV with 3 folds on hparams {'learning_rate': 'constant', 'eta0': 0.0005, 'penalty': 'l2', 'epochs': 20}\n",
      "CV Score: 13726.727787133786\n",
      "Training CV with 3 folds on hparams {'learning_rate': 'constant', 'eta0': 0.0001, 'penalty': 'none', 'epochs': 5}\n",
      "CV Score: 13887.24900711396\n",
      "Training CV with 3 folds on hparams {'learning_rate': 'constant', 'eta0': 0.0001, 'penalty': 'none', 'epochs': 10}\n",
      "CV Score: 13769.577081829084\n",
      "Training CV with 3 folds on hparams {'learning_rate': 'constant', 'eta0': 0.0001, 'penalty': 'none', 'epochs': 20}\n",
      "CV Score: 13723.805726330704\n",
      "Training CV with 3 folds on hparams {'learning_rate': 'constant', 'eta0': 0.0001, 'penalty': 'l1', 'epochs': 5}\n",
      "CV Score: 13887.24899779503\n",
      "Training CV with 3 folds on hparams {'learning_rate': 'constant', 'eta0': 0.0001, 'penalty': 'l1', 'epochs': 10}\n",
      "CV Score: 13769.577080489837\n",
      "Training CV with 3 folds on hparams {'learning_rate': 'constant', 'eta0': 0.0001, 'penalty': 'l1', 'epochs': 20}\n",
      "CV Score: 13723.805759365072\n",
      "Training CV with 3 folds on hparams {'learning_rate': 'constant', 'eta0': 0.0001, 'penalty': 'l2', 'epochs': 5}\n",
      "CV Score: 13887.268410754654\n",
      "Training CV with 3 folds on hparams {'learning_rate': 'constant', 'eta0': 0.0001, 'penalty': 'l2', 'epochs': 10}\n",
      "CV Score: 13769.579302779899\n",
      "Training CV with 3 folds on hparams {'learning_rate': 'constant', 'eta0': 0.0001, 'penalty': 'l2', 'epochs': 20}\n",
      "CV Score: 13723.80447312882\n",
      "Training CV with 3 folds on hparams {'learning_rate': 'adaptive', 'eta0': 0.001, 'penalty': 'none', 'epochs': 5}\n",
      "CV Score: 14403.76738693239\n",
      "Training CV with 3 folds on hparams {'learning_rate': 'adaptive', 'eta0': 0.001, 'penalty': 'none', 'epochs': 10}\n",
      "CV Score: 13731.922702740245\n",
      "Training CV with 3 folds on hparams {'learning_rate': 'adaptive', 'eta0': 0.001, 'penalty': 'none', 'epochs': 20}\n",
      "CV Score: 13735.842440235096\n",
      "Training CV with 3 folds on hparams {'learning_rate': 'adaptive', 'eta0': 0.001, 'penalty': 'l1', 'epochs': 5}\n",
      "CV Score: 14403.767361263963\n",
      "Training CV with 3 folds on hparams {'learning_rate': 'adaptive', 'eta0': 0.001, 'penalty': 'l1', 'epochs': 10}\n",
      "CV Score: 13731.92264526168\n",
      "Training CV with 3 folds on hparams {'learning_rate': 'adaptive', 'eta0': 0.001, 'penalty': 'l1', 'epochs': 20}\n",
      "CV Score: 13735.84239620721\n",
      "Training CV with 3 folds on hparams {'learning_rate': 'adaptive', 'eta0': 0.001, 'penalty': 'l2', 'epochs': 5}\n",
      "CV Score: 14403.729347750179\n",
      "Training CV with 3 folds on hparams {'learning_rate': 'adaptive', 'eta0': 0.001, 'penalty': 'l2', 'epochs': 10}\n",
      "CV Score: 13731.77704944797\n",
      "Training CV with 3 folds on hparams {'learning_rate': 'adaptive', 'eta0': 0.001, 'penalty': 'l2', 'epochs': 20}\n",
      "CV Score: 13735.774906471992\n",
      "Training CV with 3 folds on hparams {'learning_rate': 'adaptive', 'eta0': 0.0005, 'penalty': 'none', 'epochs': 5}\n",
      "CV Score: 13999.366175365923\n",
      "Training CV with 3 folds on hparams {'learning_rate': 'adaptive', 'eta0': 0.0005, 'penalty': 'none', 'epochs': 10}\n",
      "CV Score: 13689.968811665962\n",
      "Training CV with 3 folds on hparams {'learning_rate': 'adaptive', 'eta0': 0.0005, 'penalty': 'none', 'epochs': 20}\n",
      "CV Score: 13726.747814436421\n",
      "Training CV with 3 folds on hparams {'learning_rate': 'adaptive', 'eta0': 0.0005, 'penalty': 'l1', 'epochs': 5}\n",
      "CV Score: 13999.366165879655\n",
      "Training CV with 3 folds on hparams {'learning_rate': 'adaptive', 'eta0': 0.0005, 'penalty': 'l1', 'epochs': 10}\n",
      "CV Score: 13689.968836693151\n",
      "Training CV with 3 folds on hparams {'learning_rate': 'adaptive', 'eta0': 0.0005, 'penalty': 'l1', 'epochs': 20}\n",
      "CV Score: 13726.7478050614\n",
      "Training CV with 3 folds on hparams {'learning_rate': 'adaptive', 'eta0': 0.0005, 'penalty': 'l2', 'epochs': 5}\n",
      "CV Score: 13999.454543386712\n",
      "Training CV with 3 folds on hparams {'learning_rate': 'adaptive', 'eta0': 0.0005, 'penalty': 'l2', 'epochs': 10}\n",
      "CV Score: 13689.977600031285\n",
      "Training CV with 3 folds on hparams {'learning_rate': 'adaptive', 'eta0': 0.0005, 'penalty': 'l2', 'epochs': 20}\n",
      "CV Score: 13726.727787133786\n",
      "Training CV with 3 folds on hparams {'learning_rate': 'adaptive', 'eta0': 0.0001, 'penalty': 'none', 'epochs': 5}\n",
      "CV Score: 13887.24900711396\n",
      "Training CV with 3 folds on hparams {'learning_rate': 'adaptive', 'eta0': 0.0001, 'penalty': 'none', 'epochs': 10}\n",
      "CV Score: 13769.577081829084\n",
      "Training CV with 3 folds on hparams {'learning_rate': 'adaptive', 'eta0': 0.0001, 'penalty': 'none', 'epochs': 20}\n",
      "CV Score: 13723.805726330704\n",
      "Training CV with 3 folds on hparams {'learning_rate': 'adaptive', 'eta0': 0.0001, 'penalty': 'l1', 'epochs': 5}\n",
      "CV Score: 13887.24899779503\n",
      "Training CV with 3 folds on hparams {'learning_rate': 'adaptive', 'eta0': 0.0001, 'penalty': 'l1', 'epochs': 10}\n",
      "CV Score: 13769.577080489837\n",
      "Training CV with 3 folds on hparams {'learning_rate': 'adaptive', 'eta0': 0.0001, 'penalty': 'l1', 'epochs': 20}\n",
      "CV Score: 13723.805759365072\n",
      "Training CV with 3 folds on hparams {'learning_rate': 'adaptive', 'eta0': 0.0001, 'penalty': 'l2', 'epochs': 5}\n",
      "CV Score: 13887.268410754654\n",
      "Training CV with 3 folds on hparams {'learning_rate': 'adaptive', 'eta0': 0.0001, 'penalty': 'l2', 'epochs': 10}\n",
      "CV Score: 13769.579302779899\n",
      "Training CV with 3 folds on hparams {'learning_rate': 'adaptive', 'eta0': 0.0001, 'penalty': 'l2', 'epochs': 20}\n",
      "CV Score: 13723.80447312882\n"
     ]
    }
   ],
   "source": [
    "cv_scores_sgd = custom_grid_search(cumlMBSGDRegressor, hparam_grid, def_kwargs, X_train_scaled_cupy[:,:len(ordinal_cols)], y_train_cupy, folds=3, verbose=1)"
   ]
  },
  {
   "cell_type": "code",
   "execution_count": null,
   "metadata": {},
   "outputs": [
    {
     "name": "stdout",
     "output_type": "stream",
     "text": [
      "{'learning_rate': 'constant', 'eta0': 0.0005, 'penalty': 'none', 'epochs': 10}\n"
     ]
    }
   ],
   "source": [
    "opt_sgd_params = min(cv_scores_sgd, key=cv_scores_sgd.get)\n",
    "\n",
    "print(opt_sgd_params)"
   ]
  },
  {
   "cell_type": "code",
   "execution_count": null,
   "metadata": {},
   "outputs": [
    {
     "data": {
      "text/plain": [
       "MBSGDRegressor()"
      ]
     },
     "execution_count": 35,
     "metadata": {},
     "output_type": "execute_result"
    }
   ],
   "source": [
    "opt_sgd_params = {'learning_rate': 'constant', 'eta0': 0.0005, 'penalty': 'l2', 'epochs': 10}\n",
    "def_kwargs['verbose'] = 2\n",
    "opt_sgd_model = cumlMBSGDRegressor(**opt_sgd_params, **def_kwargs)\n",
    "\n",
    "opt_sgd_model.fit(X_train_scaled_cupy[:,:len(ordinal_cols)], y_train_cupy)"
   ]
  },
  {
   "cell_type": "code",
   "execution_count": null,
   "metadata": {},
   "outputs": [
    {
     "name": "stdout",
     "output_type": "stream",
     "text": [
      "MBSGDRegressor MAE: 13706.061317947917\n"
     ]
    }
   ],
   "source": [
    "opt_sgd_preds = opt_sgd_model.predict(X_test_scaled_cupy[:,:len(ordinal_cols)])   \n",
    "opt_sgd_score = mean_absolute_error(cp.asnumpy(opt_sgd_preds), cp.asnumpy(y_test_cupy))     \n",
    "print('MBSGDRegressor MAE:', opt_sgd_score)"
   ]
  },
  {
   "cell_type": "markdown",
   "metadata": {},
   "source": [
    "### KNN Regression"
   ]
  },
  {
   "cell_type": "markdown",
   "metadata": {},
   "source": [
    "KNNs can also be used for regression and don't require training a model (since we only use data). Because we have a very large dataset, it KNN regression might perform well.\n",
    "\n",
    "That being said, KNNs are also sensitive to unscaled data, as well as data with many features (due to the curse of dimensionality). Therefore, we will used only the scaled, ordinal data here as well."
   ]
  },
  {
   "cell_type": "code",
   "execution_count": null,
   "metadata": {},
   "outputs": [],
   "source": [
    "from cuml.neighbors import KNeighborsRegressor"
   ]
  },
  {
   "cell_type": "markdown",
   "metadata": {},
   "source": [
    "Due to the simplicity of KNN, we only need to test the k-values in our hyperparam search. Since the KNN regressor requires no real train time, we can test many k-values in our grid search."
   ]
  },
  {
   "cell_type": "code",
   "execution_count": null,
   "metadata": {},
   "outputs": [],
   "source": [
    "n_neighbors = list(np.arange(1, 100))\n",
    "\n",
    "hparam_grid = dict(\n",
    "    n_neighbors=n_neighbors,\n",
    ")\n",
    "\n",
    "def_kwargs = dict(\n",
    "    verbose=False,\n",
    ")"
   ]
  },
  {
   "cell_type": "code",
   "execution_count": null,
   "metadata": {},
   "outputs": [
    {
     "name": "stdout",
     "output_type": "stream",
     "text": [
      "Training CV with 3 folds on hparams {'n_neighbors': 1}\n",
      "CV Score: 15975.834725993043\n",
      "Training CV with 3 folds on hparams {'n_neighbors': 2}\n",
      "CV Score: 14492.496787926195\n",
      "Training CV with 3 folds on hparams {'n_neighbors': 3}\n",
      "CV Score: 13854.731727652039\n",
      "Training CV with 3 folds on hparams {'n_neighbors': 4}\n",
      "CV Score: 13558.999188825675\n",
      "Training CV with 3 folds on hparams {'n_neighbors': 5}\n",
      "CV Score: 13363.38026333578\n",
      "Training CV with 3 folds on hparams {'n_neighbors': 6}\n",
      "CV Score: 13218.484661646899\n",
      "Training CV with 3 folds on hparams {'n_neighbors': 7}\n",
      "CV Score: 13122.148907950303\n",
      "Training CV with 3 folds on hparams {'n_neighbors': 8}\n",
      "CV Score: 13044.330554730457\n",
      "Training CV with 3 folds on hparams {'n_neighbors': 9}\n",
      "CV Score: 12994.160171705907\n",
      "Training CV with 3 folds on hparams {'n_neighbors': 10}\n",
      "CV Score: 12954.936878527145\n",
      "Training CV with 3 folds on hparams {'n_neighbors': 11}\n",
      "CV Score: 12918.059344215197\n",
      "Training CV with 3 folds on hparams {'n_neighbors': 12}\n",
      "CV Score: 12893.230926293496\n",
      "Training CV with 3 folds on hparams {'n_neighbors': 13}\n",
      "CV Score: 12871.036419000375\n",
      "Training CV with 3 folds on hparams {'n_neighbors': 14}\n",
      "CV Score: 12847.819706001814\n",
      "Training CV with 3 folds on hparams {'n_neighbors': 15}\n",
      "CV Score: 12836.641517834832\n",
      "Training CV with 3 folds on hparams {'n_neighbors': 16}\n",
      "CV Score: 12831.496256877059\n",
      "Training CV with 3 folds on hparams {'n_neighbors': 17}\n",
      "CV Score: 12820.931408824805\n",
      "Training CV with 3 folds on hparams {'n_neighbors': 18}\n",
      "CV Score: 12809.298053431608\n",
      "Training CV with 3 folds on hparams {'n_neighbors': 19}\n",
      "CV Score: 12803.781044895608\n",
      "Training CV with 3 folds on hparams {'n_neighbors': 20}\n",
      "CV Score: 12801.882016682706\n",
      "Training CV with 3 folds on hparams {'n_neighbors': 21}\n",
      "CV Score: 12795.48541643584\n",
      "Training CV with 3 folds on hparams {'n_neighbors': 22}\n",
      "CV Score: 12797.623877092597\n",
      "Training CV with 3 folds on hparams {'n_neighbors': 23}\n",
      "CV Score: 12793.723181260111\n",
      "Training CV with 3 folds on hparams {'n_neighbors': 24}\n",
      "CV Score: 12788.474411899486\n",
      "Training CV with 3 folds on hparams {'n_neighbors': 25}\n",
      "CV Score: 12788.14960382096\n",
      "Training CV with 3 folds on hparams {'n_neighbors': 26}\n",
      "CV Score: 12790.386931446323\n",
      "Training CV with 3 folds on hparams {'n_neighbors': 27}\n",
      "CV Score: 12789.337931022099\n",
      "Training CV with 3 folds on hparams {'n_neighbors': 28}\n",
      "CV Score: 12794.82659252065\n",
      "Training CV with 3 folds on hparams {'n_neighbors': 29}\n",
      "CV Score: 12789.80166992514\n",
      "Training CV with 3 folds on hparams {'n_neighbors': 30}\n",
      "CV Score: 12787.542603144742\n",
      "Training CV with 3 folds on hparams {'n_neighbors': 31}\n",
      "CV Score: 12792.504355774523\n",
      "Training CV with 3 folds on hparams {'n_neighbors': 32}\n",
      "CV Score: 12793.113535565377\n",
      "Training CV with 3 folds on hparams {'n_neighbors': 33}\n",
      "CV Score: 12795.498605527106\n",
      "Training CV with 3 folds on hparams {'n_neighbors': 34}\n",
      "CV Score: 12794.273839276875\n",
      "Training CV with 3 folds on hparams {'n_neighbors': 35}\n",
      "CV Score: 12798.359146351197\n",
      "Training CV with 3 folds on hparams {'n_neighbors': 36}\n",
      "CV Score: 12803.41079282206\n",
      "Training CV with 3 folds on hparams {'n_neighbors': 37}\n",
      "CV Score: 12806.414753237523\n",
      "Training CV with 3 folds on hparams {'n_neighbors': 38}\n",
      "CV Score: 12807.1858425581\n",
      "Training CV with 3 folds on hparams {'n_neighbors': 39}\n",
      "CV Score: 12803.362864560891\n",
      "Training CV with 3 folds on hparams {'n_neighbors': 40}\n",
      "CV Score: 12805.262657515292\n",
      "Training CV with 3 folds on hparams {'n_neighbors': 41}\n",
      "CV Score: 12807.428284061389\n",
      "Training CV with 3 folds on hparams {'n_neighbors': 42}\n",
      "CV Score: 12806.243849465376\n",
      "Training CV with 3 folds on hparams {'n_neighbors': 43}\n",
      "CV Score: 12803.454128659834\n",
      "Training CV with 3 folds on hparams {'n_neighbors': 44}\n",
      "CV Score: 12809.268323666658\n",
      "Training CV with 3 folds on hparams {'n_neighbors': 45}\n",
      "CV Score: 12810.016002848008\n",
      "Training CV with 3 folds on hparams {'n_neighbors': 46}\n",
      "CV Score: 12807.448404760216\n",
      "Training CV with 3 folds on hparams {'n_neighbors': 47}\n",
      "CV Score: 12810.157341759432\n",
      "Training CV with 3 folds on hparams {'n_neighbors': 48}\n",
      "CV Score: 12813.986476399048\n",
      "Training CV with 3 folds on hparams {'n_neighbors': 49}\n",
      "CV Score: 12816.193100192235\n",
      "Training CV with 3 folds on hparams {'n_neighbors': 50}\n",
      "CV Score: 12813.895172935207\n",
      "Training CV with 3 folds on hparams {'n_neighbors': 51}\n",
      "CV Score: 12815.110918959728\n",
      "Training CV with 3 folds on hparams {'n_neighbors': 52}\n",
      "CV Score: 12817.513532741941\n",
      "Training CV with 3 folds on hparams {'n_neighbors': 53}\n",
      "CV Score: 12816.510682602368\n",
      "Training CV with 3 folds on hparams {'n_neighbors': 54}\n",
      "CV Score: 12816.407319740174\n",
      "Training CV with 3 folds on hparams {'n_neighbors': 55}\n",
      "CV Score: 12816.895920655172\n",
      "Training CV with 3 folds on hparams {'n_neighbors': 56}\n",
      "CV Score: 12819.15144589749\n",
      "Training CV with 3 folds on hparams {'n_neighbors': 57}\n",
      "CV Score: 12821.696325562012\n",
      "Training CV with 3 folds on hparams {'n_neighbors': 58}\n",
      "CV Score: 12823.685939718567\n",
      "Training CV with 3 folds on hparams {'n_neighbors': 59}\n",
      "CV Score: 12824.656584170456\n",
      "Training CV with 3 folds on hparams {'n_neighbors': 60}\n",
      "CV Score: 12825.021699635088\n",
      "Training CV with 3 folds on hparams {'n_neighbors': 61}\n",
      "CV Score: 12825.941413995723\n",
      "Training CV with 3 folds on hparams {'n_neighbors': 62}\n",
      "CV Score: 12828.438727739058\n",
      "Training CV with 3 folds on hparams {'n_neighbors': 63}\n",
      "CV Score: 12829.218575183882\n",
      "Training CV with 3 folds on hparams {'n_neighbors': 64}\n",
      "CV Score: 12830.323126373922\n",
      "Training CV with 3 folds on hparams {'n_neighbors': 65}\n",
      "CV Score: 12833.769018994595\n",
      "Training CV with 3 folds on hparams {'n_neighbors': 66}\n",
      "CV Score: 12835.855644872201\n",
      "Training CV with 3 folds on hparams {'n_neighbors': 67}\n",
      "CV Score: 12837.57230168015\n",
      "Training CV with 3 folds on hparams {'n_neighbors': 68}\n",
      "CV Score: 12837.100842234067\n",
      "Training CV with 3 folds on hparams {'n_neighbors': 69}\n",
      "CV Score: 12837.211644849094\n",
      "Training CV with 3 folds on hparams {'n_neighbors': 70}\n",
      "CV Score: 12838.00709537686\n",
      "Training CV with 3 folds on hparams {'n_neighbors': 71}\n",
      "CV Score: 12841.385466373787\n",
      "Training CV with 3 folds on hparams {'n_neighbors': 72}\n",
      "CV Score: 12842.675566863874\n",
      "Training CV with 3 folds on hparams {'n_neighbors': 73}\n",
      "CV Score: 12844.31466981169\n",
      "Training CV with 3 folds on hparams {'n_neighbors': 74}\n",
      "CV Score: 12845.967049130122\n",
      "Training CV with 3 folds on hparams {'n_neighbors': 75}\n",
      "CV Score: 12845.287119465143\n",
      "Training CV with 3 folds on hparams {'n_neighbors': 76}\n",
      "CV Score: 12846.574629043627\n",
      "Training CV with 3 folds on hparams {'n_neighbors': 77}\n",
      "CV Score: 12847.241874916494\n",
      "Training CV with 3 folds on hparams {'n_neighbors': 78}\n",
      "CV Score: 12849.2924989448\n",
      "Training CV with 3 folds on hparams {'n_neighbors': 79}\n",
      "CV Score: 12850.657142222219\n",
      "Training CV with 3 folds on hparams {'n_neighbors': 80}\n",
      "CV Score: 12851.376037602733\n",
      "Training CV with 3 folds on hparams {'n_neighbors': 81}\n",
      "CV Score: 12851.919400113251\n",
      "Training CV with 3 folds on hparams {'n_neighbors': 82}\n",
      "CV Score: 12851.373827063968\n",
      "Training CV with 3 folds on hparams {'n_neighbors': 83}\n",
      "CV Score: 12852.706441280514\n",
      "Training CV with 3 folds on hparams {'n_neighbors': 84}\n",
      "CV Score: 12853.03610690362\n",
      "Training CV with 3 folds on hparams {'n_neighbors': 85}\n",
      "CV Score: 12853.61913676728\n",
      "Training CV with 3 folds on hparams {'n_neighbors': 86}\n",
      "CV Score: 12854.79721053105\n",
      "Training CV with 3 folds on hparams {'n_neighbors': 87}\n",
      "CV Score: 12857.08774461218\n",
      "Training CV with 3 folds on hparams {'n_neighbors': 88}\n",
      "CV Score: 12857.441761983491\n",
      "Training CV with 3 folds on hparams {'n_neighbors': 89}\n",
      "CV Score: 12858.7084177897\n",
      "Training CV with 3 folds on hparams {'n_neighbors': 90}\n",
      "CV Score: 12859.859954017562\n",
      "Training CV with 3 folds on hparams {'n_neighbors': 91}\n",
      "CV Score: 12860.84864928652\n",
      "Training CV with 3 folds on hparams {'n_neighbors': 92}\n",
      "CV Score: 12862.661032855214\n",
      "Training CV with 3 folds on hparams {'n_neighbors': 93}\n",
      "CV Score: 12864.114873847488\n",
      "Training CV with 3 folds on hparams {'n_neighbors': 94}\n",
      "CV Score: 12865.449639067489\n",
      "Training CV with 3 folds on hparams {'n_neighbors': 95}\n",
      "CV Score: 12869.031862011749\n",
      "Training CV with 3 folds on hparams {'n_neighbors': 96}\n",
      "CV Score: 12871.530233257998\n",
      "Training CV with 3 folds on hparams {'n_neighbors': 97}\n",
      "CV Score: 12871.793247876923\n",
      "Training CV with 3 folds on hparams {'n_neighbors': 98}\n",
      "CV Score: 12872.546701344494\n",
      "Training CV with 3 folds on hparams {'n_neighbors': 99}\n",
      "CV Score: 12873.230274156484\n"
     ]
    }
   ],
   "source": [
    "cv_scores_knn = custom_grid_search(KNeighborsRegressor, hparam_grid, def_kwargs, X_train_scaled_cupy[:,:len(ordinal_cols)], y_train_cupy, folds=3, verbose=1)"
   ]
  },
  {
   "cell_type": "code",
   "execution_count": null,
   "metadata": {},
   "outputs": [
    {
     "name": "stdout",
     "output_type": "stream",
     "text": [
      "{'n_neighbors': 30}\n"
     ]
    }
   ],
   "source": [
    "opt_knn_params = min(cv_scores_knn, key=cv_scores_knn.get)\n",
    "\n",
    "print(opt_knn_params)"
   ]
  },
  {
   "cell_type": "code",
   "execution_count": null,
   "metadata": {},
   "outputs": [
    {
     "data": {
      "text/plain": [
       "KNeighborsRegressor()"
      ]
     },
     "execution_count": 29,
     "metadata": {},
     "output_type": "execute_result"
    }
   ],
   "source": [
    "opt_knn_params = {'n_neighbors': 30}\n",
    "def_kwargs['verbose'] = 2\n",
    "opt_knn_model = KNeighborsRegressor(**opt_knn_params, **def_kwargs)\n",
    "\n",
    "opt_knn_model.fit(X_train_scaled_cupy[:,:len(ordinal_cols)], y_train_cupy)"
   ]
  },
  {
   "cell_type": "markdown",
   "metadata": {},
   "source": [
    "We are able to acheive lower MAE loss than our Linear Regression!"
   ]
  },
  {
   "cell_type": "code",
   "execution_count": null,
   "metadata": {},
   "outputs": [
    {
     "name": "stdout",
     "output_type": "stream",
     "text": [
      "KNeighborsRegressor MAE: 12684.34772671146\n"
     ]
    }
   ],
   "source": [
    "opt_knn_preds = opt_knn_model.predict(X_test_cupy[:,:len(ordinal_cols)])   \n",
    "opt_knn_score = mean_absolute_error(cp.asnumpy(opt_knn_preds), cp.asnumpy(y_test_cupy))     \n",
    "print('KNeighborsRegressor MAE:', opt_knn_score)"
   ]
  },
  {
   "cell_type": "markdown",
   "metadata": {},
   "source": [
    "### Random Forests for Regression"
   ]
  },
  {
   "cell_type": "markdown",
   "metadata": {},
   "source": [
    "Next, we implement Random Forests for regression. Random Forests are an ensemble method which perform well on a host of different problems. Additionally, unlike models like linear regression or KNN regression, random forests are able to handle unscaled and categorical data well. So, we use the whole dataset here."
   ]
  },
  {
   "cell_type": "code",
   "execution_count": null,
   "metadata": {},
   "outputs": [],
   "source": [
    "from cuml.ensemble import RandomForestRegressor as cuRF"
   ]
  },
  {
   "cell_type": "code",
   "execution_count": null,
   "metadata": {},
   "outputs": [],
   "source": [
    "n_estimators = [100, 300, 500, 600]\n",
    "max_depth = [10, 40, 100]\n",
    "min_samples_split = [2, 5, 10]\n",
    "\n",
    "hparam_grid = dict(\n",
    "    n_estimators=n_estimators,\n",
    "    max_depth=max_depth,\n",
    "    min_samples_split=min_samples_split,\n",
    ")\n",
    "\n",
    "def_kwargs = dict(\n",
    "    accuracy_metric='mean_ae',\n",
    "    verbose=False,\n",
    "    random_state=SEED,\n",
    "    n_streams=1,\n",
    ")"
   ]
  },
  {
   "cell_type": "code",
   "execution_count": null,
   "metadata": {},
   "outputs": [
    {
     "name": "stdout",
     "output_type": "stream",
     "text": [
      "Training CV with 3 folds on hparams {'n_estimators': 100, 'max_depth': 10, 'min_samples_split': 2}\n",
      "CV Score: 12262.603246456178\n",
      "Training CV with 3 folds on hparams {'n_estimators': 100, 'max_depth': 10, 'min_samples_split': 5}\n",
      "CV Score: 12258.12945560379\n",
      "Training CV with 3 folds on hparams {'n_estimators': 100, 'max_depth': 10, 'min_samples_split': 10}\n",
      "CV Score: 12250.63613764298\n",
      "Training CV with 3 folds on hparams {'n_estimators': 100, 'max_depth': 40, 'min_samples_split': 2}\n",
      "CV Score: 12050.330507251123\n",
      "Training CV with 3 folds on hparams {'n_estimators': 100, 'max_depth': 40, 'min_samples_split': 5}\n",
      "CV Score: 11982.79636236684\n",
      "Training CV with 3 folds on hparams {'n_estimators': 100, 'max_depth': 40, 'min_samples_split': 10}\n",
      "CV Score: 11896.202565839785\n",
      "Training CV with 3 folds on hparams {'n_estimators': 100, 'max_depth': 100, 'min_samples_split': 2}\n",
      "CV Score: 12050.330782143443\n",
      "Training CV with 3 folds on hparams {'n_estimators': 100, 'max_depth': 100, 'min_samples_split': 5}\n",
      "CV Score: 11982.796468562554\n",
      "Training CV with 3 folds on hparams {'n_estimators': 100, 'max_depth': 100, 'min_samples_split': 10}\n",
      "CV Score: 11896.202565839785\n",
      "Training CV with 3 folds on hparams {'n_estimators': 300, 'max_depth': 10, 'min_samples_split': 2}\n",
      "CV Score: 12267.933520535982\n",
      "Training CV with 3 folds on hparams {'n_estimators': 300, 'max_depth': 10, 'min_samples_split': 5}\n",
      "CV Score: 12262.761485227695\n",
      "Training CV with 3 folds on hparams {'n_estimators': 300, 'max_depth': 10, 'min_samples_split': 10}\n",
      "CV Score: 12253.534869872516\n",
      "Training CV with 3 folds on hparams {'n_estimators': 300, 'max_depth': 40, 'min_samples_split': 2}\n",
      "CV Score: 12027.358765933304\n",
      "Training CV with 3 folds on hparams {'n_estimators': 300, 'max_depth': 40, 'min_samples_split': 5}\n",
      "CV Score: 11960.204914837144\n",
      "Training CV with 3 folds on hparams {'n_estimators': 300, 'max_depth': 40, 'min_samples_split': 10}\n",
      "CV Score: 11878.274885952933\n",
      "Training CV with 3 folds on hparams {'n_estimators': 300, 'max_depth': 100, 'min_samples_split': 2}\n",
      "CV Score: 12027.358713812026\n",
      "Training CV with 3 folds on hparams {'n_estimators': 300, 'max_depth': 100, 'min_samples_split': 5}\n",
      "CV Score: 11960.205226113912\n",
      "Training CV with 3 folds on hparams {'n_estimators': 300, 'max_depth': 100, 'min_samples_split': 10}\n",
      "CV Score: 11878.275374799201\n",
      "Training CV with 3 folds on hparams {'n_estimators': 500, 'max_depth': 10, 'min_samples_split': 2}\n",
      "CV Score: 12265.04699352866\n",
      "Training CV with 3 folds on hparams {'n_estimators': 500, 'max_depth': 10, 'min_samples_split': 5}\n",
      "CV Score: 12260.445383052807\n",
      "Training CV with 3 folds on hparams {'n_estimators': 500, 'max_depth': 10, 'min_samples_split': 10}\n",
      "CV Score: 12250.445806831092\n",
      "Training CV with 3 folds on hparams {'n_estimators': 500, 'max_depth': 40, 'min_samples_split': 2}\n",
      "CV Score: 12017.915814656832\n",
      "Training CV with 3 folds on hparams {'n_estimators': 500, 'max_depth': 40, 'min_samples_split': 5}\n",
      "CV Score: 11952.663534637753\n",
      "Training CV with 3 folds on hparams {'n_estimators': 500, 'max_depth': 40, 'min_samples_split': 10}\n",
      "CV Score: 11871.07265968489\n",
      "Training CV with 3 folds on hparams {'n_estimators': 500, 'max_depth': 100, 'min_samples_split': 2}\n",
      "CV Score: 12017.915574251829\n",
      "Training CV with 3 folds on hparams {'n_estimators': 500, 'max_depth': 100, 'min_samples_split': 5}\n",
      "CV Score: 11952.66371304432\n",
      "Training CV with 3 folds on hparams {'n_estimators': 500, 'max_depth': 100, 'min_samples_split': 10}\n",
      "CV Score: 11871.072952992652\n",
      "Training CV with 3 folds on hparams {'n_estimators': 600, 'max_depth': 10, 'min_samples_split': 2}\n",
      "CV Score: 12264.34822568825\n",
      "Training CV with 3 folds on hparams {'n_estimators': 600, 'max_depth': 10, 'min_samples_split': 5}\n",
      "CV Score: 12260.052136386306\n",
      "Training CV with 3 folds on hparams {'n_estimators': 600, 'max_depth': 10, 'min_samples_split': 10}\n",
      "CV Score: 12249.919887799508\n",
      "Training CV with 3 folds on hparams {'n_estimators': 600, 'max_depth': 40, 'min_samples_split': 2}\n",
      "CV Score: 12015.887775787274\n",
      "Training CV with 3 folds on hparams {'n_estimators': 600, 'max_depth': 40, 'min_samples_split': 5}\n",
      "CV Score: 11951.606848569836\n",
      "Training CV with 3 folds on hparams {'n_estimators': 600, 'max_depth': 40, 'min_samples_split': 10}\n",
      "CV Score: 11870.515225107534\n",
      "Training CV with 3 folds on hparams {'n_estimators': 600, 'max_depth': 100, 'min_samples_split': 2}\n",
      "CV Score: 12015.886890712776\n",
      "Training CV with 3 folds on hparams {'n_estimators': 600, 'max_depth': 100, 'min_samples_split': 5}\n",
      "CV Score: 11951.60714634382\n",
      "Training CV with 3 folds on hparams {'n_estimators': 600, 'max_depth': 100, 'min_samples_split': 10}\n",
      "CV Score: 11870.515664901764\n"
     ]
    }
   ],
   "source": [
    "cv_scores_RF = custom_grid_search(cuRF, hparam_grid, def_kwargs, X_train_cupy, y_train_cupy, folds=3, verbose=1)"
   ]
  },
  {
   "cell_type": "code",
   "execution_count": null,
   "metadata": {},
   "outputs": [
    {
     "name": "stdout",
     "output_type": "stream",
     "text": [
      "{'n_estimators': 600, 'max_depth': 40, 'min_samples_split': 10}\n"
     ]
    }
   ],
   "source": [
    "opt_rf_params = min(cv_scores_RF, key=cv_scores_RF.get)\n",
    "\n",
    "print(opt_rf_params)"
   ]
  },
  {
   "cell_type": "code",
   "execution_count": null,
   "metadata": {},
   "outputs": [
    {
     "data": {
      "text/plain": [
       "RandomForestRegressor()"
      ]
     },
     "execution_count": 31,
     "metadata": {},
     "output_type": "execute_result"
    }
   ],
   "source": [
    "opt_rf_params = {'n_estimators': 600, 'max_depth': 40, 'min_samples_split': 10}\n",
    "def_kwargs['verbose'] = 2\n",
    "opt_rf_model = cuRF(**opt_rf_params, **def_kwargs)\n",
    "\n",
    "opt_rf_model.fit(X_train_cupy, y_train_cupy)"
   ]
  },
  {
   "cell_type": "markdown",
   "metadata": {},
   "source": [
    "As seen below, we achieve lower MAE compared to Linear Regression or KNN regression!"
   ]
  },
  {
   "cell_type": "code",
   "execution_count": null,
   "metadata": {},
   "outputs": [
    {
     "name": "stdout",
     "output_type": "stream",
     "text": [
      "RandomForest MAE: 11737.414786409116\n"
     ]
    }
   ],
   "source": [
    "opt_rf_preds = opt_rf_model.predict(X_test_cupy)   \n",
    "opt_rf_score = mean_absolute_error(cp.asnumpy(opt_rf_preds), cp.asnumpy(y_test_cupy))     \n",
    "print('RandomForest MAE:', opt_rf_score)"
   ]
  },
  {
   "cell_type": "markdown",
   "metadata": {},
   "source": [
    "### XGBoost Regression"
   ]
  },
  {
   "cell_type": "markdown",
   "metadata": {},
   "source": [
    "XGBoost is one of the best-performing classical ML algorithms. Here, we will *not* be using RAPIDS; instead be will be using the [xgboost](https://xgboost.readthedocs.io/en/stable/) library.\n",
    "\n",
    "This library seems much more stable on our machines, and works well with Sklearn's hyperparam search classes. However, there are many hyperparams to test, and some combinations can take a while to train (both because XGBoost is somewhat more complicated than KNN, for example, as well as because CuML seems faster than using Sklearn grid search with `xgboost`). So, we used `RandomizedSearchCV` instead of grid search."
   ]
  },
  {
   "cell_type": "code",
   "execution_count": null,
   "metadata": {},
   "outputs": [],
   "source": [
    "from xgboost import XGBRegressor\n",
    "\n",
    "xg_boost_model = XGBRegressor(\n",
    "    objective= 'reg:absoluteerror',\n",
    "    tree_method='gpu_hist',\n",
    "    nthread=4,\n",
    "    seed=SEED,\n",
    ")\n",
    "\n",
    "params = {\n",
    "    'learning_rate': [0.1, 0.01, 0.05],\n",
    "    'colsample_bytree': [0.6, 0.8, 1.0],\n",
    "    'max_depth': range(2, 10, 1),\n",
    "    'n_estimators': [100, 500, 1000, 2000],\n",
    "    'gamma': [0.5, 1, 1.5, 2, 5],\n",
    "    'subsample': [0.6, 0.8, 1.0],\n",
    "}"
   ]
  },
  {
   "cell_type": "code",
   "execution_count": null,
   "metadata": {},
   "outputs": [],
   "source": [
    "from sklearn.model_selection import RandomizedSearchCV\n",
    "\n",
    "xg_rand_search = RandomizedSearchCV(xg_boost_model, params, n_iter=100,\n",
    "                                    scoring='neg_mean_absolute_error', cv=3,\n",
    "                                    random_state=SEED, verbose=1, refit=True,)"
   ]
  },
  {
   "cell_type": "code",
   "execution_count": null,
   "metadata": {},
   "outputs": [
    {
     "name": "stdout",
     "output_type": "stream",
     "text": [
      "Fitting 3 folds for each of 100 candidates, totalling 300 fits\n"
     ]
    },
    {
     "data": {
      "text/html": [
       "<style>#sk-container-id-1 {color: black;background-color: white;}#sk-container-id-1 pre{padding: 0;}#sk-container-id-1 div.sk-toggleable {background-color: white;}#sk-container-id-1 label.sk-toggleable__label {cursor: pointer;display: block;width: 100%;margin-bottom: 0;padding: 0.3em;box-sizing: border-box;text-align: center;}#sk-container-id-1 label.sk-toggleable__label-arrow:before {content: \"▸\";float: left;margin-right: 0.25em;color: #696969;}#sk-container-id-1 label.sk-toggleable__label-arrow:hover:before {color: black;}#sk-container-id-1 div.sk-estimator:hover label.sk-toggleable__label-arrow:before {color: black;}#sk-container-id-1 div.sk-toggleable__content {max-height: 0;max-width: 0;overflow: hidden;text-align: left;background-color: #f0f8ff;}#sk-container-id-1 div.sk-toggleable__content pre {margin: 0.2em;color: black;border-radius: 0.25em;background-color: #f0f8ff;}#sk-container-id-1 input.sk-toggleable__control:checked~div.sk-toggleable__content {max-height: 200px;max-width: 100%;overflow: auto;}#sk-container-id-1 input.sk-toggleable__control:checked~label.sk-toggleable__label-arrow:before {content: \"▾\";}#sk-container-id-1 div.sk-estimator input.sk-toggleable__control:checked~label.sk-toggleable__label {background-color: #d4ebff;}#sk-container-id-1 div.sk-label input.sk-toggleable__control:checked~label.sk-toggleable__label {background-color: #d4ebff;}#sk-container-id-1 input.sk-hidden--visually {border: 0;clip: rect(1px 1px 1px 1px);clip: rect(1px, 1px, 1px, 1px);height: 1px;margin: -1px;overflow: hidden;padding: 0;position: absolute;width: 1px;}#sk-container-id-1 div.sk-estimator {font-family: monospace;background-color: #f0f8ff;border: 1px dotted black;border-radius: 0.25em;box-sizing: border-box;margin-bottom: 0.5em;}#sk-container-id-1 div.sk-estimator:hover {background-color: #d4ebff;}#sk-container-id-1 div.sk-parallel-item::after {content: \"\";width: 100%;border-bottom: 1px solid gray;flex-grow: 1;}#sk-container-id-1 div.sk-label:hover label.sk-toggleable__label {background-color: #d4ebff;}#sk-container-id-1 div.sk-serial::before {content: \"\";position: absolute;border-left: 1px solid gray;box-sizing: border-box;top: 0;bottom: 0;left: 50%;z-index: 0;}#sk-container-id-1 div.sk-serial {display: flex;flex-direction: column;align-items: center;background-color: white;padding-right: 0.2em;padding-left: 0.2em;position: relative;}#sk-container-id-1 div.sk-item {position: relative;z-index: 1;}#sk-container-id-1 div.sk-parallel {display: flex;align-items: stretch;justify-content: center;background-color: white;position: relative;}#sk-container-id-1 div.sk-item::before, #sk-container-id-1 div.sk-parallel-item::before {content: \"\";position: absolute;border-left: 1px solid gray;box-sizing: border-box;top: 0;bottom: 0;left: 50%;z-index: -1;}#sk-container-id-1 div.sk-parallel-item {display: flex;flex-direction: column;z-index: 1;position: relative;background-color: white;}#sk-container-id-1 div.sk-parallel-item:first-child::after {align-self: flex-end;width: 50%;}#sk-container-id-1 div.sk-parallel-item:last-child::after {align-self: flex-start;width: 50%;}#sk-container-id-1 div.sk-parallel-item:only-child::after {width: 0;}#sk-container-id-1 div.sk-dashed-wrapped {border: 1px dashed gray;margin: 0 0.4em 0.5em 0.4em;box-sizing: border-box;padding-bottom: 0.4em;background-color: white;}#sk-container-id-1 div.sk-label label {font-family: monospace;font-weight: bold;display: inline-block;line-height: 1.2em;}#sk-container-id-1 div.sk-label-container {text-align: center;}#sk-container-id-1 div.sk-container {/* jupyter's `normalize.less` sets `[hidden] { display: none; }` but bootstrap.min.css set `[hidden] { display: none !important; }` so we also need the `!important` here to be able to override the default hidden behavior on the sphinx rendered scikit-learn.org. See: https://github.com/scikit-learn/scikit-learn/issues/21755 */display: inline-block !important;position: relative;}#sk-container-id-1 div.sk-text-repr-fallback {display: none;}</style><div id=\"sk-container-id-1\" class=\"sk-top-container\"><div class=\"sk-text-repr-fallback\"><pre>RandomizedSearchCV(cv=3,\n",
       "                   estimator=XGBRegressor(base_score=None, booster=None,\n",
       "                                          callbacks=None,\n",
       "                                          colsample_bylevel=None,\n",
       "                                          colsample_bynode=None,\n",
       "                                          colsample_bytree=None,\n",
       "                                          early_stopping_rounds=None,\n",
       "                                          enable_categorical=False,\n",
       "                                          eval_metric=None, feature_types=None,\n",
       "                                          gamma=None, gpu_id=None,\n",
       "                                          grow_policy=None,\n",
       "                                          importance_type=None,\n",
       "                                          interaction_constraints=None,\n",
       "                                          learning_rate=...\n",
       "                                          n_estimators=100, n_jobs=None,\n",
       "                                          nthread=4, num_parallel_tree=None,\n",
       "                                          objective=&#x27;reg:absoluteerror&#x27;, ...),\n",
       "                   n_iter=100,\n",
       "                   param_distributions={&#x27;colsample_bytree&#x27;: [0.6, 0.8, 1.0],\n",
       "                                        &#x27;gamma&#x27;: [0.5, 1, 1.5, 2, 5],\n",
       "                                        &#x27;learning_rate&#x27;: [0.1, 0.01, 0.05],\n",
       "                                        &#x27;max_depth&#x27;: range(2, 10),\n",
       "                                        &#x27;n_estimators&#x27;: [100, 500, 1000, 2000],\n",
       "                                        &#x27;subsample&#x27;: [0.6, 0.8, 1.0]},\n",
       "                   random_state=69, scoring=&#x27;neg_mean_absolute_error&#x27;,\n",
       "                   verbose=1)</pre><b>In a Jupyter environment, please rerun this cell to show the HTML representation or trust the notebook. <br />On GitHub, the HTML representation is unable to render, please try loading this page with nbviewer.org.</b></div><div class=\"sk-container\" hidden><div class=\"sk-item sk-dashed-wrapped\"><div class=\"sk-label-container\"><div class=\"sk-label sk-toggleable\"><input class=\"sk-toggleable__control sk-hidden--visually\" id=\"sk-estimator-id-1\" type=\"checkbox\" ><label for=\"sk-estimator-id-1\" class=\"sk-toggleable__label sk-toggleable__label-arrow\">RandomizedSearchCV</label><div class=\"sk-toggleable__content\"><pre>RandomizedSearchCV(cv=3,\n",
       "                   estimator=XGBRegressor(base_score=None, booster=None,\n",
       "                                          callbacks=None,\n",
       "                                          colsample_bylevel=None,\n",
       "                                          colsample_bynode=None,\n",
       "                                          colsample_bytree=None,\n",
       "                                          early_stopping_rounds=None,\n",
       "                                          enable_categorical=False,\n",
       "                                          eval_metric=None, feature_types=None,\n",
       "                                          gamma=None, gpu_id=None,\n",
       "                                          grow_policy=None,\n",
       "                                          importance_type=None,\n",
       "                                          interaction_constraints=None,\n",
       "                                          learning_rate=...\n",
       "                                          n_estimators=100, n_jobs=None,\n",
       "                                          nthread=4, num_parallel_tree=None,\n",
       "                                          objective=&#x27;reg:absoluteerror&#x27;, ...),\n",
       "                   n_iter=100,\n",
       "                   param_distributions={&#x27;colsample_bytree&#x27;: [0.6, 0.8, 1.0],\n",
       "                                        &#x27;gamma&#x27;: [0.5, 1, 1.5, 2, 5],\n",
       "                                        &#x27;learning_rate&#x27;: [0.1, 0.01, 0.05],\n",
       "                                        &#x27;max_depth&#x27;: range(2, 10),\n",
       "                                        &#x27;n_estimators&#x27;: [100, 500, 1000, 2000],\n",
       "                                        &#x27;subsample&#x27;: [0.6, 0.8, 1.0]},\n",
       "                   random_state=69, scoring=&#x27;neg_mean_absolute_error&#x27;,\n",
       "                   verbose=1)</pre></div></div></div><div class=\"sk-parallel\"><div class=\"sk-parallel-item\"><div class=\"sk-item\"><div class=\"sk-label-container\"><div class=\"sk-label sk-toggleable\"><input class=\"sk-toggleable__control sk-hidden--visually\" id=\"sk-estimator-id-2\" type=\"checkbox\" ><label for=\"sk-estimator-id-2\" class=\"sk-toggleable__label sk-toggleable__label-arrow\">estimator: XGBRegressor</label><div class=\"sk-toggleable__content\"><pre>XGBRegressor(base_score=None, booster=None, callbacks=None,\n",
       "             colsample_bylevel=None, colsample_bynode=None,\n",
       "             colsample_bytree=None, early_stopping_rounds=None,\n",
       "             enable_categorical=False, eval_metric=None, feature_types=None,\n",
       "             gamma=None, gpu_id=None, grow_policy=None, importance_type=None,\n",
       "             interaction_constraints=None, learning_rate=None, max_bin=None,\n",
       "             max_cat_threshold=None, max_cat_to_onehot=None,\n",
       "             max_delta_step=None, max_depth=None, max_leaves=None,\n",
       "             min_child_weight=None, missing=nan, monotone_constraints=None,\n",
       "             n_estimators=100, n_jobs=None, nthread=4, num_parallel_tree=None,\n",
       "             objective=&#x27;reg:absoluteerror&#x27;, ...)</pre></div></div></div><div class=\"sk-serial\"><div class=\"sk-item\"><div class=\"sk-estimator sk-toggleable\"><input class=\"sk-toggleable__control sk-hidden--visually\" id=\"sk-estimator-id-3\" type=\"checkbox\" ><label for=\"sk-estimator-id-3\" class=\"sk-toggleable__label sk-toggleable__label-arrow\">XGBRegressor</label><div class=\"sk-toggleable__content\"><pre>XGBRegressor(base_score=None, booster=None, callbacks=None,\n",
       "             colsample_bylevel=None, colsample_bynode=None,\n",
       "             colsample_bytree=None, early_stopping_rounds=None,\n",
       "             enable_categorical=False, eval_metric=None, feature_types=None,\n",
       "             gamma=None, gpu_id=None, grow_policy=None, importance_type=None,\n",
       "             interaction_constraints=None, learning_rate=None, max_bin=None,\n",
       "             max_cat_threshold=None, max_cat_to_onehot=None,\n",
       "             max_delta_step=None, max_depth=None, max_leaves=None,\n",
       "             min_child_weight=None, missing=nan, monotone_constraints=None,\n",
       "             n_estimators=100, n_jobs=None, nthread=4, num_parallel_tree=None,\n",
       "             objective=&#x27;reg:absoluteerror&#x27;, ...)</pre></div></div></div></div></div></div></div></div></div></div>"
      ],
      "text/plain": [
       "RandomizedSearchCV(cv=3,\n",
       "                   estimator=XGBRegressor(base_score=None, booster=None,\n",
       "                                          callbacks=None,\n",
       "                                          colsample_bylevel=None,\n",
       "                                          colsample_bynode=None,\n",
       "                                          colsample_bytree=None,\n",
       "                                          early_stopping_rounds=None,\n",
       "                                          enable_categorical=False,\n",
       "                                          eval_metric=None, feature_types=None,\n",
       "                                          gamma=None, gpu_id=None,\n",
       "                                          grow_policy=None,\n",
       "                                          importance_type=None,\n",
       "                                          interaction_constraints=None,\n",
       "                                          learning_rate=...\n",
       "                                          n_estimators=100, n_jobs=None,\n",
       "                                          nthread=4, num_parallel_tree=None,\n",
       "                                          objective='reg:absoluteerror', ...),\n",
       "                   n_iter=100,\n",
       "                   param_distributions={'colsample_bytree': [0.6, 0.8, 1.0],\n",
       "                                        'gamma': [0.5, 1, 1.5, 2, 5],\n",
       "                                        'learning_rate': [0.1, 0.01, 0.05],\n",
       "                                        'max_depth': range(2, 10),\n",
       "                                        'n_estimators': [100, 500, 1000, 2000],\n",
       "                                        'subsample': [0.6, 0.8, 1.0]},\n",
       "                   random_state=69, scoring='neg_mean_absolute_error',\n",
       "                   verbose=1)"
      ]
     },
     "execution_count": 24,
     "metadata": {},
     "output_type": "execute_result"
    }
   ],
   "source": [
    "xg_rand_search.fit(X_train, y_train)"
   ]
  },
  {
   "cell_type": "code",
   "execution_count": null,
   "metadata": {},
   "outputs": [
    {
     "data": {
      "text/plain": [
       "{'subsample': 0.8,\n",
       " 'n_estimators': 2000,\n",
       " 'max_depth': 2,\n",
       " 'learning_rate': 0.1,\n",
       " 'gamma': 2,\n",
       " 'colsample_bytree': 0.6}"
      ]
     },
     "execution_count": 26,
     "metadata": {},
     "output_type": "execute_result"
    }
   ],
   "source": [
    "xg_rand_search.best_params_"
   ]
  },
  {
   "cell_type": "code",
   "execution_count": null,
   "metadata": {},
   "outputs": [
    {
     "data": {
      "text/html": [
       "<style>#sk-container-id-1 {color: black;background-color: white;}#sk-container-id-1 pre{padding: 0;}#sk-container-id-1 div.sk-toggleable {background-color: white;}#sk-container-id-1 label.sk-toggleable__label {cursor: pointer;display: block;width: 100%;margin-bottom: 0;padding: 0.3em;box-sizing: border-box;text-align: center;}#sk-container-id-1 label.sk-toggleable__label-arrow:before {content: \"▸\";float: left;margin-right: 0.25em;color: #696969;}#sk-container-id-1 label.sk-toggleable__label-arrow:hover:before {color: black;}#sk-container-id-1 div.sk-estimator:hover label.sk-toggleable__label-arrow:before {color: black;}#sk-container-id-1 div.sk-toggleable__content {max-height: 0;max-width: 0;overflow: hidden;text-align: left;background-color: #f0f8ff;}#sk-container-id-1 div.sk-toggleable__content pre {margin: 0.2em;color: black;border-radius: 0.25em;background-color: #f0f8ff;}#sk-container-id-1 input.sk-toggleable__control:checked~div.sk-toggleable__content {max-height: 200px;max-width: 100%;overflow: auto;}#sk-container-id-1 input.sk-toggleable__control:checked~label.sk-toggleable__label-arrow:before {content: \"▾\";}#sk-container-id-1 div.sk-estimator input.sk-toggleable__control:checked~label.sk-toggleable__label {background-color: #d4ebff;}#sk-container-id-1 div.sk-label input.sk-toggleable__control:checked~label.sk-toggleable__label {background-color: #d4ebff;}#sk-container-id-1 input.sk-hidden--visually {border: 0;clip: rect(1px 1px 1px 1px);clip: rect(1px, 1px, 1px, 1px);height: 1px;margin: -1px;overflow: hidden;padding: 0;position: absolute;width: 1px;}#sk-container-id-1 div.sk-estimator {font-family: monospace;background-color: #f0f8ff;border: 1px dotted black;border-radius: 0.25em;box-sizing: border-box;margin-bottom: 0.5em;}#sk-container-id-1 div.sk-estimator:hover {background-color: #d4ebff;}#sk-container-id-1 div.sk-parallel-item::after {content: \"\";width: 100%;border-bottom: 1px solid gray;flex-grow: 1;}#sk-container-id-1 div.sk-label:hover label.sk-toggleable__label {background-color: #d4ebff;}#sk-container-id-1 div.sk-serial::before {content: \"\";position: absolute;border-left: 1px solid gray;box-sizing: border-box;top: 0;bottom: 0;left: 50%;z-index: 0;}#sk-container-id-1 div.sk-serial {display: flex;flex-direction: column;align-items: center;background-color: white;padding-right: 0.2em;padding-left: 0.2em;position: relative;}#sk-container-id-1 div.sk-item {position: relative;z-index: 1;}#sk-container-id-1 div.sk-parallel {display: flex;align-items: stretch;justify-content: center;background-color: white;position: relative;}#sk-container-id-1 div.sk-item::before, #sk-container-id-1 div.sk-parallel-item::before {content: \"\";position: absolute;border-left: 1px solid gray;box-sizing: border-box;top: 0;bottom: 0;left: 50%;z-index: -1;}#sk-container-id-1 div.sk-parallel-item {display: flex;flex-direction: column;z-index: 1;position: relative;background-color: white;}#sk-container-id-1 div.sk-parallel-item:first-child::after {align-self: flex-end;width: 50%;}#sk-container-id-1 div.sk-parallel-item:last-child::after {align-self: flex-start;width: 50%;}#sk-container-id-1 div.sk-parallel-item:only-child::after {width: 0;}#sk-container-id-1 div.sk-dashed-wrapped {border: 1px dashed gray;margin: 0 0.4em 0.5em 0.4em;box-sizing: border-box;padding-bottom: 0.4em;background-color: white;}#sk-container-id-1 div.sk-label label {font-family: monospace;font-weight: bold;display: inline-block;line-height: 1.2em;}#sk-container-id-1 div.sk-label-container {text-align: center;}#sk-container-id-1 div.sk-container {/* jupyter's `normalize.less` sets `[hidden] { display: none; }` but bootstrap.min.css set `[hidden] { display: none !important; }` so we also need the `!important` here to be able to override the default hidden behavior on the sphinx rendered scikit-learn.org. See: https://github.com/scikit-learn/scikit-learn/issues/21755 */display: inline-block !important;position: relative;}#sk-container-id-1 div.sk-text-repr-fallback {display: none;}</style><div id=\"sk-container-id-1\" class=\"sk-top-container\"><div class=\"sk-text-repr-fallback\"><pre>XGBRegressor(base_score=None, booster=None, callbacks=None,\n",
       "             colsample_bylevel=None, colsample_bynode=None,\n",
       "             colsample_bytree=0.6, early_stopping_rounds=None,\n",
       "             enable_categorical=False, eval_metric=None, feature_types=None,\n",
       "             gamma=2, gpu_id=None, grow_policy=None, importance_type=None,\n",
       "             interaction_constraints=None, learning_rate=0.1, max_bin=None,\n",
       "             max_cat_threshold=None, max_cat_to_onehot=None,\n",
       "             max_delta_step=None, max_depth=2, max_leaves=None,\n",
       "             min_child_weight=None, missing=nan, monotone_constraints=None,\n",
       "             n_estimators=2000, n_jobs=None, nthread=4, num_parallel_tree=None,\n",
       "             objective=&#x27;reg:absoluteerror&#x27;, ...)</pre><b>In a Jupyter environment, please rerun this cell to show the HTML representation or trust the notebook. <br />On GitHub, the HTML representation is unable to render, please try loading this page with nbviewer.org.</b></div><div class=\"sk-container\" hidden><div class=\"sk-item\"><div class=\"sk-estimator sk-toggleable\"><input class=\"sk-toggleable__control sk-hidden--visually\" id=\"sk-estimator-id-1\" type=\"checkbox\" checked><label for=\"sk-estimator-id-1\" class=\"sk-toggleable__label sk-toggleable__label-arrow\">XGBRegressor</label><div class=\"sk-toggleable__content\"><pre>XGBRegressor(base_score=None, booster=None, callbacks=None,\n",
       "             colsample_bylevel=None, colsample_bynode=None,\n",
       "             colsample_bytree=0.6, early_stopping_rounds=None,\n",
       "             enable_categorical=False, eval_metric=None, feature_types=None,\n",
       "             gamma=2, gpu_id=None, grow_policy=None, importance_type=None,\n",
       "             interaction_constraints=None, learning_rate=0.1, max_bin=None,\n",
       "             max_cat_threshold=None, max_cat_to_onehot=None,\n",
       "             max_delta_step=None, max_depth=2, max_leaves=None,\n",
       "             min_child_weight=None, missing=nan, monotone_constraints=None,\n",
       "             n_estimators=2000, n_jobs=None, nthread=4, num_parallel_tree=None,\n",
       "             objective=&#x27;reg:absoluteerror&#x27;, ...)</pre></div></div></div></div></div>"
      ],
      "text/plain": [
       "XGBRegressor(base_score=None, booster=None, callbacks=None,\n",
       "             colsample_bylevel=None, colsample_bynode=None,\n",
       "             colsample_bytree=0.6, early_stopping_rounds=None,\n",
       "             enable_categorical=False, eval_metric=None, feature_types=None,\n",
       "             gamma=2, gpu_id=None, grow_policy=None, importance_type=None,\n",
       "             interaction_constraints=None, learning_rate=0.1, max_bin=None,\n",
       "             max_cat_threshold=None, max_cat_to_onehot=None,\n",
       "             max_delta_step=None, max_depth=2, max_leaves=None,\n",
       "             min_child_weight=None, missing=nan, monotone_constraints=None,\n",
       "             n_estimators=2000, n_jobs=None, nthread=4, num_parallel_tree=None,\n",
       "             objective='reg:absoluteerror', ...)"
      ]
     },
     "execution_count": 40,
     "metadata": {},
     "output_type": "execute_result"
    }
   ],
   "source": [
    "opt_xg_boost_model = XGBRegressor(\n",
    "    objective= 'reg:absoluteerror',\n",
    "    tree_method='gpu_hist',\n",
    "    nthread=4,\n",
    "    seed=SEED,\n",
    "    # opt parameters\n",
    "    subsample=0.8,\n",
    "    n_estimators=2000,\n",
    "    max_depth=2,\n",
    "    learning_rate=0.1,\n",
    "    gamma=2,\n",
    "    colsample_bytree=0.6\n",
    ")\n",
    "\n",
    "opt_xg_boost_model.fit(X_train, y_train)"
   ]
  },
  {
   "cell_type": "code",
   "execution_count": null,
   "metadata": {},
   "outputs": [
    {
     "name": "stdout",
     "output_type": "stream",
     "text": [
      "XGBoostRegressor MAE: 11922.813671071091\n"
     ]
    }
   ],
   "source": [
    "opt_xg_boost_preds = opt_xg_boost_model.predict(X_test)\n",
    "opt_xg_boost_score = mean_absolute_error(opt_xg_boost_preds, y_test)\n",
    "print('XGBoostRegressor MAE:', opt_xg_boost_score)"
   ]
  },
  {
   "cell_type": "markdown",
   "metadata": {},
   "source": [
    "### DNN For Regression"
   ]
  },
  {
   "cell_type": "markdown",
   "metadata": {},
   "source": [
    "The above methods all used classical ML methods. Now, we examine whether DL can help better tackle our regression problem.\n",
    "\n",
    "Below, we train a DNN for regression using PyTorch."
   ]
  },
  {
   "cell_type": "code",
   "execution_count": 17,
   "metadata": {},
   "outputs": [],
   "source": [
    "import torch\n",
    "import torch.nn as nn\n",
    "from torch.utils.data import Dataset, DataLoader\n",
    "import torch.nn.functional as F"
   ]
  },
  {
   "cell_type": "code",
   "execution_count": 18,
   "metadata": {},
   "outputs": [
    {
     "data": {
      "text/plain": [
       "device(type='mps')"
      ]
     },
     "execution_count": 18,
     "metadata": {},
     "output_type": "execute_result"
    }
   ],
   "source": [
    "device = torch.device('cuda') if torch.cuda.is_available() else torch.device('mps') if torch.backends.mps.is_available() else torch.device('cpu')\n",
    "\n",
    "device"
   ]
  },
  {
   "cell_type": "markdown",
   "metadata": {},
   "source": [
    "Below we configure a PyTorch Dataset. Later, we will use Dataloaders for efficient batch loading for our data."
   ]
  },
  {
   "cell_type": "code",
   "execution_count": 19,
   "metadata": {},
   "outputs": [],
   "source": [
    "class RealEstateDataset(Dataset):\n",
    "    def __init__(self, X_train, y_train, X_test, y_test, train=True, max_cache_size=800000):\n",
    "        self.df = df\n",
    "        self.train = train\n",
    "\n",
    "        self.X = X_train if self.train else X_test\n",
    "        self.y = y_train if self.train else y_test\n",
    "\n",
    "        self.cache = dict()\n",
    "        self.max_cache_size = max_cache_size\n",
    "\n",
    "    def __getitem__(self, index):\n",
    "\n",
    "        if index in self.cache.keys():\n",
    "            return self.cache[index]\n",
    "\n",
    "        X_sample = torch.tensor(self.X[index]).to(torch.float32).squeeze()\n",
    "        y_sample = torch.tensor(self.y[index]).to(torch.float32).squeeze()\n",
    "\n",
    "        if len(self.cache) >= self.max_cache_size:\n",
    "            self.cache.popitem()\n",
    "\n",
    "        self.cache[index] = (X_sample, y_sample)\n",
    "\n",
    "        return self.cache[index]\n",
    "\n",
    "    def __len__(self):\n",
    "        return len(self.X)"
   ]
  },
  {
   "cell_type": "code",
   "execution_count": 20,
   "metadata": {},
   "outputs": [],
   "source": [
    "train_dataset = RealEstateDataset(X_train_scaled.to_numpy(), y_train.to_numpy(), X_test_scaled.to_numpy(), y_test.to_numpy(), train=True)\n",
    "test_dataset = RealEstateDataset(X_train_scaled.to_numpy(), y_train.to_numpy(), X_test_scaled.to_numpy(), y_test.to_numpy(), train=False)"
   ]
  },
  {
   "cell_type": "markdown",
   "metadata": {},
   "source": [
    "Now we buid our DNN. We use the following considerations:\n",
    "\n",
    "1. We try using both regular and leaky ReLU. While tanh and sigmoid we used for a while in DL, the modern consensus is that [they do not perform as well as simple ReLUs (and their variants)](https://www.aitude.com/comparison-of-sigmoid-tanh-and-relu-activation-functions/).\n",
    "2. We offer an optional implementation for dropout (since they can help improve generalization), but in our testing it simply increases the number of epochs needed to acheive optimality.\n",
    "3. We use He initialization for the weights, the most common initialization for ReLU activatons. Brief testing inicated that fan-in performed better, meaning our forward-pass variances were likely more \"chaotic\" than for our backward passes (most likely because the initial forward pass is performed without any fitting to the data).\n",
    "\n",
    "NOTE: Normally, we'd use a separate validation set for hyperparam tuning, then retrain on train and validation, then test the model on the test set. However, for DNNs, this is not feasible since they take much longer to train. So, instead, we simply use a train and test set."
   ]
  },
  {
   "cell_type": "code",
   "execution_count": 21,
   "metadata": {},
   "outputs": [],
   "source": [
    "class RegressionDNN(nn.Module):\n",
    "    def __init__(self, input_size, fcs=[24, 12, 6, 1], dropout=None, relu='leaky'):\n",
    "        super(RegressionDNN, self).__init__()\n",
    "\n",
    "        self.input_size = input_size\n",
    "        self.fcs = fcs\n",
    "        self.dropout = dropout\n",
    "        self.relu = relu\n",
    "\n",
    "        self.model = nn.Sequential(\n",
    "            *self._make_layers()\n",
    "        )\n",
    "\n",
    "        self.model.apply(self.init_weights)\n",
    "\n",
    "    def _make_layers(self):\n",
    "        layers = [nn.Linear(self.input_size, self.fcs[0])]\n",
    "\n",
    "        for i in range(len(self.fcs) - 1):\n",
    "            if self.relu == 'normal':\n",
    "                layers.append(nn.ReLU())\n",
    "            elif self.relu == 'leaky':\n",
    "                layers.append(nn.LeakyReLU())\n",
    "            if self.dropout is not None:\n",
    "                layers.append(nn.Dropout(self.dropout))\n",
    "            layers.append(nn.Linear(self.fcs[i], self.fcs[i+1]))\n",
    "\n",
    "        return layers\n",
    "    \n",
    "    def init_weights(self, m):\n",
    "        if isinstance(m, nn.Linear):\n",
    "            torch.nn.init.kaiming_uniform_(m.weight, mode='fan_in', nonlinearity='relu')\n",
    "            m.bias.data.fill_(0.01)\n",
    "\n",
    "    def forward(self, x):\n",
    "        return self.model(x).squeeze()"
   ]
  },
  {
   "cell_type": "code",
   "execution_count": 22,
   "metadata": {},
   "outputs": [],
   "source": [
    "BATCH_SIZE = 64\n",
    "EPOCHS = 500\n",
    "DATA_DIMS = train_dataset[0][0].size(0)"
   ]
  },
  {
   "cell_type": "code",
   "execution_count": 23,
   "metadata": {},
   "outputs": [],
   "source": [
    "train_dl = DataLoader(train_dataset, batch_size=BATCH_SIZE, shuffle=True)\n",
    "test_dl = DataLoader(test_dataset, batch_size=BATCH_SIZE)"
   ]
  },
  {
   "cell_type": "markdown",
   "metadata": {},
   "source": [
    "Our train pass includes both a train and validation iteration so we can evaluate generalization as training proceeds (so we can determine when our DNN starts to overfit).\n",
    "\n",
    "We also save our model every epoch so we can load the optimal weights after training concliudes (unlike the other models, training the DNN is quite slow)."
   ]
  },
  {
   "cell_type": "code",
   "execution_count": 32,
   "metadata": {},
   "outputs": [],
   "source": [
    "from tqdm import tqdm\n",
    "import sys\n",
    "from pathlib import Path\n",
    "import os\n",
    "import wandb\n",
    "\n",
    "def save(model, optimizer, save_path='model_checkpoint.pt'):\n",
    "\n",
    "    save_dict = {\n",
    "        'model': model.state_dict(),\n",
    "        'optimizer': optimizer.state_dict(),\n",
    "    }\n",
    "\n",
    "    torch.save(save_dict, save_path)\n",
    "\n",
    "def load(model, optimizer, load_path='model_checkpoint.pt'):\n",
    "\n",
    "    checkpoint = torch.load(load_path, map_location=device)\n",
    "\n",
    "    model.load_state_dict(checkpoint['model'])\n",
    "    optimizer.load_state_dict(checkpoint['optimizer'])\n",
    "\n",
    "    return model, optimizer\n",
    "\n",
    "def train(train_dl, test_dl, epochs=EPOCHS, batch_size=BATCH_SIZE, input_size=DATA_DIMS, print_batch_every=None,\n",
    "          lr=1e-4, dropout=None, opt='adam', relu='normal',\n",
    "          checkpoint_dir='./checkpoints', pretrained_path=None,\n",
    "          logging = False, log_init = False, project_name='Russian-Real-Estate-Regression', group_name='DNN', run_name=None,\n",
    "          model_fcs=None):\n",
    "    \n",
    "    if not os.path.exists(checkpoint_dir):\n",
    "        os.makedirs(checkpoint_dir)\n",
    "\n",
    "    if logging and log_init:\n",
    "        wandb.init(project=project_name, group=group_name, name=run_name, config=dict(\n",
    "            batch_size = batch_size,\n",
    "            epochs = epochs,\n",
    "            fcs = str(model_fcs),\n",
    "            lr = lr,\n",
    "            dropout=dropout,\n",
    "            ReLU=relu,\n",
    "            opt=opt,\n",
    "        ))\n",
    "\n",
    "    model = RegressionDNN(input_size, fcs=model_fcs, dropout=dropout, relu=relu).to(device)\n",
    "    if opt == 'adam':\n",
    "        optimizer = torch.optim.Adam(model.parameters(), lr=lr)\n",
    "    elif opt == 'adamw':\n",
    "        optimizer = torch.optim.AdamW(model.parameters(), lr=lr)\n",
    "\n",
    "    if pretrained_path is not None:\n",
    "        model, optimizer = load(model, optimizer, load_path=pretrained_path)\n",
    "\n",
    "    train_losses = []\n",
    "    test_losses = []\n",
    "\n",
    "    for epoch in tqdm(range(epochs)):\n",
    "\n",
    "        model.train()\n",
    "\n",
    "        batch = 0\n",
    "        train_loss = 0\n",
    "        for data in iter(train_dl):\n",
    "            batch += 1\n",
    "\n",
    "            X, y = data\n",
    "\n",
    "            X = X.to(device)\n",
    "            y = y.to(device)\n",
    "            \n",
    "            optimizer.zero_grad()\n",
    "\n",
    "            pred = model(X)\n",
    "\n",
    "            loss = F.l1_loss(pred, y * 1e-3, reduction='sum')\n",
    "            train_loss += loss\n",
    "\n",
    "            loss.backward()\n",
    "            optimizer.step()\n",
    "\n",
    "            if print_batch_every is not None and ((batch-1) % print_batch_every == 0):\n",
    "                print(f'epoch: {epoch}\\tbatch: {batch}/{len(train_dl)}\\ttrain_loss: {loss.item()}', file=sys.stderr)\n",
    "\n",
    "        train_loss /= len(train_dl.dataset)\n",
    "\n",
    "        model.eval()\n",
    "\n",
    "        with torch.no_grad():\n",
    "\n",
    "            batch = 0\n",
    "            test_loss = 0\n",
    "            for data in iter(test_dl):\n",
    "                batch += 1\n",
    "\n",
    "                X, y = data\n",
    "\n",
    "                X = X.to(device)\n",
    "                y = y.to(device)\n",
    "\n",
    "                pred = model(X)\n",
    "\n",
    "                loss = F.l1_loss(pred, y * 1e-3, reduction='sum')\n",
    "                test_loss += loss\n",
    "\n",
    "                if print_batch_every is not None and ((batch-1) % print_batch_every == 0):\n",
    "                    print(f'epoch: {epoch}\\tbatch: {batch}/{len(test_dl)}\\ttest_loss: {loss.item()}', file=sys.stderr)\n",
    "\n",
    "            test_loss /= len(test_dl.dataset)\n",
    "\n",
    "        save_path = Path(checkpoint_dir) / Path(f'reg_model_{epoch}.pt')\n",
    "        save(model, optimizer, save_path=str(save_path))\n",
    "\n",
    "        train_losses.append(train_loss)\n",
    "        test_losses.append(test_loss)\n",
    "\n",
    "        if logging:\n",
    "            wandb.log({ 'train/loss': train_loss * 1e3, 'test/loss': test_loss * 1e3 })\n",
    "\n",
    "    if logging:\n",
    "        wandb.finish()\n",
    "\n",
    "    return model, train_losses, test_losses"
   ]
  },
  {
   "cell_type": "markdown",
   "metadata": {},
   "source": [
    "For our DNN, we can't run a formal hyperparam search due to the time it takes these models to trian. Instead, we did the following:\n",
    "\n",
    "When selecting hyperparams, we ran 100 epochs using\n",
    "1. different learning rates\n",
    "2. AdamW vs Adam optimizer\n",
    "3. regular ReLU vs leaky ReLU\n",
    "\n",
    "Then, we selected the best-converging model (`1e-4` learning rate, Adam optimizer, with leaky ReLU) for proper training with 500 epochs.\n",
    "\n",
    "<table>\n",
    "    <tr><td colspan='2'>Hparam Testing (100 Epochs)</td></tr>\n",
    "    <tr>\n",
    "        <td><img src='./assets/hparam_train_loss.png' /></td>\n",
    "        <td><img src='./assets/hparam_test_loss.png' /></td>\n",
    "    </tr>\n",
    "    <tr><td colspan='2'>Training (500 Epochs)</td></tr>\n",
    "    <tr>\n",
    "        <td><img src='./assets/train_train_loss.png' /></td>\n",
    "        <td><img src='./assets/train_test_loss.png' /></td>\n",
    "    </tr>\n",
    "</table>\n",
    "\n",
    "It seems our model quickly converges to an optimal solution in about 100 epochs, after which it begins to overfit. So, we choose the version of our model with lowest generalization error (around epoch 100) for our final DNN model."
   ]
  },
  {
   "cell_type": "code",
   "execution_count": null,
   "metadata": {},
   "outputs": [],
   "source": [
    "for lr in [1e-4, 1e-5, 5e-5]:\n",
    "    trained_model, train_losses, test_losses = train(train_dl, test_dl, logging=False, log_init=False,\n",
    "                                project_name='Russian-Real-Estate-Regression', group_name='DNN-Training', run_name=f'adam_leakyrelu_lr={lr}',\n",
    "                                print_batch_every=None, checkpoint_dir=f'./selected-checkpoints/optimal-dnn.pt',\n",
    "                                opt='adam', relu='leaky',\n",
    "                                model_fcs=[128, 256, 256, 256, 1], lr=lr, dropout=None, epochs=500)"
   ]
  },
  {
   "cell_type": "markdown",
   "metadata": {},
   "source": [
    "Finally, we run our model over our test set so we can compare our DNN with our other models."
   ]
  },
  {
   "cell_type": "code",
   "execution_count": 35,
   "metadata": {},
   "outputs": [],
   "source": [
    "def eval(test_dl, model_fcs=[128, 256, 256, 256, 1], input_size=DATA_DIMS, dropout=None, pretrained_path=None):\n",
    "    \n",
    "    model = RegressionDNN(input_size, fcs=model_fcs, dropout=dropout).to(device)\n",
    "    optimizer = torch.optim.Adam(model.parameters(), lr=1e-5)\n",
    "\n",
    "    model, optimizer = load(model, optimizer, load_path=pretrained_path)\n",
    "    \n",
    "    with torch.no_grad():\n",
    "\n",
    "        all_preds = []\n",
    "        batch = 0\n",
    "        test_loss = 0\n",
    "        for data in iter(test_dl):\n",
    "            batch += 1\n",
    "\n",
    "            X, y = data\n",
    "\n",
    "            X = X.to(device)\n",
    "            y = y.to(device)\n",
    "\n",
    "            pred = model(X)\n",
    "            all_preds.append(pred)\n",
    "\n",
    "            loss = F.l1_loss(pred, y * 1e-3, reduction='sum')\n",
    "            test_loss += loss\n",
    "\n",
    "        test_loss /= len(test_dl.dataset)\n",
    "        \n",
    "    return test_loss.item() * 1e3, torch.hstack(all_preds).cpu().numpy() * 1e3"
   ]
  },
  {
   "cell_type": "markdown",
   "metadata": {},
   "source": [
    "Our model seems to perform about in-line Random Forest and XGBoost."
   ]
  },
  {
   "cell_type": "code",
   "execution_count": 36,
   "metadata": {},
   "outputs": [
    {
     "name": "stdout",
     "output_type": "stream",
     "text": [
      "Regression DNN MAE: 11860.313415527344\n"
     ]
    }
   ],
   "source": [
    "opt_dnn_loss, opt_dnn_preds = eval(test_dl, pretrained_path='./selected_checkpoints/optimal-dnn.pt')\n",
    "\n",
    "print('Regression DNN MAE:', opt_dnn_loss)"
   ]
  },
  {
   "cell_type": "markdown",
   "metadata": {},
   "source": [
    "## Performance Analysis of Different Models"
   ]
  },
  {
   "cell_type": "markdown",
   "metadata": {},
   "source": [
    "Recall the MAE test performance for the optimal hyperparams for each regression algorithm:\n",
    "- MB SGB Linear Reg: `13706.061317947917`\n",
    "- Random Forest: `11737.414786409116`\n",
    "- KNN: `12684.34772671146`\n",
    "- XGBoost: `11922.813671071091`\n",
    "- DNN: `11860.313415527344`\n",
    "\n",
    "Recall that the price data is scaled such that MAE has units of US Dollars.\n",
    "\n",
    "We now analyze the peformance of each trained model across the price distribution. The below function create a histogram of the average error (not absolute) for intervals across the price distribution. This way, we can evaluate on what types of real estate each model peforms best."
   ]
  },
  {
   "cell_type": "code",
   "execution_count": 40,
   "metadata": {},
   "outputs": [],
   "source": [
    "# NOTE: delete before turning in\n",
    "opt_sgd_preds = np.loadtxt('./to_delete/opt_sgd_preds.csv')\n",
    "opt_rf_preds = np.loadtxt('./to_delete/opt_rf_preds.csv')\n",
    "opt_knn_preds = np.loadtxt('./to_delete/opt_knn_preds.csv')\n",
    "opt_xg_boost_preds = np.loadtxt('./to_delete/opt_xg_boost_preds.csv')\n",
    "opt_dnn_preds = np.loadtxt('./to_delete/opt_dnn_preds.csv')"
   ]
  },
  {
   "cell_type": "code",
   "execution_count": 41,
   "metadata": {},
   "outputs": [],
   "source": [
    "pred_df = pd.DataFrame()\n",
    "pred_df['Price'] = y_test\n",
    "pred_df['LinReg'] = opt_sgd_preds\n",
    "pred_df['RF'] = opt_rf_preds\n",
    "pred_df['KNN'] = opt_knn_preds\n",
    "pred_df['XGBoost'] = opt_xg_boost_preds\n",
    "pred_df['DNN'] = opt_dnn_preds"
   ]
  },
  {
   "cell_type": "code",
   "execution_count": 42,
   "metadata": {},
   "outputs": [],
   "source": [
    "def generate_plots(pred_df,\n",
    "                models=['LinReg', 'KNN', 'RF', 'XGBoost', 'DNN'],\n",
    "                rows=2, figsize=(20,10),\n",
    "                price_bounds=(0, 200000), step=10000):\n",
    "    import matplotlib.pyplot as plt\n",
    "    import seaborn as sns\n",
    "    import math\n",
    "    from sklearn.metrics import mean_absolute_error\n",
    "\n",
    "    def mae_by_price(price_df, model='RF', price_bounds=price_bounds, step=step):\n",
    "        lb, ub = price_bounds\n",
    "\n",
    "        price_df = price_df[price_df['Price'] >= lb]\n",
    "        price_df = price_df[price_df['Price'] <= ub]\n",
    "\n",
    "        price_bounds = range(lb, ub+step, step)\n",
    "        price_by_range = dict()\n",
    "\n",
    "        for i in range(len(price_bounds) - 1):\n",
    "            low = price_bounds[i]\n",
    "            high = price_bounds[i+1]\n",
    "\n",
    "            curr_df = price_df.copy()\n",
    "            curr_df = curr_df[curr_df['Price'] >= low]\n",
    "            curr_df = curr_df[curr_df['Price'] <= high]\n",
    "\n",
    "            price_by_range[f'{low}-{high}'] = mean_absolute_error(curr_df[model], curr_df['Price'])\n",
    "            # price_by_range[f'{low}-{high}'] = np.mean(curr_df[model] - curr_df['Price'])\n",
    "\n",
    "        price_by_range_df = pd.DataFrame()\n",
    "        price_by_range_df['Ground Truth Price Range'] = price_by_range.keys()\n",
    "        price_by_range_df[f'{model} MAE'] = price_by_range.values()\n",
    "\n",
    "        return price_by_range_df\n",
    "\n",
    "    cols = math.ceil(len(models) / rows)\n",
    "\n",
    "    fig, axes = plt.subplots(\n",
    "        nrows=rows, ncols=cols, sharex=False, sharey=True, figsize=figsize\n",
    "    )\n",
    "\n",
    "    ii, jj = -1, 0\n",
    "    for i, model_name in enumerate(models):\n",
    "        if i % cols == 0:\n",
    "            ii += 1\n",
    "            jj = 0\n",
    "        else:\n",
    "            jj += 1\n",
    "        \n",
    "        plot_df = mae_by_price(pred_df.copy(), model=model_name)\n",
    "\n",
    "        sns.barplot(data=plot_df, x=f'{model_name} MAE', y='Ground Truth Price Range', orient='h', ax=axes[ii, jj])\n",
    "        axes[ii, jj].title.set_text(f'{model_name} MAE by Price')"
   ]
  },
  {
   "cell_type": "markdown",
   "metadata": {},
   "source": [
    "We will analyze the data in two chunks:\n",
    "\n",
    "1. Housing labeled as less than $120,000 US, since a majority of our data seems to be on the cheaper end of our distribution.\n",
    "2. Housing labeled as more than $120,000 US. "
   ]
  },
  {
   "cell_type": "code",
   "execution_count": 54,
   "metadata": {},
   "outputs": [
    {
     "data": {
      "image/png": "[encoded data removed]",
      "text/plain": [
       "<Figure size 2000x1000 with 6 Axes>"
      ]
     },
     "metadata": {},
     "output_type": "display_data"
    }
   ],
   "source": [
    "generate_plots(pred_df.copy(), models=['LinReg', 'KNN', 'RF', 'XGBoost', 'DNN'], price_bounds=(0, 120000), step=5000, rows=2, figsize=(20,10),)\n",
    "plt.show()"
   ]
  },
  {
   "cell_type": "markdown",
   "metadata": {},
   "source": [
    "The above histograms indicate that our models all perform best on housing in the $15,000-70,000 range. However, for extremely cheap housing, or for more expensive housing, our models do not perform as well."
   ]
  },
  {
   "cell_type": "code",
   "execution_count": 55,
   "metadata": {},
   "outputs": [
    {
     "data": {
      "image/png": "[encoded data removed]",
      "text/plain": [
       "<Figure size 2000x1000 with 6 Axes>"
      ]
     },
     "metadata": {},
     "output_type": "display_data"
    }
   ],
   "source": [
    "generate_plots(pred_df, models=['LinReg', 'KNN', 'RF', 'XGBoost', 'DNN'], price_bounds=(120000, 380000), step=20000, rows=2, figsize=(20,10),)\n",
    "plt.show()"
   ]
  },
  {
   "cell_type": "markdown",
   "metadata": {},
   "source": [
    "For particularly expensive housing our model has significant loss, reaching hundreds of thousands of dollars for very expensive housing."
   ]
  },
  {
   "cell_type": "code",
   "execution_count": null,
   "metadata": {},
   "outputs": [],
   "source": [
    "models = ['LinReg', 'KNN', 'RF', 'XGBoost', 'DNN']\n",
    "num_plots = len(models)\n",
    "num_cols = 2\n",
    "num_rows = (num_plots + 1) // num_cols\n",
    "\n",
    "fig, axes = plt.subplots(num_rows, num_cols, figsize=(12, 8))\n",
    "\n",
    "for idx, model_name in enumerate(models):\n",
    "    row_idx = idx // num_cols\n",
    "    col_idx = idx % num_cols\n",
    "    axes[row_idx, col_idx].scatter(y_test, pred_df[model_name], alpha=0.3)\n",
    "    sns.regplot(x=y_test, y=pred_df[model_name], scatter=False, line_kws={'color': 'red'}, ax=axes[row_idx, col_idx])\n",
    "    axes[row_idx, col_idx].set_xlabel('Actual Prices')\n",
    "    axes[row_idx, col_idx].set_ylabel('Predicted Prices')\n",
    "    axes[row_idx, col_idx].set_title(f'Actual vs Predicted Prices: {model_name}')\n",
    "    axes[row_idx, col_idx].set_xlim([0, 2e5])\n",
    "    axes[row_idx, col_idx].set_ylim([0, 2e5])\n",
    "plt.tight_layout()\n",
    "plt.show()"
   ]
  },
  {
   "cell_type": "markdown",
   "metadata": {},
   "source": [
    "This data reveals two key trends:\n",
    "1. Across the board, our models predict best on **cheaper housing**.\n",
    "2. All of our models &mdash; though each with very different learning paradigms and methodology &mdash; perform best on the same data and struggle with the same data."
   ]
  },
  {
   "cell_type": "markdown",
   "metadata": {},
   "source": [
    "# Discussion\n",
    "\n",
    "### Interpreting the result\n",
    "\n",
    "A clear observation is that all of our models perform best on cheaper/standard-price housing. When applied to the real world, our model would be the most useful for the average consumer looking for an afforable place in Moscow. This result was expected, since most of our samples were for real estate with lower value, so of course our model performed better for these data.\n",
    "\n",
    "Additionally, given our results, we conclude that **Moscow real estate price predictions are limited primarly by data quality**. The Russian real estate market is a large, emerging market with houses going up for sale; our dataset reflects this, as it has many, many samples. However, interestingly, all of our models seem to perform similarly on similar price ranges. Linear regression, KNNs, random forests, XGBoost, and DNNs each have different strengths and weaknesses, and each have their own error cases. So, if the high error rates for less-expensive and more-expensive housing were dur to learning methodoly, then each of our trained models would likely show some variability in performance across the price ditribution. However, they do not, which means it's likely the case that our data is limited in feature granularity.\n",
    "\n",
    "Our 3-fold cross-validation seems effective since each model's CV score was not too different than its test score once trained on all the trian data. In other words, the models selected by our CV were still able to generalize well on new data.\n",
    "\n",
    "Addtionally, our best-performing models were random forest, XGBoost, and the DNN. Our random forest and XGBoost models were built on trees, meaning they could learn a piecewise linear descision boundary, and DNNs can universally approximate any function. However, while these three models were our best-performing, they did not drastically outperform our linear regression. This again indicates that our features are likely too simple, and additional features imposing some sort of non-linearity are necessary for more effective prediction.\n",
    "\n",
    "### Limitations\n",
    "\n",
    "Our findings indicate an important need for improved data in Moscow/Russian real estate markets. Because the real estate market in Russia (and, in our case, Moscow specfically) is emerging, data collection is likely not to the same standard as in places like America, where established housing and real-estate services like Zillow have been collecting data on houses for years. To perform better predictive analysis on Moscow real estate prices would require sophisticated data centralization and colletion initiatives which have not been implemented for this data. Once the market has matured more, and as more feature-rich data becomes available, ML and DL methods can be more easily applied for sophisticated predictive analysis.\n",
    "\n",
    "Additionally, our data does not include new costs from 2022 or 2023. Geopolitical and economic tensions in Russia have likely thrown markets like real estate, which is centered around long-term investment, into flux, so our model would likely incorrectly estimate prices for new housing available.\n",
    "\n",
    "Finally, additional hyperparam tuning for XGBoost and more complex DNN strucutres (e.g. very deep NN with skip connections, additional tuning for LeakyReLU, AdamW, etc hyperparams, etc) might result in better performance from these models. However, this sort of hyperparam tuning would require either better computational resources or more time.\n",
    "\n",
    "### Ethics & Privacy\n",
    "\n",
    "- The Russian economy is currently in a volatile position due to the war in Ukraine. If our model were to be used as a source of truth, and if it were too optimistic or pessimistic, we could wrongfully inflate the market or cause people to sell their homes for less than they are truly worth. Real estate investments can make or break one’s livelihood, especially in a turbulent and growing market like Russia, so making sure our model is functional and usable is important.\n",
    "- The dataset doesn’t contain explicit personal information, but it contains information like date and time of listing publication and longitude/latitude location, which could potentially be used to identify individuals.\n",
    "- The data is collected under specific legal provisions, which means it is collected lawfully, but it should be ensured that the use of this data for a machine learning project aligns with the original purpose of data collection.\n",
    "- Any dataset has a potential for systematic biases, which could result in biased outcomes in a machine learning project. It is important to be aware of this and to either adjust the dataset to more fairly represent different groups or adjust the machine learning model to reduce bias in its prediction.\n",
    "\n",
    "### Conclusion\n",
    "\n",
    "Our exploration provides a usable model for price prediction on Moscow real estate, as well as justification for increased data-gathering initiatives to get more fine-grained, feature-rich data in emerging Russian real estate markets. Most famous western housing initiatives have been gathering large stores of data on which to build more complicated models, so higher quality data collection in the Russian real estate industry will likely result in better prediction for housing in 'standard' pricing ranges, as well as better prediction for housing in extreme price ranges.\n",
    "\n",
    "Future work could involve time-series analysis or prediction on other large Russian cities to determine if the above trends found in Moscow are consisten in other parts of Russia."
   ]
  }
 ],
 "metadata": {
  "kernelspec": {
   "display_name": "Python 3 (ipykernel)",
   "language": "python",
   "name": "python3"
  },
  "language_info": {
   "codemirror_mode": {
    "name": "ipython",
    "version": 3
   },
   "file_extension": ".py",
   "mimetype": "text/x-python",
   "name": "python",
   "nbconvert_exporter": "python",
   "pygments_lexer": "ipython3",
   "version": "3.9.13"
  }
 },
 "nbformat": 4,
 "nbformat_minor": 4
}
