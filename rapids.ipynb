{
 "cells": [
  {
   "attachments": {},
   "cell_type": "markdown",
   "metadata": {},
   "source": [
    "# Group 005 Real Estate Analysis"
   ]
  },
  {
   "attachments": {},
   "cell_type": "markdown",
   "metadata": {},
   "source": [
    "## Setup and Load Data"
   ]
  },
  {
   "attachments": {},
   "cell_type": "markdown",
   "metadata": {},
   "source": [
    "First, we retrieve the dataste from https://www.kaggle.com/datasets/mrdaniilak/russia-real-estate-20182021.\n",
    "\n",
    "If using the below cell, make sure you have a Kaggle API token in a `kaggle.json` file in `~/.kaggle/`. Otherwise, please download the data manually and place it under a folder `./data/`."
   ]
  },
  {
   "cell_type": "code",
   "execution_count": 1,
   "metadata": {},
   "outputs": [],
   "source": [
    "# !mkdir data\n",
    "# !kaggle datasets download mrdaniilak/russia-real-estate-20182021\n",
    "# !mv ./russia-real-estate-20182021.zip ./data/russia-real-estate-20182021.zip"
   ]
  },
  {
   "cell_type": "code",
   "execution_count": 2,
   "metadata": {},
   "outputs": [],
   "source": [
    "# import zipfile\n",
    "# with zipfile.ZipFile('./data/russia-real-estate-20182021.zip', 'r') as zip_ref:\n",
    "#     zip_ref.extractall('./data')"
   ]
  },
  {
   "attachments": {},
   "cell_type": "markdown",
   "metadata": {},
   "source": [
    "Now, we may proceed with exploration."
   ]
  },
  {
   "cell_type": "code",
   "execution_count": 3,
   "metadata": {},
   "outputs": [],
   "source": [
    "import pandas as pd\n",
    "import numpy as np\n",
    "import matplotlib.pyplot as plt\n",
    "import seaborn as sns"
   ]
  },
  {
   "cell_type": "code",
   "execution_count": 4,
   "metadata": {},
   "outputs": [],
   "source": [
    "DATA_CSV_PATH = './data/all_v2.csv'\n",
    "\n",
    "# load csv data\n",
    "df = pd.read_csv(DATA_CSV_PATH)\n",
    "\n",
    "# remove duplicate data\n",
    "df = df.drop_duplicates()"
   ]
  },
  {
   "cell_type": "code",
   "execution_count": 5,
   "metadata": {},
   "outputs": [
    {
     "data": {
      "text/html": [
       "<div>\n",
       "<style scoped>\n",
       "    .dataframe tbody tr th:only-of-type {\n",
       "        vertical-align: middle;\n",
       "    }\n",
       "\n",
       "    .dataframe tbody tr th {\n",
       "        vertical-align: top;\n",
       "    }\n",
       "\n",
       "    .dataframe thead th {\n",
       "        text-align: right;\n",
       "    }\n",
       "</style>\n",
       "<table border=\"1\" class=\"dataframe\">\n",
       "  <thead>\n",
       "    <tr style=\"text-align: right;\">\n",
       "      <th></th>\n",
       "      <th>price</th>\n",
       "      <th>date</th>\n",
       "      <th>time</th>\n",
       "      <th>geo_lat</th>\n",
       "      <th>geo_lon</th>\n",
       "      <th>region</th>\n",
       "      <th>building_type</th>\n",
       "      <th>level</th>\n",
       "      <th>levels</th>\n",
       "      <th>rooms</th>\n",
       "      <th>area</th>\n",
       "      <th>kitchen_area</th>\n",
       "      <th>object_type</th>\n",
       "    </tr>\n",
       "  </thead>\n",
       "  <tbody>\n",
       "    <tr>\n",
       "      <th>1698185</th>\n",
       "      <td>2770000</td>\n",
       "      <td>2019-04-29</td>\n",
       "      <td>06:02:15</td>\n",
       "      <td>55.084655</td>\n",
       "      <td>82.643899</td>\n",
       "      <td>9654</td>\n",
       "      <td>1</td>\n",
       "      <td>5</td>\n",
       "      <td>5</td>\n",
       "      <td>3</td>\n",
       "      <td>59.0</td>\n",
       "      <td>7.50</td>\n",
       "      <td>1</td>\n",
       "    </tr>\n",
       "    <tr>\n",
       "      <th>1992021</th>\n",
       "      <td>2300000</td>\n",
       "      <td>2019-06-14</td>\n",
       "      <td>06:19:16</td>\n",
       "      <td>54.946526</td>\n",
       "      <td>82.973030</td>\n",
       "      <td>9654</td>\n",
       "      <td>1</td>\n",
       "      <td>6</td>\n",
       "      <td>10</td>\n",
       "      <td>3</td>\n",
       "      <td>87.0</td>\n",
       "      <td>12.92</td>\n",
       "      <td>11</td>\n",
       "    </tr>\n",
       "    <tr>\n",
       "      <th>3850665</th>\n",
       "      <td>4100000</td>\n",
       "      <td>2020-06-05</td>\n",
       "      <td>14:39:50</td>\n",
       "      <td>47.248999</td>\n",
       "      <td>39.699220</td>\n",
       "      <td>3230</td>\n",
       "      <td>3</td>\n",
       "      <td>8</td>\n",
       "      <td>17</td>\n",
       "      <td>2</td>\n",
       "      <td>80.0</td>\n",
       "      <td>20.00</td>\n",
       "      <td>11</td>\n",
       "    </tr>\n",
       "    <tr>\n",
       "      <th>1014296</th>\n",
       "      <td>1700000</td>\n",
       "      <td>2019-01-27</td>\n",
       "      <td>11:15:48</td>\n",
       "      <td>56.353417</td>\n",
       "      <td>61.976603</td>\n",
       "      <td>6171</td>\n",
       "      <td>1</td>\n",
       "      <td>1</td>\n",
       "      <td>5</td>\n",
       "      <td>3</td>\n",
       "      <td>59.0</td>\n",
       "      <td>8.00</td>\n",
       "      <td>1</td>\n",
       "    </tr>\n",
       "    <tr>\n",
       "      <th>5219591</th>\n",
       "      <td>37900000</td>\n",
       "      <td>2021-03-25</td>\n",
       "      <td>20:51:34</td>\n",
       "      <td>59.962480</td>\n",
       "      <td>30.310253</td>\n",
       "      <td>2661</td>\n",
       "      <td>3</td>\n",
       "      <td>5</td>\n",
       "      <td>6</td>\n",
       "      <td>5</td>\n",
       "      <td>211.0</td>\n",
       "      <td>27.00</td>\n",
       "      <td>1</td>\n",
       "    </tr>\n",
       "  </tbody>\n",
       "</table>\n",
       "</div>"
      ],
      "text/plain": [
       "            price        date      time    geo_lat    geo_lon  region  \\\n",
       "1698185   2770000  2019-04-29  06:02:15  55.084655  82.643899    9654   \n",
       "1992021   2300000  2019-06-14  06:19:16  54.946526  82.973030    9654   \n",
       "3850665   4100000  2020-06-05  14:39:50  47.248999  39.699220    3230   \n",
       "1014296   1700000  2019-01-27  11:15:48  56.353417  61.976603    6171   \n",
       "5219591  37900000  2021-03-25  20:51:34  59.962480  30.310253    2661   \n",
       "\n",
       "         building_type  level  levels  rooms   area  kitchen_area  object_type  \n",
       "1698185              1      5       5      3   59.0          7.50            1  \n",
       "1992021              1      6      10      3   87.0         12.92           11  \n",
       "3850665              3      8      17      2   80.0         20.00           11  \n",
       "1014296              1      1       5      3   59.0          8.00            1  \n",
       "5219591              3      5       6      5  211.0         27.00            1  "
      ]
     },
     "execution_count": 5,
     "metadata": {},
     "output_type": "execute_result"
    }
   ],
   "source": [
    "df.sample(5)"
   ]
  },
  {
   "attachments": {},
   "cell_type": "markdown",
   "metadata": {},
   "source": [
    "Note that this Kaggle Dataset was originally pulled from GeoNames (http://www.geonames.org/), which has its own \"regions\" separated by county. Our city of interest, Moscow, has ID 81.\n",
    "\n",
    "Addtionally, we will give categorical data appropriate labels given by the dataset spec."
   ]
  },
  {
   "cell_type": "code",
   "execution_count": 6,
   "metadata": {},
   "outputs": [],
   "source": [
    "MOSCOW_CODE = 81\n",
    "MAX_NUM_SAMPLES = 100000\n",
    "SEED = 69\n",
    "\n",
    "moscow_df = df.loc[df['region'] == MOSCOW_CODE]\n",
    "moscow_df = moscow_df.drop(['time', 'geo_lat', 'geo_lon', 'region'], axis=1)\n",
    "moscow_df['date'] = moscow_df['date'].apply(lambda x: int(x[:4]))\n",
    "\n",
    "moscow_df['object_type'] = moscow_df['object_type'].replace(1, 'preowned').replace(11, 'new')\n",
    "moscow_df['building_type'] = moscow_df['building_type'].replace(0, 'other').replace(1, 'panel').replace(2, 'monolithic').replace(3, 'brick').replace(4, 'blocky').replace(5, 'wooden')\n",
    "\n",
    "# -1 means studio apartment, so we replace with 0 (since studio apartments have no extra rooms)\n",
    "# there are not other datapoints with value 0\n",
    "moscow_df['rooms'] = moscow_df['rooms'].replace(-1, 0)\n",
    "\n",
    "# remove rows with errorneous data\n",
    "moscow_df = moscow_df[moscow_df['price'] >= 0]\n",
    "moscow_df = moscow_df[moscow_df['rooms'] >= 0]\n",
    "moscow_df['price'] = moscow_df['price'] * 1e-4\n",
    "\n",
    "# cap number of elements\n",
    "moscow_df = moscow_df.sample(MAX_NUM_SAMPLES, random_state=SEED)"
   ]
  },
  {
   "cell_type": "code",
   "execution_count": 7,
   "metadata": {},
   "outputs": [
    {
     "data": {
      "text/plain": [
       "False"
      ]
     },
     "execution_count": 7,
     "metadata": {},
     "output_type": "execute_result"
    }
   ],
   "source": [
    "moscow_df.isnull().values.any()"
   ]
  },
  {
   "cell_type": "code",
   "execution_count": 8,
   "metadata": {},
   "outputs": [
    {
     "data": {
      "text/html": [
       "<div>\n",
       "<style scoped>\n",
       "    .dataframe tbody tr th:only-of-type {\n",
       "        vertical-align: middle;\n",
       "    }\n",
       "\n",
       "    .dataframe tbody tr th {\n",
       "        vertical-align: top;\n",
       "    }\n",
       "\n",
       "    .dataframe thead th {\n",
       "        text-align: right;\n",
       "    }\n",
       "</style>\n",
       "<table border=\"1\" class=\"dataframe\">\n",
       "  <thead>\n",
       "    <tr style=\"text-align: right;\">\n",
       "      <th></th>\n",
       "      <th>price</th>\n",
       "      <th>date</th>\n",
       "      <th>building_type</th>\n",
       "      <th>level</th>\n",
       "      <th>levels</th>\n",
       "      <th>rooms</th>\n",
       "      <th>area</th>\n",
       "      <th>kitchen_area</th>\n",
       "      <th>object_type</th>\n",
       "    </tr>\n",
       "  </thead>\n",
       "  <tbody>\n",
       "    <tr>\n",
       "      <th>1334571</th>\n",
       "      <td>750.000</td>\n",
       "      <td>2019</td>\n",
       "      <td>brick</td>\n",
       "      <td>6</td>\n",
       "      <td>9</td>\n",
       "      <td>3</td>\n",
       "      <td>67.1</td>\n",
       "      <td>6.7</td>\n",
       "      <td>preowned</td>\n",
       "    </tr>\n",
       "    <tr>\n",
       "      <th>3056085</th>\n",
       "      <td>748.619</td>\n",
       "      <td>2019</td>\n",
       "      <td>monolithic</td>\n",
       "      <td>5</td>\n",
       "      <td>9</td>\n",
       "      <td>3</td>\n",
       "      <td>77.9</td>\n",
       "      <td>22.0</td>\n",
       "      <td>new</td>\n",
       "    </tr>\n",
       "    <tr>\n",
       "      <th>2534493</th>\n",
       "      <td>890.000</td>\n",
       "      <td>2019</td>\n",
       "      <td>monolithic</td>\n",
       "      <td>10</td>\n",
       "      <td>18</td>\n",
       "      <td>2</td>\n",
       "      <td>60.3</td>\n",
       "      <td>22.0</td>\n",
       "      <td>new</td>\n",
       "    </tr>\n",
       "    <tr>\n",
       "      <th>263001</th>\n",
       "      <td>723.294</td>\n",
       "      <td>2018</td>\n",
       "      <td>panel</td>\n",
       "      <td>12</td>\n",
       "      <td>14</td>\n",
       "      <td>3</td>\n",
       "      <td>85.8</td>\n",
       "      <td>18.6</td>\n",
       "      <td>new</td>\n",
       "    </tr>\n",
       "    <tr>\n",
       "      <th>4690270</th>\n",
       "      <td>725.000</td>\n",
       "      <td>2020</td>\n",
       "      <td>panel</td>\n",
       "      <td>9</td>\n",
       "      <td>17</td>\n",
       "      <td>2</td>\n",
       "      <td>51.7</td>\n",
       "      <td>9.0</td>\n",
       "      <td>preowned</td>\n",
       "    </tr>\n",
       "  </tbody>\n",
       "</table>\n",
       "</div>"
      ],
      "text/plain": [
       "           price  date building_type  level  levels  rooms  area  \\\n",
       "1334571  750.000  2019         brick      6       9      3  67.1   \n",
       "3056085  748.619  2019    monolithic      5       9      3  77.9   \n",
       "2534493  890.000  2019    monolithic     10      18      2  60.3   \n",
       "263001   723.294  2018         panel     12      14      3  85.8   \n",
       "4690270  725.000  2020         panel      9      17      2  51.7   \n",
       "\n",
       "         kitchen_area object_type  \n",
       "1334571           6.7    preowned  \n",
       "3056085          22.0         new  \n",
       "2534493          22.0         new  \n",
       "263001           18.6         new  \n",
       "4690270           9.0    preowned  "
      ]
     },
     "execution_count": 8,
     "metadata": {},
     "output_type": "execute_result"
    }
   ],
   "source": [
    "moscow_df.sample(5)"
   ]
  },
  {
   "attachments": {},
   "cell_type": "markdown",
   "metadata": {},
   "source": [
    "# Exploration"
   ]
  },
  {
   "attachments": {},
   "cell_type": "markdown",
   "metadata": {},
   "source": [
    "First, we'll look at the data distributions for the ordinal data."
   ]
  },
  {
   "cell_type": "code",
   "execution_count": 9,
   "metadata": {},
   "outputs": [
    {
     "data": {
      "text/html": [
       "<div>\n",
       "<style scoped>\n",
       "    .dataframe tbody tr th:only-of-type {\n",
       "        vertical-align: middle;\n",
       "    }\n",
       "\n",
       "    .dataframe tbody tr th {\n",
       "        vertical-align: top;\n",
       "    }\n",
       "\n",
       "    .dataframe thead th {\n",
       "        text-align: right;\n",
       "    }\n",
       "</style>\n",
       "<table border=\"1\" class=\"dataframe\">\n",
       "  <thead>\n",
       "    <tr style=\"text-align: right;\">\n",
       "      <th></th>\n",
       "      <th>price</th>\n",
       "      <th>date</th>\n",
       "      <th>level</th>\n",
       "      <th>levels</th>\n",
       "      <th>rooms</th>\n",
       "      <th>area</th>\n",
       "      <th>kitchen_area</th>\n",
       "    </tr>\n",
       "  </thead>\n",
       "  <tbody>\n",
       "    <tr>\n",
       "      <th>count</th>\n",
       "      <td>100000.000000</td>\n",
       "      <td>100000.000000</td>\n",
       "      <td>100000.000000</td>\n",
       "      <td>100000.000000</td>\n",
       "      <td>100000.000000</td>\n",
       "      <td>100000.000000</td>\n",
       "      <td>100000.000000</td>\n",
       "    </tr>\n",
       "    <tr>\n",
       "      <th>mean</th>\n",
       "      <td>475.638567</td>\n",
       "      <td>2019.310120</td>\n",
       "      <td>7.053700</td>\n",
       "      <td>12.752370</td>\n",
       "      <td>1.776320</td>\n",
       "      <td>51.592710</td>\n",
       "      <td>10.362995</td>\n",
       "    </tr>\n",
       "    <tr>\n",
       "      <th>std</th>\n",
       "      <td>296.411050</td>\n",
       "      <td>0.880621</td>\n",
       "      <td>5.692804</td>\n",
       "      <td>7.411351</td>\n",
       "      <td>0.862656</td>\n",
       "      <td>21.748209</td>\n",
       "      <td>6.834285</td>\n",
       "    </tr>\n",
       "    <tr>\n",
       "      <th>min</th>\n",
       "      <td>0.150000</td>\n",
       "      <td>2018.000000</td>\n",
       "      <td>1.000000</td>\n",
       "      <td>1.000000</td>\n",
       "      <td>0.000000</td>\n",
       "      <td>2.400000</td>\n",
       "      <td>0.120000</td>\n",
       "    </tr>\n",
       "    <tr>\n",
       "      <th>25%</th>\n",
       "      <td>300.000000</td>\n",
       "      <td>2019.000000</td>\n",
       "      <td>3.000000</td>\n",
       "      <td>5.000000</td>\n",
       "      <td>1.000000</td>\n",
       "      <td>38.000000</td>\n",
       "      <td>7.000000</td>\n",
       "    </tr>\n",
       "    <tr>\n",
       "      <th>50%</th>\n",
       "      <td>430.000000</td>\n",
       "      <td>2019.000000</td>\n",
       "      <td>5.000000</td>\n",
       "      <td>12.000000</td>\n",
       "      <td>2.000000</td>\n",
       "      <td>46.000000</td>\n",
       "      <td>9.700000</td>\n",
       "    </tr>\n",
       "    <tr>\n",
       "      <th>75%</th>\n",
       "      <td>595.000000</td>\n",
       "      <td>2020.000000</td>\n",
       "      <td>10.000000</td>\n",
       "      <td>17.000000</td>\n",
       "      <td>2.000000</td>\n",
       "      <td>61.900000</td>\n",
       "      <td>12.000000</td>\n",
       "    </tr>\n",
       "    <tr>\n",
       "      <th>max</th>\n",
       "      <td>29774.130000</td>\n",
       "      <td>2021.000000</td>\n",
       "      <td>36.000000</td>\n",
       "      <td>38.000000</td>\n",
       "      <td>9.000000</td>\n",
       "      <td>997.000000</td>\n",
       "      <td>1131.000000</td>\n",
       "    </tr>\n",
       "  </tbody>\n",
       "</table>\n",
       "</div>"
      ],
      "text/plain": [
       "               price           date          level         levels  \\\n",
       "count  100000.000000  100000.000000  100000.000000  100000.000000   \n",
       "mean      475.638567    2019.310120       7.053700      12.752370   \n",
       "std       296.411050       0.880621       5.692804       7.411351   \n",
       "min         0.150000    2018.000000       1.000000       1.000000   \n",
       "25%       300.000000    2019.000000       3.000000       5.000000   \n",
       "50%       430.000000    2019.000000       5.000000      12.000000   \n",
       "75%       595.000000    2020.000000      10.000000      17.000000   \n",
       "max     29774.130000    2021.000000      36.000000      38.000000   \n",
       "\n",
       "               rooms           area   kitchen_area  \n",
       "count  100000.000000  100000.000000  100000.000000  \n",
       "mean        1.776320      51.592710      10.362995  \n",
       "std         0.862656      21.748209       6.834285  \n",
       "min         0.000000       2.400000       0.120000  \n",
       "25%         1.000000      38.000000       7.000000  \n",
       "50%         2.000000      46.000000       9.700000  \n",
       "75%         2.000000      61.900000      12.000000  \n",
       "max         9.000000     997.000000    1131.000000  "
      ]
     },
     "execution_count": 9,
     "metadata": {},
     "output_type": "execute_result"
    }
   ],
   "source": [
    "moscow_df.describe()"
   ]
  },
  {
   "attachments": {},
   "cell_type": "markdown",
   "metadata": {},
   "source": [
    "Each column is skewed right, meaning we have some extreme outliers for each column. This is because in the real estate market, while most \"normal\" places have a similar price, the price ceiling for real estate can be very high. While these outliers are sparse, they could still bias our model."
   ]
  },
  {
   "attachments": {},
   "cell_type": "markdown",
   "metadata": {},
   "source": [
    "Next, we can plot each variable against price to look for possible correlations. We will only looks at data points with price less than $2 \\cdot 10^7$ to get better plots by removing price outliers. We will also plot regression lines for each to quantify per-variable correlation strength."
   ]
  },
  {
   "cell_type": "code",
   "execution_count": 10,
   "metadata": {},
   "outputs": [
    {
     "data": {
      "image/png": "[encoded data removed]",
      "text/plain": [
       "<Figure size 1750x250 with 8 Axes>"
      ]
     },
     "metadata": {},
     "output_type": "display_data"
    }
   ],
   "source": [
    "from scipy.stats import linregress\n",
    "\n",
    "def calc_R2(x, y, ax=None, **kwargs):\n",
    "    ax = ax or plt.gca()\n",
    "    _, _, r_value, _, _ = linregress(x=x, y=y)\n",
    "    ax.annotate(f'$R^2 = {r_value ** 2:.2f}$', xy=(.05, 1), xycoords=ax.transAxes, fontsize=8, ha='left', va='top')\n",
    "\n",
    "g = sns.pairplot(moscow_df.loc[moscow_df['price'] < 2e7].sample(1000), kind='reg', y_vars=['price'], plot_kws={'line_kws':{'color':'red'}})\n",
    "\n",
    "g.map_upper(calc_R2)\n",
    "plt.show()"
   ]
  },
  {
   "attachments": {},
   "cell_type": "markdown",
   "metadata": {},
   "source": [
    "Data and level have near-zero correlations. The number of levels in the building (i.e. building size) and number of rooms, as well have kitchen area, seem like te might have some signidicance. The most important (single) variable seems to be area. However, even here we don't have a strong correlation. Hopefully combining these variables into a multivariate regression will lead to stronger correlation.\n",
    "\n",
    "Additionally, all of the correlations seem to be closest to linear (as opposed to some polynomial fit). So, a polynomial regression may not perform better than a linear regression.\n",
    "\n",
    "However, in the above we only use about 1000 samples (for efficiency). We can see these correlation results across the dataset more easily with a heatmap:"
   ]
  },
  {
   "cell_type": "code",
   "execution_count": 11,
   "metadata": {},
   "outputs": [
    {
     "data": {
      "text/plain": [
       "<Axes: >"
      ]
     },
     "execution_count": 11,
     "metadata": {},
     "output_type": "execute_result"
    },
    {
     "data": {
      "image/png": "[encoded data removed]",
      "text/plain": [
       "<Figure size 640x480 with 2 Axes>"
      ]
     },
     "metadata": {},
     "output_type": "display_data"
    }
   ],
   "source": [
    "sns.heatmap(moscow_df.drop(['building_type', 'object_type'], axis=1).corr(), annot=True)"
   ]
  },
  {
   "attachments": {},
   "cell_type": "markdown",
   "metadata": {},
   "source": [
    "Notably, `date` and `level` have a stronger correlation than from our 1000 samples, but each individual variable still does not have a strong enough correlation for prediction.\n",
    "\n",
    "Thus, we proceed to fitting some models."
   ]
  },
  {
   "attachments": {},
   "cell_type": "markdown",
   "metadata": {},
   "source": [
    "## Model Fitting"
   ]
  },
  {
   "cell_type": "code",
   "execution_count": 12,
   "metadata": {},
   "outputs": [
    {
     "name": "stdout",
     "output_type": "stream",
     "text": [
      "70000 train samples; 30000 test samples\n"
     ]
    }
   ],
   "source": [
    "from sklearn.model_selection import train_test_split\n",
    "\n",
    "X = moscow_df[['date', 'building_type', 'level', 'levels', 'rooms', 'area', 'kitchen_area', 'object_type']]\n",
    "y = moscow_df['price']\n",
    "\n",
    "X_train, X_test, y_train, y_test = train_test_split(X, y, test_size=0.3, random_state=SEED)\n",
    "\n",
    "print(f'{len(y_train)} train samples; {len(y_test)} test samples')"
   ]
  },
  {
   "attachments": {},
   "cell_type": "markdown",
   "metadata": {},
   "source": [
    "Now, we will one-hot the categorical data using sklearn's one hot encoder."
   ]
  },
  {
   "cell_type": "code",
   "execution_count": 13,
   "metadata": {},
   "outputs": [
    {
     "data": {
      "text/html": [
       "<div>\n",
       "<style scoped>\n",
       "    .dataframe tbody tr th:only-of-type {\n",
       "        vertical-align: middle;\n",
       "    }\n",
       "\n",
       "    .dataframe tbody tr th {\n",
       "        vertical-align: top;\n",
       "    }\n",
       "\n",
       "    .dataframe thead th {\n",
       "        text-align: right;\n",
       "    }\n",
       "</style>\n",
       "<table border=\"1\" class=\"dataframe\">\n",
       "  <thead>\n",
       "    <tr style=\"text-align: right;\">\n",
       "      <th></th>\n",
       "      <th>date</th>\n",
       "      <th>level</th>\n",
       "      <th>levels</th>\n",
       "      <th>rooms</th>\n",
       "      <th>area</th>\n",
       "      <th>kitchen_area</th>\n",
       "      <th>blocky</th>\n",
       "      <th>brick</th>\n",
       "      <th>monolithic</th>\n",
       "      <th>other</th>\n",
       "      <th>panel</th>\n",
       "      <th>wooden</th>\n",
       "      <th>new</th>\n",
       "      <th>preowned</th>\n",
       "    </tr>\n",
       "  </thead>\n",
       "  <tbody>\n",
       "    <tr>\n",
       "      <th>1220467</th>\n",
       "      <td>2019</td>\n",
       "      <td>14</td>\n",
       "      <td>16</td>\n",
       "      <td>0</td>\n",
       "      <td>26.0</td>\n",
       "      <td>5.0</td>\n",
       "      <td>0.0</td>\n",
       "      <td>0.0</td>\n",
       "      <td>1.0</td>\n",
       "      <td>0.0</td>\n",
       "      <td>0.0</td>\n",
       "      <td>0.0</td>\n",
       "      <td>0.0</td>\n",
       "      <td>1.0</td>\n",
       "    </tr>\n",
       "    <tr>\n",
       "      <th>1142562</th>\n",
       "      <td>2019</td>\n",
       "      <td>11</td>\n",
       "      <td>17</td>\n",
       "      <td>3</td>\n",
       "      <td>82.1</td>\n",
       "      <td>11.0</td>\n",
       "      <td>0.0</td>\n",
       "      <td>0.0</td>\n",
       "      <td>1.0</td>\n",
       "      <td>0.0</td>\n",
       "      <td>0.0</td>\n",
       "      <td>0.0</td>\n",
       "      <td>0.0</td>\n",
       "      <td>1.0</td>\n",
       "    </tr>\n",
       "    <tr>\n",
       "      <th>4125605</th>\n",
       "      <td>2020</td>\n",
       "      <td>6</td>\n",
       "      <td>9</td>\n",
       "      <td>3</td>\n",
       "      <td>76.0</td>\n",
       "      <td>8.0</td>\n",
       "      <td>0.0</td>\n",
       "      <td>0.0</td>\n",
       "      <td>0.0</td>\n",
       "      <td>0.0</td>\n",
       "      <td>1.0</td>\n",
       "      <td>0.0</td>\n",
       "      <td>0.0</td>\n",
       "      <td>1.0</td>\n",
       "    </tr>\n",
       "    <tr>\n",
       "      <th>2260584</th>\n",
       "      <td>2019</td>\n",
       "      <td>2</td>\n",
       "      <td>7</td>\n",
       "      <td>1</td>\n",
       "      <td>36.0</td>\n",
       "      <td>10.0</td>\n",
       "      <td>0.0</td>\n",
       "      <td>0.0</td>\n",
       "      <td>1.0</td>\n",
       "      <td>0.0</td>\n",
       "      <td>0.0</td>\n",
       "      <td>0.0</td>\n",
       "      <td>0.0</td>\n",
       "      <td>1.0</td>\n",
       "    </tr>\n",
       "    <tr>\n",
       "      <th>3465715</th>\n",
       "      <td>2020</td>\n",
       "      <td>3</td>\n",
       "      <td>4</td>\n",
       "      <td>1</td>\n",
       "      <td>33.0</td>\n",
       "      <td>7.5</td>\n",
       "      <td>0.0</td>\n",
       "      <td>1.0</td>\n",
       "      <td>0.0</td>\n",
       "      <td>0.0</td>\n",
       "      <td>0.0</td>\n",
       "      <td>0.0</td>\n",
       "      <td>0.0</td>\n",
       "      <td>1.0</td>\n",
       "    </tr>\n",
       "  </tbody>\n",
       "</table>\n",
       "</div>"
      ],
      "text/plain": [
       "         date  level  levels  rooms  area  kitchen_area  blocky  brick  \\\n",
       "1220467  2019     14      16      0  26.0           5.0     0.0    0.0   \n",
       "1142562  2019     11      17      3  82.1          11.0     0.0    0.0   \n",
       "4125605  2020      6       9      3  76.0           8.0     0.0    0.0   \n",
       "2260584  2019      2       7      1  36.0          10.0     0.0    0.0   \n",
       "3465715  2020      3       4      1  33.0           7.5     0.0    1.0   \n",
       "\n",
       "         monolithic  other  panel  wooden  new  preowned  \n",
       "1220467         1.0    0.0    0.0     0.0  0.0       1.0  \n",
       "1142562         1.0    0.0    0.0     0.0  0.0       1.0  \n",
       "4125605         0.0    0.0    1.0     0.0  0.0       1.0  \n",
       "2260584         1.0    0.0    0.0     0.0  0.0       1.0  \n",
       "3465715         0.0    0.0    0.0     0.0  0.0       1.0  "
      ]
     },
     "execution_count": 13,
     "metadata": {},
     "output_type": "execute_result"
    }
   ],
   "source": [
    "from sklearn.preprocessing import OneHotEncoder\n",
    "\n",
    "for col in ['building_type', 'object_type']:\n",
    "\n",
    "    one_hot = OneHotEncoder()\n",
    "    one_hot.fit(X_train[[col]])\n",
    "\n",
    "    X_train.loc[:, one_hot.categories_[0]] = one_hot.transform(X_train[[col]]).todense()\n",
    "    X_test.loc[:, one_hot.categories_[0]] = one_hot.transform(X_test[[col]]).todense()\n",
    "\n",
    "    X_train = X_train.drop(col, axis=1)\n",
    "    X_test = X_test.drop(col, axis=1)\n",
    "\n",
    "X_train.sample(5)"
   ]
  },
  {
   "attachments": {},
   "cell_type": "markdown",
   "metadata": {},
   "source": [
    "Next, we will scale the data. Note that not all models require scaled data; while models like linear regression require scaling to avoid overemphasis of certain datapoints, models like descision trees (and, by extension, random forests) are not affected by unscaled variables.\n",
    "\n",
    "It is also important to note that scaled data won't *negatively* impact descision trees, but we make a copy of scaled data to more explicitly demonstrate model understanding."
   ]
  },
  {
   "cell_type": "code",
   "execution_count": 14,
   "metadata": {},
   "outputs": [
    {
     "data": {
      "text/html": [
       "<div>\n",
       "<style scoped>\n",
       "    .dataframe tbody tr th:only-of-type {\n",
       "        vertical-align: middle;\n",
       "    }\n",
       "\n",
       "    .dataframe tbody tr th {\n",
       "        vertical-align: top;\n",
       "    }\n",
       "\n",
       "    .dataframe thead th {\n",
       "        text-align: right;\n",
       "    }\n",
       "</style>\n",
       "<table border=\"1\" class=\"dataframe\">\n",
       "  <thead>\n",
       "    <tr style=\"text-align: right;\">\n",
       "      <th></th>\n",
       "      <th>date</th>\n",
       "      <th>level</th>\n",
       "      <th>levels</th>\n",
       "      <th>rooms</th>\n",
       "      <th>area</th>\n",
       "      <th>kitchen_area</th>\n",
       "      <th>blocky</th>\n",
       "      <th>brick</th>\n",
       "      <th>monolithic</th>\n",
       "      <th>other</th>\n",
       "      <th>panel</th>\n",
       "      <th>wooden</th>\n",
       "      <th>new</th>\n",
       "      <th>preowned</th>\n",
       "    </tr>\n",
       "  </thead>\n",
       "  <tbody>\n",
       "    <tr>\n",
       "      <th>2578222</th>\n",
       "      <td>-0.350955</td>\n",
       "      <td>0.514697</td>\n",
       "      <td>0.567740</td>\n",
       "      <td>0.257887</td>\n",
       "      <td>-0.006395</td>\n",
       "      <td>-0.131316</td>\n",
       "      <td>0.0</td>\n",
       "      <td>0.0</td>\n",
       "      <td>0.0</td>\n",
       "      <td>0.0</td>\n",
       "      <td>1.0</td>\n",
       "      <td>0.0</td>\n",
       "      <td>1.0</td>\n",
       "      <td>0.0</td>\n",
       "    </tr>\n",
       "    <tr>\n",
       "      <th>3778970</th>\n",
       "      <td>0.784297</td>\n",
       "      <td>2.976847</td>\n",
       "      <td>1.647581</td>\n",
       "      <td>-0.900040</td>\n",
       "      <td>-0.818456</td>\n",
       "      <td>0.040648</td>\n",
       "      <td>0.0</td>\n",
       "      <td>0.0</td>\n",
       "      <td>0.0</td>\n",
       "      <td>0.0</td>\n",
       "      <td>1.0</td>\n",
       "      <td>0.0</td>\n",
       "      <td>1.0</td>\n",
       "      <td>0.0</td>\n",
       "    </tr>\n",
       "    <tr>\n",
       "      <th>1460289</th>\n",
       "      <td>-0.350955</td>\n",
       "      <td>-0.716377</td>\n",
       "      <td>-1.052022</td>\n",
       "      <td>0.257887</td>\n",
       "      <td>0.335766</td>\n",
       "      <td>-0.184227</td>\n",
       "      <td>0.0</td>\n",
       "      <td>1.0</td>\n",
       "      <td>0.0</td>\n",
       "      <td>0.0</td>\n",
       "      <td>0.0</td>\n",
       "      <td>0.0</td>\n",
       "      <td>0.0</td>\n",
       "      <td>1.0</td>\n",
       "    </tr>\n",
       "    <tr>\n",
       "      <th>718297</th>\n",
       "      <td>-1.486208</td>\n",
       "      <td>-0.364642</td>\n",
       "      <td>0.432760</td>\n",
       "      <td>1.415813</td>\n",
       "      <td>1.558419</td>\n",
       "      <td>1.085657</td>\n",
       "      <td>0.0</td>\n",
       "      <td>0.0</td>\n",
       "      <td>0.0</td>\n",
       "      <td>0.0</td>\n",
       "      <td>1.0</td>\n",
       "      <td>0.0</td>\n",
       "      <td>1.0</td>\n",
       "      <td>0.0</td>\n",
       "    </tr>\n",
       "    <tr>\n",
       "      <th>4613535</th>\n",
       "      <td>0.784297</td>\n",
       "      <td>-1.068113</td>\n",
       "      <td>-1.591942</td>\n",
       "      <td>1.415813</td>\n",
       "      <td>-0.029206</td>\n",
       "      <td>-0.316507</td>\n",
       "      <td>0.0</td>\n",
       "      <td>0.0</td>\n",
       "      <td>0.0</td>\n",
       "      <td>0.0</td>\n",
       "      <td>0.0</td>\n",
       "      <td>1.0</td>\n",
       "      <td>0.0</td>\n",
       "      <td>1.0</td>\n",
       "    </tr>\n",
       "  </tbody>\n",
       "</table>\n",
       "</div>"
      ],
      "text/plain": [
       "             date     level    levels     rooms      area  kitchen_area  \\\n",
       "2578222 -0.350955  0.514697  0.567740  0.257887 -0.006395     -0.131316   \n",
       "3778970  0.784297  2.976847  1.647581 -0.900040 -0.818456      0.040648   \n",
       "1460289 -0.350955 -0.716377 -1.052022  0.257887  0.335766     -0.184227   \n",
       "718297  -1.486208 -0.364642  0.432760  1.415813  1.558419      1.085657   \n",
       "4613535  0.784297 -1.068113 -1.591942  1.415813 -0.029206     -0.316507   \n",
       "\n",
       "         blocky  brick  monolithic  other  panel  wooden  new  preowned  \n",
       "2578222     0.0    0.0         0.0    0.0    1.0     0.0  1.0       0.0  \n",
       "3778970     0.0    0.0         0.0    0.0    1.0     0.0  1.0       0.0  \n",
       "1460289     0.0    1.0         0.0    0.0    0.0     0.0  0.0       1.0  \n",
       "718297      0.0    0.0         0.0    0.0    1.0     0.0  1.0       0.0  \n",
       "4613535     0.0    0.0         0.0    0.0    0.0     1.0  0.0       1.0  "
      ]
     },
     "execution_count": 14,
     "metadata": {},
     "output_type": "execute_result"
    }
   ],
   "source": [
    "from sklearn.preprocessing import StandardScaler\n",
    "\n",
    "ordinal_cols = ['date', 'level', 'levels', 'rooms', 'area', 'kitchen_area']\n",
    "X_train_ordinal, X_test_ordinal = X_train[ordinal_cols], X_test[ordinal_cols]\n",
    "\n",
    "scaler = StandardScaler()\n",
    "scaler.fit(X_train_ordinal)\n",
    "\n",
    "X_train_scaled, X_test_scaled = X_train, X_test\n",
    "\n",
    "X_train_scaled.loc[:, scaler.feature_names_in_] = scaler.transform(X_train_ordinal)\n",
    "X_test_scaled.loc[:, scaler.feature_names_in_] = scaler.transform(X_test_ordinal)\n",
    "\n",
    "X_train_scaled.sample(5)"
   ]
  },
  {
   "cell_type": "code",
   "execution_count": 15,
   "metadata": {},
   "outputs": [],
   "source": [
    "# MAX_EPOCHS = 1000000"
   ]
  },
  {
   "attachments": {},
   "cell_type": "markdown",
   "metadata": {},
   "source": [
    "### Linear Regression"
   ]
  },
  {
   "attachments": {},
   "cell_type": "markdown",
   "metadata": {},
   "source": [
    "Note that SckiKit doesn't offer MAE loss for its `LinearRegression` implementation. However, `linear_model.SGDRegressor` can be made to use an MAE loss by using `epsilon_insensitive` loss and setting its $\\epsilon$ hyperparam to $0$.\n",
    "\n",
    "Note that this does mean we will be using SGD for descent, so our model will take more steps to converge and loss won't strcitly decrease, but in our case using SGD will actually be helpful since our dataset is relatively large, so each epoch will be much faster."
   ]
  },
  {
   "cell_type": "code",
   "execution_count": 16,
   "metadata": {},
   "outputs": [],
   "source": [
    "# from sklearn.linear_model import SGDRegressor\n",
    "\n",
    "# linreg_mae_model = SGDRegressor(loss='epsilon_insensitive', epsilon=0, max_iter=MAX_EPOCHS, verbose=1)"
   ]
  },
  {
   "cell_type": "code",
   "execution_count": 17,
   "metadata": {},
   "outputs": [],
   "source": [
    "# linreg_mae_model.fit(X_train_scaled, y_train)"
   ]
  },
  {
   "cell_type": "code",
   "execution_count": 18,
   "metadata": {},
   "outputs": [],
   "source": [
    "# import pickle\n",
    "\n",
    "# filename = 'trained_model.sav'\n",
    "# pickle.dump(linreg_mae_model, open(filename, 'wb'))"
   ]
  },
  {
   "cell_type": "code",
   "execution_count": 19,
   "metadata": {},
   "outputs": [],
   "source": [
    "from sklearn.metrics import mean_absolute_error, mean_squared_error"
   ]
  },
  {
   "attachments": {},
   "cell_type": "markdown",
   "metadata": {},
   "source": [
    "### Random Forests for Regression"
   ]
  },
  {
   "cell_type": "code",
   "execution_count": 24,
   "metadata": {},
   "outputs": [],
   "source": [
    "from sklearn.ensemble import RandomForestRegressor"
   ]
  },
  {
   "cell_type": "code",
   "execution_count": 25,
   "metadata": {},
   "outputs": [],
   "source": [
    "rf_model = RandomForestRegressor(n_estimators=100, random_state=SEED, criterion='absolute_error', verbose=2)"
   ]
  },
  {
   "cell_type": "code",
   "execution_count": 26,
   "metadata": {},
   "outputs": [
    {
     "name": "stderr",
     "output_type": "stream",
     "text": [
      "[Parallel(n_jobs=1)]: Using backend SequentialBackend with 1 concurrent workers.\n"
     ]
    },
    {
     "name": "stdout",
     "output_type": "stream",
     "text": [
      "building tree 1 of 100\n"
     ]
    },
    {
     "name": "stderr",
     "output_type": "stream",
     "text": [
      "[Parallel(n_jobs=1)]: Done   1 out of   1 | elapsed:   58.1s remaining:    0.0s\n"
     ]
    },
    {
     "name": "stdout",
     "output_type": "stream",
     "text": [
      "building tree 2 of 100\n",
      "building tree 3 of 100\n",
      "building tree 4 of 100\n",
      "building tree 5 of 100\n",
      "building tree 6 of 100\n",
      "building tree 7 of 100\n",
      "building tree 8 of 100\n",
      "building tree 9 of 100\n",
      "building tree 10 of 100\n",
      "building tree 11 of 100\n",
      "building tree 12 of 100\n",
      "building tree 13 of 100\n",
      "building tree 14 of 100\n",
      "building tree 15 of 100\n",
      "building tree 16 of 100\n",
      "building tree 17 of 100\n",
      "building tree 18 of 100\n",
      "building tree 19 of 100\n",
      "building tree 20 of 100\n",
      "building tree 21 of 100\n",
      "building tree 22 of 100\n",
      "building tree 23 of 100\n",
      "building tree 24 of 100\n",
      "building tree 25 of 100\n",
      "building tree 26 of 100\n",
      "building tree 27 of 100\n",
      "building tree 28 of 100\n",
      "building tree 29 of 100\n",
      "building tree 30 of 100\n",
      "building tree 31 of 100\n",
      "building tree 32 of 100\n",
      "building tree 33 of 100\n",
      "building tree 34 of 100\n",
      "building tree 35 of 100\n",
      "building tree 36 of 100\n",
      "building tree 37 of 100\n",
      "building tree 38 of 100\n",
      "building tree 39 of 100\n",
      "building tree 40 of 100\n",
      "building tree 41 of 100\n",
      "building tree 42 of 100\n",
      "building tree 43 of 100\n",
      "building tree 44 of 100\n",
      "building tree 45 of 100\n",
      "building tree 46 of 100\n",
      "building tree 47 of 100\n",
      "building tree 48 of 100\n",
      "building tree 49 of 100\n",
      "building tree 50 of 100\n",
      "building tree 51 of 100\n",
      "building tree 52 of 100\n",
      "building tree 53 of 100\n",
      "building tree 54 of 100\n",
      "building tree 55 of 100\n",
      "building tree 56 of 100\n",
      "building tree 57 of 100\n",
      "building tree 58 of 100\n",
      "building tree 59 of 100\n",
      "building tree 60 of 100\n",
      "building tree 61 of 100\n",
      "building tree 62 of 100\n",
      "building tree 63 of 100\n",
      "building tree 64 of 100\n",
      "building tree 65 of 100\n",
      "building tree 66 of 100\n",
      "building tree 67 of 100\n",
      "building tree 68 of 100\n",
      "building tree 69 of 100\n",
      "building tree 70 of 100\n",
      "building tree 71 of 100\n",
      "building tree 72 of 100\n",
      "building tree 73 of 100\n",
      "building tree 74 of 100\n",
      "building tree 75 of 100\n",
      "building tree 76 of 100\n",
      "building tree 77 of 100\n",
      "building tree 78 of 100\n",
      "building tree 79 of 100\n",
      "building tree 80 of 100\n",
      "building tree 81 of 100\n",
      "building tree 82 of 100\n",
      "building tree 83 of 100\n",
      "building tree 84 of 100\n",
      "building tree 85 of 100\n",
      "building tree 86 of 100\n",
      "building tree 87 of 100\n",
      "building tree 88 of 100\n",
      "building tree 89 of 100\n",
      "building tree 90 of 100\n",
      "building tree 91 of 100\n",
      "building tree 92 of 100\n",
      "building tree 93 of 100\n",
      "building tree 94 of 100\n",
      "building tree 95 of 100\n",
      "building tree 96 of 100\n",
      "building tree 97 of 100\n",
      "building tree 98 of 100\n",
      "building tree 99 of 100\n"
     ]
    }
   ],
   "source": [
    "rf_model.fit(X_train, y_train)"
   ]
  },
  {
   "cell_type": "code",
   "execution_count": null,
   "metadata": {},
   "outputs": [],
   "source": [
    "# rf_train_preds = rf_model.predict(X_train)\n",
    "# rf_test_preds = rf_model.predict(X_test)\n",
    "\n",
    "# rf_train_mae = mean_absolute_error(y_train, rf_train_preds)\n",
    "# rf_test_mae = mean_absolute_error(y_test, rf_test_preds)\n",
    "\n",
    "# rf_train_mse = mean_squared_error(y_train, rf_train_preds)\n",
    "# rf_test_mse = mean_squared_error(y_test, rf_test_preds)\n",
    "\n",
    "# rf_train_rmse = np.sqrt(rf_train_mse)\n",
    "# rf_test_rmse = np.sqrt(rf_test_mse)\n",
    "\n",
    "# print(f'Random Forest MAE train error: {rf_train_mae}, test error: {rf_test_mae}')\n",
    "# print(f'Random Forest MSE train error: {rf_train_mse}, test error: {rf_test_mse}')\n",
    "# print(f'Random Forest RMSE train error: {rf_train_rmse}, test error: {rf_test_rmse}')"
   ]
  }
 ],
 "metadata": {
  "kernelspec": {
   "display_name": "cogs118a_g5",
   "language": "python",
   "name": "python3"
  },
  "language_info": {
   "codemirror_mode": {
    "name": "ipython",
    "version": 3
   },
   "file_extension": ".py",
   "mimetype": "text/x-python",
   "name": "python",
   "nbconvert_exporter": "python",
   "pygments_lexer": "ipython3",
   "version": "3.11.3"
  },
  "orig_nbformat": 4
 },
 "nbformat": 4,
 "nbformat_minor": 2
}
