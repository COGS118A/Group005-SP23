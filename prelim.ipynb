{
 "cells": [
  {
   "attachments": {},
   "cell_type": "markdown",
   "metadata": {},
   "source": [
    "# Group 004 Real Estate Analysis"
   ]
  },
  {
   "attachments": {},
   "cell_type": "markdown",
   "metadata": {},
   "source": [
    "## Setup and Load Data"
   ]
  },
  {
   "attachments": {},
   "cell_type": "markdown",
   "metadata": {},
   "source": [
    "First, we retrieve the dataste from https://www.kaggle.com/datasets/mrdaniilak/russia-real-estate-20182021.\n",
    "\n",
    "If using the below cell, make sure you have a Kaggle API token in a `kaggle.json` file in `~/.kaggle/`. Otherwise, please download the data manually and place it under a folder `./data/`."
   ]
  },
  {
   "cell_type": "code",
   "execution_count": 1,
   "metadata": {},
   "outputs": [
    {
     "name": "stdout",
     "output_type": "stream",
     "text": [
      "mkdir: data: File exists\n",
      "Warning: Your Kaggle API key is readable by other users on this system! To fix this, you can run 'chmod 600 /Users/arths/.kaggle/kaggle.json'\n",
      "Downloading russia-real-estate-20182021.zip to /Users/arths/Documents/Coding/Personal/Group005-SP23\n",
      " 99%|███████████████████████████████████████▋| 110M/111M [00:11<00:00, 8.36MB/s]\n",
      "100%|████████████████████████████████████████| 111M/111M [00:11<00:00, 10.3MB/s]\n"
     ]
    }
   ],
   "source": [
    "!mkdir data\n",
    "!kaggle datasets download mrdaniilak/russia-real-estate-20182021\n",
    "!mv ./russia-real-estate-20182021.zip ./data/russia-real-estate-20182021.zip"
   ]
  },
  {
   "cell_type": "code",
   "execution_count": 2,
   "metadata": {},
   "outputs": [],
   "source": [
    "import zipfile\n",
    "with zipfile.ZipFile('./data/russia-real-estate-20182021.zip', 'r') as zip_ref:\n",
    "    zip_ref.extractall('./data')"
   ]
  },
  {
   "attachments": {},
   "cell_type": "markdown",
   "metadata": {},
   "source": [
    "Now, we may proceed with exploration."
   ]
  },
  {
   "cell_type": "code",
   "execution_count": 3,
   "metadata": {},
   "outputs": [],
   "source": [
    "import pandas as pd\n",
    "import numpy as np\n",
    "import matplotlib.pyplot as plt\n",
    "import seaborn as sns"
   ]
  },
  {
   "cell_type": "code",
   "execution_count": 4,
   "metadata": {},
   "outputs": [],
   "source": [
    "DATA_CSV_PATH = './data/all_v2.csv'\n",
    "\n",
    "# load csv data\n",
    "df = pd.read_csv(DATA_CSV_PATH)\n",
    "\n",
    "# remove duplicate data\n",
    "df = df.drop_duplicates()"
   ]
  },
  {
   "cell_type": "code",
   "execution_count": 5,
   "metadata": {},
   "outputs": [
    {
     "data": {
      "text/html": [
       "<div>\n",
       "<style scoped>\n",
       "    .dataframe tbody tr th:only-of-type {\n",
       "        vertical-align: middle;\n",
       "    }\n",
       "\n",
       "    .dataframe tbody tr th {\n",
       "        vertical-align: top;\n",
       "    }\n",
       "\n",
       "    .dataframe thead th {\n",
       "        text-align: right;\n",
       "    }\n",
       "</style>\n",
       "<table border=\"1\" class=\"dataframe\">\n",
       "  <thead>\n",
       "    <tr style=\"text-align: right;\">\n",
       "      <th></th>\n",
       "      <th>price</th>\n",
       "      <th>date</th>\n",
       "      <th>time</th>\n",
       "      <th>geo_lat</th>\n",
       "      <th>geo_lon</th>\n",
       "      <th>region</th>\n",
       "      <th>building_type</th>\n",
       "      <th>level</th>\n",
       "      <th>levels</th>\n",
       "      <th>rooms</th>\n",
       "      <th>area</th>\n",
       "      <th>kitchen_area</th>\n",
       "      <th>object_type</th>\n",
       "    </tr>\n",
       "  </thead>\n",
       "  <tbody>\n",
       "    <tr>\n",
       "      <th>1525250</th>\n",
       "      <td>6300000</td>\n",
       "      <td>2019-04-02</td>\n",
       "      <td>12:25:12</td>\n",
       "      <td>55.725955</td>\n",
       "      <td>37.807725</td>\n",
       "      <td>3</td>\n",
       "      <td>1</td>\n",
       "      <td>5</td>\n",
       "      <td>9</td>\n",
       "      <td>2</td>\n",
       "      <td>43.00</td>\n",
       "      <td>6.0</td>\n",
       "      <td>1</td>\n",
       "    </tr>\n",
       "    <tr>\n",
       "      <th>5415583</th>\n",
       "      <td>4500000</td>\n",
       "      <td>2021-04-27</td>\n",
       "      <td>07:33:27</td>\n",
       "      <td>56.794063</td>\n",
       "      <td>60.509506</td>\n",
       "      <td>6171</td>\n",
       "      <td>0</td>\n",
       "      <td>2</td>\n",
       "      <td>10</td>\n",
       "      <td>2</td>\n",
       "      <td>54.60</td>\n",
       "      <td>11.0</td>\n",
       "      <td>1</td>\n",
       "    </tr>\n",
       "    <tr>\n",
       "      <th>2494539</th>\n",
       "      <td>5375400</td>\n",
       "      <td>2019-09-02</td>\n",
       "      <td>12:38:41</td>\n",
       "      <td>55.702945</td>\n",
       "      <td>37.887114</td>\n",
       "      <td>81</td>\n",
       "      <td>1</td>\n",
       "      <td>9</td>\n",
       "      <td>14</td>\n",
       "      <td>2</td>\n",
       "      <td>52.70</td>\n",
       "      <td>19.6</td>\n",
       "      <td>11</td>\n",
       "    </tr>\n",
       "    <tr>\n",
       "      <th>1468112</th>\n",
       "      <td>2504000</td>\n",
       "      <td>2019-03-28</td>\n",
       "      <td>06:34:23</td>\n",
       "      <td>54.947720</td>\n",
       "      <td>82.975426</td>\n",
       "      <td>9654</td>\n",
       "      <td>1</td>\n",
       "      <td>6</td>\n",
       "      <td>11</td>\n",
       "      <td>-1</td>\n",
       "      <td>87.39</td>\n",
       "      <td>14.0</td>\n",
       "      <td>11</td>\n",
       "    </tr>\n",
       "    <tr>\n",
       "      <th>1405198</th>\n",
       "      <td>1355000</td>\n",
       "      <td>2019-03-20</td>\n",
       "      <td>10:23:34</td>\n",
       "      <td>54.935722</td>\n",
       "      <td>82.882950</td>\n",
       "      <td>9654</td>\n",
       "      <td>1</td>\n",
       "      <td>16</td>\n",
       "      <td>17</td>\n",
       "      <td>-1</td>\n",
       "      <td>19.70</td>\n",
       "      <td>4.7</td>\n",
       "      <td>1</td>\n",
       "    </tr>\n",
       "  </tbody>\n",
       "</table>\n",
       "</div>"
      ],
      "text/plain": [
       "           price        date      time    geo_lat    geo_lon  region  \\\n",
       "1525250  6300000  2019-04-02  12:25:12  55.725955  37.807725       3   \n",
       "5415583  4500000  2021-04-27  07:33:27  56.794063  60.509506    6171   \n",
       "2494539  5375400  2019-09-02  12:38:41  55.702945  37.887114      81   \n",
       "1468112  2504000  2019-03-28  06:34:23  54.947720  82.975426    9654   \n",
       "1405198  1355000  2019-03-20  10:23:34  54.935722  82.882950    9654   \n",
       "\n",
       "         building_type  level  levels  rooms   area  kitchen_area  object_type  \n",
       "1525250              1      5       9      2  43.00           6.0            1  \n",
       "5415583              0      2      10      2  54.60          11.0            1  \n",
       "2494539              1      9      14      2  52.70          19.6           11  \n",
       "1468112              1      6      11     -1  87.39          14.0           11  \n",
       "1405198              1     16      17     -1  19.70           4.7            1  "
      ]
     },
     "execution_count": 5,
     "metadata": {},
     "output_type": "execute_result"
    }
   ],
   "source": [
    "df.sample(5)"
   ]
  },
  {
   "attachments": {},
   "cell_type": "markdown",
   "metadata": {},
   "source": [
    "Note that this Kaggle Dataset was originally pulled from GeoNames (http://www.geonames.org/), which has its own \"regions\" separated by county. Our city of interest, Moscow, has ID 81.\n",
    "\n",
    "Addtionally, we will give categorical data appropriate labels given by the dataset spec."
   ]
  },
  {
   "cell_type": "code",
   "execution_count": 6,
   "metadata": {},
   "outputs": [],
   "source": [
    "MOSCOW_CODE = 81\n",
    "\n",
    "moscow_df = df.loc[df['region'] == MOSCOW_CODE]\n",
    "moscow_df = moscow_df.drop(['time', 'geo_lat', 'geo_lon', 'region'], axis=1)\n",
    "moscow_df['date'] = moscow_df['date'].apply(lambda x: int(x[:4]))\n",
    "\n",
    "moscow_df['object_type'] = moscow_df['object_type'].replace(1, 'preowned').replace(11, 'new')\n",
    "moscow_df['building_type'] = moscow_df['building_type'].replace(0, 'other').replace(1, 'panel').replace(2, 'monolithic').replace(3, 'brick').replace(4, 'blocky').replace(5, 'wooden')\n",
    "\n",
    "# -1 means studio apartment, so we replace with 0 (since studio apartments have no extra rooms)\n",
    "# there are not other datapoints with value 0\n",
    "moscow_df['rooms'] = moscow_df['rooms'].replace(-1, 0)\n",
    "\n",
    "# remove rows with errorneous data\n",
    "moscow_df = moscow_df[moscow_df['price'] >= 0]\n",
    "moscow_df = moscow_df[moscow_df['rooms'] >= 0]"
   ]
  },
  {
   "cell_type": "code",
   "execution_count": 7,
   "metadata": {},
   "outputs": [
    {
     "data": {
      "text/plain": [
       "False"
      ]
     },
     "execution_count": 7,
     "metadata": {},
     "output_type": "execute_result"
    }
   ],
   "source": [
    "moscow_df.isnull().values.any()"
   ]
  },
  {
   "cell_type": "code",
   "execution_count": 8,
   "metadata": {},
   "outputs": [
    {
     "data": {
      "text/html": [
       "<div>\n",
       "<style scoped>\n",
       "    .dataframe tbody tr th:only-of-type {\n",
       "        vertical-align: middle;\n",
       "    }\n",
       "\n",
       "    .dataframe tbody tr th {\n",
       "        vertical-align: top;\n",
       "    }\n",
       "\n",
       "    .dataframe thead th {\n",
       "        text-align: right;\n",
       "    }\n",
       "</style>\n",
       "<table border=\"1\" class=\"dataframe\">\n",
       "  <thead>\n",
       "    <tr style=\"text-align: right;\">\n",
       "      <th></th>\n",
       "      <th>price</th>\n",
       "      <th>date</th>\n",
       "      <th>building_type</th>\n",
       "      <th>level</th>\n",
       "      <th>levels</th>\n",
       "      <th>rooms</th>\n",
       "      <th>area</th>\n",
       "      <th>kitchen_area</th>\n",
       "      <th>object_type</th>\n",
       "    </tr>\n",
       "  </thead>\n",
       "  <tbody>\n",
       "    <tr>\n",
       "      <th>4771735</th>\n",
       "      <td>8167380</td>\n",
       "      <td>2020</td>\n",
       "      <td>monolithic</td>\n",
       "      <td>4</td>\n",
       "      <td>24</td>\n",
       "      <td>2</td>\n",
       "      <td>56.6</td>\n",
       "      <td>14.9</td>\n",
       "      <td>new</td>\n",
       "    </tr>\n",
       "    <tr>\n",
       "      <th>1533118</th>\n",
       "      <td>3000000</td>\n",
       "      <td>2019</td>\n",
       "      <td>brick</td>\n",
       "      <td>5</td>\n",
       "      <td>5</td>\n",
       "      <td>1</td>\n",
       "      <td>31.0</td>\n",
       "      <td>6.0</td>\n",
       "      <td>preowned</td>\n",
       "    </tr>\n",
       "    <tr>\n",
       "      <th>2804857</th>\n",
       "      <td>3300000</td>\n",
       "      <td>2019</td>\n",
       "      <td>brick</td>\n",
       "      <td>3</td>\n",
       "      <td>5</td>\n",
       "      <td>2</td>\n",
       "      <td>43.0</td>\n",
       "      <td>6.0</td>\n",
       "      <td>preowned</td>\n",
       "    </tr>\n",
       "    <tr>\n",
       "      <th>2589406</th>\n",
       "      <td>3559000</td>\n",
       "      <td>2019</td>\n",
       "      <td>brick</td>\n",
       "      <td>4</td>\n",
       "      <td>5</td>\n",
       "      <td>2</td>\n",
       "      <td>57.2</td>\n",
       "      <td>7.3</td>\n",
       "      <td>preowned</td>\n",
       "    </tr>\n",
       "    <tr>\n",
       "      <th>4146284</th>\n",
       "      <td>2650000</td>\n",
       "      <td>2020</td>\n",
       "      <td>brick</td>\n",
       "      <td>4</td>\n",
       "      <td>5</td>\n",
       "      <td>2</td>\n",
       "      <td>45.0</td>\n",
       "      <td>6.0</td>\n",
       "      <td>preowned</td>\n",
       "    </tr>\n",
       "  </tbody>\n",
       "</table>\n",
       "</div>"
      ],
      "text/plain": [
       "           price  date building_type  level  levels  rooms  area  \\\n",
       "4771735  8167380  2020    monolithic      4      24      2  56.6   \n",
       "1533118  3000000  2019         brick      5       5      1  31.0   \n",
       "2804857  3300000  2019         brick      3       5      2  43.0   \n",
       "2589406  3559000  2019         brick      4       5      2  57.2   \n",
       "4146284  2650000  2020         brick      4       5      2  45.0   \n",
       "\n",
       "         kitchen_area object_type  \n",
       "4771735          14.9         new  \n",
       "1533118           6.0    preowned  \n",
       "2804857           6.0    preowned  \n",
       "2589406           7.3    preowned  \n",
       "4146284           6.0    preowned  "
      ]
     },
     "execution_count": 8,
     "metadata": {},
     "output_type": "execute_result"
    }
   ],
   "source": [
    "moscow_df.sample(5)"
   ]
  },
  {
   "attachments": {},
   "cell_type": "markdown",
   "metadata": {},
   "source": [
    "# Exploration"
   ]
  },
  {
   "attachments": {},
   "cell_type": "markdown",
   "metadata": {},
   "source": [
    "First, we'll look at the data distributions for the ordinal data."
   ]
  },
  {
   "cell_type": "code",
   "execution_count": 9,
   "metadata": {},
   "outputs": [
    {
     "data": {
      "text/html": [
       "<div>\n",
       "<style scoped>\n",
       "    .dataframe tbody tr th:only-of-type {\n",
       "        vertical-align: middle;\n",
       "    }\n",
       "\n",
       "    .dataframe tbody tr th {\n",
       "        vertical-align: top;\n",
       "    }\n",
       "\n",
       "    .dataframe thead th {\n",
       "        text-align: right;\n",
       "    }\n",
       "</style>\n",
       "<table border=\"1\" class=\"dataframe\">\n",
       "  <thead>\n",
       "    <tr style=\"text-align: right;\">\n",
       "      <th></th>\n",
       "      <th>price</th>\n",
       "      <th>date</th>\n",
       "      <th>level</th>\n",
       "      <th>levels</th>\n",
       "      <th>rooms</th>\n",
       "      <th>area</th>\n",
       "      <th>kitchen_area</th>\n",
       "    </tr>\n",
       "  </thead>\n",
       "  <tbody>\n",
       "    <tr>\n",
       "      <th>count</th>\n",
       "      <td>5.001920e+05</td>\n",
       "      <td>500192.000000</td>\n",
       "      <td>500192.00000</td>\n",
       "      <td>500192.000000</td>\n",
       "      <td>500192.000000</td>\n",
       "      <td>500192.000000</td>\n",
       "      <td>500192.000000</td>\n",
       "    </tr>\n",
       "    <tr>\n",
       "      <th>mean</th>\n",
       "      <td>4.765453e+06</td>\n",
       "      <td>2019.310803</td>\n",
       "      <td>7.05152</td>\n",
       "      <td>12.741489</td>\n",
       "      <td>1.782240</td>\n",
       "      <td>51.734531</td>\n",
       "      <td>10.364580</td>\n",
       "    </tr>\n",
       "    <tr>\n",
       "      <th>std</th>\n",
       "      <td>4.208466e+06</td>\n",
       "      <td>0.880217</td>\n",
       "      <td>5.71243</td>\n",
       "      <td>7.391100</td>\n",
       "      <td>0.864063</td>\n",
       "      <td>25.727061</td>\n",
       "      <td>7.177274</td>\n",
       "    </tr>\n",
       "    <tr>\n",
       "      <th>min</th>\n",
       "      <td>0.000000e+00</td>\n",
       "      <td>2018.000000</td>\n",
       "      <td>1.00000</td>\n",
       "      <td>1.000000</td>\n",
       "      <td>0.000000</td>\n",
       "      <td>1.000000</td>\n",
       "      <td>0.050000</td>\n",
       "    </tr>\n",
       "    <tr>\n",
       "      <th>25%</th>\n",
       "      <td>3.000000e+06</td>\n",
       "      <td>2019.000000</td>\n",
       "      <td>3.00000</td>\n",
       "      <td>5.000000</td>\n",
       "      <td>1.000000</td>\n",
       "      <td>38.000000</td>\n",
       "      <td>7.000000</td>\n",
       "    </tr>\n",
       "    <tr>\n",
       "      <th>50%</th>\n",
       "      <td>4.300000e+06</td>\n",
       "      <td>2019.000000</td>\n",
       "      <td>5.00000</td>\n",
       "      <td>12.000000</td>\n",
       "      <td>2.000000</td>\n",
       "      <td>46.200000</td>\n",
       "      <td>9.600000</td>\n",
       "    </tr>\n",
       "    <tr>\n",
       "      <th>75%</th>\n",
       "      <td>5.950000e+06</td>\n",
       "      <td>2020.000000</td>\n",
       "      <td>10.00000</td>\n",
       "      <td>17.000000</td>\n",
       "      <td>2.000000</td>\n",
       "      <td>62.000000</td>\n",
       "      <td>12.000000</td>\n",
       "    </tr>\n",
       "    <tr>\n",
       "      <th>max</th>\n",
       "      <td>2.147484e+09</td>\n",
       "      <td>2021.000000</td>\n",
       "      <td>36.00000</td>\n",
       "      <td>39.000000</td>\n",
       "      <td>9.000000</td>\n",
       "      <td>5000.000000</td>\n",
       "      <td>3000.000000</td>\n",
       "    </tr>\n",
       "  </tbody>\n",
       "</table>\n",
       "</div>"
      ],
      "text/plain": [
       "              price           date         level         levels  \\\n",
       "count  5.001920e+05  500192.000000  500192.00000  500192.000000   \n",
       "mean   4.765453e+06    2019.310803       7.05152      12.741489   \n",
       "std    4.208466e+06       0.880217       5.71243       7.391100   \n",
       "min    0.000000e+00    2018.000000       1.00000       1.000000   \n",
       "25%    3.000000e+06    2019.000000       3.00000       5.000000   \n",
       "50%    4.300000e+06    2019.000000       5.00000      12.000000   \n",
       "75%    5.950000e+06    2020.000000      10.00000      17.000000   \n",
       "max    2.147484e+09    2021.000000      36.00000      39.000000   \n",
       "\n",
       "               rooms           area   kitchen_area  \n",
       "count  500192.000000  500192.000000  500192.000000  \n",
       "mean        1.782240      51.734531      10.364580  \n",
       "std         0.864063      25.727061       7.177274  \n",
       "min         0.000000       1.000000       0.050000  \n",
       "25%         1.000000      38.000000       7.000000  \n",
       "50%         2.000000      46.200000       9.600000  \n",
       "75%         2.000000      62.000000      12.000000  \n",
       "max         9.000000    5000.000000    3000.000000  "
      ]
     },
     "execution_count": 9,
     "metadata": {},
     "output_type": "execute_result"
    }
   ],
   "source": [
    "moscow_df.describe()"
   ]
  },
  {
   "attachments": {},
   "cell_type": "markdown",
   "metadata": {},
   "source": [
    "Each column is skewed right, meaning we have some extreme outliers for each column. This is because in the real estate market, while most \"normal\" places have a similar price, the price ceiling for real estate can be very high. While these outliers are sparse, they could still bias our model."
   ]
  },
  {
   "attachments": {},
   "cell_type": "markdown",
   "metadata": {},
   "source": [
    "Next, we can plot each variable against price to look for possible correlations. We will only looks at data points with price less than $2 \\cdot 10^7$ to get better plots by removing price outliers. We will also plot regression lines for each to quantify per-variable correlation strength."
   ]
  },
  {
   "cell_type": "code",
   "execution_count": 10,
   "metadata": {},
   "outputs": [
    {
     "data": {
      "image/png": "[encoded data removed]",
      "text/plain": [
       "<Figure size 1750x250 with 8 Axes>"
      ]
     },
     "metadata": {},
     "output_type": "display_data"
    }
   ],
   "source": [
    "from scipy.stats import linregress\n",
    "\n",
    "def calc_R2(x, y, ax=None, **kwargs):\n",
    "    ax = ax or plt.gca()\n",
    "    _, _, r_value, _, _ = linregress(x=x, y=y)\n",
    "    ax.annotate(f'$R^2 = {r_value ** 2:.2f}$', xy=(.05, 1), xycoords=ax.transAxes, fontsize=8, ha='left', va='top')\n",
    "\n",
    "g = sns.pairplot(moscow_df.loc[moscow_df['price'] < 2e7].sample(1000), kind='reg', y_vars=['price'], plot_kws={'line_kws':{'color':'red'}})\n",
    "\n",
    "g.map_upper(calc_R2)\n",
    "plt.show()"
   ]
  },
  {
   "attachments": {},
   "cell_type": "markdown",
   "metadata": {},
   "source": [
    "Data and level have near-zero correlations. The number of levels in the building (i.e. building size) and number of rooms, as well have kitchen area, seem like te might have some signidicance. The most important (single) variable seems to be area. However, even here we don't have a strong correlation. Hopefully combining these variables into a multivariate regression will lead to stronger correlation.\n",
    "\n",
    "Additionally, all of the correlations seem to be closest to linear (as opposed to some polynomial fit). So, a polynomial regression may not perform better than a linear regression.\n",
    "\n",
    "However, in the above we only use about 1000 samples (for efficiency). We can see these correlation results across the dataset more easily with a heatmap:"
   ]
  },
  {
   "cell_type": "code",
   "execution_count": 11,
   "metadata": {},
   "outputs": [
    {
     "data": {
      "text/plain": [
       "<Axes: >"
      ]
     },
     "execution_count": 11,
     "metadata": {},
     "output_type": "execute_result"
    },
    {
     "data": {
      "image/png": "[encoded data removed]",
      "text/plain": [
       "<Figure size 640x480 with 2 Axes>"
      ]
     },
     "metadata": {},
     "output_type": "display_data"
    }
   ],
   "source": [
    "sns.heatmap(moscow_df.drop(['building_type', 'object_type'], axis=1).corr(), annot=True)"
   ]
  },
  {
   "attachments": {},
   "cell_type": "markdown",
   "metadata": {},
   "source": [
    "Notably, `date` and `level` have a stronger correlation than from our 1000 samples, but each individual variable still does not have a strong enough correlation for prediction.\n",
    "\n",
    "Thus, we proceed to fitting some models."
   ]
  },
  {
   "attachments": {},
   "cell_type": "markdown",
   "metadata": {},
   "source": [
    "## Model Fitting"
   ]
  },
  {
   "cell_type": "code",
   "execution_count": 12,
   "metadata": {},
   "outputs": [
    {
     "name": "stdout",
     "output_type": "stream",
     "text": [
      "350134 train samples; 150058 test samples\n"
     ]
    }
   ],
   "source": [
    "from sklearn.model_selection import train_test_split\n",
    "\n",
    "X = moscow_df[['date', 'building_type', 'level', 'levels', 'rooms', 'area', 'kitchen_area', 'object_type']]\n",
    "y = moscow_df['price']\n",
    "\n",
    "X_train, X_test, y_train, y_test = train_test_split(X, y, test_size=0.3, random_state=42)\n",
    "\n",
    "print(f'{len(y_train)} train samples; {len(y_test)} test samples')"
   ]
  },
  {
   "attachments": {},
   "cell_type": "markdown",
   "metadata": {},
   "source": [
    "Now, we will one-hot the categorical data using sklearn's one hot encoder."
   ]
  },
  {
   "cell_type": "code",
   "execution_count": 13,
   "metadata": {},
   "outputs": [
    {
     "data": {
      "text/html": [
       "<div>\n",
       "<style scoped>\n",
       "    .dataframe tbody tr th:only-of-type {\n",
       "        vertical-align: middle;\n",
       "    }\n",
       "\n",
       "    .dataframe tbody tr th {\n",
       "        vertical-align: top;\n",
       "    }\n",
       "\n",
       "    .dataframe thead th {\n",
       "        text-align: right;\n",
       "    }\n",
       "</style>\n",
       "<table border=\"1\" class=\"dataframe\">\n",
       "  <thead>\n",
       "    <tr style=\"text-align: right;\">\n",
       "      <th></th>\n",
       "      <th>date</th>\n",
       "      <th>level</th>\n",
       "      <th>levels</th>\n",
       "      <th>rooms</th>\n",
       "      <th>area</th>\n",
       "      <th>kitchen_area</th>\n",
       "      <th>blocky</th>\n",
       "      <th>brick</th>\n",
       "      <th>monolithic</th>\n",
       "      <th>other</th>\n",
       "      <th>panel</th>\n",
       "      <th>wooden</th>\n",
       "      <th>new</th>\n",
       "      <th>preowned</th>\n",
       "    </tr>\n",
       "  </thead>\n",
       "  <tbody>\n",
       "    <tr>\n",
       "      <th>2741380</th>\n",
       "      <td>2019</td>\n",
       "      <td>4</td>\n",
       "      <td>5</td>\n",
       "      <td>2</td>\n",
       "      <td>42.0</td>\n",
       "      <td>6.0</td>\n",
       "      <td>0.0</td>\n",
       "      <td>1.0</td>\n",
       "      <td>0.0</td>\n",
       "      <td>0.0</td>\n",
       "      <td>0.0</td>\n",
       "      <td>0.0</td>\n",
       "      <td>0.0</td>\n",
       "      <td>1.0</td>\n",
       "    </tr>\n",
       "    <tr>\n",
       "      <th>1383115</th>\n",
       "      <td>2019</td>\n",
       "      <td>15</td>\n",
       "      <td>17</td>\n",
       "      <td>2</td>\n",
       "      <td>62.8</td>\n",
       "      <td>9.9</td>\n",
       "      <td>0.0</td>\n",
       "      <td>0.0</td>\n",
       "      <td>1.0</td>\n",
       "      <td>0.0</td>\n",
       "      <td>0.0</td>\n",
       "      <td>0.0</td>\n",
       "      <td>1.0</td>\n",
       "      <td>0.0</td>\n",
       "    </tr>\n",
       "    <tr>\n",
       "      <th>4281148</th>\n",
       "      <td>2020</td>\n",
       "      <td>3</td>\n",
       "      <td>5</td>\n",
       "      <td>2</td>\n",
       "      <td>37.6</td>\n",
       "      <td>5.4</td>\n",
       "      <td>0.0</td>\n",
       "      <td>1.0</td>\n",
       "      <td>0.0</td>\n",
       "      <td>0.0</td>\n",
       "      <td>0.0</td>\n",
       "      <td>0.0</td>\n",
       "      <td>0.0</td>\n",
       "      <td>1.0</td>\n",
       "    </tr>\n",
       "    <tr>\n",
       "      <th>5365974</th>\n",
       "      <td>2021</td>\n",
       "      <td>15</td>\n",
       "      <td>17</td>\n",
       "      <td>3</td>\n",
       "      <td>80.0</td>\n",
       "      <td>13.0</td>\n",
       "      <td>0.0</td>\n",
       "      <td>0.0</td>\n",
       "      <td>0.0</td>\n",
       "      <td>0.0</td>\n",
       "      <td>1.0</td>\n",
       "      <td>0.0</td>\n",
       "      <td>0.0</td>\n",
       "      <td>1.0</td>\n",
       "    </tr>\n",
       "    <tr>\n",
       "      <th>4836749</th>\n",
       "      <td>2020</td>\n",
       "      <td>4</td>\n",
       "      <td>33</td>\n",
       "      <td>1</td>\n",
       "      <td>53.1</td>\n",
       "      <td>20.0</td>\n",
       "      <td>0.0</td>\n",
       "      <td>0.0</td>\n",
       "      <td>1.0</td>\n",
       "      <td>0.0</td>\n",
       "      <td>0.0</td>\n",
       "      <td>0.0</td>\n",
       "      <td>1.0</td>\n",
       "      <td>0.0</td>\n",
       "    </tr>\n",
       "  </tbody>\n",
       "</table>\n",
       "</div>"
      ],
      "text/plain": [
       "         date  level  levels  rooms  area  kitchen_area  blocky  brick  \\\n",
       "2741380  2019      4       5      2  42.0           6.0     0.0    1.0   \n",
       "1383115  2019     15      17      2  62.8           9.9     0.0    0.0   \n",
       "4281148  2020      3       5      2  37.6           5.4     0.0    1.0   \n",
       "5365974  2021     15      17      3  80.0          13.0     0.0    0.0   \n",
       "4836749  2020      4      33      1  53.1          20.0     0.0    0.0   \n",
       "\n",
       "         monolithic  other  panel  wooden  new  preowned  \n",
       "2741380         0.0    0.0    0.0     0.0  0.0       1.0  \n",
       "1383115         1.0    0.0    0.0     0.0  1.0       0.0  \n",
       "4281148         0.0    0.0    0.0     0.0  0.0       1.0  \n",
       "5365974         0.0    0.0    1.0     0.0  0.0       1.0  \n",
       "4836749         1.0    0.0    0.0     0.0  1.0       0.0  "
      ]
     },
     "execution_count": 13,
     "metadata": {},
     "output_type": "execute_result"
    }
   ],
   "source": [
    "from sklearn.preprocessing import OneHotEncoder\n",
    "\n",
    "for col in ['building_type', 'object_type']:\n",
    "\n",
    "    one_hot = OneHotEncoder()\n",
    "    one_hot.fit(X_train[[col]])\n",
    "\n",
    "    X_train.loc[:, one_hot.categories_[0]] = one_hot.transform(X_train[[col]]).todense()\n",
    "    X_test.loc[:, one_hot.categories_[0]] = one_hot.transform(X_test[[col]]).todense()\n",
    "\n",
    "    X_train = X_train.drop(col, axis=1)\n",
    "    X_test = X_test.drop(col, axis=1)\n",
    "\n",
    "X_train.sample(5)"
   ]
  },
  {
   "attachments": {},
   "cell_type": "markdown",
   "metadata": {},
   "source": [
    "Next, we will scale the data. Note that not all models require scaled data; while models like linear regression require scaling to avoid overemphasis of certain datapoints, models like descision trees (and, by extension, random forests) are not affected by unscaled variables.\n",
    "\n",
    "It is also important to note that scaled data won't *negatively* impact descision trees, but we make a copy of scaled data to more explicitly demonstrate model understanding."
   ]
  },
  {
   "cell_type": "code",
   "execution_count": 14,
   "metadata": {},
   "outputs": [
    {
     "data": {
      "text/html": [
       "<div>\n",
       "<style scoped>\n",
       "    .dataframe tbody tr th:only-of-type {\n",
       "        vertical-align: middle;\n",
       "    }\n",
       "\n",
       "    .dataframe tbody tr th {\n",
       "        vertical-align: top;\n",
       "    }\n",
       "\n",
       "    .dataframe thead th {\n",
       "        text-align: right;\n",
       "    }\n",
       "</style>\n",
       "<table border=\"1\" class=\"dataframe\">\n",
       "  <thead>\n",
       "    <tr style=\"text-align: right;\">\n",
       "      <th></th>\n",
       "      <th>date</th>\n",
       "      <th>level</th>\n",
       "      <th>levels</th>\n",
       "      <th>rooms</th>\n",
       "      <th>area</th>\n",
       "      <th>kitchen_area</th>\n",
       "      <th>blocky</th>\n",
       "      <th>brick</th>\n",
       "      <th>monolithic</th>\n",
       "      <th>other</th>\n",
       "      <th>panel</th>\n",
       "      <th>wooden</th>\n",
       "      <th>new</th>\n",
       "      <th>preowned</th>\n",
       "    </tr>\n",
       "  </thead>\n",
       "  <tbody>\n",
       "    <tr>\n",
       "      <th>5350176</th>\n",
       "      <td>1.920389</td>\n",
       "      <td>-0.709375</td>\n",
       "      <td>0.306128</td>\n",
       "      <td>1.410918</td>\n",
       "      <td>1.629117</td>\n",
       "      <td>0.279100</td>\n",
       "      <td>0.0</td>\n",
       "      <td>0.0</td>\n",
       "      <td>1.0</td>\n",
       "      <td>0.0</td>\n",
       "      <td>0.0</td>\n",
       "      <td>0.0</td>\n",
       "      <td>0.0</td>\n",
       "      <td>1.0</td>\n",
       "    </tr>\n",
       "    <tr>\n",
       "      <th>4565940</th>\n",
       "      <td>0.783197</td>\n",
       "      <td>-0.534308</td>\n",
       "      <td>-0.505419</td>\n",
       "      <td>0.252737</td>\n",
       "      <td>-0.066664</td>\n",
       "      <td>-0.229652</td>\n",
       "      <td>0.0</td>\n",
       "      <td>0.0</td>\n",
       "      <td>0.0</td>\n",
       "      <td>0.0</td>\n",
       "      <td>1.0</td>\n",
       "      <td>0.0</td>\n",
       "      <td>0.0</td>\n",
       "      <td>1.0</td>\n",
       "    </tr>\n",
       "    <tr>\n",
       "      <th>2236302</th>\n",
       "      <td>-0.353996</td>\n",
       "      <td>-0.009107</td>\n",
       "      <td>0.576643</td>\n",
       "      <td>0.252737</td>\n",
       "      <td>0.453632</td>\n",
       "      <td>0.736977</td>\n",
       "      <td>0.0</td>\n",
       "      <td>0.0</td>\n",
       "      <td>1.0</td>\n",
       "      <td>0.0</td>\n",
       "      <td>0.0</td>\n",
       "      <td>0.0</td>\n",
       "      <td>1.0</td>\n",
       "      <td>0.0</td>\n",
       "    </tr>\n",
       "    <tr>\n",
       "      <th>4159889</th>\n",
       "      <td>0.783197</td>\n",
       "      <td>-0.884442</td>\n",
       "      <td>-1.452224</td>\n",
       "      <td>1.410918</td>\n",
       "      <td>0.511443</td>\n",
       "      <td>-0.738405</td>\n",
       "      <td>0.0</td>\n",
       "      <td>1.0</td>\n",
       "      <td>0.0</td>\n",
       "      <td>0.0</td>\n",
       "      <td>0.0</td>\n",
       "      <td>0.0</td>\n",
       "      <td>0.0</td>\n",
       "      <td>1.0</td>\n",
       "    </tr>\n",
       "    <tr>\n",
       "      <th>4204053</th>\n",
       "      <td>0.783197</td>\n",
       "      <td>-0.884442</td>\n",
       "      <td>0.576643</td>\n",
       "      <td>-0.905443</td>\n",
       "      <td>-0.374988</td>\n",
       "      <td>-0.229652</td>\n",
       "      <td>0.0</td>\n",
       "      <td>0.0</td>\n",
       "      <td>0.0</td>\n",
       "      <td>0.0</td>\n",
       "      <td>1.0</td>\n",
       "      <td>0.0</td>\n",
       "      <td>0.0</td>\n",
       "      <td>1.0</td>\n",
       "    </tr>\n",
       "  </tbody>\n",
       "</table>\n",
       "</div>"
      ],
      "text/plain": [
       "             date     level    levels     rooms      area  kitchen_area  \\\n",
       "5350176  1.920389 -0.709375  0.306128  1.410918  1.629117      0.279100   \n",
       "4565940  0.783197 -0.534308 -0.505419  0.252737 -0.066664     -0.229652   \n",
       "2236302 -0.353996 -0.009107  0.576643  0.252737  0.453632      0.736977   \n",
       "4159889  0.783197 -0.884442 -1.452224  1.410918  0.511443     -0.738405   \n",
       "4204053  0.783197 -0.884442  0.576643 -0.905443 -0.374988     -0.229652   \n",
       "\n",
       "         blocky  brick  monolithic  other  panel  wooden  new  preowned  \n",
       "5350176     0.0    0.0         1.0    0.0    0.0     0.0  0.0       1.0  \n",
       "4565940     0.0    0.0         0.0    0.0    1.0     0.0  0.0       1.0  \n",
       "2236302     0.0    0.0         1.0    0.0    0.0     0.0  1.0       0.0  \n",
       "4159889     0.0    1.0         0.0    0.0    0.0     0.0  0.0       1.0  \n",
       "4204053     0.0    0.0         0.0    0.0    1.0     0.0  0.0       1.0  "
      ]
     },
     "execution_count": 14,
     "metadata": {},
     "output_type": "execute_result"
    }
   ],
   "source": [
    "from sklearn.preprocessing import StandardScaler\n",
    "\n",
    "ordinal_cols = ['date', 'level', 'levels', 'rooms', 'area', 'kitchen_area']\n",
    "X_train_ordinal, X_test_ordinal = X_train[ordinal_cols], X_test[ordinal_cols]\n",
    "\n",
    "scaler = StandardScaler()\n",
    "scaler.fit(X_train_ordinal)\n",
    "\n",
    "X_train_scaled, X_test_scaled = X_train, X_test\n",
    "\n",
    "X_train_scaled.loc[:, scaler.feature_names_in_] = scaler.transform(X_train_ordinal)\n",
    "X_test_scaled.loc[:, scaler.feature_names_in_] = scaler.transform(X_test_ordinal)\n",
    "\n",
    "X_train_scaled.sample(5)"
   ]
  },
  {
   "cell_type": "code",
   "execution_count": 15,
   "metadata": {},
   "outputs": [],
   "source": [
    "MAX_EPOCHS = 10000"
   ]
  },
  {
   "attachments": {},
   "cell_type": "markdown",
   "metadata": {},
   "source": [
    "### Linear Regression"
   ]
  },
  {
   "attachments": {},
   "cell_type": "markdown",
   "metadata": {},
   "source": [
    "Note that SckiKit doesn't offer MAE loss for its `LinearRegression` implementation. However, `linear_model.SGDRegressor` can be made to use an MAE loss by using `epsilon_insensitive` loss and setting its $\\epsilon$ hyperparam to $0$.\n",
    "\n",
    "Note that this does mean we will be using SGD for descent, so our model will take more steps to converge and loss won't strcitly decrease, but in our case using SGD will actually be helpful since our dataset is relatively large, so each epoch will be much faster."
   ]
  },
  {
   "cell_type": "code",
   "execution_count": 16,
   "metadata": {},
   "outputs": [],
   "source": [
    "from sklearn.linear_model import SGDRegressor\n",
    "\n",
    "linreg_mae_model = SGDRegressor(loss='epsilon_insensitive', epsilon=0, max_iter=MAX_EPOCHS, verbose=1)"
   ]
  },
  {
   "cell_type": "code",
   "execution_count": null,
   "metadata": {},
   "outputs": [],
   "source": [
    "linreg_mae_model.fit(X_train_scaled, y_train)"
   ]
  }
 ],
 "metadata": {
  "kernelspec": {
   "display_name": "cogs118a_g5",
   "language": "python",
   "name": "python3"
  },
  "language_info": {
   "codemirror_mode": {
    "name": "ipython",
    "version": 3
   },
   "file_extension": ".py",
   "mimetype": "text/x-python",
   "name": "python",
   "nbconvert_exporter": "python",
   "pygments_lexer": "ipython3",
   "version": "3.11.3"
  },
  "orig_nbformat": 4
 },
 "nbformat": 4,
 "nbformat_minor": 2
}
