{
 "cells": [
  {
   "attachments": {},
   "cell_type": "markdown",
   "metadata": {},
   "source": [
    "# COGS 118A- Project Proposal"
   ]
  },
  {
   "attachments": {},
   "cell_type": "markdown",
   "metadata": {},
   "source": [
    "# Names\n",
    "\n",
    "- Keri Chen\n",
    "- Arth Shukla\n",
    "- WonJae Lee\n",
    "- Ashley Chu\n",
    "- Cynthia Delira"
   ]
  },
  {
   "attachments": {},
   "cell_type": "markdown",
   "metadata": {},
   "source": [
    "# Abstract \n",
    "Real estate is the foundation for many life milestones like owning a home, starting a family or a business, and more. However, it may be hard to break into the real estate world without first doing a lot of research and planning because real estate is after all, an investment. By building a ML model that helps predict the price of home, this can hopefully help to make the process easier for prospective homeowners and sellers. The data we will be using encompasses 5+ million Russian real estate sales from 2018 - 2021 and has multiple variables. Although our dataset is in the Russian market, it provides us a lot of data points that can allow us to learn more about the different models and generalize it to different markets.\n",
    "\n",
    "We will perform some EDA analysis to view the correlation of the different factors, and then build a linear regression model using CART regression, logistic regression, and random forest. We will then evaluate the performance of our model using mean absolute error (MAE)."
   ]
  },
  {
   "attachments": {},
   "cell_type": "markdown",
   "metadata": {},
   "source": [
    "# Background\n",
    "\n",
    "The real estate market has been a pivotal factor and contributor in the economy as according to the National Association of Home Builders, housing’s combined contribution to gross domestic product (GDP) generally averages 15-18%<a name=\"nahb\"></a>[<sup>[1]</sup>](#nahb). This percentage is calculated based on both residential investment as well as consumption spending on housing. Not only is housing a contributor to the economy but it is also an important asset to people’s lives as it not only signifies having a place to sleep in but is often perceived as a way to show one’s social status and a valuable asset where money can be allocated.\n",
    "\n",
    "\n",
    "Despite the importance and high contribution that the market is to the economy, it has many factors that can quickly change the market and with this constant change it can be detrimental to the economy if no predictions are made on this rapidly changing market. Four key factors that can create a fluctuation in the market are demographics, interest rates, economy, and government policies<a name=\"keyfactors\"></a>[<sup>[2]</sup>](#keyfactors).\n",
    "\n",
    "\n",
    "The first factor is demographics consists of the data of the population near the location which affects the pricing of the house and also the demand the property has. To add on, interest rates affect whether a person is able to purchase the property since an increase in rates leads to an increase in the cost of the mortgage which will decrease the price of the real estate as well as decrease the demand for the property.\n",
    "Next economy plays a major role in the real estate market as the economy represents inflation and employment data, thus if the economy is not at its best then this will have a negative impact on the market.\n",
    "\n",
    "\n",
    "Lastly, government policies can play a role in the market as it can pass incentives in order to promote home buying which can temporarily boost demand in the market. With this information, the real estate market is a market that has many factors that affect it which will lead to constant increases and decreases in housing prices which is why predicting these trends is detrimental to know when the demand will increase or decrease in the market.\n",
    "\n",
    "\n",
    "There has been a lot of prior (and ongoing) research within the real estate industry, especially real estate companies such as Zillow with their “Neural Zestimate,”<a name=\"Zestimate\"></a>[<sup>[3]</sup>](#Zestimate). Redfin with their “Redfin Estimate,”<a name=\"Redfin\"></a>[<sup>[4]</sup>](#Redfin). and many other real estate companies also have their own models for estimating home prices. Since each model is built differently, this leads to varying price estimations. However, the basis of the models are similar as it takes in large amounts of previous transactions and/or MLS data to get various variables to find good features to base the model off of as it keeps retraining to get better results.  "
   ]
  },
  {
   "attachments": {},
   "cell_type": "markdown",
   "metadata": {},
   "source": [
    "# Problem Statement\n",
    "\n",
    "The real estate market can be a turbulent and rapidly changing environment, where it is often hard to predict the actual value of the home, as opposed to high prices due to supply and demand, or other factors which may artificially increase home prices. We aim to make it easier for people to get this type of information by training a ML model on a large dataset of previous home purchases in order to predict what price point a home may be at. "
   ]
  },
  {
   "attachments": {},
   "cell_type": "markdown",
   "metadata": {},
   "source": [
    "# Data\n",
    "\n",
    "Our current best candidate is the following dataset of <a href=\"https://www.kaggle.com/datasets/mrdaniilak/russia-real-estate-20182021\">Russian Real Estate pricing from 2018-2021.</a> The dataset contains an incredible 5 million+ data points, with no null values and only a few thousand duplicate rows. Therefore, our data is very-well poised to avoid generalization without uses of techniques like cross-validation.\n",
    "\n",
    "There are 13 variables, 2 categorical, 2 location-based, and the rest ordinal. We will be removing the latitude and longitude columns as these prevent ethical issues regarding the location of homeowners and intense violations of privacy.\n",
    "\n",
    "Each observation contains the price of a house, listing date and time, geographic location, region, and information about the building (type, storeys, floor, living rooms, rooms). Notably, it does not contain square footage, which is a landmark in much of the American real estate market.\n",
    "\n",
    "Critical variables mostly encompass the house descriptions and the time of publishing. We will need to one-hot encode building type. We may split the data by region, in which case we will not need to one-hot encode, but if we decide not to split, then we will need to one-hot encode this as well. Building type will not largely increase the width of the design matrix, but region likely will, so it is preferred not to use the region for non-tree regression models.\n",
    "\n",
    "Finally, we will need to convert data and time of publication to only the year, and potentially also the month, in case we’d like to do time series analysis. As mentioned earlier, we’ll also remove the latitude and longitude due to concerns of privacy. Finally, for our non-tree models, we will also normalize our data points by z-score, since data like price in rubles will be orders of magnitude larger than number of rooms.\n"
   ]
  },
  {
   "attachments": {},
   "cell_type": "markdown",
   "metadata": {},
   "source": [
    "# Proposed Solution\n",
    "\n",
    "Note that we discuss error metrics, including justifications for L1 loss (MAE), in the Evaluation Metrics section.\n",
    "\n",
    "Before discussing our implementation, regarding benchmark models: there are some models available on Kaggle using time series analysis, which might result in good outputs. However, there are no significant authorities on Russian real estate pricing in machine learning, especially since this is an emerging market. Furthermore, American authorities on real estate prediction often keep their models internal as a part of their business model, so it is difficult to use existing robust benchmark models without apis and the sort.\n",
    "First, it is important to note that our dataset is massive. With over 5 million samples, our model will certainly generalize well, but this also means we may have too many confounding variables and our model may not reach high enough MAE. During EDA, we will determine cities which contain interesting data, and we can fragment our data by city. Depending on computational resources and time constraints, we may choose multiple cities, or only use one.\n",
    "\n",
    "Second, regardless of which or how many cities we use, this data is simply far too massive for any form of CV. Additionally, CV is not necessary here, since our validation set is likely to generalize well.\n",
    "Finally, luckily much of the data is ordinal, with few categorical variables with limited possible values. For our regression models, we may try to avoid extra data points such that we don’t have too many features in our design matrix. However, to attempt to include these features in at least one model, we will also try random forests.\n",
    "\n",
    "- CART Regression\n",
    "- Linear regression using L1 loss\n",
    "- After performing EDA, if certain metrics seem like they could use polynomial features, we can also try polynomial regression using L1 loss.\n",
    "- Random Forests to include categorical variables.\n",
    "\n",
    "\n",
    "We can also try variants of linear and polynomial regression using L2 regularization. It is unlikely that many of these features will be confounding (though we can confirm with EDA), so L2 regularization is likely more reasonable. We can also try mixed regularization in case some features are, indeed, confounding.\n",
    "\n",
    "Then, if we have enough computational resources, we can perform grid search on different hyperparameters for model selection. However, if this is not feasible, we can empirically justify pruning techniques, regularization mix, etc.\n",
    "\n",
    "Finally, we will use sklearn for all implementations for 1) readable code, and 2) efficient, thoroughly tested implementations of the algorithms discussed above. While tools like Keras do have gpu acceleration, these methods aren’t as useful for our models as compared to neural network models.\n"
   ]
  },
  {
   "attachments": {},
   "cell_type": "markdown",
   "metadata": {},
   "source": [
    "# Evaluation Metrics\n",
    "\n",
    "The three most common metrics for regression are mean squared error (MSE), mean absolute error (MAE) and root mean squared error (RMSE). MSE and RMSE heavily penalize outliers, while MAE proportionately penalizes all errors. Our data includes some more extreme outliers (10 living rooms, 39th floor, etc). For these ‘extreme’ sorts of houses, there are also many extra possible factors beyond measurable features like number of rooms; for example, the ‘art’ of designing expensive homes with luxury features. So, using MSE or RMSE would likely bias our model to these extreme outliers while lowering our model’s success in gauging prices for a majority of houses on the market. Conversely, MAE would result in a better representation of the data for a majority of ‘normal’ cases. Therefore, we will stick to MAE.\n"
   ]
  },
  {
   "attachments": {},
   "cell_type": "markdown",
   "metadata": {},
   "source": [
    "# Ethics & Privacy"
   ]
  },
  {
   "attachments": {},
   "cell_type": "markdown",
   "metadata": {},
   "source": [
    "- The Russian economy is currently in a volatile position due to the war in Ukraine. If our model were to be used as a source of truth, and if it were too optimistic or pessimistic, we could wrongfully inflate the market or cause people to sell their homes for less than they are truly worth. Real estate investments can make or break one’s livelihood, especially in a turbulent and growing market like Russia, so making sure our model is functional and usable is important.\n",
    "- The dataset doesn’t contain explicit personal information, but it contains information like date and time of listing publication and longitude/latitude location, which could potentially be used to identify individuals.\n",
    "- The data is collected under specific legal provisions, which means it is collected lawfully, but it should be ensured that the use of this data for a machine learning project aligns with the original purpose of data collection.\n",
    "- Any dataset has a potential for systematic biases, which could result in biased outcomes in a machine learning project. It is important to be aware of this and to either adjust the dataset to more fairly represent different groups or adjust the machine learning model to reduce bias in its prediction.\n"
   ]
  },
  {
   "attachments": {},
   "cell_type": "markdown",
   "metadata": {},
   "source": [
    "# Team Expectations "
   ]
  },
  {
   "attachments": {},
   "cell_type": "markdown",
   "metadata": {},
   "source": [
    "Put things here that cement how you will interact/communicate as a team, how you will handle conflict and difficulty, how you will handle making decisions and setting goals/schedule, how much work you expect from each other, how you will handle deadlines, etc...\n",
    "* Attend weekly meetings\n",
    "* Do work in a timely manner\n",
    "* If you need help or something comes up please message as soon as you can on Discord\n"
   ]
  },
  {
   "attachments": {},
   "cell_type": "markdown",
   "metadata": {},
   "source": [
    "# Project Timeline Proposal"
   ]
  },
  {
   "attachments": {},
   "cell_type": "markdown",
   "metadata": {},
   "source": [
    "Replace this with something meaningful that is appropriate for your needs. It doesn't have to be something that fits this format.  It doesn't have to be set in stone... \"no battle plan survives contact with the enemy\". But you need a battle plan nonetheless, and you need to keep it updated so you understand what you are trying to accomplish, who's responsible for what, and what the expected due dates are for each item.\n",
    "\n",
    "| Meeting Date  | Meeting Time| Completed Before Meeting  | Discuss at Meeting |\n",
    "|---|---|---|---|\n",
    "| 5/9  |  8 PM |  Brainstorm topics/questions (all)  | Discuss and decide on final project topic, assign sections to group members| \n",
    "| 5/16  |  8 PM |  Assigned sections: <br/>Keri: Abstract/Problem Statement<br/>Cynthia: Background<br/>Ashley: Data<br/>Arth: Proposed Solution/Evaluation Metrics<br/> Wonjae: Ethics & Privacy | Review work for proposal due on Wednesday. Talk about checkpoint work and possible models to build | \n",
    "| 5/23 | 8 PM  | Start work on EDA for data and building the models| What the models represent and how to make the models better, and evaluation methods  |\n",
    "| 5/30  | 8 PM  | Review findings for checkpoint turn in on wednesday | Start thinking about what needs to be done for the final project and if any changes need to be made for the models |\n",
    "| 6/6  | 8 PM  | Finalize the models and testing | Discuss final project plans and any changes that need to be made, and further testing and evaluation of the models|\n",
    "| 6/13  | 8 PM  | Final run through of information and dataset, make sure everything looks clean and ready to turn in. | Make sure everything looks good and everyone is satisfied with the results of the final project."
   ]
  },
  {
   "attachments": {},
   "cell_type": "markdown",
   "metadata": {},
   "source": [
    "# Footnotes\n",
    "<a name = \"nahb\"></a>1.[^](#nahb): Housing’s Contribution to Gross Domestic Product. https://www.nahb.org/news-and-economics/housing-economics/housings-economic-impact/housings-contribution-to-gross-domestic-product#:~:text=Share%3A,homes%2C%20and%20brokers'%20fees.<br> \n",
    "<a name=\"keyfactors\"></a>2.[^](#keyfactors): Key Factors That Drive the Real Estate Market. https://www.investopedia.com/articles/mortages-real-estate/11/factors-affecting-real-estate-market.asp <br>\n",
    "<a name=\"Zestimate\"></a>3.[^](#Zestimate): Building the Neural Zestimate\n",
    ". https://www.zillow.com/tech/building-the-neural-zestimate/ <br>\n",
    "<a name=\"Redfin\"></a>4.[^](#Redfin): Redfin Estimate. https://www.redfin.com/redfin-estimate <br>\n",
    "\n"
   ]
  },
  {
   "attachments": {},
   "cell_type": "markdown",
   "metadata": {},
   "source": []
  }
 ],
 "metadata": {
  "kernelspec": {
   "display_name": "Python 3",
   "language": "python",
   "name": "python3"
  },
  "language_info": {
   "codemirror_mode": {
    "name": "ipython",
    "version": 3
   },
   "file_extension": ".py",
   "mimetype": "text/x-python",
   "name": "python",
   "nbconvert_exporter": "python",
   "pygments_lexer": "ipython3",
   "version": "3.8.8"
  }
 },
 "nbformat": 4,
 "nbformat_minor": 2
}
