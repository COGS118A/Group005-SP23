{
 "cells": [
  {
   "cell_type": "code",
   "execution_count": null,
   "metadata": {},
   "outputs": [
    {
     "name": "stdout",
     "output_type": "stream",
     "text": [
      "Training CV with 3 folds on hparams {'n_estimators': 100, 'max_depth': 10, 'min_samples_split': 5}\n",
      "CV Score: 1021692.8937321712\n",
      "Training CV with 3 folds on hparams {'n_estimators': 100, 'max_depth': 10, 'min_samples_split': 10}\n",
      "CV Score: 1020902.7280213293\n",
      "Training CV with 3 folds on hparams {'n_estimators': 100, 'max_depth': 40, 'min_samples_split': 5}\n",
      "CV Score: 998694.8964037757\n",
      "Training CV with 3 folds on hparams {'n_estimators': 100, 'max_depth': 40, 'min_samples_split': 10}\n",
      "CV Score: 991450.7500481824\n",
      "Training CV with 3 folds on hparams {'n_estimators': 100, 'max_depth': 100, 'min_samples_split': 5}\n",
      "CV Score: 998694.9052539022\n",
      "Training CV with 3 folds on hparams {'n_estimators': 100, 'max_depth': 100, 'min_samples_split': 10}\n",
      "CV Score: 991450.7500481824\n"
     ]
    }
   ],
   "source": [
    "hparam_grid['n_estimators'] = [100]\n",
    "cv_scores_100 = custom_grid_search(cuRF, hparam_grid, def_kwargs, folds=3, verbose=1)"
   ]
  },
  {
   "cell_type": "code",
   "execution_count": null,
   "metadata": {},
   "outputs": [
    {
     "name": "stdout",
     "output_type": "stream",
     "text": [
      "{\"{'n_estimators': 100, 'max_depth': 10, 'min_samples_split': 5}\": 1021692.8937321712, \"{'n_estimators': 100, 'max_depth': 10, 'min_samples_split': 10}\": 1020902.7280213293, \"{'n_estimators': 100, 'max_depth': 40, 'min_samples_split': 5}\": 998694.8964037757, \"{'n_estimators': 100, 'max_depth': 40, 'min_samples_split': 10}\": 991450.7500481824, \"{'n_estimators': 100, 'max_depth': 100, 'min_samples_split': 5}\": 998694.9052539022, \"{'n_estimators': 100, 'max_depth': 100, 'min_samples_split': 10}\": 991450.7500481824}\n"
     ]
    }
   ],
   "source": [
    "print(cv_scores_100)"
   ]
  },
  {
   "cell_type": "code",
   "execution_count": null,
   "metadata": {},
   "outputs": [
    {
     "name": "stdout",
     "output_type": "stream",
     "text": [
      "Training CV with 3 folds on hparams {'n_estimators': 500, 'max_depth': 10, 'min_samples_split': 5}\n",
      "CV Score: 1021773.178590781\n",
      "Training CV with 3 folds on hparams {'n_estimators': 500, 'max_depth': 10, 'min_samples_split': 10}\n",
      "CV Score: 1020870.801999282\n",
      "Training CV with 3 folds on hparams {'n_estimators': 500, 'max_depth': 40, 'min_samples_split': 5}\n",
      "CV Score: 996130.8280197185\n",
      "Training CV with 3 folds on hparams {'n_estimators': 500, 'max_depth': 40, 'min_samples_split': 10}\n",
      "CV Score: 989268.5956768282\n",
      "Training CV with 3 folds on hparams {'n_estimators': 500, 'max_depth': 100, 'min_samples_split': 5}\n",
      "CV Score: 996130.846862845\n",
      "Training CV with 3 folds on hparams {'n_estimators': 500, 'max_depth': 100, 'min_samples_split': 10}\n",
      "CV Score: 989268.6201271773\n"
     ]
    }
   ],
   "source": [
    "hparam_grid['n_estimators'] = [500]\n",
    "cv_scores_500 = custom_grid_search(cuRF, hparam_grid, def_kwargs, folds=3, verbose=1)"
   ]
  },
  {
   "cell_type": "code",
   "execution_count": null,
   "metadata": {},
   "outputs": [
    {
     "name": "stdout",
     "output_type": "stream",
     "text": [
      "{\"{'n_estimators': 500, 'max_depth': 10, 'min_samples_split': 5}\": 1021773.178590781, \"{'n_estimators': 500, 'max_depth': 10, 'min_samples_split': 10}\": 1020870.801999282, \"{'n_estimators': 500, 'max_depth': 40, 'min_samples_split': 5}\": 996130.8280197185, \"{'n_estimators': 500, 'max_depth': 40, 'min_samples_split': 10}\": 989268.5956768282, \"{'n_estimators': 500, 'max_depth': 100, 'min_samples_split': 5}\": 996130.846862845, \"{'n_estimators': 500, 'max_depth': 100, 'min_samples_split': 10}\": 989268.6201271773}\n"
     ]
    }
   ],
   "source": [
    "print(cv_scores_500)"
   ]
  },
  {
   "cell_type": "code",
   "execution_count": null,
   "metadata": {},
   "outputs": [
    {
     "name": "stdout",
     "output_type": "stream",
     "text": [
      "Training CV with 3 folds on hparams {'n_estimators': 100, 'max_depth': 10, 'min_samples_split': 2}\n",
      "CV Score: 1022073.6834306028\n",
      "Training CV with 3 folds on hparams {'n_estimators': 100, 'max_depth': 10, 'min_samples_split': 5}\n",
      "CV Score: 1021692.8937321712\n",
      "Training CV with 3 folds on hparams {'n_estimators': 100, 'max_depth': 10, 'min_samples_split': 10}\n",
      "CV Score: 1020902.7280213293\n",
      "Training CV with 3 folds on hparams {'n_estimators': 100, 'max_depth': 40, 'min_samples_split': 2}\n",
      "CV Score: 1004337.8428912534\n",
      "Training CV with 3 folds on hparams {'n_estimators': 100, 'max_depth': 40, 'min_samples_split': 5}\n",
      "CV Score: 998694.8964037757\n",
      "Training CV with 3 folds on hparams {'n_estimators': 100, 'max_depth': 40, 'min_samples_split': 10}\n",
      "CV Score: 991450.7500481824\n",
      "Training CV with 3 folds on hparams {'n_estimators': 100, 'max_depth': 100, 'min_samples_split': 2}\n",
      "CV Score: 1004337.8658022949\n",
      "Training CV with 3 folds on hparams {'n_estimators': 100, 'max_depth': 100, 'min_samples_split': 5}\n",
      "CV Score: 998694.9052539022\n",
      "Training CV with 3 folds on hparams {'n_estimators': 100, 'max_depth': 100, 'min_samples_split': 10}\n",
      "CV Score: 991450.7500481824\n",
      "Training CV with 3 folds on hparams {'n_estimators': 200, 'max_depth': 10, 'min_samples_split': 2}\n",
      "CV Score: 1022493.7218907014\n",
      "Training CV with 3 folds on hparams {'n_estimators': 200, 'max_depth': 10, 'min_samples_split': 5}\n",
      "CV Score: 1022041.0059439024\n",
      "Training CV with 3 folds on hparams {'n_estimators': 200, 'max_depth': 10, 'min_samples_split': 10}\n",
      "CV Score: 1021036.8639046397\n",
      "Training CV with 3 folds on hparams {'n_estimators': 200, 'max_depth': 40, 'min_samples_split': 2}\n",
      "CV Score: 1003203.163681962\n",
      "Training CV with 3 folds on hparams {'n_estimators': 200, 'max_depth': 40, 'min_samples_split': 5}\n",
      "CV Score: 997652.3768807901\n",
      "Training CV with 3 folds on hparams {'n_estimators': 200, 'max_depth': 40, 'min_samples_split': 10}\n",
      "CV Score: 990564.9668405979\n",
      "Training CV with 3 folds on hparams {'n_estimators': 200, 'max_depth': 100, 'min_samples_split': 2}\n",
      "CV Score: 1003203.1873751576\n",
      "Training CV with 3 folds on hparams {'n_estimators': 200, 'max_depth': 100, 'min_samples_split': 5}\n",
      "CV Score: 997652.3554554839\n",
      "Training CV with 3 folds on hparams {'n_estimators': 200, 'max_depth': 100, 'min_samples_split': 10}\n",
      "CV Score: 990564.9668405979\n",
      "Training CV with 3 folds on hparams {'n_estimators': 300, 'max_depth': 10, 'min_samples_split': 2}\n",
      "CV Score: 1022396.9258315094\n",
      "Training CV with 3 folds on hparams {'n_estimators': 300, 'max_depth': 10, 'min_samples_split': 5}\n",
      "CV Score: 1021980.0936133781\n",
      "Training CV with 3 folds on hparams {'n_estimators': 300, 'max_depth': 10, 'min_samples_split': 10}\n",
      "CV Score: 1021138.5316799633\n",
      "Training CV with 3 folds on hparams {'n_estimators': 300, 'max_depth': 40, 'min_samples_split': 2}\n",
      "CV Score: 1002385.6414890966\n",
      "Training CV with 3 folds on hparams {'n_estimators': 300, 'max_depth': 40, 'min_samples_split': 5}\n",
      "CV Score: 996815.6301299388\n",
      "Training CV with 3 folds on hparams {'n_estimators': 300, 'max_depth': 40, 'min_samples_split': 10}\n",
      "CV Score: 989919.8142639565\n",
      "Training CV with 3 folds on hparams {'n_estimators': 300, 'max_depth': 100, 'min_samples_split': 2}\n",
      "CV Score: 1002385.6371676062\n",
      "Training CV with 3 folds on hparams {'n_estimators': 300, 'max_depth': 100, 'min_samples_split': 5}\n",
      "CV Score: 996815.6560588805\n",
      "Training CV with 3 folds on hparams {'n_estimators': 300, 'max_depth': 100, 'min_samples_split': 10}\n",
      "CV Score: 989919.8550288245\n",
      "Training CV with 3 folds on hparams {'n_estimators': 400, 'max_depth': 10, 'min_samples_split': 2}\n",
      "CV Score: 1022194.4560824324\n",
      "Training CV with 3 folds on hparams {'n_estimators': 400, 'max_depth': 10, 'min_samples_split': 5}\n",
      "CV Score: 1021738.206241631\n",
      "Training CV with 3 folds on hparams {'n_estimators': 400, 'max_depth': 10, 'min_samples_split': 10}\n",
      "CV Score: 1020983.6155909193\n",
      "Training CV with 3 folds on hparams {'n_estimators': 400, 'max_depth': 40, 'min_samples_split': 2}\n",
      "CV Score: 1001752.6280637919\n",
      "Training CV with 3 folds on hparams {'n_estimators': 400, 'max_depth': 40, 'min_samples_split': 5}\n",
      "CV Score: 996226.9905407708\n",
      "Training CV with 3 folds on hparams {'n_estimators': 400, 'max_depth': 40, 'min_samples_split': 10}\n",
      "CV Score: 989482.5533754831\n",
      "Training CV with 3 folds on hparams {'n_estimators': 400, 'max_depth': 100, 'min_samples_split': 2}\n",
      "CV Score: 1001752.6075813794\n",
      "Training CV with 3 folds on hparams {'n_estimators': 400, 'max_depth': 100, 'min_samples_split': 5}\n",
      "CV Score: 996226.9984587411\n",
      "Training CV with 3 folds on hparams {'n_estimators': 400, 'max_depth': 100, 'min_samples_split': 10}\n",
      "CV Score: 989482.5839616345\n",
      "Training CV with 3 folds on hparams {'n_estimators': 500, 'max_depth': 10, 'min_samples_split': 2}\n",
      "CV Score: 1022143.7275951598\n",
      "Training CV with 3 folds on hparams {'n_estimators': 500, 'max_depth': 10, 'min_samples_split': 5}\n",
      "CV Score: 1021773.178590781\n",
      "Training CV with 3 folds on hparams {'n_estimators': 500, 'max_depth': 10, 'min_samples_split': 10}\n",
      "CV Score: 1020870.801999282\n",
      "Training CV with 3 folds on hparams {'n_estimators': 500, 'max_depth': 40, 'min_samples_split': 2}\n"
     ]
    }
   ],
   "source": [
    "cv_scores_RF = custom_grid_search(cuRF, hparam_grid, def_kwargs, folds=3, verbose=1)"
   ]
  }
 ],
 "metadata": {
  "language_info": {
   "name": "python"
  },
  "orig_nbformat": 4
 },
 "nbformat": 4,
 "nbformat_minor": 2
}
