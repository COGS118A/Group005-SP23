{
 "cells": [
  {
   "attachments": {},
   "cell_type": "markdown",
   "metadata": {},
   "source": [
    "# Group 005 Real Estate Analysis"
   ]
  },
  {
   "attachments": {},
   "cell_type": "markdown",
   "metadata": {},
   "source": [
    "## Setup and Load Data"
   ]
  },
  {
   "attachments": {},
   "cell_type": "markdown",
   "metadata": {},
   "source": [
    "First, we retrieve the dataste from https://www.kaggle.com/datasets/mrdaniilak/russia-real-estate-20182021.\n",
    "\n",
    "If using the below cell, make sure you have a Kaggle API token in a `kaggle.json` file in `~/.kaggle/`. Otherwise, please download the data manually and place it under a folder `./data/`."
   ]
  },
  {
   "cell_type": "code",
   "execution_count": 22,
   "metadata": {},
   "outputs": [],
   "source": [
    "# !mkdir data\n",
    "# !kaggle datasets download mrdaniilak/russia-real-estate-20182021\n",
    "# !mv ./russia-real-estate-20182021.zip ./data/russia-real-estate-20182021.zip"
   ]
  },
  {
   "cell_type": "code",
   "execution_count": 23,
   "metadata": {},
   "outputs": [],
   "source": [
    "# import zipfile\n",
    "# with zipfile.ZipFile('./data/russia-real-estate-20182021.zip', 'r') as zip_ref:\n",
    "#     zip_ref.extractall('./data')"
   ]
  },
  {
   "attachments": {},
   "cell_type": "markdown",
   "metadata": {},
   "source": [
    "Now, we may proceed with exploration."
   ]
  },
  {
   "cell_type": "code",
   "execution_count": 24,
   "metadata": {},
   "outputs": [],
   "source": [
    "import pandas as pd\n",
    "import numpy as np\n",
    "import matplotlib.pyplot as plt\n",
    "import seaborn as sns"
   ]
  },
  {
   "cell_type": "code",
   "execution_count": 25,
   "metadata": {},
   "outputs": [],
   "source": [
    "DATA_CSV_PATH = './data/all_v2.csv'\n",
    "\n",
    "# load csv data\n",
    "df = pd.read_csv(DATA_CSV_PATH)\n",
    "\n",
    "# remove duplicate data\n",
    "df = df.drop_duplicates()"
   ]
  },
  {
   "cell_type": "code",
   "execution_count": 26,
   "metadata": {},
   "outputs": [
    {
     "data": {
      "text/html": [
       "<div>\n",
       "<style scoped>\n",
       "    .dataframe tbody tr th:only-of-type {\n",
       "        vertical-align: middle;\n",
       "    }\n",
       "\n",
       "    .dataframe tbody tr th {\n",
       "        vertical-align: top;\n",
       "    }\n",
       "\n",
       "    .dataframe thead th {\n",
       "        text-align: right;\n",
       "    }\n",
       "</style>\n",
       "<table border=\"1\" class=\"dataframe\">\n",
       "  <thead>\n",
       "    <tr style=\"text-align: right;\">\n",
       "      <th></th>\n",
       "      <th>price</th>\n",
       "      <th>date</th>\n",
       "      <th>time</th>\n",
       "      <th>geo_lat</th>\n",
       "      <th>geo_lon</th>\n",
       "      <th>region</th>\n",
       "      <th>building_type</th>\n",
       "      <th>level</th>\n",
       "      <th>levels</th>\n",
       "      <th>rooms</th>\n",
       "      <th>area</th>\n",
       "      <th>kitchen_area</th>\n",
       "      <th>object_type</th>\n",
       "    </tr>\n",
       "  </thead>\n",
       "  <tbody>\n",
       "    <tr>\n",
       "      <th>2777425</th>\n",
       "      <td>2650000</td>\n",
       "      <td>2019-10-23</td>\n",
       "      <td>15:15:53</td>\n",
       "      <td>45.037572</td>\n",
       "      <td>41.958932</td>\n",
       "      <td>2900</td>\n",
       "      <td>3</td>\n",
       "      <td>4</td>\n",
       "      <td>5</td>\n",
       "      <td>3</td>\n",
       "      <td>58.00</td>\n",
       "      <td>6.0</td>\n",
       "      <td>1</td>\n",
       "    </tr>\n",
       "    <tr>\n",
       "      <th>950138</th>\n",
       "      <td>1540000</td>\n",
       "      <td>2019-01-18</td>\n",
       "      <td>02:54:57</td>\n",
       "      <td>54.943804</td>\n",
       "      <td>82.957871</td>\n",
       "      <td>9654</td>\n",
       "      <td>1</td>\n",
       "      <td>10</td>\n",
       "      <td>10</td>\n",
       "      <td>1</td>\n",
       "      <td>41.36</td>\n",
       "      <td>11.0</td>\n",
       "      <td>11</td>\n",
       "    </tr>\n",
       "    <tr>\n",
       "      <th>5321260</th>\n",
       "      <td>3300000</td>\n",
       "      <td>2021-04-10</td>\n",
       "      <td>06:11:21</td>\n",
       "      <td>55.060483</td>\n",
       "      <td>82.973095</td>\n",
       "      <td>9654</td>\n",
       "      <td>3</td>\n",
       "      <td>2</td>\n",
       "      <td>3</td>\n",
       "      <td>3</td>\n",
       "      <td>56.00</td>\n",
       "      <td>6.0</td>\n",
       "      <td>1</td>\n",
       "    </tr>\n",
       "    <tr>\n",
       "      <th>3653090</th>\n",
       "      <td>2800000</td>\n",
       "      <td>2020-04-24</td>\n",
       "      <td>11:27:21</td>\n",
       "      <td>45.103631</td>\n",
       "      <td>38.959898</td>\n",
       "      <td>2843</td>\n",
       "      <td>3</td>\n",
       "      <td>13</td>\n",
       "      <td>17</td>\n",
       "      <td>2</td>\n",
       "      <td>62.30</td>\n",
       "      <td>9.8</td>\n",
       "      <td>1</td>\n",
       "    </tr>\n",
       "    <tr>\n",
       "      <th>2434598</th>\n",
       "      <td>1999000</td>\n",
       "      <td>2019-08-23</td>\n",
       "      <td>04:29:09</td>\n",
       "      <td>55.987335</td>\n",
       "      <td>92.888460</td>\n",
       "      <td>3870</td>\n",
       "      <td>1</td>\n",
       "      <td>5</td>\n",
       "      <td>5</td>\n",
       "      <td>2</td>\n",
       "      <td>45.00</td>\n",
       "      <td>6.0</td>\n",
       "      <td>1</td>\n",
       "    </tr>\n",
       "  </tbody>\n",
       "</table>\n",
       "</div>"
      ],
      "text/plain": [
       "           price        date      time    geo_lat    geo_lon  region  \\\n",
       "2777425  2650000  2019-10-23  15:15:53  45.037572  41.958932    2900   \n",
       "950138   1540000  2019-01-18  02:54:57  54.943804  82.957871    9654   \n",
       "5321260  3300000  2021-04-10  06:11:21  55.060483  82.973095    9654   \n",
       "3653090  2800000  2020-04-24  11:27:21  45.103631  38.959898    2843   \n",
       "2434598  1999000  2019-08-23  04:29:09  55.987335  92.888460    3870   \n",
       "\n",
       "         building_type  level  levels  rooms   area  kitchen_area  object_type  \n",
       "2777425              3      4       5      3  58.00           6.0            1  \n",
       "950138               1     10      10      1  41.36          11.0           11  \n",
       "5321260              3      2       3      3  56.00           6.0            1  \n",
       "3653090              3     13      17      2  62.30           9.8            1  \n",
       "2434598              1      5       5      2  45.00           6.0            1  "
      ]
     },
     "execution_count": 26,
     "metadata": {},
     "output_type": "execute_result"
    }
   ],
   "source": [
    "df.sample(5)"
   ]
  },
  {
   "attachments": {},
   "cell_type": "markdown",
   "metadata": {},
   "source": [
    "Note that this Kaggle Dataset was originally pulled from GeoNames (http://www.geonames.org/), which has its own \"regions\" separated by county. Our city of interest, Moscow, has ID 81.\n",
    "\n",
    "Addtionally, we will give categorical data appropriate labels given by the dataset spec."
   ]
  },
  {
   "cell_type": "code",
   "execution_count": 27,
   "metadata": {},
   "outputs": [],
   "source": [
    "MOSCOW_CODE = 81\n",
    "MAX_NUM_SAMPLES = 100000\n",
    "SEED = 69\n",
    "\n",
    "RUBLE_TO_DOLLAR = 0.012\n",
    "\n",
    "moscow_df = df.loc[df['region'] == MOSCOW_CODE]\n",
    "moscow_df = moscow_df.drop(['time', 'geo_lat', 'geo_lon', 'region'], axis=1)\n",
    "moscow_df['date'] = moscow_df['date'].apply(lambda x: int(x[:4]))\n",
    "\n",
    "moscow_df['object_type'] = moscow_df['object_type'].replace(1, 'preowned').replace(11, 'new')\n",
    "moscow_df['building_type'] = moscow_df['building_type'].replace(0, 'other').replace(1, 'panel').replace(2, 'monolithic').replace(3, 'brick').replace(4, 'blocky').replace(5, 'wooden')\n",
    "\n",
    "# -1 means studio apartment, so we replace with 0 (since studio apartments have no extra rooms)\n",
    "# there are not other datapoints with value 0\n",
    "moscow_df['rooms'] = moscow_df['rooms'].replace(-1, 0)\n",
    "\n",
    "# remove rows with errorneous data\n",
    "moscow_df = moscow_df[moscow_df['price'] >= 0]\n",
    "moscow_df = moscow_df[moscow_df['rooms'] >= 0]\n",
    "moscow_df['price'] = moscow_df['price'] * RUBLE_TO_DOLLAR\n",
    "\n",
    "# cap number of elements\n",
    "moscow_df = moscow_df.sample(MAX_NUM_SAMPLES, random_state=SEED)"
   ]
  },
  {
   "cell_type": "code",
   "execution_count": 28,
   "metadata": {},
   "outputs": [
    {
     "data": {
      "text/plain": [
       "False"
      ]
     },
     "execution_count": 28,
     "metadata": {},
     "output_type": "execute_result"
    }
   ],
   "source": [
    "moscow_df.isnull().values.any()"
   ]
  },
  {
   "cell_type": "code",
   "execution_count": 29,
   "metadata": {},
   "outputs": [
    {
     "data": {
      "text/html": [
       "<div>\n",
       "<style scoped>\n",
       "    .dataframe tbody tr th:only-of-type {\n",
       "        vertical-align: middle;\n",
       "    }\n",
       "\n",
       "    .dataframe tbody tr th {\n",
       "        vertical-align: top;\n",
       "    }\n",
       "\n",
       "    .dataframe thead th {\n",
       "        text-align: right;\n",
       "    }\n",
       "</style>\n",
       "<table border=\"1\" class=\"dataframe\">\n",
       "  <thead>\n",
       "    <tr style=\"text-align: right;\">\n",
       "      <th></th>\n",
       "      <th>price</th>\n",
       "      <th>date</th>\n",
       "      <th>building_type</th>\n",
       "      <th>level</th>\n",
       "      <th>levels</th>\n",
       "      <th>rooms</th>\n",
       "      <th>area</th>\n",
       "      <th>kitchen_area</th>\n",
       "      <th>object_type</th>\n",
       "    </tr>\n",
       "  </thead>\n",
       "  <tbody>\n",
       "    <tr>\n",
       "      <th>4823957</th>\n",
       "      <td>106942.08</td>\n",
       "      <td>2020</td>\n",
       "      <td>panel</td>\n",
       "      <td>2</td>\n",
       "      <td>17</td>\n",
       "      <td>3</td>\n",
       "      <td>87.2</td>\n",
       "      <td>19.6</td>\n",
       "      <td>new</td>\n",
       "    </tr>\n",
       "    <tr>\n",
       "      <th>5117973</th>\n",
       "      <td>87649.20</td>\n",
       "      <td>2021</td>\n",
       "      <td>monolithic</td>\n",
       "      <td>16</td>\n",
       "      <td>16</td>\n",
       "      <td>2</td>\n",
       "      <td>58.2</td>\n",
       "      <td>12.3</td>\n",
       "      <td>new</td>\n",
       "    </tr>\n",
       "    <tr>\n",
       "      <th>2890409</th>\n",
       "      <td>48000.00</td>\n",
       "      <td>2019</td>\n",
       "      <td>monolithic</td>\n",
       "      <td>6</td>\n",
       "      <td>17</td>\n",
       "      <td>0</td>\n",
       "      <td>42.0</td>\n",
       "      <td>8.0</td>\n",
       "      <td>new</td>\n",
       "    </tr>\n",
       "    <tr>\n",
       "      <th>4617412</th>\n",
       "      <td>94800.00</td>\n",
       "      <td>2020</td>\n",
       "      <td>brick</td>\n",
       "      <td>9</td>\n",
       "      <td>9</td>\n",
       "      <td>5</td>\n",
       "      <td>227.6</td>\n",
       "      <td>67.3</td>\n",
       "      <td>preowned</td>\n",
       "    </tr>\n",
       "    <tr>\n",
       "      <th>4752921</th>\n",
       "      <td>126000.00</td>\n",
       "      <td>2020</td>\n",
       "      <td>panel</td>\n",
       "      <td>12</td>\n",
       "      <td>15</td>\n",
       "      <td>3</td>\n",
       "      <td>85.3</td>\n",
       "      <td>18.6</td>\n",
       "      <td>new</td>\n",
       "    </tr>\n",
       "  </tbody>\n",
       "</table>\n",
       "</div>"
      ],
      "text/plain": [
       "             price  date building_type  level  levels  rooms   area  \\\n",
       "4823957  106942.08  2020         panel      2      17      3   87.2   \n",
       "5117973   87649.20  2021    monolithic     16      16      2   58.2   \n",
       "2890409   48000.00  2019    monolithic      6      17      0   42.0   \n",
       "4617412   94800.00  2020         brick      9       9      5  227.6   \n",
       "4752921  126000.00  2020         panel     12      15      3   85.3   \n",
       "\n",
       "         kitchen_area object_type  \n",
       "4823957          19.6         new  \n",
       "5117973          12.3         new  \n",
       "2890409           8.0         new  \n",
       "4617412          67.3    preowned  \n",
       "4752921          18.6         new  "
      ]
     },
     "execution_count": 29,
     "metadata": {},
     "output_type": "execute_result"
    }
   ],
   "source": [
    "moscow_df.sample(5)"
   ]
  },
  {
   "attachments": {},
   "cell_type": "markdown",
   "metadata": {},
   "source": [
    "# Exploration"
   ]
  },
  {
   "attachments": {},
   "cell_type": "markdown",
   "metadata": {},
   "source": [
    "First, we'll look at the data distributions for the ordinal data."
   ]
  },
  {
   "cell_type": "code",
   "execution_count": 30,
   "metadata": {},
   "outputs": [
    {
     "data": {
      "text/html": [
       "<div>\n",
       "<style scoped>\n",
       "    .dataframe tbody tr th:only-of-type {\n",
       "        vertical-align: middle;\n",
       "    }\n",
       "\n",
       "    .dataframe tbody tr th {\n",
       "        vertical-align: top;\n",
       "    }\n",
       "\n",
       "    .dataframe thead th {\n",
       "        text-align: right;\n",
       "    }\n",
       "</style>\n",
       "<table border=\"1\" class=\"dataframe\">\n",
       "  <thead>\n",
       "    <tr style=\"text-align: right;\">\n",
       "      <th></th>\n",
       "      <th>price</th>\n",
       "      <th>date</th>\n",
       "      <th>level</th>\n",
       "      <th>levels</th>\n",
       "      <th>rooms</th>\n",
       "      <th>area</th>\n",
       "      <th>kitchen_area</th>\n",
       "    </tr>\n",
       "  </thead>\n",
       "  <tbody>\n",
       "    <tr>\n",
       "      <th>count</th>\n",
       "      <td>1.000000e+05</td>\n",
       "      <td>100000.000000</td>\n",
       "      <td>100000.000000</td>\n",
       "      <td>100000.000000</td>\n",
       "      <td>100000.000000</td>\n",
       "      <td>100000.000000</td>\n",
       "      <td>100000.000000</td>\n",
       "    </tr>\n",
       "    <tr>\n",
       "      <th>mean</th>\n",
       "      <td>5.707663e+04</td>\n",
       "      <td>2019.310120</td>\n",
       "      <td>7.053700</td>\n",
       "      <td>12.752370</td>\n",
       "      <td>1.776320</td>\n",
       "      <td>51.592710</td>\n",
       "      <td>10.362995</td>\n",
       "    </tr>\n",
       "    <tr>\n",
       "      <th>std</th>\n",
       "      <td>3.556933e+04</td>\n",
       "      <td>0.880621</td>\n",
       "      <td>5.692804</td>\n",
       "      <td>7.411351</td>\n",
       "      <td>0.862656</td>\n",
       "      <td>21.748209</td>\n",
       "      <td>6.834285</td>\n",
       "    </tr>\n",
       "    <tr>\n",
       "      <th>min</th>\n",
       "      <td>1.800000e+01</td>\n",
       "      <td>2018.000000</td>\n",
       "      <td>1.000000</td>\n",
       "      <td>1.000000</td>\n",
       "      <td>0.000000</td>\n",
       "      <td>2.400000</td>\n",
       "      <td>0.120000</td>\n",
       "    </tr>\n",
       "    <tr>\n",
       "      <th>25%</th>\n",
       "      <td>3.600000e+04</td>\n",
       "      <td>2019.000000</td>\n",
       "      <td>3.000000</td>\n",
       "      <td>5.000000</td>\n",
       "      <td>1.000000</td>\n",
       "      <td>38.000000</td>\n",
       "      <td>7.000000</td>\n",
       "    </tr>\n",
       "    <tr>\n",
       "      <th>50%</th>\n",
       "      <td>5.160000e+04</td>\n",
       "      <td>2019.000000</td>\n",
       "      <td>5.000000</td>\n",
       "      <td>12.000000</td>\n",
       "      <td>2.000000</td>\n",
       "      <td>46.000000</td>\n",
       "      <td>9.700000</td>\n",
       "    </tr>\n",
       "    <tr>\n",
       "      <th>75%</th>\n",
       "      <td>7.140000e+04</td>\n",
       "      <td>2020.000000</td>\n",
       "      <td>10.000000</td>\n",
       "      <td>17.000000</td>\n",
       "      <td>2.000000</td>\n",
       "      <td>61.900000</td>\n",
       "      <td>12.000000</td>\n",
       "    </tr>\n",
       "    <tr>\n",
       "      <th>max</th>\n",
       "      <td>3.572896e+06</td>\n",
       "      <td>2021.000000</td>\n",
       "      <td>36.000000</td>\n",
       "      <td>38.000000</td>\n",
       "      <td>9.000000</td>\n",
       "      <td>997.000000</td>\n",
       "      <td>1131.000000</td>\n",
       "    </tr>\n",
       "  </tbody>\n",
       "</table>\n",
       "</div>"
      ],
      "text/plain": [
       "              price           date          level         levels  \\\n",
       "count  1.000000e+05  100000.000000  100000.000000  100000.000000   \n",
       "mean   5.707663e+04    2019.310120       7.053700      12.752370   \n",
       "std    3.556933e+04       0.880621       5.692804       7.411351   \n",
       "min    1.800000e+01    2018.000000       1.000000       1.000000   \n",
       "25%    3.600000e+04    2019.000000       3.000000       5.000000   \n",
       "50%    5.160000e+04    2019.000000       5.000000      12.000000   \n",
       "75%    7.140000e+04    2020.000000      10.000000      17.000000   \n",
       "max    3.572896e+06    2021.000000      36.000000      38.000000   \n",
       "\n",
       "               rooms           area   kitchen_area  \n",
       "count  100000.000000  100000.000000  100000.000000  \n",
       "mean        1.776320      51.592710      10.362995  \n",
       "std         0.862656      21.748209       6.834285  \n",
       "min         0.000000       2.400000       0.120000  \n",
       "25%         1.000000      38.000000       7.000000  \n",
       "50%         2.000000      46.000000       9.700000  \n",
       "75%         2.000000      61.900000      12.000000  \n",
       "max         9.000000     997.000000    1131.000000  "
      ]
     },
     "execution_count": 30,
     "metadata": {},
     "output_type": "execute_result"
    }
   ],
   "source": [
    "moscow_df.describe()"
   ]
  },
  {
   "attachments": {},
   "cell_type": "markdown",
   "metadata": {},
   "source": [
    "Each column is skewed right, meaning we have some extreme outliers for each column. This is because in the real estate market, while most \"normal\" places have a similar price, the price ceiling for real estate can be very high. While these outliers are sparse, they could still bias our model."
   ]
  },
  {
   "attachments": {},
   "cell_type": "markdown",
   "metadata": {},
   "source": [
    "Next, we can plot each variable against price to look for possible correlations. We will only looks at data points with price less than $2 \\cdot 10^7$ to get better plots by removing price outliers. We will also plot regression lines for each to quantify per-variable correlation strength."
   ]
  },
  {
   "cell_type": "code",
   "execution_count": 31,
   "metadata": {},
   "outputs": [
    {
     "data": {
      "image/png": "[encoded data removed]",
      "text/plain": [
       "<Figure size 1750x250 with 8 Axes>"
      ]
     },
     "metadata": {},
     "output_type": "display_data"
    }
   ],
   "source": [
    "from scipy.stats import linregress\n",
    "\n",
    "def calc_R2(x, y, ax=None, **kwargs):\n",
    "    ax = ax or plt.gca()\n",
    "    _, _, r_value, _, _ = linregress(x=x, y=y)\n",
    "    ax.annotate(f'$R^2 = {r_value ** 2:.2f}$', xy=(.05, 1), xycoords=ax.transAxes, fontsize=8, ha='left', va='top')\n",
    "\n",
    "g = sns.pairplot(moscow_df.loc[moscow_df['price'] < 2e7].sample(1000, random_state=21), kind='reg', y_vars=['price'], plot_kws={'line_kws':{'color':'red'}})\n",
    "\n",
    "g.map_upper(calc_R2)\n",
    "plt.show()"
   ]
  },
  {
   "attachments": {},
   "cell_type": "markdown",
   "metadata": {},
   "source": [
    "Data and level have near-zero correlations. The number of levels in the building (i.e. building size) and number of rooms, as well have kitchen area, seem like they might have some signidicance. The most important (single) variable seems to be area. However, even here we don't have a strong correlation. Hopefully combining these variables into a multivariate regression will lead to stronger correlation.\n",
    "\n",
    "Additionally, all of the correlations seem to be closest to linear (as opposed to some polynomial fit). So, a polynomial regression may not perform better than a linear regression.\n",
    "\n",
    "However, in the above we only use about 1000 samples (for efficiency). We can see these correlation results across the dataset more easily with a heatmap:"
   ]
  },
  {
   "cell_type": "code",
   "execution_count": 32,
   "metadata": {},
   "outputs": [
    {
     "data": {
      "text/plain": [
       "<Axes: >"
      ]
     },
     "execution_count": 32,
     "metadata": {},
     "output_type": "execute_result"
    },
    {
     "data": {
      "image/png": "[encoded data removed]",
      "text/plain": [
       "<Figure size 640x480 with 2 Axes>"
      ]
     },
     "metadata": {},
     "output_type": "display_data"
    }
   ],
   "source": [
    "sns.heatmap(moscow_df.drop(['building_type', 'object_type'], axis=1).corr(), annot=True)"
   ]
  },
  {
   "attachments": {},
   "cell_type": "markdown",
   "metadata": {},
   "source": [
    "Notably, `date` and `level` have a stronger correlation than from our 1000 samples, but each individual variable still does not have a strong enough correlation for prediction.\n",
    "\n",
    "Thus, we proceed to fitting some models."
   ]
  },
  {
   "attachments": {},
   "cell_type": "markdown",
   "metadata": {},
   "source": [
    "## Model Fitting"
   ]
  },
  {
   "cell_type": "code",
   "execution_count": 33,
   "metadata": {},
   "outputs": [
    {
     "name": "stdout",
     "output_type": "stream",
     "text": [
      "70000 train samples; 30000 test samples\n"
     ]
    }
   ],
   "source": [
    "from sklearn.model_selection import train_test_split\n",
    "\n",
    "X = moscow_df[['date', 'building_type', 'level', 'levels', 'rooms', 'area', 'kitchen_area', 'object_type']]\n",
    "y = moscow_df['price']\n",
    "\n",
    "X_train, X_test, y_train, y_test = train_test_split(X, y, test_size=0.3, random_state=SEED)\n",
    "\n",
    "print(f'{len(y_train)} train samples; {len(y_test)} test samples')"
   ]
  },
  {
   "attachments": {},
   "cell_type": "markdown",
   "metadata": {},
   "source": [
    "Now, we will one-hot the categorical data using sklearn's one hot encoder."
   ]
  },
  {
   "cell_type": "code",
   "execution_count": 34,
   "metadata": {},
   "outputs": [
    {
     "data": {
      "text/html": [
       "<div>\n",
       "<style scoped>\n",
       "    .dataframe tbody tr th:only-of-type {\n",
       "        vertical-align: middle;\n",
       "    }\n",
       "\n",
       "    .dataframe tbody tr th {\n",
       "        vertical-align: top;\n",
       "    }\n",
       "\n",
       "    .dataframe thead th {\n",
       "        text-align: right;\n",
       "    }\n",
       "</style>\n",
       "<table border=\"1\" class=\"dataframe\">\n",
       "  <thead>\n",
       "    <tr style=\"text-align: right;\">\n",
       "      <th></th>\n",
       "      <th>date</th>\n",
       "      <th>level</th>\n",
       "      <th>levels</th>\n",
       "      <th>rooms</th>\n",
       "      <th>area</th>\n",
       "      <th>kitchen_area</th>\n",
       "      <th>blocky</th>\n",
       "      <th>brick</th>\n",
       "      <th>monolithic</th>\n",
       "      <th>other</th>\n",
       "      <th>panel</th>\n",
       "      <th>wooden</th>\n",
       "      <th>new</th>\n",
       "      <th>preowned</th>\n",
       "    </tr>\n",
       "  </thead>\n",
       "  <tbody>\n",
       "    <tr>\n",
       "      <th>3984201</th>\n",
       "      <td>2020</td>\n",
       "      <td>1</td>\n",
       "      <td>17</td>\n",
       "      <td>3</td>\n",
       "      <td>78.9</td>\n",
       "      <td>13.6</td>\n",
       "      <td>0.0</td>\n",
       "      <td>0.0</td>\n",
       "      <td>1.0</td>\n",
       "      <td>0.0</td>\n",
       "      <td>0.0</td>\n",
       "      <td>0.0</td>\n",
       "      <td>0.0</td>\n",
       "      <td>1.0</td>\n",
       "    </tr>\n",
       "    <tr>\n",
       "      <th>3870813</th>\n",
       "      <td>2020</td>\n",
       "      <td>2</td>\n",
       "      <td>5</td>\n",
       "      <td>1</td>\n",
       "      <td>33.0</td>\n",
       "      <td>6.0</td>\n",
       "      <td>1.0</td>\n",
       "      <td>0.0</td>\n",
       "      <td>0.0</td>\n",
       "      <td>0.0</td>\n",
       "      <td>0.0</td>\n",
       "      <td>0.0</td>\n",
       "      <td>0.0</td>\n",
       "      <td>1.0</td>\n",
       "    </tr>\n",
       "    <tr>\n",
       "      <th>3009255</th>\n",
       "      <td>2019</td>\n",
       "      <td>5</td>\n",
       "      <td>5</td>\n",
       "      <td>1</td>\n",
       "      <td>31.0</td>\n",
       "      <td>6.0</td>\n",
       "      <td>0.0</td>\n",
       "      <td>1.0</td>\n",
       "      <td>0.0</td>\n",
       "      <td>0.0</td>\n",
       "      <td>0.0</td>\n",
       "      <td>0.0</td>\n",
       "      <td>0.0</td>\n",
       "      <td>1.0</td>\n",
       "    </tr>\n",
       "    <tr>\n",
       "      <th>4473678</th>\n",
       "      <td>2020</td>\n",
       "      <td>11</td>\n",
       "      <td>16</td>\n",
       "      <td>0</td>\n",
       "      <td>19.8</td>\n",
       "      <td>5.1</td>\n",
       "      <td>0.0</td>\n",
       "      <td>0.0</td>\n",
       "      <td>0.0</td>\n",
       "      <td>0.0</td>\n",
       "      <td>1.0</td>\n",
       "      <td>0.0</td>\n",
       "      <td>1.0</td>\n",
       "      <td>0.0</td>\n",
       "    </tr>\n",
       "    <tr>\n",
       "      <th>2579345</th>\n",
       "      <td>2019</td>\n",
       "      <td>1</td>\n",
       "      <td>2</td>\n",
       "      <td>3</td>\n",
       "      <td>71.1</td>\n",
       "      <td>7.5</td>\n",
       "      <td>0.0</td>\n",
       "      <td>1.0</td>\n",
       "      <td>0.0</td>\n",
       "      <td>0.0</td>\n",
       "      <td>0.0</td>\n",
       "      <td>0.0</td>\n",
       "      <td>0.0</td>\n",
       "      <td>1.0</td>\n",
       "    </tr>\n",
       "  </tbody>\n",
       "</table>\n",
       "</div>"
      ],
      "text/plain": [
       "         date  level  levels  rooms  area  kitchen_area  blocky  brick  \\\n",
       "3984201  2020      1      17      3  78.9          13.6     0.0    0.0   \n",
       "3870813  2020      2       5      1  33.0           6.0     1.0    0.0   \n",
       "3009255  2019      5       5      1  31.0           6.0     0.0    1.0   \n",
       "4473678  2020     11      16      0  19.8           5.1     0.0    0.0   \n",
       "2579345  2019      1       2      3  71.1           7.5     0.0    1.0   \n",
       "\n",
       "         monolithic  other  panel  wooden  new  preowned  \n",
       "3984201         1.0    0.0    0.0     0.0  0.0       1.0  \n",
       "3870813         0.0    0.0    0.0     0.0  0.0       1.0  \n",
       "3009255         0.0    0.0    0.0     0.0  0.0       1.0  \n",
       "4473678         0.0    0.0    1.0     0.0  1.0       0.0  \n",
       "2579345         0.0    0.0    0.0     0.0  0.0       1.0  "
      ]
     },
     "execution_count": 34,
     "metadata": {},
     "output_type": "execute_result"
    }
   ],
   "source": [
    "from sklearn.preprocessing import OneHotEncoder\n",
    "\n",
    "for col in ['building_type', 'object_type']:\n",
    "\n",
    "    one_hot = OneHotEncoder()\n",
    "    one_hot.fit(X_train[[col]])\n",
    "\n",
    "    X_train.loc[:, one_hot.categories_[0]] = one_hot.transform(X_train[[col]]).todense()\n",
    "    X_test.loc[:, one_hot.categories_[0]] = one_hot.transform(X_test[[col]]).todense()\n",
    "\n",
    "    X_train = X_train.drop(col, axis=1)\n",
    "    X_test = X_test.drop(col, axis=1)\n",
    "\n",
    "X_train.sample(5)"
   ]
  },
  {
   "attachments": {},
   "cell_type": "markdown",
   "metadata": {},
   "source": [
    "Next, we will scale the data. Note that not all models require scaled data; while models like linear regression require scaling to avoid overemphasis of certain datapoints, models like descision trees (and, by extension, random forests) are not affected by unscaled variables.\n",
    "\n",
    "It is also important to note that scaled data won't *negatively* impact descision trees, but we make a copy of scaled data to more explicitly demonstrate model understanding."
   ]
  },
  {
   "cell_type": "code",
   "execution_count": 35,
   "metadata": {},
   "outputs": [
    {
     "data": {
      "text/html": [
       "<div>\n",
       "<style scoped>\n",
       "    .dataframe tbody tr th:only-of-type {\n",
       "        vertical-align: middle;\n",
       "    }\n",
       "\n",
       "    .dataframe tbody tr th {\n",
       "        vertical-align: top;\n",
       "    }\n",
       "\n",
       "    .dataframe thead th {\n",
       "        text-align: right;\n",
       "    }\n",
       "</style>\n",
       "<table border=\"1\" class=\"dataframe\">\n",
       "  <thead>\n",
       "    <tr style=\"text-align: right;\">\n",
       "      <th></th>\n",
       "      <th>date</th>\n",
       "      <th>level</th>\n",
       "      <th>levels</th>\n",
       "      <th>rooms</th>\n",
       "      <th>area</th>\n",
       "      <th>kitchen_area</th>\n",
       "      <th>blocky</th>\n",
       "      <th>brick</th>\n",
       "      <th>monolithic</th>\n",
       "      <th>other</th>\n",
       "      <th>panel</th>\n",
       "      <th>wooden</th>\n",
       "      <th>new</th>\n",
       "      <th>preowned</th>\n",
       "    </tr>\n",
       "  </thead>\n",
       "  <tbody>\n",
       "    <tr>\n",
       "      <th>5438318</th>\n",
       "      <td>1.919550</td>\n",
       "      <td>-0.540510</td>\n",
       "      <td>0.972680</td>\n",
       "      <td>0.257887</td>\n",
       "      <td>0.381387</td>\n",
       "      <td>-0.157771</td>\n",
       "      <td>0.0</td>\n",
       "      <td>0.0</td>\n",
       "      <td>1.0</td>\n",
       "      <td>0.0</td>\n",
       "      <td>0.0</td>\n",
       "      <td>0.0</td>\n",
       "      <td>1.0</td>\n",
       "      <td>0.0</td>\n",
       "    </tr>\n",
       "    <tr>\n",
       "      <th>1997335</th>\n",
       "      <td>-0.350955</td>\n",
       "      <td>-0.364642</td>\n",
       "      <td>-0.512101</td>\n",
       "      <td>1.415813</td>\n",
       "      <td>1.020087</td>\n",
       "      <td>0.305207</td>\n",
       "      <td>0.0</td>\n",
       "      <td>1.0</td>\n",
       "      <td>0.0</td>\n",
       "      <td>0.0</td>\n",
       "      <td>0.0</td>\n",
       "      <td>0.0</td>\n",
       "      <td>0.0</td>\n",
       "      <td>1.0</td>\n",
       "    </tr>\n",
       "    <tr>\n",
       "      <th>1856802</th>\n",
       "      <td>-0.350955</td>\n",
       "      <td>-0.540510</td>\n",
       "      <td>0.567740</td>\n",
       "      <td>0.257887</td>\n",
       "      <td>0.062037</td>\n",
       "      <td>-0.184227</td>\n",
       "      <td>0.0</td>\n",
       "      <td>0.0</td>\n",
       "      <td>0.0</td>\n",
       "      <td>0.0</td>\n",
       "      <td>1.0</td>\n",
       "      <td>0.0</td>\n",
       "      <td>0.0</td>\n",
       "      <td>1.0</td>\n",
       "    </tr>\n",
       "    <tr>\n",
       "      <th>5115781</th>\n",
       "      <td>1.919550</td>\n",
       "      <td>0.514697</td>\n",
       "      <td>0.162800</td>\n",
       "      <td>3.731666</td>\n",
       "      <td>3.574886</td>\n",
       "      <td>0.212611</td>\n",
       "      <td>0.0</td>\n",
       "      <td>1.0</td>\n",
       "      <td>0.0</td>\n",
       "      <td>0.0</td>\n",
       "      <td>0.0</td>\n",
       "      <td>0.0</td>\n",
       "      <td>0.0</td>\n",
       "      <td>1.0</td>\n",
       "    </tr>\n",
       "    <tr>\n",
       "      <th>3812659</th>\n",
       "      <td>0.784297</td>\n",
       "      <td>-0.892245</td>\n",
       "      <td>0.567740</td>\n",
       "      <td>1.415813</td>\n",
       "      <td>1.166075</td>\n",
       "      <td>-0.237139</td>\n",
       "      <td>0.0</td>\n",
       "      <td>0.0</td>\n",
       "      <td>1.0</td>\n",
       "      <td>0.0</td>\n",
       "      <td>0.0</td>\n",
       "      <td>0.0</td>\n",
       "      <td>1.0</td>\n",
       "      <td>0.0</td>\n",
       "    </tr>\n",
       "  </tbody>\n",
       "</table>\n",
       "</div>"
      ],
      "text/plain": [
       "             date     level    levels     rooms      area  kitchen_area  \\\n",
       "5438318  1.919550 -0.540510  0.972680  0.257887  0.381387     -0.157771   \n",
       "1997335 -0.350955 -0.364642 -0.512101  1.415813  1.020087      0.305207   \n",
       "1856802 -0.350955 -0.540510  0.567740  0.257887  0.062037     -0.184227   \n",
       "5115781  1.919550  0.514697  0.162800  3.731666  3.574886      0.212611   \n",
       "3812659  0.784297 -0.892245  0.567740  1.415813  1.166075     -0.237139   \n",
       "\n",
       "         blocky  brick  monolithic  other  panel  wooden  new  preowned  \n",
       "5438318     0.0    0.0         1.0    0.0    0.0     0.0  1.0       0.0  \n",
       "1997335     0.0    1.0         0.0    0.0    0.0     0.0  0.0       1.0  \n",
       "1856802     0.0    0.0         0.0    0.0    1.0     0.0  0.0       1.0  \n",
       "5115781     0.0    1.0         0.0    0.0    0.0     0.0  0.0       1.0  \n",
       "3812659     0.0    0.0         1.0    0.0    0.0     0.0  1.0       0.0  "
      ]
     },
     "execution_count": 35,
     "metadata": {},
     "output_type": "execute_result"
    }
   ],
   "source": [
    "from sklearn.preprocessing import StandardScaler\n",
    "\n",
    "ordinal_cols = ['date', 'level', 'levels', 'rooms', 'area', 'kitchen_area']\n",
    "X_train_ordinal, X_test_ordinal = X_train[ordinal_cols], X_test[ordinal_cols]\n",
    "\n",
    "scaler = StandardScaler()\n",
    "scaler.fit(X_train_ordinal)\n",
    "\n",
    "X_train_scaled, X_test_scaled = X_train, X_test\n",
    "\n",
    "X_train_scaled.loc[:, scaler.feature_names_in_] = scaler.transform(X_train_ordinal)\n",
    "X_test_scaled.loc[:, scaler.feature_names_in_] = scaler.transform(X_test_ordinal)\n",
    "\n",
    "X_train_scaled.sample(5)"
   ]
  },
  {
   "attachments": {},
   "cell_type": "markdown",
   "metadata": {},
   "source": [
    "### Rapids CuML Setup"
   ]
  },
  {
   "cell_type": "code",
   "execution_count": 36,
   "metadata": {},
   "outputs": [],
   "source": [
    "import cudf\n",
    "import cupy as cp\n",
    "\n",
    "def to_cudf(pd_df):\n",
    "    data = dict()\n",
    "\n",
    "    for col in pd_df.columns:\n",
    "        data[col] = pd_df[col].to_numpy(dtype=np.float32)\n",
    "\n",
    "    return cudf.DataFrame(data)\n",
    "\n",
    "def to_cupy(pd_df):\n",
    "    return cp.from_dlpack(pd_df.to_dlpack())"
   ]
  },
  {
   "cell_type": "code",
   "execution_count": 37,
   "metadata": {},
   "outputs": [],
   "source": [
    "X_train_cudf = to_cudf(X_train)\n",
    "X_test_cudf = to_cudf(X_test)\n",
    "\n",
    "X_train_cupy = to_cupy(X_train_cudf)\n",
    "X_test_cupy = to_cupy(X_test_cudf)"
   ]
  },
  {
   "cell_type": "code",
   "execution_count": 38,
   "metadata": {},
   "outputs": [],
   "source": [
    "X_train_scaled_cudf = to_cudf(X_train_scaled)\n",
    "X_test_scaled_cudf = to_cudf(X_test_scaled)\n",
    "\n",
    "X_train_scaled_cupy = to_cupy(X_train_scaled_cudf)\n",
    "X_test_scaled_cupy = to_cupy(X_test_scaled_cudf)"
   ]
  },
  {
   "cell_type": "code",
   "execution_count": 39,
   "metadata": {},
   "outputs": [],
   "source": [
    "y_train_cudf = cudf.Series(y_train.to_numpy())\n",
    "y_test_cudf = cudf.Series(y_test.to_numpy())\n",
    "\n",
    "y_train_cupy = to_cupy(y_train_cudf)\n",
    "y_test_cupy = to_cupy(y_test_cudf)"
   ]
  },
  {
   "cell_type": "code",
   "execution_count": 40,
   "metadata": {},
   "outputs": [],
   "source": [
    "from sklearn.metrics import mean_absolute_error\n",
    "\n",
    "def custom_grid_search(model, hparams, default_kwargs, X_train_cupy, y_train_cupy,\n",
    "                       folds=3, verbose=0):\n",
    "    import itertools\n",
    "    \n",
    "    # note that KFold in SciKit by default does not use shuffling, so we will not do so here\n",
    "    X_splits = cp.array_split(X_train_cupy, folds)\n",
    "    y_splits = cp.array_split(y_train_cupy, folds)\n",
    "    cv_scores = dict()\n",
    "\n",
    "    cuml_model = model(**default_kwargs)\n",
    "    for hparam_comb in itertools.product(*hparams.values()):\n",
    "        kwargs = dict(zip(hparams.keys(), hparam_comb))\n",
    "        \n",
    "        holdouts = []\n",
    "        \n",
    "        if verbose >= 1:\n",
    "            print(f'Training CV with {folds} folds on hparams {kwargs}')\n",
    "\n",
    "        cuml_model.set_params(**kwargs, **default_kwargs)\n",
    "        # rf_cuml = cuRF(n_estimators=n_est, accuracy_metric='mean_ae', verbose=False, random_state=SEED, n_streams=1)\n",
    "        \n",
    "        for i in range(folds):\n",
    "            \n",
    "            train_sets = [X_splits[j] for j in range(len(X_splits)) if j != i]\n",
    "            label_sets = [y_splits[j] for j in range(len(y_splits)) if j != i]\n",
    "                \n",
    "            train_arr = cp.vstack(train_sets)\n",
    "            labels_arr = cp.hstack(label_sets)\n",
    "            cuml_model.fit(train_arr, labels_arr)\n",
    "            \n",
    "            preds = cuml_model.predict(X_splits[i])   \n",
    "            score = mean_absolute_error(cp.asnumpy(preds), cp.asnumpy(y_splits[i]))     \n",
    "            holdouts.append(score)\n",
    "            \n",
    "            if verbose >= 2:\n",
    "                print(f'\\tholdout {i}: {score}')\n",
    "            \n",
    "            del train_arr, labels_arr, train_sets, label_sets\n",
    "                    \n",
    "        cv_score = np.mean(holdouts)\n",
    "        cv_scores[str(kwargs)] = cv_score\n",
    "        \n",
    "        if verbose >= 1:\n",
    "            print('CV Score:', cv_score)\n",
    "            \n",
    "    del X_splits, y_splits\n",
    "    \n",
    "    return cv_scores"
   ]
  },
  {
   "cell_type": "code",
   "execution_count": 41,
   "metadata": {},
   "outputs": [],
   "source": [
    "from cuml.common.device_selection import using_device_type, set_global_device_type\n",
    "import pickle\n",
    "set_global_device_type('GPU')"
   ]
  },
  {
   "cell_type": "code",
   "execution_count": 42,
   "metadata": {},
   "outputs": [
    {
     "ename": "NameError",
     "evalue": "name 'gkeokde' is not defined",
     "output_type": "error",
     "traceback": [
      "\u001b[0;31m---------------------------------------------------------------------------\u001b[0m",
      "\u001b[0;31mNameError\u001b[0m                                 Traceback (most recent call last)",
      "Cell \u001b[0;32mIn[42], line 1\u001b[0m\n\u001b[0;32m----> 1\u001b[0m gkeokde\n",
      "\u001b[0;31mNameError\u001b[0m: name 'gkeokde' is not defined"
     ]
    }
   ],
   "source": [
    "gkeokde"
   ]
  },
  {
   "attachments": {},
   "cell_type": "markdown",
   "metadata": {},
   "source": [
    "### Linear Regression"
   ]
  },
  {
   "attachments": {},
   "cell_type": "markdown",
   "metadata": {},
   "source": [
    "Unfortunately CuML does not natively support MAE Loss for linear regression. However, we can still perfrom mini-batch SGD linear regression and measure MAE loss after-the-fact. We expect this will increase the end MAE loss, and thus negatively affect the model's performance.\n",
    "\n",
    "**NOTE**: Oftentimes many one-hotted features can negatively impact performance for linear regression. To address this,\n",
    "1. we will train on both the ordinal+categorical data, as well as just the ordinal data\n",
    "2. we will use other models which aren't affected by many categorical features (e.g. random forests)"
   ]
  },
  {
   "cell_type": "code",
   "execution_count": 43,
   "metadata": {},
   "outputs": [],
   "source": [
    "from cuml.linear_model import MBSGDRegressor as cumlMBSGDRegressor"
   ]
  },
  {
   "cell_type": "code",
   "execution_count": 44,
   "metadata": {},
   "outputs": [],
   "source": [
    "learning_rates = [1e-3, 5e-4, 1e-4]\n",
    "penatlies = ['none', 'l1', 'l2']\n",
    "epochs = [5, 10, 20]\n",
    "variable_lr = ['constant', 'adaptive']\n",
    "\n",
    "hparam_grid = dict(\n",
    "    learning_rate=variable_lr,\n",
    "    eta0=learning_rates,\n",
    "    penalty=penatlies,\n",
    "    epochs=epochs,\n",
    ")\n",
    "\n",
    "def_kwargs = dict(\n",
    "    loss='squared_loss',\n",
    "    tol=0.0,\n",
    "    fit_intercept=True,\n",
    "    batch_size=16,\n",
    "    verbose=False,\n",
    ")"
   ]
  },
  {
   "cell_type": "code",
   "execution_count": null,
   "metadata": {},
   "outputs": [
    {
     "name": "stdout",
     "output_type": "stream",
     "text": [
      "Training CV with 3 folds on hparams {'learning_rate': 'constant', 'eta0': 0.001, 'penalty': 'none', 'epochs': 5}\n",
      "CV Score: 14506.717329699022\n",
      "Training CV with 3 folds on hparams {'learning_rate': 'constant', 'eta0': 0.001, 'penalty': 'none', 'epochs': 10}\n",
      "CV Score: 13695.523520984018\n",
      "Training CV with 3 folds on hparams {'learning_rate': 'constant', 'eta0': 0.001, 'penalty': 'none', 'epochs': 20}\n",
      "CV Score: 13708.488582632881\n",
      "Training CV with 3 folds on hparams {'learning_rate': 'constant', 'eta0': 0.001, 'penalty': 'l1', 'epochs': 5}\n",
      "CV Score: 14506.716805976634\n",
      "Training CV with 3 folds on hparams {'learning_rate': 'constant', 'eta0': 0.001, 'penalty': 'l1', 'epochs': 10}\n",
      "CV Score: 13695.523508205843\n",
      "Training CV with 3 folds on hparams {'learning_rate': 'constant', 'eta0': 0.001, 'penalty': 'l1', 'epochs': 20}\n",
      "CV Score: 13708.488665499133\n",
      "Training CV with 3 folds on hparams {'learning_rate': 'constant', 'eta0': 0.001, 'penalty': 'l2', 'epochs': 5}\n",
      "CV Score: 14506.47576062543\n",
      "Training CV with 3 folds on hparams {'learning_rate': 'constant', 'eta0': 0.001, 'penalty': 'l2', 'epochs': 10}\n",
      "CV Score: 13695.320710489379\n",
      "Training CV with 3 folds on hparams {'learning_rate': 'constant', 'eta0': 0.001, 'penalty': 'l2', 'epochs': 20}\n",
      "CV Score: 13708.37378455991\n",
      "Training CV with 3 folds on hparams {'learning_rate': 'constant', 'eta0': 0.0005, 'penalty': 'none', 'epochs': 5}\n",
      "CV Score: 14014.606141439637\n",
      "Training CV with 3 folds on hparams {'learning_rate': 'constant', 'eta0': 0.0005, 'penalty': 'none', 'epochs': 10}\n",
      "CV Score: 13683.017623017207\n",
      "Training CV with 3 folds on hparams {'learning_rate': 'constant', 'eta0': 0.0005, 'penalty': 'none', 'epochs': 20}\n",
      "CV Score: 13718.415849356783\n",
      "Training CV with 3 folds on hparams {'learning_rate': 'constant', 'eta0': 0.0005, 'penalty': 'l1', 'epochs': 5}\n",
      "CV Score: 14014.606200646318\n",
      "Training CV with 3 folds on hparams {'learning_rate': 'constant', 'eta0': 0.0005, 'penalty': 'l1', 'epochs': 10}\n",
      "CV Score: 13683.017517017613\n",
      "Training CV with 3 folds on hparams {'learning_rate': 'constant', 'eta0': 0.0005, 'penalty': 'l1', 'epochs': 20}\n",
      "CV Score: 13718.415669195723\n",
      "Training CV with 3 folds on hparams {'learning_rate': 'constant', 'eta0': 0.0005, 'penalty': 'l2', 'epochs': 5}\n",
      "CV Score: 14014.630327640873\n",
      "Training CV with 3 folds on hparams {'learning_rate': 'constant', 'eta0': 0.0005, 'penalty': 'l2', 'epochs': 10}\n",
      "CV Score: 13682.961098100617\n",
      "Training CV with 3 folds on hparams {'learning_rate': 'constant', 'eta0': 0.0005, 'penalty': 'l2', 'epochs': 20}\n",
      "CV Score: 13718.33719606796\n",
      "Training CV with 3 folds on hparams {'learning_rate': 'constant', 'eta0': 0.0001, 'penalty': 'none', 'epochs': 5}\n",
      "CV Score: 13845.361618653043\n",
      "Training CV with 3 folds on hparams {'learning_rate': 'constant', 'eta0': 0.0001, 'penalty': 'none', 'epochs': 10}\n",
      "CV Score: 13737.5593023413\n",
      "Training CV with 3 folds on hparams {'learning_rate': 'constant', 'eta0': 0.0001, 'penalty': 'none', 'epochs': 20}\n",
      "CV Score: 13712.311413406283\n",
      "Training CV with 3 folds on hparams {'learning_rate': 'constant', 'eta0': 0.0001, 'penalty': 'l1', 'epochs': 5}\n",
      "CV Score: 13845.36160584611\n",
      "Training CV with 3 folds on hparams {'learning_rate': 'constant', 'eta0': 0.0001, 'penalty': 'l1', 'epochs': 10}\n",
      "CV Score: 13737.55931369707\n",
      "Training CV with 3 folds on hparams {'learning_rate': 'constant', 'eta0': 0.0001, 'penalty': 'l1', 'epochs': 20}\n",
      "CV Score: 13712.311393986753\n",
      "Training CV with 3 folds on hparams {'learning_rate': 'constant', 'eta0': 0.0001, 'penalty': 'l2', 'epochs': 5}\n",
      "CV Score: 13845.379031317721\n",
      "Training CV with 3 folds on hparams {'learning_rate': 'constant', 'eta0': 0.0001, 'penalty': 'l2', 'epochs': 10}\n",
      "CV Score: 13737.551173266032\n",
      "Training CV with 3 folds on hparams {'learning_rate': 'constant', 'eta0': 0.0001, 'penalty': 'l2', 'epochs': 20}\n",
      "CV Score: 13712.26718873572\n",
      "Training CV with 3 folds on hparams {'learning_rate': 'adaptive', 'eta0': 0.001, 'penalty': 'none', 'epochs': 5}\n",
      "CV Score: 14506.717329699022\n",
      "Training CV with 3 folds on hparams {'learning_rate': 'adaptive', 'eta0': 0.001, 'penalty': 'none', 'epochs': 10}\n",
      "CV Score: 13695.523520984018\n",
      "Training CV with 3 folds on hparams {'learning_rate': 'adaptive', 'eta0': 0.001, 'penalty': 'none', 'epochs': 20}\n",
      "CV Score: 13708.488582632881\n",
      "Training CV with 3 folds on hparams {'learning_rate': 'adaptive', 'eta0': 0.001, 'penalty': 'l1', 'epochs': 5}\n",
      "CV Score: 14506.716805976634\n",
      "Training CV with 3 folds on hparams {'learning_rate': 'adaptive', 'eta0': 0.001, 'penalty': 'l1', 'epochs': 10}\n",
      "CV Score: 13695.523508205843\n",
      "Training CV with 3 folds on hparams {'learning_rate': 'adaptive', 'eta0': 0.001, 'penalty': 'l1', 'epochs': 20}\n",
      "CV Score: 13708.488665499133\n",
      "Training CV with 3 folds on hparams {'learning_rate': 'adaptive', 'eta0': 0.001, 'penalty': 'l2', 'epochs': 5}\n",
      "CV Score: 14506.47576062543\n",
      "Training CV with 3 folds on hparams {'learning_rate': 'adaptive', 'eta0': 0.001, 'penalty': 'l2', 'epochs': 10}\n",
      "CV Score: 13695.320710489379\n",
      "Training CV with 3 folds on hparams {'learning_rate': 'adaptive', 'eta0': 0.001, 'penalty': 'l2', 'epochs': 20}\n",
      "CV Score: 13708.37378455991\n",
      "Training CV with 3 folds on hparams {'learning_rate': 'adaptive', 'eta0': 0.0005, 'penalty': 'none', 'epochs': 5}\n",
      "CV Score: 14014.606141439637\n",
      "Training CV with 3 folds on hparams {'learning_rate': 'adaptive', 'eta0': 0.0005, 'penalty': 'none', 'epochs': 10}\n",
      "CV Score: 13683.017623017207\n",
      "Training CV with 3 folds on hparams {'learning_rate': 'adaptive', 'eta0': 0.0005, 'penalty': 'none', 'epochs': 20}\n",
      "CV Score: 13718.415849356783\n",
      "Training CV with 3 folds on hparams {'learning_rate': 'adaptive', 'eta0': 0.0005, 'penalty': 'l1', 'epochs': 5}\n",
      "CV Score: 14014.606200646318\n",
      "Training CV with 3 folds on hparams {'learning_rate': 'adaptive', 'eta0': 0.0005, 'penalty': 'l1', 'epochs': 10}\n",
      "CV Score: 13683.017517017613\n",
      "Training CV with 3 folds on hparams {'learning_rate': 'adaptive', 'eta0': 0.0005, 'penalty': 'l1', 'epochs': 20}\n",
      "CV Score: 13718.415669195723\n",
      "Training CV with 3 folds on hparams {'learning_rate': 'adaptive', 'eta0': 0.0005, 'penalty': 'l2', 'epochs': 5}\n",
      "CV Score: 14014.630327640873\n",
      "Training CV with 3 folds on hparams {'learning_rate': 'adaptive', 'eta0': 0.0005, 'penalty': 'l2', 'epochs': 10}\n",
      "CV Score: 13682.961098100617\n",
      "Training CV with 3 folds on hparams {'learning_rate': 'adaptive', 'eta0': 0.0005, 'penalty': 'l2', 'epochs': 20}\n",
      "CV Score: 13718.33719606796\n",
      "Training CV with 3 folds on hparams {'learning_rate': 'adaptive', 'eta0': 0.0001, 'penalty': 'none', 'epochs': 5}\n",
      "CV Score: 13845.361618653043\n",
      "Training CV with 3 folds on hparams {'learning_rate': 'adaptive', 'eta0': 0.0001, 'penalty': 'none', 'epochs': 10}\n",
      "CV Score: 13737.5593023413\n",
      "Training CV with 3 folds on hparams {'learning_rate': 'adaptive', 'eta0': 0.0001, 'penalty': 'none', 'epochs': 20}\n",
      "CV Score: 13712.311413406283\n",
      "Training CV with 3 folds on hparams {'learning_rate': 'adaptive', 'eta0': 0.0001, 'penalty': 'l1', 'epochs': 5}\n",
      "CV Score: 13845.36160584611\n",
      "Training CV with 3 folds on hparams {'learning_rate': 'adaptive', 'eta0': 0.0001, 'penalty': 'l1', 'epochs': 10}\n",
      "CV Score: 13737.55931369707\n",
      "Training CV with 3 folds on hparams {'learning_rate': 'adaptive', 'eta0': 0.0001, 'penalty': 'l1', 'epochs': 20}\n",
      "CV Score: 13712.311393986753\n",
      "Training CV with 3 folds on hparams {'learning_rate': 'adaptive', 'eta0': 0.0001, 'penalty': 'l2', 'epochs': 5}\n",
      "CV Score: 13845.379031317721\n",
      "Training CV with 3 folds on hparams {'learning_rate': 'adaptive', 'eta0': 0.0001, 'penalty': 'l2', 'epochs': 10}\n",
      "CV Score: 13737.551173266032\n",
      "Training CV with 3 folds on hparams {'learning_rate': 'adaptive', 'eta0': 0.0001, 'penalty': 'l2', 'epochs': 20}\n",
      "CV Score: 13712.26718873572\n"
     ]
    }
   ],
   "source": [
    "cv_scores_sgd = custom_grid_search(cumlMBSGDRegressor, hparam_grid, def_kwargs, X_train_scaled_cupy, y_train_cupy, folds=3, verbose=1)"
   ]
  },
  {
   "cell_type": "code",
   "execution_count": null,
   "metadata": {},
   "outputs": [
    {
     "name": "stdout",
     "output_type": "stream",
     "text": [
      "{'learning_rate': 'constant', 'eta0': 0.0005, 'penalty': 'l2', 'epochs': 10}\n"
     ]
    }
   ],
   "source": [
    "opt_sgd_params = min(cv_scores_sgd, key=cv_scores_sgd.get)\n",
    "\n",
    "print(opt_sgd_params)"
   ]
  },
  {
   "cell_type": "code",
   "execution_count": 50,
   "metadata": {},
   "outputs": [
    {
     "data": {
      "text/plain": [
       "MBSGDRegressor()"
      ]
     },
     "execution_count": 50,
     "metadata": {},
     "output_type": "execute_result"
    }
   ],
   "source": [
    "opt_sgd_params = {'learning_rate': 'constant', 'eta0': 0.0005, 'penalty': 'l2', 'epochs': 10}\n",
    "def_kwargs['verbose'] = 2\n",
    "opt_sgd_model = cumlMBSGDRegressor(**opt_sgd_params, **def_kwargs)\n",
    "\n",
    "opt_sgd_model.fit(X_train_scaled_cupy, y_train_cupy)"
   ]
  },
  {
   "cell_type": "code",
   "execution_count": 53,
   "metadata": {},
   "outputs": [
    {
     "name": "stdout",
     "output_type": "stream",
     "text": [
      "MBSGDRegressor MAE: 13651.013288657816\n"
     ]
    }
   ],
   "source": [
    "preds = opt_sgd_model.predict(X_train_scaled_cupy)   \n",
    "score = mean_absolute_error(cp.asnumpy(preds), cp.asnumpy(y_train_cupy))     \n",
    "print('MBSGDRegressor MAE:', score)"
   ]
  },
  {
   "attachments": {},
   "cell_type": "markdown",
   "metadata": {},
   "source": [
    "### Random Forests for Regression"
   ]
  },
  {
   "cell_type": "code",
   "execution_count": null,
   "metadata": {},
   "outputs": [],
   "source": [
    "from cuml.ensemble import RandomForestRegressor as cuRF"
   ]
  },
  {
   "cell_type": "code",
   "execution_count": null,
   "metadata": {},
   "outputs": [],
   "source": [
    "n_estimators = [100, 200, 300, 400, 500]\n",
    "max_depth = [10, 40, 100]\n",
    "min_samples_split = [2, 5, 10]\n",
    "\n",
    "hparam_grid = dict(\n",
    "    n_estimators=n_estimators,\n",
    "    max_depth=max_depth,\n",
    "    min_samples_split=min_samples_split,\n",
    ")\n",
    "\n",
    "def_kwargs = dict(\n",
    "    accuracy_metric='mean_ae',\n",
    "    verbose=False,\n",
    "    random_state=SEED,\n",
    "    n_streams=1,\n",
    ")"
   ]
  },
  {
   "cell_type": "code",
   "execution_count": null,
   "metadata": {},
   "outputs": [
    {
     "name": "stdout",
     "output_type": "stream",
     "text": [
      "Training CV with 3 folds on hparams {'n_estimators': 100, 'max_depth': 10, 'min_samples_split': 2}\n",
      "CV Score: 1022073.6834306028\n",
      "Training CV with 3 folds on hparams {'n_estimators': 100, 'max_depth': 10, 'min_samples_split': 5}\n",
      "CV Score: 1021692.8937321712\n",
      "Training CV with 3 folds on hparams {'n_estimators': 100, 'max_depth': 10, 'min_samples_split': 10}\n",
      "CV Score: 1020902.7280213293\n",
      "Training CV with 3 folds on hparams {'n_estimators': 100, 'max_depth': 40, 'min_samples_split': 2}\n",
      "CV Score: 1004337.8428912534\n",
      "Training CV with 3 folds on hparams {'n_estimators': 100, 'max_depth': 40, 'min_samples_split': 5}\n",
      "CV Score: 998694.8964037757\n",
      "Training CV with 3 folds on hparams {'n_estimators': 100, 'max_depth': 40, 'min_samples_split': 10}\n",
      "CV Score: 991450.7500481824\n",
      "Training CV with 3 folds on hparams {'n_estimators': 100, 'max_depth': 100, 'min_samples_split': 2}\n",
      "CV Score: 1004337.8658022949\n",
      "Training CV with 3 folds on hparams {'n_estimators': 100, 'max_depth': 100, 'min_samples_split': 5}\n",
      "CV Score: 998694.9052539022\n",
      "Training CV with 3 folds on hparams {'n_estimators': 100, 'max_depth': 100, 'min_samples_split': 10}\n",
      "CV Score: 991450.7500481824\n",
      "Training CV with 3 folds on hparams {'n_estimators': 200, 'max_depth': 10, 'min_samples_split': 2}\n",
      "CV Score: 1022493.7218907014\n",
      "Training CV with 3 folds on hparams {'n_estimators': 200, 'max_depth': 10, 'min_samples_split': 5}\n",
      "CV Score: 1022041.0059439024\n",
      "Training CV with 3 folds on hparams {'n_estimators': 200, 'max_depth': 10, 'min_samples_split': 10}\n",
      "CV Score: 1021036.8639046397\n",
      "Training CV with 3 folds on hparams {'n_estimators': 200, 'max_depth': 40, 'min_samples_split': 2}\n",
      "CV Score: 1003203.163681962\n",
      "Training CV with 3 folds on hparams {'n_estimators': 200, 'max_depth': 40, 'min_samples_split': 5}\n",
      "CV Score: 997652.3768807901\n",
      "Training CV with 3 folds on hparams {'n_estimators': 200, 'max_depth': 40, 'min_samples_split': 10}\n",
      "CV Score: 990564.9668405979\n",
      "Training CV with 3 folds on hparams {'n_estimators': 200, 'max_depth': 100, 'min_samples_split': 2}\n",
      "CV Score: 1003203.1873751576\n",
      "Training CV with 3 folds on hparams {'n_estimators': 200, 'max_depth': 100, 'min_samples_split': 5}\n",
      "CV Score: 997652.3554554839\n",
      "Training CV with 3 folds on hparams {'n_estimators': 200, 'max_depth': 100, 'min_samples_split': 10}\n",
      "CV Score: 990564.9668405979\n",
      "Training CV with 3 folds on hparams {'n_estimators': 300, 'max_depth': 10, 'min_samples_split': 2}\n",
      "CV Score: 1022396.9258315094\n",
      "Training CV with 3 folds on hparams {'n_estimators': 300, 'max_depth': 10, 'min_samples_split': 5}\n",
      "CV Score: 1021980.0936133781\n",
      "Training CV with 3 folds on hparams {'n_estimators': 300, 'max_depth': 10, 'min_samples_split': 10}\n",
      "CV Score: 1021138.5316799633\n",
      "Training CV with 3 folds on hparams {'n_estimators': 300, 'max_depth': 40, 'min_samples_split': 2}\n",
      "CV Score: 1002385.6414890966\n",
      "Training CV with 3 folds on hparams {'n_estimators': 300, 'max_depth': 40, 'min_samples_split': 5}\n",
      "CV Score: 996815.6301299388\n",
      "Training CV with 3 folds on hparams {'n_estimators': 300, 'max_depth': 40, 'min_samples_split': 10}\n",
      "CV Score: 989919.8142639565\n",
      "Training CV with 3 folds on hparams {'n_estimators': 300, 'max_depth': 100, 'min_samples_split': 2}\n",
      "CV Score: 1002385.6371676062\n",
      "Training CV with 3 folds on hparams {'n_estimators': 300, 'max_depth': 100, 'min_samples_split': 5}\n",
      "CV Score: 996815.6560588805\n",
      "Training CV with 3 folds on hparams {'n_estimators': 300, 'max_depth': 100, 'min_samples_split': 10}\n",
      "CV Score: 989919.8550288245\n",
      "Training CV with 3 folds on hparams {'n_estimators': 400, 'max_depth': 10, 'min_samples_split': 2}\n",
      "CV Score: 1022194.4560824324\n",
      "Training CV with 3 folds on hparams {'n_estimators': 400, 'max_depth': 10, 'min_samples_split': 5}\n",
      "CV Score: 1021738.206241631\n",
      "Training CV with 3 folds on hparams {'n_estimators': 400, 'max_depth': 10, 'min_samples_split': 10}\n",
      "CV Score: 1020983.6155909193\n",
      "Training CV with 3 folds on hparams {'n_estimators': 400, 'max_depth': 40, 'min_samples_split': 2}\n",
      "CV Score: 1001752.6280637919\n",
      "Training CV with 3 folds on hparams {'n_estimators': 400, 'max_depth': 40, 'min_samples_split': 5}\n",
      "CV Score: 996226.9905407708\n",
      "Training CV with 3 folds on hparams {'n_estimators': 400, 'max_depth': 40, 'min_samples_split': 10}\n",
      "CV Score: 989482.5533754831\n",
      "Training CV with 3 folds on hparams {'n_estimators': 400, 'max_depth': 100, 'min_samples_split': 2}\n",
      "CV Score: 1001752.6075813794\n",
      "Training CV with 3 folds on hparams {'n_estimators': 400, 'max_depth': 100, 'min_samples_split': 5}\n",
      "CV Score: 996226.9984587411\n",
      "Training CV with 3 folds on hparams {'n_estimators': 400, 'max_depth': 100, 'min_samples_split': 10}\n",
      "CV Score: 989482.5839616345\n",
      "Training CV with 3 folds on hparams {'n_estimators': 500, 'max_depth': 10, 'min_samples_split': 2}\n",
      "CV Score: 1022143.7275951598\n",
      "Training CV with 3 folds on hparams {'n_estimators': 500, 'max_depth': 10, 'min_samples_split': 5}\n",
      "CV Score: 1021773.178590781\n",
      "Training CV with 3 folds on hparams {'n_estimators': 500, 'max_depth': 10, 'min_samples_split': 10}\n",
      "CV Score: 1020870.801999282\n",
      "Training CV with 3 folds on hparams {'n_estimators': 500, 'max_depth': 40, 'min_samples_split': 2}\n",
      "CV Score: 1001557.8707963884\n",
      "Training CV with 3 folds on hparams {'n_estimators': 500, 'max_depth': 40, 'min_samples_split': 5}\n",
      "CV Score: 996130.8280197185\n",
      "Training CV with 3 folds on hparams {'n_estimators': 500, 'max_depth': 40, 'min_samples_split': 10}\n",
      "CV Score: 989268.5956768282\n",
      "Training CV with 3 folds on hparams {'n_estimators': 500, 'max_depth': 100, 'min_samples_split': 2}\n",
      "CV Score: 1001557.848542517\n",
      "Training CV with 3 folds on hparams {'n_estimators': 500, 'max_depth': 100, 'min_samples_split': 5}\n",
      "CV Score: 996130.846862845\n",
      "Training CV with 3 folds on hparams {'n_estimators': 500, 'max_depth': 100, 'min_samples_split': 10}\n",
      "CV Score: 989268.6201271773\n"
     ]
    }
   ],
   "source": [
    "cv_scores_RF = custom_grid_search(cuRF, hparam_grid, def_kwargs, X_train_cupy, y_train_cupy, folds=3, verbose=1)"
   ]
  },
  {
   "cell_type": "code",
   "execution_count": null,
   "metadata": {},
   "outputs": [
    {
     "name": "stdout",
     "output_type": "stream",
     "text": [
      "{'n_estimators': 500, 'max_depth': 40, 'min_samples_split': 10}\n"
     ]
    }
   ],
   "source": [
    "opt_rf_params = min(cv_scores_RF, key=cv_scores_RF.get)\n",
    "\n",
    "print(opt_rf_params)"
   ]
  },
  {
   "attachments": {},
   "cell_type": "markdown",
   "metadata": {},
   "source": [
    "### KNN Regression"
   ]
  },
  {
   "cell_type": "code",
   "execution_count": null,
   "metadata": {},
   "outputs": [],
   "source": [
    "from cuml.neighbors import KNeighborsRegressor"
   ]
  },
  {
   "cell_type": "code",
   "execution_count": null,
   "metadata": {},
   "outputs": [],
   "source": [
    "n_neighbors = list(np.arange(1, 35))\n",
    "\n",
    "hparam_grid = dict(\n",
    "    n_neighbors=n_neighbors,\n",
    ")\n",
    "\n",
    "def_kwargs = dict(\n",
    "    verbose=False,\n",
    ")"
   ]
  },
  {
   "cell_type": "code",
   "execution_count": null,
   "metadata": {},
   "outputs": [
    {
     "name": "stdout",
     "output_type": "stream",
     "text": [
      "Training CV with 3 folds on hparams {'n_neighbors': 1}\n",
      "CV Score: 15466.870014626787\n",
      "Training CV with 3 folds on hparams {'n_neighbors': 2}\n",
      "CV Score: 14055.782030352873\n",
      "Training CV with 3 folds on hparams {'n_neighbors': 3}\n",
      "CV Score: 13502.340671844597\n",
      "Training CV with 3 folds on hparams {'n_neighbors': 4}\n",
      "CV Score: 13212.821199914635\n",
      "Training CV with 3 folds on hparams {'n_neighbors': 5}\n",
      "CV Score: 12986.295061238236\n",
      "Training CV with 3 folds on hparams {'n_neighbors': 6}\n",
      "CV Score: 12854.623304569424\n",
      "Training CV with 3 folds on hparams {'n_neighbors': 7}\n",
      "CV Score: 12792.717591420922\n",
      "Training CV with 3 folds on hparams {'n_neighbors': 8}\n",
      "CV Score: 12724.20217262097\n",
      "Training CV with 3 folds on hparams {'n_neighbors': 9}\n",
      "CV Score: 12674.72208192527\n",
      "Training CV with 3 folds on hparams {'n_neighbors': 10}\n",
      "CV Score: 12644.739660445615\n",
      "Training CV with 3 folds on hparams {'n_neighbors': 11}\n",
      "CV Score: 12611.566914776544\n",
      "Training CV with 3 folds on hparams {'n_neighbors': 12}\n",
      "CV Score: 12582.446903423688\n",
      "Training CV with 3 folds on hparams {'n_neighbors': 13}\n",
      "CV Score: 12576.328117153147\n",
      "Training CV with 3 folds on hparams {'n_neighbors': 14}\n",
      "CV Score: 12570.842262411721\n",
      "Training CV with 3 folds on hparams {'n_neighbors': 15}\n",
      "CV Score: 12562.414221913577\n",
      "Training CV with 3 folds on hparams {'n_neighbors': 16}\n",
      "CV Score: 12546.731226391848\n",
      "Training CV with 3 folds on hparams {'n_neighbors': 17}\n",
      "CV Score: 12538.480417763223\n",
      "Training CV with 3 folds on hparams {'n_neighbors': 18}\n",
      "CV Score: 12533.89921263227\n",
      "Training CV with 3 folds on hparams {'n_neighbors': 19}\n",
      "CV Score: 12527.303216350498\n",
      "Training CV with 3 folds on hparams {'n_neighbors': 20}\n",
      "CV Score: 12526.845649831295\n",
      "Training CV with 3 folds on hparams {'n_neighbors': 21}\n",
      "CV Score: 12529.097976128856\n",
      "Training CV with 3 folds on hparams {'n_neighbors': 22}\n",
      "CV Score: 12525.183090836537\n",
      "Training CV with 3 folds on hparams {'n_neighbors': 23}\n",
      "CV Score: 12523.971448991915\n",
      "Training CV with 3 folds on hparams {'n_neighbors': 24}\n",
      "CV Score: 12520.925672842162\n",
      "Training CV with 3 folds on hparams {'n_neighbors': 25}\n",
      "CV Score: 12522.492558035397\n",
      "Training CV with 3 folds on hparams {'n_neighbors': 26}\n",
      "CV Score: 12518.715363974601\n",
      "Training CV with 3 folds on hparams {'n_neighbors': 27}\n",
      "CV Score: 12519.885059127422\n",
      "Training CV with 3 folds on hparams {'n_neighbors': 28}\n",
      "CV Score: 12520.736870197152\n",
      "Training CV with 3 folds on hparams {'n_neighbors': 29}\n",
      "CV Score: 12516.042609730508\n",
      "Training CV with 3 folds on hparams {'n_neighbors': 30}\n",
      "CV Score: 12517.728899417043\n",
      "Training CV with 3 folds on hparams {'n_neighbors': 31}\n",
      "CV Score: 12518.826713048578\n",
      "Training CV with 3 folds on hparams {'n_neighbors': 32}\n",
      "CV Score: 12518.23716337306\n",
      "Training CV with 3 folds on hparams {'n_neighbors': 33}\n",
      "CV Score: 12520.374915259621\n",
      "Training CV with 3 folds on hparams {'n_neighbors': 34}\n",
      "CV Score: 12523.90483675683\n"
     ]
    }
   ],
   "source": [
    "cv_scores_knn = custom_grid_search(KNeighborsRegressor, hparam_grid, def_kwargs, X_train_scaled_cupy, y_train_cupy, folds=3, verbose=1)"
   ]
  },
  {
   "cell_type": "code",
   "execution_count": null,
   "metadata": {},
   "outputs": [
    {
     "name": "stdout",
     "output_type": "stream",
     "text": [
      "{'n_neighbors': 29}\n"
     ]
    }
   ],
   "source": [
    "opt_knn_params = min(cv_scores_knn, key=cv_scores_knn.get)\n",
    "\n",
    "print(opt_knn_params)"
   ]
  },
  {
   "attachments": {},
   "cell_type": "markdown",
   "metadata": {},
   "source": [
    "### XGBoost Regression"
   ]
  },
  {
   "cell_type": "code",
   "execution_count": null,
   "metadata": {},
   "outputs": [],
   "source": [
    "from xgboost import XGBRegressor\n",
    "\n",
    "estimator = XGBRegressor(\n",
    "    objective= 'reg:absoluteerror',\n",
    "    tree_method='gpu_hist',\n",
    "    nthread=4,\n",
    "    seed=SEED,\n",
    ")\n",
    "\n",
    "params = {\n",
    "    'learning_rate': [0.1, 0.01, 0.05],\n",
    "    'colsample_bytree': [0.6, 0.8, 1.0],\n",
    "    'max_depth': range(2, 10, 1),\n",
    "    'n_estimators': [100, 500, 1000, 2000],\n",
    "    'gamma': [0.5, 1, 1.5, 2, 5],\n",
    "    'subsample': [0.6, 0.8, 1.0],\n",
    "}"
   ]
  },
  {
   "cell_type": "code",
   "execution_count": null,
   "metadata": {},
   "outputs": [],
   "source": [
    "from sklearn.model_selection import RandomizedSearchCV\n",
    "\n",
    "xg_rand_search = RandomizedSearchCV(estimator, params, n_iter=100,\n",
    "                                    scoring='neg_mean_absolute_error', cv=3,\n",
    "                                    random_state=SEED, verbose=1, refit=True,)"
   ]
  },
  {
   "cell_type": "code",
   "execution_count": null,
   "metadata": {},
   "outputs": [
    {
     "name": "stdout",
     "output_type": "stream",
     "text": [
      "Fitting 3 folds for each of 100 candidates, totalling 300 fits\n"
     ]
    },
    {
     "data": {
      "text/html": [
       "<style>#sk-container-id-1 {color: black;background-color: white;}#sk-container-id-1 pre{padding: 0;}#sk-container-id-1 div.sk-toggleable {background-color: white;}#sk-container-id-1 label.sk-toggleable__label {cursor: pointer;display: block;width: 100%;margin-bottom: 0;padding: 0.3em;box-sizing: border-box;text-align: center;}#sk-container-id-1 label.sk-toggleable__label-arrow:before {content: \"▸\";float: left;margin-right: 0.25em;color: #696969;}#sk-container-id-1 label.sk-toggleable__label-arrow:hover:before {color: black;}#sk-container-id-1 div.sk-estimator:hover label.sk-toggleable__label-arrow:before {color: black;}#sk-container-id-1 div.sk-toggleable__content {max-height: 0;max-width: 0;overflow: hidden;text-align: left;background-color: #f0f8ff;}#sk-container-id-1 div.sk-toggleable__content pre {margin: 0.2em;color: black;border-radius: 0.25em;background-color: #f0f8ff;}#sk-container-id-1 input.sk-toggleable__control:checked~div.sk-toggleable__content {max-height: 200px;max-width: 100%;overflow: auto;}#sk-container-id-1 input.sk-toggleable__control:checked~label.sk-toggleable__label-arrow:before {content: \"▾\";}#sk-container-id-1 div.sk-estimator input.sk-toggleable__control:checked~label.sk-toggleable__label {background-color: #d4ebff;}#sk-container-id-1 div.sk-label input.sk-toggleable__control:checked~label.sk-toggleable__label {background-color: #d4ebff;}#sk-container-id-1 input.sk-hidden--visually {border: 0;clip: rect(1px 1px 1px 1px);clip: rect(1px, 1px, 1px, 1px);height: 1px;margin: -1px;overflow: hidden;padding: 0;position: absolute;width: 1px;}#sk-container-id-1 div.sk-estimator {font-family: monospace;background-color: #f0f8ff;border: 1px dotted black;border-radius: 0.25em;box-sizing: border-box;margin-bottom: 0.5em;}#sk-container-id-1 div.sk-estimator:hover {background-color: #d4ebff;}#sk-container-id-1 div.sk-parallel-item::after {content: \"\";width: 100%;border-bottom: 1px solid gray;flex-grow: 1;}#sk-container-id-1 div.sk-label:hover label.sk-toggleable__label {background-color: #d4ebff;}#sk-container-id-1 div.sk-serial::before {content: \"\";position: absolute;border-left: 1px solid gray;box-sizing: border-box;top: 0;bottom: 0;left: 50%;z-index: 0;}#sk-container-id-1 div.sk-serial {display: flex;flex-direction: column;align-items: center;background-color: white;padding-right: 0.2em;padding-left: 0.2em;position: relative;}#sk-container-id-1 div.sk-item {position: relative;z-index: 1;}#sk-container-id-1 div.sk-parallel {display: flex;align-items: stretch;justify-content: center;background-color: white;position: relative;}#sk-container-id-1 div.sk-item::before, #sk-container-id-1 div.sk-parallel-item::before {content: \"\";position: absolute;border-left: 1px solid gray;box-sizing: border-box;top: 0;bottom: 0;left: 50%;z-index: -1;}#sk-container-id-1 div.sk-parallel-item {display: flex;flex-direction: column;z-index: 1;position: relative;background-color: white;}#sk-container-id-1 div.sk-parallel-item:first-child::after {align-self: flex-end;width: 50%;}#sk-container-id-1 div.sk-parallel-item:last-child::after {align-self: flex-start;width: 50%;}#sk-container-id-1 div.sk-parallel-item:only-child::after {width: 0;}#sk-container-id-1 div.sk-dashed-wrapped {border: 1px dashed gray;margin: 0 0.4em 0.5em 0.4em;box-sizing: border-box;padding-bottom: 0.4em;background-color: white;}#sk-container-id-1 div.sk-label label {font-family: monospace;font-weight: bold;display: inline-block;line-height: 1.2em;}#sk-container-id-1 div.sk-label-container {text-align: center;}#sk-container-id-1 div.sk-container {/* jupyter's `normalize.less` sets `[hidden] { display: none; }` but bootstrap.min.css set `[hidden] { display: none !important; }` so we also need the `!important` here to be able to override the default hidden behavior on the sphinx rendered scikit-learn.org. See: https://github.com/scikit-learn/scikit-learn/issues/21755 */display: inline-block !important;position: relative;}#sk-container-id-1 div.sk-text-repr-fallback {display: none;}</style><div id=\"sk-container-id-1\" class=\"sk-top-container\"><div class=\"sk-text-repr-fallback\"><pre>RandomizedSearchCV(cv=3,\n",
       "                   estimator=XGBRegressor(base_score=None, booster=None,\n",
       "                                          callbacks=None,\n",
       "                                          colsample_bylevel=None,\n",
       "                                          colsample_bynode=None,\n",
       "                                          colsample_bytree=None,\n",
       "                                          early_stopping_rounds=None,\n",
       "                                          enable_categorical=False,\n",
       "                                          eval_metric=None, feature_types=None,\n",
       "                                          gamma=None, gpu_id=None,\n",
       "                                          grow_policy=None,\n",
       "                                          importance_type=None,\n",
       "                                          interaction_constraints=None,\n",
       "                                          learning_rate=...\n",
       "                                          n_estimators=100, n_jobs=None,\n",
       "                                          nthread=4, num_parallel_tree=None,\n",
       "                                          objective=&#x27;reg:absoluteerror&#x27;, ...),\n",
       "                   n_iter=100,\n",
       "                   param_distributions={&#x27;colsample_bytree&#x27;: [0.6, 0.8, 1.0],\n",
       "                                        &#x27;gamma&#x27;: [0.5, 1, 1.5, 2, 5],\n",
       "                                        &#x27;learning_rate&#x27;: [0.1, 0.01, 0.05],\n",
       "                                        &#x27;max_depth&#x27;: range(2, 10),\n",
       "                                        &#x27;n_estimators&#x27;: [100, 500, 1000, 2000],\n",
       "                                        &#x27;subsample&#x27;: [0.6, 0.8, 1.0]},\n",
       "                   random_state=69, scoring=&#x27;neg_mean_absolute_error&#x27;,\n",
       "                   verbose=1)</pre><b>In a Jupyter environment, please rerun this cell to show the HTML representation or trust the notebook. <br />On GitHub, the HTML representation is unable to render, please try loading this page with nbviewer.org.</b></div><div class=\"sk-container\" hidden><div class=\"sk-item sk-dashed-wrapped\"><div class=\"sk-label-container\"><div class=\"sk-label sk-toggleable\"><input class=\"sk-toggleable__control sk-hidden--visually\" id=\"sk-estimator-id-1\" type=\"checkbox\" ><label for=\"sk-estimator-id-1\" class=\"sk-toggleable__label sk-toggleable__label-arrow\">RandomizedSearchCV</label><div class=\"sk-toggleable__content\"><pre>RandomizedSearchCV(cv=3,\n",
       "                   estimator=XGBRegressor(base_score=None, booster=None,\n",
       "                                          callbacks=None,\n",
       "                                          colsample_bylevel=None,\n",
       "                                          colsample_bynode=None,\n",
       "                                          colsample_bytree=None,\n",
       "                                          early_stopping_rounds=None,\n",
       "                                          enable_categorical=False,\n",
       "                                          eval_metric=None, feature_types=None,\n",
       "                                          gamma=None, gpu_id=None,\n",
       "                                          grow_policy=None,\n",
       "                                          importance_type=None,\n",
       "                                          interaction_constraints=None,\n",
       "                                          learning_rate=...\n",
       "                                          n_estimators=100, n_jobs=None,\n",
       "                                          nthread=4, num_parallel_tree=None,\n",
       "                                          objective=&#x27;reg:absoluteerror&#x27;, ...),\n",
       "                   n_iter=100,\n",
       "                   param_distributions={&#x27;colsample_bytree&#x27;: [0.6, 0.8, 1.0],\n",
       "                                        &#x27;gamma&#x27;: [0.5, 1, 1.5, 2, 5],\n",
       "                                        &#x27;learning_rate&#x27;: [0.1, 0.01, 0.05],\n",
       "                                        &#x27;max_depth&#x27;: range(2, 10),\n",
       "                                        &#x27;n_estimators&#x27;: [100, 500, 1000, 2000],\n",
       "                                        &#x27;subsample&#x27;: [0.6, 0.8, 1.0]},\n",
       "                   random_state=69, scoring=&#x27;neg_mean_absolute_error&#x27;,\n",
       "                   verbose=1)</pre></div></div></div><div class=\"sk-parallel\"><div class=\"sk-parallel-item\"><div class=\"sk-item\"><div class=\"sk-label-container\"><div class=\"sk-label sk-toggleable\"><input class=\"sk-toggleable__control sk-hidden--visually\" id=\"sk-estimator-id-2\" type=\"checkbox\" ><label for=\"sk-estimator-id-2\" class=\"sk-toggleable__label sk-toggleable__label-arrow\">estimator: XGBRegressor</label><div class=\"sk-toggleable__content\"><pre>XGBRegressor(base_score=None, booster=None, callbacks=None,\n",
       "             colsample_bylevel=None, colsample_bynode=None,\n",
       "             colsample_bytree=None, early_stopping_rounds=None,\n",
       "             enable_categorical=False, eval_metric=None, feature_types=None,\n",
       "             gamma=None, gpu_id=None, grow_policy=None, importance_type=None,\n",
       "             interaction_constraints=None, learning_rate=None, max_bin=None,\n",
       "             max_cat_threshold=None, max_cat_to_onehot=None,\n",
       "             max_delta_step=None, max_depth=None, max_leaves=None,\n",
       "             min_child_weight=None, missing=nan, monotone_constraints=None,\n",
       "             n_estimators=100, n_jobs=None, nthread=4, num_parallel_tree=None,\n",
       "             objective=&#x27;reg:absoluteerror&#x27;, ...)</pre></div></div></div><div class=\"sk-serial\"><div class=\"sk-item\"><div class=\"sk-estimator sk-toggleable\"><input class=\"sk-toggleable__control sk-hidden--visually\" id=\"sk-estimator-id-3\" type=\"checkbox\" ><label for=\"sk-estimator-id-3\" class=\"sk-toggleable__label sk-toggleable__label-arrow\">XGBRegressor</label><div class=\"sk-toggleable__content\"><pre>XGBRegressor(base_score=None, booster=None, callbacks=None,\n",
       "             colsample_bylevel=None, colsample_bynode=None,\n",
       "             colsample_bytree=None, early_stopping_rounds=None,\n",
       "             enable_categorical=False, eval_metric=None, feature_types=None,\n",
       "             gamma=None, gpu_id=None, grow_policy=None, importance_type=None,\n",
       "             interaction_constraints=None, learning_rate=None, max_bin=None,\n",
       "             max_cat_threshold=None, max_cat_to_onehot=None,\n",
       "             max_delta_step=None, max_depth=None, max_leaves=None,\n",
       "             min_child_weight=None, missing=nan, monotone_constraints=None,\n",
       "             n_estimators=100, n_jobs=None, nthread=4, num_parallel_tree=None,\n",
       "             objective=&#x27;reg:absoluteerror&#x27;, ...)</pre></div></div></div></div></div></div></div></div></div></div>"
      ],
      "text/plain": [
       "RandomizedSearchCV(cv=3,\n",
       "                   estimator=XGBRegressor(base_score=None, booster=None,\n",
       "                                          callbacks=None,\n",
       "                                          colsample_bylevel=None,\n",
       "                                          colsample_bynode=None,\n",
       "                                          colsample_bytree=None,\n",
       "                                          early_stopping_rounds=None,\n",
       "                                          enable_categorical=False,\n",
       "                                          eval_metric=None, feature_types=None,\n",
       "                                          gamma=None, gpu_id=None,\n",
       "                                          grow_policy=None,\n",
       "                                          importance_type=None,\n",
       "                                          interaction_constraints=None,\n",
       "                                          learning_rate=...\n",
       "                                          n_estimators=100, n_jobs=None,\n",
       "                                          nthread=4, num_parallel_tree=None,\n",
       "                                          objective='reg:absoluteerror', ...),\n",
       "                   n_iter=100,\n",
       "                   param_distributions={'colsample_bytree': [0.6, 0.8, 1.0],\n",
       "                                        'gamma': [0.5, 1, 1.5, 2, 5],\n",
       "                                        'learning_rate': [0.1, 0.01, 0.05],\n",
       "                                        'max_depth': range(2, 10),\n",
       "                                        'n_estimators': [100, 500, 1000, 2000],\n",
       "                                        'subsample': [0.6, 0.8, 1.0]},\n",
       "                   random_state=69, scoring='neg_mean_absolute_error',\n",
       "                   verbose=1)"
      ]
     },
     "execution_count": 24,
     "metadata": {},
     "output_type": "execute_result"
    }
   ],
   "source": [
    "xg_rand_search.fit(X_train, y_train)"
   ]
  },
  {
   "cell_type": "code",
   "execution_count": null,
   "metadata": {},
   "outputs": [
    {
     "data": {
      "text/plain": [
       "{'subsample': 0.8,\n",
       " 'n_estimators': 2000,\n",
       " 'max_depth': 2,\n",
       " 'learning_rate': 0.1,\n",
       " 'gamma': 2,\n",
       " 'colsample_bytree': 0.6}"
      ]
     },
     "execution_count": 26,
     "metadata": {},
     "output_type": "execute_result"
    }
   ],
   "source": [
    "xg_rand_search.best_params_"
   ]
  },
  {
   "cell_type": "code",
   "execution_count": null,
   "metadata": {},
   "outputs": [
    {
     "data": {
      "text/plain": [
       "11922.813671071091"
      ]
     },
     "execution_count": 25,
     "metadata": {},
     "output_type": "execute_result"
    }
   ],
   "source": [
    "preds = xg_rand_search.predict(X_test)\n",
    "mean_absolute_error(preds, y_test)"
   ]
  },
  {
   "attachments": {},
   "cell_type": "markdown",
   "metadata": {},
   "source": [
    "### DNN For Regression"
   ]
  },
  {
   "cell_type": "code",
   "execution_count": null,
   "metadata": {},
   "outputs": [],
   "source": [
    "import torch\n",
    "import torch.nn as nn\n",
    "from torch.utils.data import Dataset, DataLoader\n",
    "import torch.nn.functional as F"
   ]
  },
  {
   "cell_type": "code",
   "execution_count": null,
   "metadata": {},
   "outputs": [
    {
     "data": {
      "text/plain": [
       "device(type='cuda')"
      ]
     },
     "execution_count": 17,
     "metadata": {},
     "output_type": "execute_result"
    }
   ],
   "source": [
    "device = torch.device('cuda') if torch.cuda.is_available() else torch.device('mps') if torch.backends.mps.is_available() else torch.device('cpu')\n",
    "\n",
    "device"
   ]
  },
  {
   "cell_type": "code",
   "execution_count": null,
   "metadata": {},
   "outputs": [],
   "source": [
    "class RealEstateDataset(Dataset):\n",
    "    def __init__(self, X_train, y_train, X_test, y_test, train=True, max_cache_size=800000):\n",
    "        self.df = df\n",
    "        self.train = train\n",
    "\n",
    "        self.X = X_train if self.train else X_test\n",
    "        self.y = y_train if self.train else y_test\n",
    "\n",
    "        self.cache = dict()\n",
    "        self.max_cache_size = max_cache_size\n",
    "\n",
    "    def __getitem__(self, index):\n",
    "\n",
    "        if index in self.cache.keys():\n",
    "            return self.cache[index]\n",
    "\n",
    "        X_sample = torch.tensor(self.X[index]).to(torch.float32).squeeze()\n",
    "        y_sample = torch.tensor(self.y[index]).to(torch.float32).squeeze()\n",
    "\n",
    "        if len(self.cache) >= self.max_cache_size:\n",
    "            self.cache.popitem()\n",
    "\n",
    "        self.cache[index] = (X_sample, y_sample)\n",
    "\n",
    "        return self.cache[index]\n",
    "\n",
    "    def __len__(self):\n",
    "        return len(self.X)"
   ]
  },
  {
   "cell_type": "code",
   "execution_count": null,
   "metadata": {},
   "outputs": [],
   "source": [
    "train_dataset = RealEstateDataset(X_train_scaled.to_numpy(), y_train.to_numpy(), X_test_scaled.to_numpy(), y_test.to_numpy(), train=True)\n",
    "test_dataset = RealEstateDataset(X_train_scaled.to_numpy(), y_train.to_numpy(), X_test_scaled.to_numpy(), y_test.to_numpy(), train=False)"
   ]
  },
  {
   "cell_type": "code",
   "execution_count": null,
   "metadata": {},
   "outputs": [],
   "source": [
    "class RegressionDNN(nn.Module):\n",
    "    def __init__(self, input_size, fcs=[24, 12, 6, 1], dropout=None):\n",
    "        super(RegressionDNN, self).__init__()\n",
    "\n",
    "        self.input_size = input_size\n",
    "        self.fcs = fcs\n",
    "        self.dropout = dropout\n",
    "\n",
    "        self.model = nn.Sequential(\n",
    "            *self._make_layers()\n",
    "        )\n",
    "\n",
    "        self.model.apply(self.init_weights)\n",
    "\n",
    "    def _make_layers(self):\n",
    "        layers = [nn.Linear(self.input_size, self.fcs[0])]\n",
    "\n",
    "        for i in range(len(self.fcs) - 1):\n",
    "            layers.append(nn.LeakyReLU())\n",
    "            if self.dropout is not None:\n",
    "                layers.append(nn.Dropout(self.dropout))\n",
    "            layers.append(nn.Linear(self.fcs[i], self.fcs[i+1]))\n",
    "\n",
    "        return layers\n",
    "    \n",
    "    def init_weights(self, m):\n",
    "        if isinstance(m, nn.Linear):\n",
    "            torch.nn.init.kaiming_uniform_(m.weight, mode='fan_in', nonlinearity='relu')\n",
    "            m.bias.data.fill_(0.01)\n",
    "\n",
    "    def forward(self, x):\n",
    "        return self.model(x).squeeze()"
   ]
  },
  {
   "cell_type": "code",
   "execution_count": null,
   "metadata": {},
   "outputs": [],
   "source": [
    "BATCH_SIZE = 64\n",
    "EPOCHS = 5000\n",
    "DATA_DIMS = train_dataset[0][0].size(0)"
   ]
  },
  {
   "cell_type": "code",
   "execution_count": null,
   "metadata": {},
   "outputs": [],
   "source": [
    "train_dl = DataLoader(train_dataset, batch_size=BATCH_SIZE, shuffle=True)\n",
    "test_dl = DataLoader(test_dataset, batch_size=BATCH_SIZE)"
   ]
  },
  {
   "cell_type": "code",
   "execution_count": null,
   "metadata": {},
   "outputs": [],
   "source": [
    "from tqdm import tqdm\n",
    "import sys\n",
    "from pathlib import Path\n",
    "import os\n",
    "import wandb\n",
    "\n",
    "def save(model, optimizer, save_path='model_checkpoint.pt'):\n",
    "\n",
    "    save_dict = {\n",
    "        'model': model.state_dict(),\n",
    "        'optimizer': optimizer.state_dict(),\n",
    "    }\n",
    "\n",
    "    torch.save(save_dict, save_path)\n",
    "\n",
    "def load(model, optimizer, load_path='model_checkpoint.pt'):\n",
    "\n",
    "    checkpoint = torch.load(load_path, map_location=device)\n",
    "\n",
    "    model.load_state_dict(checkpoint['model'])\n",
    "    optimizer.load_state_dict(checkpoint['optimizer'])\n",
    "\n",
    "    return model, optimizer\n",
    "\n",
    "def train(train_dl, test_dl, epochs=EPOCHS, batch_size=BATCH_SIZE, input_size=DATA_DIMS, print_batch_every=None,\n",
    "          lr=1e-4, dropout=None,\n",
    "          checkpoint_dir='./checkpoints', pretrained_path=None,\n",
    "          logging = False, log_init = False, project_name='Russian-Real-Estate-Regression', group_name='DNN', run_name=None,\n",
    "          model_fcs=None):\n",
    "    \n",
    "    if not os.path.exists(checkpoint_dir):\n",
    "        os.makedirs(checkpoint_dir)\n",
    "\n",
    "    if logging and log_init:\n",
    "        wandb.init(project=project_name, group=group_name, name=run_name, config=dict(\n",
    "            batch_size = batch_size,\n",
    "            epochs = epochs,\n",
    "            fcs = str(model_fcs),\n",
    "            lr = lr,\n",
    "            dropout=dropout,\n",
    "            ReLU='leaky',\n",
    "            opt='Adam'\n",
    "        ))\n",
    "\n",
    "    model = RegressionDNN(input_size, fcs=model_fcs, dropout=dropout).to(device)\n",
    "    optimizer = torch.optim.Adam(model.parameters(), lr=lr)\n",
    "\n",
    "    if pretrained_path is not None:\n",
    "        model, optimizer = load(model, optimizer, load_path=pretrained_path)\n",
    "\n",
    "    train_losses = []\n",
    "    test_losses = []\n",
    "\n",
    "    for epoch in tqdm(range(epochs)):\n",
    "\n",
    "        model.train()\n",
    "\n",
    "        batch = 0\n",
    "        train_loss = 0\n",
    "        for data in iter(train_dl):\n",
    "            batch += 1\n",
    "\n",
    "            X, y = data\n",
    "\n",
    "            X = X.to(device)\n",
    "            y = y.to(device)\n",
    "            \n",
    "            optimizer.zero_grad()\n",
    "\n",
    "            pred = model(X)\n",
    "\n",
    "            loss = F.l1_loss(pred, y * 1e-3, reduction='sum')\n",
    "            train_loss += loss\n",
    "\n",
    "            loss.backward()\n",
    "            optimizer.step()\n",
    "\n",
    "            if print_batch_every is not None and ((batch-1) % print_batch_every == 0):\n",
    "                print(f'epoch: {epoch}\\tbatch: {batch}/{len(train_dl)}\\ttrain_loss: {loss.item()}', file=sys.stderr)\n",
    "\n",
    "        train_loss /= len(train_dl.dataset)\n",
    "\n",
    "        model.eval()\n",
    "\n",
    "        with torch.no_grad():\n",
    "\n",
    "            batch = 0\n",
    "            test_loss = 0\n",
    "            for data in iter(test_dl):\n",
    "                batch += 1\n",
    "\n",
    "                X, y = data\n",
    "\n",
    "                X = X.to(device)\n",
    "                y = y.to(device)\n",
    "\n",
    "                pred = model(X)\n",
    "\n",
    "                loss = F.l1_loss(pred, y * 1e-3, reduction='sum')\n",
    "                test_loss += loss\n",
    "\n",
    "                if print_batch_every is not None and ((batch-1) % print_batch_every == 0):\n",
    "                    print(f'epoch: {epoch}\\tbatch: {batch}/{len(test_dl)}\\ttest_loss: {loss.item()}', file=sys.stderr)\n",
    "\n",
    "            test_loss /= len(test_dl.dataset)\n",
    "\n",
    "        save_path = Path(checkpoint_dir) / Path(f'reg_model_{epoch}.pt')\n",
    "        save(model, optimizer, save_path=str(save_path))\n",
    "\n",
    "        train_losses.append(train_loss)\n",
    "        test_losses.append(test_loss)\n",
    "\n",
    "        if logging:\n",
    "            wandb.log({ 'train/loss': train_loss * 1e3, 'test/loss': test_loss * 1e3 })\n",
    "\n",
    "    if logging:\n",
    "        wandb.finish()\n",
    "\n",
    "    return model, train_losses, test_losses"
   ]
  },
  {
   "cell_type": "code",
   "execution_count": null,
   "metadata": {},
   "outputs": [],
   "source": [
    "for lr in [1e-4, 1e-5, 5e-5]:\n",
    "    trained_model, train_losses, test_losses = train(train_dl, test_dl, logging=False, log_init=False,\n",
    "                                project_name='Russian-Real-Estate-Regression', group_name='DNN-Training', run_name=f'adam_leakyrelu_lr={lr}',\n",
    "                                print_batch_every=None, checkpoint_dir=f'./checkpoints/train_adam_leakyrelu_lr={lr}',\n",
    "                                model_fcs=[128, 256, 256, 256, 1], lr=lr, dropout=None, epochs=500)"
   ]
  }
 ],
 "metadata": {
  "kernelspec": {
   "display_name": "Python 3 (ipykernel)",
   "language": "python",
   "name": "python3"
  },
  "language_info": {
   "codemirror_mode": {
    "name": "ipython",
    "version": 3
   },
   "file_extension": ".py",
   "mimetype": "text/x-python",
   "name": "python",
   "nbconvert_exporter": "python",
   "pygments_lexer": "ipython3",
   "version": "3.10.11"
  }
 },
 "nbformat": 4,
 "nbformat_minor": 2
}
