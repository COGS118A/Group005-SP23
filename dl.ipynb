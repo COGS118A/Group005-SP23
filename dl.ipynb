{
 "cells": [
  {
   "attachments": {},
   "cell_type": "markdown",
   "metadata": {},
   "source": [
    "# Group 005 Real Estate Analysis"
   ]
  },
  {
   "attachments": {},
   "cell_type": "markdown",
   "metadata": {},
   "source": [
    "## Setup and Load Data"
   ]
  },
  {
   "attachments": {},
   "cell_type": "markdown",
   "metadata": {},
   "source": [
    "First, we retrieve the dataste from https://www.kaggle.com/datasets/mrdaniilak/russia-real-estate-20182021.\n",
    "\n",
    "If using the below cell, make sure you have a Kaggle API token in a `kaggle.json` file in `~/.kaggle/`. Otherwise, please download the data manually and place it under a folder `./data/`."
   ]
  },
  {
   "cell_type": "code",
   "execution_count": 1,
   "metadata": {},
   "outputs": [],
   "source": [
    "# !mkdir data\n",
    "# !kaggle datasets download mrdaniilak/russia-real-estate-20182021\n",
    "# !mv ./russia-real-estate-20182021.zip ./data/russia-real-estate-20182021.zip"
   ]
  },
  {
   "cell_type": "code",
   "execution_count": 2,
   "metadata": {},
   "outputs": [],
   "source": [
    "import zipfile\n",
    "with zipfile.ZipFile('./data/russia-real-estate-20182021.zip', 'r') as zip_ref:\n",
    "    zip_ref.extractall('./data')"
   ]
  },
  {
   "attachments": {},
   "cell_type": "markdown",
   "metadata": {},
   "source": [
    "Now, we may proceed with exploration."
   ]
  },
  {
   "cell_type": "code",
   "execution_count": 3,
   "metadata": {},
   "outputs": [],
   "source": [
    "import pandas as pd\n",
    "import numpy as np\n",
    "import matplotlib.pyplot as plt\n",
    "import seaborn as sns"
   ]
  },
  {
   "cell_type": "code",
   "execution_count": 4,
   "metadata": {},
   "outputs": [],
   "source": [
    "DATA_CSV_PATH = './data/all_v2.csv'\n",
    "\n",
    "# load csv data\n",
    "df = pd.read_csv(DATA_CSV_PATH)\n",
    "\n",
    "# remove duplicate data\n",
    "df = df.drop_duplicates()"
   ]
  },
  {
   "cell_type": "code",
   "execution_count": 5,
   "metadata": {},
   "outputs": [
    {
     "data": {
      "text/html": [
       "<div>\n",
       "<style scoped>\n",
       "    .dataframe tbody tr th:only-of-type {\n",
       "        vertical-align: middle;\n",
       "    }\n",
       "\n",
       "    .dataframe tbody tr th {\n",
       "        vertical-align: top;\n",
       "    }\n",
       "\n",
       "    .dataframe thead th {\n",
       "        text-align: right;\n",
       "    }\n",
       "</style>\n",
       "<table border=\"1\" class=\"dataframe\">\n",
       "  <thead>\n",
       "    <tr style=\"text-align: right;\">\n",
       "      <th></th>\n",
       "      <th>price</th>\n",
       "      <th>date</th>\n",
       "      <th>time</th>\n",
       "      <th>geo_lat</th>\n",
       "      <th>geo_lon</th>\n",
       "      <th>region</th>\n",
       "      <th>building_type</th>\n",
       "      <th>level</th>\n",
       "      <th>levels</th>\n",
       "      <th>rooms</th>\n",
       "      <th>area</th>\n",
       "      <th>kitchen_area</th>\n",
       "      <th>object_type</th>\n",
       "    </tr>\n",
       "  </thead>\n",
       "  <tbody>\n",
       "    <tr>\n",
       "      <th>4191979</th>\n",
       "      <td>4600000</td>\n",
       "      <td>2020-07-31</td>\n",
       "      <td>11:59:14</td>\n",
       "      <td>54.995464</td>\n",
       "      <td>82.908230</td>\n",
       "      <td>9654</td>\n",
       "      <td>0</td>\n",
       "      <td>15</td>\n",
       "      <td>18</td>\n",
       "      <td>2</td>\n",
       "      <td>58.10</td>\n",
       "      <td>12.80</td>\n",
       "      <td>1</td>\n",
       "    </tr>\n",
       "    <tr>\n",
       "      <th>2240889</th>\n",
       "      <td>1680000</td>\n",
       "      <td>2019-07-21</td>\n",
       "      <td>07:20:01</td>\n",
       "      <td>56.627352</td>\n",
       "      <td>47.849069</td>\n",
       "      <td>4982</td>\n",
       "      <td>3</td>\n",
       "      <td>2</td>\n",
       "      <td>5</td>\n",
       "      <td>1</td>\n",
       "      <td>35.00</td>\n",
       "      <td>9.00</td>\n",
       "      <td>1</td>\n",
       "    </tr>\n",
       "    <tr>\n",
       "      <th>458365</th>\n",
       "      <td>2450000</td>\n",
       "      <td>2018-11-11</td>\n",
       "      <td>04:40:05</td>\n",
       "      <td>45.056312</td>\n",
       "      <td>39.032017</td>\n",
       "      <td>2843</td>\n",
       "      <td>2</td>\n",
       "      <td>4</td>\n",
       "      <td>21</td>\n",
       "      <td>1</td>\n",
       "      <td>43.00</td>\n",
       "      <td>11.00</td>\n",
       "      <td>1</td>\n",
       "    </tr>\n",
       "    <tr>\n",
       "      <th>4638082</th>\n",
       "      <td>3893595</td>\n",
       "      <td>2020-10-31</td>\n",
       "      <td>07:54:23</td>\n",
       "      <td>55.113553</td>\n",
       "      <td>61.350565</td>\n",
       "      <td>5282</td>\n",
       "      <td>2</td>\n",
       "      <td>2</td>\n",
       "      <td>22</td>\n",
       "      <td>3</td>\n",
       "      <td>80.00</td>\n",
       "      <td>10.47</td>\n",
       "      <td>1</td>\n",
       "    </tr>\n",
       "    <tr>\n",
       "      <th>1358586</th>\n",
       "      <td>960000</td>\n",
       "      <td>2019-03-13</td>\n",
       "      <td>12:38:17</td>\n",
       "      <td>54.944957</td>\n",
       "      <td>82.962740</td>\n",
       "      <td>9654</td>\n",
       "      <td>1</td>\n",
       "      <td>8</td>\n",
       "      <td>10</td>\n",
       "      <td>-1</td>\n",
       "      <td>32.47</td>\n",
       "      <td>5.00</td>\n",
       "      <td>1</td>\n",
       "    </tr>\n",
       "  </tbody>\n",
       "</table>\n",
       "</div>"
      ],
      "text/plain": [
       "           price        date      time    geo_lat    geo_lon  region  \\\n",
       "4191979  4600000  2020-07-31  11:59:14  54.995464  82.908230    9654   \n",
       "2240889  1680000  2019-07-21  07:20:01  56.627352  47.849069    4982   \n",
       "458365   2450000  2018-11-11  04:40:05  45.056312  39.032017    2843   \n",
       "4638082  3893595  2020-10-31  07:54:23  55.113553  61.350565    5282   \n",
       "1358586   960000  2019-03-13  12:38:17  54.944957  82.962740    9654   \n",
       "\n",
       "         building_type  level  levels  rooms   area  kitchen_area  object_type  \n",
       "4191979              0     15      18      2  58.10         12.80            1  \n",
       "2240889              3      2       5      1  35.00          9.00            1  \n",
       "458365               2      4      21      1  43.00         11.00            1  \n",
       "4638082              2      2      22      3  80.00         10.47            1  \n",
       "1358586              1      8      10     -1  32.47          5.00            1  "
      ]
     },
     "execution_count": 5,
     "metadata": {},
     "output_type": "execute_result"
    }
   ],
   "source": [
    "df.sample(5)"
   ]
  },
  {
   "attachments": {},
   "cell_type": "markdown",
   "metadata": {},
   "source": [
    "Note that this Kaggle Dataset was originally pulled from GeoNames (http://www.geonames.org/), which has its own \"regions\" separated by county. Our city of interest, Moscow, has ID 81.\n",
    "\n",
    "Addtionally, we will give categorical data appropriate labels given by the dataset spec."
   ]
  },
  {
   "cell_type": "code",
   "execution_count": 6,
   "metadata": {},
   "outputs": [],
   "source": [
    "MOSCOW_CODE = 81\n",
    "\n",
    "moscow_df = df.loc[df['region'] == MOSCOW_CODE]\n",
    "moscow_df = moscow_df.drop(['time', 'geo_lat', 'geo_lon', 'region'], axis=1)\n",
    "moscow_df['date'] = moscow_df['date'].apply(lambda x: int(x[:4]))\n",
    "\n",
    "moscow_df['object_type'] = moscow_df['object_type'].replace(1, 'preowned').replace(11, 'new')\n",
    "moscow_df['building_type'] = moscow_df['building_type'].replace(0, 'other').replace(1, 'panel').replace(2, 'monolithic').replace(3, 'brick').replace(4, 'blocky').replace(5, 'wooden')\n",
    "\n",
    "# -1 means studio apartment, so we replace with 0 (since studio apartments have no extra rooms)\n",
    "# there are not other datapoints with value 0\n",
    "moscow_df['rooms'] = moscow_df['rooms'].replace(-1, 0)\n",
    "\n",
    "# remove rows with errorneous data\n",
    "moscow_df = moscow_df[moscow_df['price'] >= 0]\n",
    "moscow_df = moscow_df[moscow_df['rooms'] >= 0]"
   ]
  },
  {
   "cell_type": "code",
   "execution_count": 7,
   "metadata": {},
   "outputs": [
    {
     "data": {
      "text/plain": [
       "False"
      ]
     },
     "execution_count": 7,
     "metadata": {},
     "output_type": "execute_result"
    }
   ],
   "source": [
    "moscow_df.isnull().values.any()"
   ]
  },
  {
   "cell_type": "code",
   "execution_count": 8,
   "metadata": {},
   "outputs": [
    {
     "data": {
      "text/html": [
       "<div>\n",
       "<style scoped>\n",
       "    .dataframe tbody tr th:only-of-type {\n",
       "        vertical-align: middle;\n",
       "    }\n",
       "\n",
       "    .dataframe tbody tr th {\n",
       "        vertical-align: top;\n",
       "    }\n",
       "\n",
       "    .dataframe thead th {\n",
       "        text-align: right;\n",
       "    }\n",
       "</style>\n",
       "<table border=\"1\" class=\"dataframe\">\n",
       "  <thead>\n",
       "    <tr style=\"text-align: right;\">\n",
       "      <th></th>\n",
       "      <th>price</th>\n",
       "      <th>date</th>\n",
       "      <th>building_type</th>\n",
       "      <th>level</th>\n",
       "      <th>levels</th>\n",
       "      <th>rooms</th>\n",
       "      <th>area</th>\n",
       "      <th>kitchen_area</th>\n",
       "      <th>object_type</th>\n",
       "    </tr>\n",
       "  </thead>\n",
       "  <tbody>\n",
       "    <tr>\n",
       "      <th>2516795</th>\n",
       "      <td>3105385</td>\n",
       "      <td>2019</td>\n",
       "      <td>brick</td>\n",
       "      <td>21</td>\n",
       "      <td>25</td>\n",
       "      <td>1</td>\n",
       "      <td>29.4</td>\n",
       "      <td>8.2</td>\n",
       "      <td>new</td>\n",
       "    </tr>\n",
       "    <tr>\n",
       "      <th>2186681</th>\n",
       "      <td>7500000</td>\n",
       "      <td>2019</td>\n",
       "      <td>monolithic</td>\n",
       "      <td>2</td>\n",
       "      <td>17</td>\n",
       "      <td>2</td>\n",
       "      <td>74.9</td>\n",
       "      <td>13.5</td>\n",
       "      <td>preowned</td>\n",
       "    </tr>\n",
       "    <tr>\n",
       "      <th>4975647</th>\n",
       "      <td>7800000</td>\n",
       "      <td>2021</td>\n",
       "      <td>monolithic</td>\n",
       "      <td>7</td>\n",
       "      <td>25</td>\n",
       "      <td>2</td>\n",
       "      <td>43.8</td>\n",
       "      <td>12.0</td>\n",
       "      <td>preowned</td>\n",
       "    </tr>\n",
       "    <tr>\n",
       "      <th>4657123</th>\n",
       "      <td>6800000</td>\n",
       "      <td>2020</td>\n",
       "      <td>brick</td>\n",
       "      <td>3</td>\n",
       "      <td>5</td>\n",
       "      <td>3</td>\n",
       "      <td>56.0</td>\n",
       "      <td>5.5</td>\n",
       "      <td>preowned</td>\n",
       "    </tr>\n",
       "    <tr>\n",
       "      <th>4817489</th>\n",
       "      <td>3130000</td>\n",
       "      <td>2020</td>\n",
       "      <td>brick</td>\n",
       "      <td>3</td>\n",
       "      <td>22</td>\n",
       "      <td>1</td>\n",
       "      <td>39.5</td>\n",
       "      <td>12.0</td>\n",
       "      <td>preowned</td>\n",
       "    </tr>\n",
       "  </tbody>\n",
       "</table>\n",
       "</div>"
      ],
      "text/plain": [
       "           price  date building_type  level  levels  rooms  area  \\\n",
       "2516795  3105385  2019         brick     21      25      1  29.4   \n",
       "2186681  7500000  2019    monolithic      2      17      2  74.9   \n",
       "4975647  7800000  2021    monolithic      7      25      2  43.8   \n",
       "4657123  6800000  2020         brick      3       5      3  56.0   \n",
       "4817489  3130000  2020         brick      3      22      1  39.5   \n",
       "\n",
       "         kitchen_area object_type  \n",
       "2516795           8.2         new  \n",
       "2186681          13.5    preowned  \n",
       "4975647          12.0    preowned  \n",
       "4657123           5.5    preowned  \n",
       "4817489          12.0    preowned  "
      ]
     },
     "execution_count": 8,
     "metadata": {},
     "output_type": "execute_result"
    }
   ],
   "source": [
    "moscow_df.sample(5)"
   ]
  },
  {
   "attachments": {},
   "cell_type": "markdown",
   "metadata": {},
   "source": [
    "# Exploration"
   ]
  },
  {
   "attachments": {},
   "cell_type": "markdown",
   "metadata": {},
   "source": [
    "First, we'll look at the data distributions for the ordinal data."
   ]
  },
  {
   "cell_type": "code",
   "execution_count": 9,
   "metadata": {},
   "outputs": [
    {
     "data": {
      "text/html": [
       "<div>\n",
       "<style scoped>\n",
       "    .dataframe tbody tr th:only-of-type {\n",
       "        vertical-align: middle;\n",
       "    }\n",
       "\n",
       "    .dataframe tbody tr th {\n",
       "        vertical-align: top;\n",
       "    }\n",
       "\n",
       "    .dataframe thead th {\n",
       "        text-align: right;\n",
       "    }\n",
       "</style>\n",
       "<table border=\"1\" class=\"dataframe\">\n",
       "  <thead>\n",
       "    <tr style=\"text-align: right;\">\n",
       "      <th></th>\n",
       "      <th>price</th>\n",
       "      <th>date</th>\n",
       "      <th>level</th>\n",
       "      <th>levels</th>\n",
       "      <th>rooms</th>\n",
       "      <th>area</th>\n",
       "      <th>kitchen_area</th>\n",
       "    </tr>\n",
       "  </thead>\n",
       "  <tbody>\n",
       "    <tr>\n",
       "      <th>count</th>\n",
       "      <td>5.001920e+05</td>\n",
       "      <td>500192.000000</td>\n",
       "      <td>500192.00000</td>\n",
       "      <td>500192.000000</td>\n",
       "      <td>500192.000000</td>\n",
       "      <td>500192.000000</td>\n",
       "      <td>500192.000000</td>\n",
       "    </tr>\n",
       "    <tr>\n",
       "      <th>mean</th>\n",
       "      <td>4.765453e+06</td>\n",
       "      <td>2019.310803</td>\n",
       "      <td>7.05152</td>\n",
       "      <td>12.741489</td>\n",
       "      <td>1.782240</td>\n",
       "      <td>51.734531</td>\n",
       "      <td>10.364580</td>\n",
       "    </tr>\n",
       "    <tr>\n",
       "      <th>std</th>\n",
       "      <td>4.208466e+06</td>\n",
       "      <td>0.880217</td>\n",
       "      <td>5.71243</td>\n",
       "      <td>7.391100</td>\n",
       "      <td>0.864063</td>\n",
       "      <td>25.727061</td>\n",
       "      <td>7.177274</td>\n",
       "    </tr>\n",
       "    <tr>\n",
       "      <th>min</th>\n",
       "      <td>0.000000e+00</td>\n",
       "      <td>2018.000000</td>\n",
       "      <td>1.00000</td>\n",
       "      <td>1.000000</td>\n",
       "      <td>0.000000</td>\n",
       "      <td>1.000000</td>\n",
       "      <td>0.050000</td>\n",
       "    </tr>\n",
       "    <tr>\n",
       "      <th>25%</th>\n",
       "      <td>3.000000e+06</td>\n",
       "      <td>2019.000000</td>\n",
       "      <td>3.00000</td>\n",
       "      <td>5.000000</td>\n",
       "      <td>1.000000</td>\n",
       "      <td>38.000000</td>\n",
       "      <td>7.000000</td>\n",
       "    </tr>\n",
       "    <tr>\n",
       "      <th>50%</th>\n",
       "      <td>4.300000e+06</td>\n",
       "      <td>2019.000000</td>\n",
       "      <td>5.00000</td>\n",
       "      <td>12.000000</td>\n",
       "      <td>2.000000</td>\n",
       "      <td>46.200000</td>\n",
       "      <td>9.600000</td>\n",
       "    </tr>\n",
       "    <tr>\n",
       "      <th>75%</th>\n",
       "      <td>5.950000e+06</td>\n",
       "      <td>2020.000000</td>\n",
       "      <td>10.00000</td>\n",
       "      <td>17.000000</td>\n",
       "      <td>2.000000</td>\n",
       "      <td>62.000000</td>\n",
       "      <td>12.000000</td>\n",
       "    </tr>\n",
       "    <tr>\n",
       "      <th>max</th>\n",
       "      <td>2.147484e+09</td>\n",
       "      <td>2021.000000</td>\n",
       "      <td>36.00000</td>\n",
       "      <td>39.000000</td>\n",
       "      <td>9.000000</td>\n",
       "      <td>5000.000000</td>\n",
       "      <td>3000.000000</td>\n",
       "    </tr>\n",
       "  </tbody>\n",
       "</table>\n",
       "</div>"
      ],
      "text/plain": [
       "              price           date         level         levels  \\\n",
       "count  5.001920e+05  500192.000000  500192.00000  500192.000000   \n",
       "mean   4.765453e+06    2019.310803       7.05152      12.741489   \n",
       "std    4.208466e+06       0.880217       5.71243       7.391100   \n",
       "min    0.000000e+00    2018.000000       1.00000       1.000000   \n",
       "25%    3.000000e+06    2019.000000       3.00000       5.000000   \n",
       "50%    4.300000e+06    2019.000000       5.00000      12.000000   \n",
       "75%    5.950000e+06    2020.000000      10.00000      17.000000   \n",
       "max    2.147484e+09    2021.000000      36.00000      39.000000   \n",
       "\n",
       "               rooms           area   kitchen_area  \n",
       "count  500192.000000  500192.000000  500192.000000  \n",
       "mean        1.782240      51.734531      10.364580  \n",
       "std         0.864063      25.727061       7.177274  \n",
       "min         0.000000       1.000000       0.050000  \n",
       "25%         1.000000      38.000000       7.000000  \n",
       "50%         2.000000      46.200000       9.600000  \n",
       "75%         2.000000      62.000000      12.000000  \n",
       "max         9.000000    5000.000000    3000.000000  "
      ]
     },
     "execution_count": 9,
     "metadata": {},
     "output_type": "execute_result"
    }
   ],
   "source": [
    "moscow_df.describe()"
   ]
  },
  {
   "attachments": {},
   "cell_type": "markdown",
   "metadata": {},
   "source": [
    "Each column is skewed right, meaning we have some extreme outliers for each column. This is because in the real estate market, while most \"normal\" places have a similar price, the price ceiling for real estate can be very high. While these outliers are sparse, they could still bias our model."
   ]
  },
  {
   "attachments": {},
   "cell_type": "markdown",
   "metadata": {},
   "source": [
    "Next, we can plot each variable against price to look for possible correlations. We will only looks at data points with price less than $2 \\cdot 10^7$ to get better plots by removing price outliers. We will also plot regression lines for each to quantify per-variable correlation strength."
   ]
  },
  {
   "cell_type": "code",
   "execution_count": 10,
   "metadata": {},
   "outputs": [
    {
     "data": {
      "image/png": "[encoded data removed]",
      "text/plain": [
       "<Figure size 1750x250 with 8 Axes>"
      ]
     },
     "metadata": {},
     "output_type": "display_data"
    }
   ],
   "source": [
    "from scipy.stats import linregress\n",
    "\n",
    "def calc_R2(x, y, ax=None, **kwargs):\n",
    "    ax = ax or plt.gca()\n",
    "    _, _, r_value, _, _ = linregress(x=x, y=y)\n",
    "    ax.annotate(f'$R^2 = {r_value ** 2:.2f}$', xy=(.05, 1), xycoords=ax.transAxes, fontsize=8, ha='left', va='top')\n",
    "\n",
    "g = sns.pairplot(moscow_df.loc[moscow_df['price'] < 2e7].sample(1000), kind='reg', y_vars=['price'], plot_kws={'line_kws':{'color':'red'}})\n",
    "\n",
    "g.map_upper(calc_R2)\n",
    "plt.show()"
   ]
  },
  {
   "attachments": {},
   "cell_type": "markdown",
   "metadata": {},
   "source": [
    "Data and level have near-zero correlations. The number of levels in the building (i.e. building size) and number of rooms, as well have kitchen area, seem like te might have some signidicance. The most important (single) variable seems to be area. However, even here we don't have a strong correlation. Hopefully combining these variables into a multivariate regression will lead to stronger correlation.\n",
    "\n",
    "Additionally, all of the correlations seem to be closest to linear (as opposed to some polynomial fit). So, a polynomial regression may not perform better than a linear regression.\n",
    "\n",
    "However, in the above we only use about 1000 samples (for efficiency). We can see these correlation results across the dataset more easily with a heatmap:"
   ]
  },
  {
   "cell_type": "code",
   "execution_count": 11,
   "metadata": {},
   "outputs": [
    {
     "data": {
      "text/plain": [
       "<Axes: >"
      ]
     },
     "execution_count": 11,
     "metadata": {},
     "output_type": "execute_result"
    },
    {
     "data": {
      "image/png": "[encoded data removed]",
      "text/plain": [
       "<Figure size 640x480 with 2 Axes>"
      ]
     },
     "metadata": {},
     "output_type": "display_data"
    }
   ],
   "source": [
    "sns.heatmap(moscow_df.drop(['building_type', 'object_type'], axis=1).corr(), annot=True)"
   ]
  },
  {
   "attachments": {},
   "cell_type": "markdown",
   "metadata": {},
   "source": [
    "Notably, `date` and `level` have a stronger correlation than from our 1000 samples, but each individual variable still does not have a strong enough correlation for prediction.\n",
    "\n",
    "Thus, we proceed to fitting some models."
   ]
  },
  {
   "attachments": {},
   "cell_type": "markdown",
   "metadata": {},
   "source": [
    "## Model Fitting"
   ]
  },
  {
   "cell_type": "code",
   "execution_count": 12,
   "metadata": {},
   "outputs": [
    {
     "name": "stdout",
     "output_type": "stream",
     "text": [
      "350134 train samples; 150058 test samples\n"
     ]
    }
   ],
   "source": [
    "from sklearn.model_selection import train_test_split\n",
    "\n",
    "X = moscow_df[['date', 'building_type', 'level', 'levels', 'rooms', 'area', 'kitchen_area', 'object_type']]\n",
    "y = moscow_df['price']\n",
    "\n",
    "X_train, X_test, y_train, y_test = train_test_split(X, y, test_size=0.3, random_state=42)\n",
    "\n",
    "print(f'{len(y_train)} train samples; {len(y_test)} test samples')"
   ]
  },
  {
   "attachments": {},
   "cell_type": "markdown",
   "metadata": {},
   "source": [
    "Now, we will one-hot the categorical data using sklearn's one hot encoder."
   ]
  },
  {
   "cell_type": "code",
   "execution_count": 13,
   "metadata": {},
   "outputs": [
    {
     "data": {
      "text/html": [
       "<div>\n",
       "<style scoped>\n",
       "    .dataframe tbody tr th:only-of-type {\n",
       "        vertical-align: middle;\n",
       "    }\n",
       "\n",
       "    .dataframe tbody tr th {\n",
       "        vertical-align: top;\n",
       "    }\n",
       "\n",
       "    .dataframe thead th {\n",
       "        text-align: right;\n",
       "    }\n",
       "</style>\n",
       "<table border=\"1\" class=\"dataframe\">\n",
       "  <thead>\n",
       "    <tr style=\"text-align: right;\">\n",
       "      <th></th>\n",
       "      <th>date</th>\n",
       "      <th>level</th>\n",
       "      <th>levels</th>\n",
       "      <th>rooms</th>\n",
       "      <th>area</th>\n",
       "      <th>kitchen_area</th>\n",
       "      <th>blocky</th>\n",
       "      <th>brick</th>\n",
       "      <th>monolithic</th>\n",
       "      <th>other</th>\n",
       "      <th>panel</th>\n",
       "      <th>wooden</th>\n",
       "      <th>new</th>\n",
       "      <th>preowned</th>\n",
       "    </tr>\n",
       "  </thead>\n",
       "  <tbody>\n",
       "    <tr>\n",
       "      <th>3977271</th>\n",
       "      <td>2020</td>\n",
       "      <td>6</td>\n",
       "      <td>9</td>\n",
       "      <td>3</td>\n",
       "      <td>60.0</td>\n",
       "      <td>7.5</td>\n",
       "      <td>0.0</td>\n",
       "      <td>1.0</td>\n",
       "      <td>0.0</td>\n",
       "      <td>0.0</td>\n",
       "      <td>0.0</td>\n",
       "      <td>0.0</td>\n",
       "      <td>0.0</td>\n",
       "      <td>1.0</td>\n",
       "    </tr>\n",
       "    <tr>\n",
       "      <th>47727</th>\n",
       "      <td>2018</td>\n",
       "      <td>6</td>\n",
       "      <td>10</td>\n",
       "      <td>2</td>\n",
       "      <td>69.1</td>\n",
       "      <td>15.6</td>\n",
       "      <td>0.0</td>\n",
       "      <td>0.0</td>\n",
       "      <td>0.0</td>\n",
       "      <td>0.0</td>\n",
       "      <td>1.0</td>\n",
       "      <td>0.0</td>\n",
       "      <td>0.0</td>\n",
       "      <td>1.0</td>\n",
       "    </tr>\n",
       "    <tr>\n",
       "      <th>2694124</th>\n",
       "      <td>2019</td>\n",
       "      <td>5</td>\n",
       "      <td>5</td>\n",
       "      <td>2</td>\n",
       "      <td>45.0</td>\n",
       "      <td>6.0</td>\n",
       "      <td>0.0</td>\n",
       "      <td>0.0</td>\n",
       "      <td>0.0</td>\n",
       "      <td>0.0</td>\n",
       "      <td>1.0</td>\n",
       "      <td>0.0</td>\n",
       "      <td>0.0</td>\n",
       "      <td>1.0</td>\n",
       "    </tr>\n",
       "    <tr>\n",
       "      <th>2362412</th>\n",
       "      <td>2019</td>\n",
       "      <td>6</td>\n",
       "      <td>17</td>\n",
       "      <td>2</td>\n",
       "      <td>63.0</td>\n",
       "      <td>12.5</td>\n",
       "      <td>0.0</td>\n",
       "      <td>0.0</td>\n",
       "      <td>0.0</td>\n",
       "      <td>0.0</td>\n",
       "      <td>1.0</td>\n",
       "      <td>0.0</td>\n",
       "      <td>0.0</td>\n",
       "      <td>1.0</td>\n",
       "    </tr>\n",
       "    <tr>\n",
       "      <th>852955</th>\n",
       "      <td>2018</td>\n",
       "      <td>19</td>\n",
       "      <td>25</td>\n",
       "      <td>2</td>\n",
       "      <td>61.9</td>\n",
       "      <td>21.9</td>\n",
       "      <td>0.0</td>\n",
       "      <td>0.0</td>\n",
       "      <td>0.0</td>\n",
       "      <td>0.0</td>\n",
       "      <td>1.0</td>\n",
       "      <td>0.0</td>\n",
       "      <td>1.0</td>\n",
       "      <td>0.0</td>\n",
       "    </tr>\n",
       "  </tbody>\n",
       "</table>\n",
       "</div>"
      ],
      "text/plain": [
       "         date  level  levels  rooms  area  kitchen_area  blocky  brick  \\\n",
       "3977271  2020      6       9      3  60.0           7.5     0.0    1.0   \n",
       "47727    2018      6      10      2  69.1          15.6     0.0    0.0   \n",
       "2694124  2019      5       5      2  45.0           6.0     0.0    0.0   \n",
       "2362412  2019      6      17      2  63.0          12.5     0.0    0.0   \n",
       "852955   2018     19      25      2  61.9          21.9     0.0    0.0   \n",
       "\n",
       "         monolithic  other  panel  wooden  new  preowned  \n",
       "3977271         0.0    0.0    0.0     0.0  0.0       1.0  \n",
       "47727           0.0    0.0    1.0     0.0  0.0       1.0  \n",
       "2694124         0.0    0.0    1.0     0.0  0.0       1.0  \n",
       "2362412         0.0    0.0    1.0     0.0  0.0       1.0  \n",
       "852955          0.0    0.0    1.0     0.0  1.0       0.0  "
      ]
     },
     "execution_count": 13,
     "metadata": {},
     "output_type": "execute_result"
    }
   ],
   "source": [
    "from sklearn.preprocessing import OneHotEncoder\n",
    "\n",
    "for col in ['building_type', 'object_type']:\n",
    "\n",
    "    one_hot = OneHotEncoder()\n",
    "    one_hot.fit(X_train[[col]])\n",
    "\n",
    "    X_train.loc[:, one_hot.categories_[0]] = one_hot.transform(X_train[[col]]).todense()\n",
    "    X_test.loc[:, one_hot.categories_[0]] = one_hot.transform(X_test[[col]]).todense()\n",
    "\n",
    "    X_train = X_train.drop(col, axis=1)\n",
    "    X_test = X_test.drop(col, axis=1)\n",
    "\n",
    "X_train.sample(5)"
   ]
  },
  {
   "attachments": {},
   "cell_type": "markdown",
   "metadata": {},
   "source": [
    "Next, we will scale the data. Note that not all models require scaled data; while models like linear regression require scaling to avoid overemphasis of certain datapoints, models like descision trees (and, by extension, random forests) are not affected by unscaled variables.\n",
    "\n",
    "It is also important to note that scaled data won't *negatively* impact descision trees, but we make a copy of scaled data to more explicitly demonstrate model understanding."
   ]
  },
  {
   "cell_type": "code",
   "execution_count": 14,
   "metadata": {},
   "outputs": [
    {
     "data": {
      "text/html": [
       "<div>\n",
       "<style scoped>\n",
       "    .dataframe tbody tr th:only-of-type {\n",
       "        vertical-align: middle;\n",
       "    }\n",
       "\n",
       "    .dataframe tbody tr th {\n",
       "        vertical-align: top;\n",
       "    }\n",
       "\n",
       "    .dataframe thead th {\n",
       "        text-align: right;\n",
       "    }\n",
       "</style>\n",
       "<table border=\"1\" class=\"dataframe\">\n",
       "  <thead>\n",
       "    <tr style=\"text-align: right;\">\n",
       "      <th></th>\n",
       "      <th>date</th>\n",
       "      <th>level</th>\n",
       "      <th>levels</th>\n",
       "      <th>rooms</th>\n",
       "      <th>area</th>\n",
       "      <th>kitchen_area</th>\n",
       "      <th>blocky</th>\n",
       "      <th>brick</th>\n",
       "      <th>monolithic</th>\n",
       "      <th>other</th>\n",
       "      <th>panel</th>\n",
       "      <th>wooden</th>\n",
       "      <th>new</th>\n",
       "      <th>preowned</th>\n",
       "    </tr>\n",
       "  </thead>\n",
       "  <tbody>\n",
       "    <tr>\n",
       "      <th>1527667</th>\n",
       "      <td>-0.353996</td>\n",
       "      <td>-0.709375</td>\n",
       "      <td>0.576643</td>\n",
       "      <td>0.252737</td>\n",
       "      <td>0.434362</td>\n",
       "      <td>-0.060068</td>\n",
       "      <td>0.0</td>\n",
       "      <td>1.0</td>\n",
       "      <td>0.0</td>\n",
       "      <td>0.0</td>\n",
       "      <td>0.0</td>\n",
       "      <td>0.0</td>\n",
       "      <td>0.0</td>\n",
       "      <td>1.0</td>\n",
       "    </tr>\n",
       "    <tr>\n",
       "      <th>4144679</th>\n",
       "      <td>0.783197</td>\n",
       "      <td>-0.534308</td>\n",
       "      <td>-1.046451</td>\n",
       "      <td>-0.905443</td>\n",
       "      <td>-0.798933</td>\n",
       "      <td>-0.738405</td>\n",
       "      <td>0.0</td>\n",
       "      <td>0.0</td>\n",
       "      <td>0.0</td>\n",
       "      <td>0.0</td>\n",
       "      <td>1.0</td>\n",
       "      <td>0.0</td>\n",
       "      <td>0.0</td>\n",
       "      <td>1.0</td>\n",
       "    </tr>\n",
       "    <tr>\n",
       "      <th>4829776</th>\n",
       "      <td>0.783197</td>\n",
       "      <td>0.516094</td>\n",
       "      <td>0.441386</td>\n",
       "      <td>-0.905443</td>\n",
       "      <td>-1.230586</td>\n",
       "      <td>-0.892726</td>\n",
       "      <td>0.0</td>\n",
       "      <td>0.0</td>\n",
       "      <td>1.0</td>\n",
       "      <td>0.0</td>\n",
       "      <td>0.0</td>\n",
       "      <td>0.0</td>\n",
       "      <td>1.0</td>\n",
       "      <td>0.0</td>\n",
       "    </tr>\n",
       "    <tr>\n",
       "      <th>1131154</th>\n",
       "      <td>-0.353996</td>\n",
       "      <td>-0.709375</td>\n",
       "      <td>-1.046451</td>\n",
       "      <td>0.252737</td>\n",
       "      <td>-0.220826</td>\n",
       "      <td>-0.568820</td>\n",
       "      <td>0.0</td>\n",
       "      <td>0.0</td>\n",
       "      <td>0.0</td>\n",
       "      <td>0.0</td>\n",
       "      <td>1.0</td>\n",
       "      <td>0.0</td>\n",
       "      <td>0.0</td>\n",
       "      <td>1.0</td>\n",
       "    </tr>\n",
       "    <tr>\n",
       "      <th>4554136</th>\n",
       "      <td>0.783197</td>\n",
       "      <td>1.041295</td>\n",
       "      <td>1.252933</td>\n",
       "      <td>-0.905443</td>\n",
       "      <td>0.010417</td>\n",
       "      <td>0.279100</td>\n",
       "      <td>0.0</td>\n",
       "      <td>0.0</td>\n",
       "      <td>0.0</td>\n",
       "      <td>0.0</td>\n",
       "      <td>1.0</td>\n",
       "      <td>0.0</td>\n",
       "      <td>0.0</td>\n",
       "      <td>1.0</td>\n",
       "    </tr>\n",
       "  </tbody>\n",
       "</table>\n",
       "</div>"
      ],
      "text/plain": [
       "             date     level    levels     rooms      area  kitchen_area  \\\n",
       "1527667 -0.353996 -0.709375  0.576643  0.252737  0.434362     -0.060068   \n",
       "4144679  0.783197 -0.534308 -1.046451 -0.905443 -0.798933     -0.738405   \n",
       "4829776  0.783197  0.516094  0.441386 -0.905443 -1.230586     -0.892726   \n",
       "1131154 -0.353996 -0.709375 -1.046451  0.252737 -0.220826     -0.568820   \n",
       "4554136  0.783197  1.041295  1.252933 -0.905443  0.010417      0.279100   \n",
       "\n",
       "         blocky  brick  monolithic  other  panel  wooden  new  preowned  \n",
       "1527667     0.0    1.0         0.0    0.0    0.0     0.0  0.0       1.0  \n",
       "4144679     0.0    0.0         0.0    0.0    1.0     0.0  0.0       1.0  \n",
       "4829776     0.0    0.0         1.0    0.0    0.0     0.0  1.0       0.0  \n",
       "1131154     0.0    0.0         0.0    0.0    1.0     0.0  0.0       1.0  \n",
       "4554136     0.0    0.0         0.0    0.0    1.0     0.0  0.0       1.0  "
      ]
     },
     "execution_count": 14,
     "metadata": {},
     "output_type": "execute_result"
    }
   ],
   "source": [
    "from sklearn.preprocessing import StandardScaler\n",
    "\n",
    "ordinal_cols = ['date', 'level', 'levels', 'rooms', 'area', 'kitchen_area']\n",
    "X_train_ordinal, X_test_ordinal = X_train[ordinal_cols], X_test[ordinal_cols]\n",
    "\n",
    "scaler = StandardScaler()\n",
    "scaler.fit(X_train_ordinal)\n",
    "\n",
    "X_train_scaled, X_test_scaled = X_train, X_test\n",
    "\n",
    "X_train_scaled.loc[:, scaler.feature_names_in_] = scaler.transform(X_train_ordinal)\n",
    "X_test_scaled.loc[:, scaler.feature_names_in_] = scaler.transform(X_test_ordinal)\n",
    "\n",
    "X_train_scaled.sample(5)"
   ]
  },
  {
   "cell_type": "code",
   "execution_count": 15,
   "metadata": {},
   "outputs": [],
   "source": [
    "# MAX_EPOCHS = 1000000"
   ]
  },
  {
   "attachments": {},
   "cell_type": "markdown",
   "metadata": {},
   "source": [
    "### Linear Regression"
   ]
  },
  {
   "attachments": {},
   "cell_type": "markdown",
   "metadata": {},
   "source": [
    "Note that SckiKit doesn't offer MAE loss for its `LinearRegression` implementation. However, `linear_model.SGDRegressor` can be made to use an MAE loss by using `epsilon_insensitive` loss and setting its $\\epsilon$ hyperparam to $0$.\n",
    "\n",
    "Note that this does mean we will be using SGD for descent, so our model will take more steps to converge and loss won't strcitly decrease, but in our case using SGD will actually be helpful since our dataset is relatively large, so each epoch will be much faster."
   ]
  },
  {
   "cell_type": "code",
   "execution_count": 16,
   "metadata": {},
   "outputs": [],
   "source": [
    "# from sklearn.linear_model import SGDRegressor\n",
    "\n",
    "# linreg_mae_model = SGDRegressor(loss='epsilon_insensitive', epsilon=0, max_iter=MAX_EPOCHS, verbose=1)"
   ]
  },
  {
   "cell_type": "code",
   "execution_count": 17,
   "metadata": {},
   "outputs": [],
   "source": [
    "# linreg_mae_model.fit(X_train_scaled, y_train)"
   ]
  },
  {
   "cell_type": "code",
   "execution_count": 18,
   "metadata": {},
   "outputs": [],
   "source": [
    "# import pickle\n",
    "\n",
    "# filename = 'trained_model.sav'\n",
    "# pickle.dump(linreg_mae_model, open(filename, 'wb'))"
   ]
  },
  {
   "attachments": {},
   "cell_type": "markdown",
   "metadata": {},
   "source": [
    "### DNN For Regression"
   ]
  },
  {
   "cell_type": "code",
   "execution_count": 19,
   "metadata": {},
   "outputs": [],
   "source": [
    "import torch\n",
    "import torch.nn as nn\n",
    "from torch.utils.data import Dataset, DataLoader\n",
    "import torch.nn.functional as F\n",
    "from torch.optim import Adam"
   ]
  },
  {
   "cell_type": "code",
   "execution_count": 20,
   "metadata": {},
   "outputs": [
    {
     "data": {
      "text/plain": [
       "device(type='mps')"
      ]
     },
     "execution_count": 20,
     "metadata": {},
     "output_type": "execute_result"
    }
   ],
   "source": [
    "device = torch.device('cuda') if torch.cuda.is_available() else torch.device('mps') if torch.backends.mps.is_available() else torch.device('cpu')\n",
    "\n",
    "device"
   ]
  },
  {
   "cell_type": "code",
   "execution_count": 21,
   "metadata": {},
   "outputs": [],
   "source": [
    "class RealEstateDataset(Dataset):\n",
    "    def __init__(self, X_train, y_train, X_test, y_test, train=True, max_cache_size=800000):\n",
    "        self.df = df\n",
    "        self.train = train\n",
    "\n",
    "        self.X = X_train if self.train else X_test\n",
    "        self.y = y_train if self.train else y_test\n",
    "\n",
    "        self.cache = dict()\n",
    "        self.max_cache_size = max_cache_size\n",
    "\n",
    "    def __getitem__(self, index):\n",
    "\n",
    "        if index in self.cache.keys():\n",
    "            return self.cache[index]\n",
    "\n",
    "        X_sample = torch.tensor(self.X[index]).to(torch.float32).squeeze()\n",
    "        y_sample = torch.tensor(self.y[index]).to(torch.float32).squeeze()\n",
    "\n",
    "        if len(self.cache) >= self.max_cache_size:\n",
    "            self.cache.popitem()\n",
    "\n",
    "        self.cache[index] = (X_sample, y_sample)\n",
    "\n",
    "        return self.cache[index]\n",
    "\n",
    "    def __len__(self):\n",
    "        return len(self.X)"
   ]
  },
  {
   "cell_type": "code",
   "execution_count": 22,
   "metadata": {},
   "outputs": [],
   "source": [
    "train_dataset = RealEstateDataset(X_train_scaled.to_numpy(), y_train.to_numpy(), X_test_scaled.to_numpy(), y_test.to_numpy(), train=True)\n",
    "test_dataset = RealEstateDataset(X_train_scaled.to_numpy(), y_train.to_numpy(), X_test_scaled.to_numpy(), y_test.to_numpy(), train=False)"
   ]
  },
  {
   "cell_type": "code",
   "execution_count": 23,
   "metadata": {},
   "outputs": [],
   "source": [
    "class RegressionDNN(nn.Module):\n",
    "    def __init__(self, input_size):\n",
    "        super(RegressionDNN, self).__init__()\n",
    "\n",
    "        self.model = nn.Sequential(\n",
    "            nn.Linear(input_size, 24),\n",
    "            nn.ReLU(),\n",
    "            nn.Linear(24, 12),\n",
    "            nn.ReLU(),\n",
    "            nn.Linear(12, 6),\n",
    "            nn.ReLU(),\n",
    "            nn.Linear(6, 1)\n",
    "        )\n",
    "\n",
    "    def forward(self, x):\n",
    "        return self.model(x)"
   ]
  },
  {
   "cell_type": "code",
   "execution_count": 56,
   "metadata": {},
   "outputs": [],
   "source": [
    "BATCH_SIZE = 64\n",
    "EPOCHS = 10\n",
    "DATA_DIMS = train_dataset[0][0].size(0)"
   ]
  },
  {
   "cell_type": "code",
   "execution_count": 57,
   "metadata": {},
   "outputs": [],
   "source": [
    "train_dl = DataLoader(train_dataset, batch_size=BATCH_SIZE, shuffle=True)\n",
    "test_dl = DataLoader(test_dataset, batch_size=BATCH_SIZE)"
   ]
  },
  {
   "cell_type": "code",
   "execution_count": 58,
   "metadata": {},
   "outputs": [],
   "source": [
    "from tqdm import tqdm\n",
    "import sys\n",
    "\n",
    "def train(train_dl, test_dl, epochs=EPOCHS, input_size=DATA_DIMS, lr=1e-4, print_batch_every=10000):\n",
    "\n",
    "    model = RegressionDNN(input_size).to(device)\n",
    "    optimizer = Adam(model.parameters(), lr=lr)\n",
    "\n",
    "    model.train()\n",
    "\n",
    "    for epoch in range(epochs):\n",
    "\n",
    "        batch = 0\n",
    "        train_loss = 0\n",
    "        for data in tqdm(iter(train_dl)):\n",
    "            batch += 1\n",
    "\n",
    "            X, y = data\n",
    "\n",
    "            X = X.to(device)\n",
    "            y = y.to(device)\n",
    "            \n",
    "            optimizer.zero_grad()\n",
    "\n",
    "            pred = model(X).squeeze()\n",
    "\n",
    "            loss = F.l1_loss(pred, y * 1e-5)\n",
    "            train_loss += loss\n",
    "\n",
    "            loss.backward()\n",
    "            optimizer.step()\n",
    "\n",
    "            if print_batch_every is not None and ((batch-1) % print_batch_every == 0):\n",
    "                print(f'epoch: {epoch}\\tbatch: {batch}/{len(train_dl)}\\ttrain_loss: {loss.item()}', file=sys.stderr)\n",
    "    \n",
    "        print(f'epoch: {epoch}\\ttrain_loss: {train_loss}', file=sys.stderr)\n",
    "\n",
    "    model.eval()\n",
    "\n",
    "    with torch.no_grad():\n",
    "\n",
    "        batch = 0\n",
    "        test_loss = 0\n",
    "        for data in iter(test_dl):\n",
    "            batch += 1\n",
    "\n",
    "            X, y = data\n",
    "\n",
    "            X.to(device)\n",
    "            y.to(device)\n",
    "            \n",
    "            optimizer.zero_grad()\n",
    "\n",
    "            pred = model(X) * 1e5\n",
    "\n",
    "            loss = F.l1_loss(pred, y * 1e-5)\n",
    "            test_loss += loss\n",
    "\n",
    "            loss.backward()\n",
    "            optimizer.step()\n",
    "\n",
    "            if print_batch_every is not None and ((batch-1) % print_batch_every == 0):\n",
    "                print(f'epoch: {epoch}\\tbatch: {batch}/{len(test_dl)}\\ttest_loss: {loss.item()}', file=sys.stderr)\n",
    "    \n",
    "        print(f'epoch: {epoch}\\ttest_loss: {test_loss}', file=sys.stderr)\n",
    "\n",
    "    return model"
   ]
  },
  {
   "cell_type": "code",
   "execution_count": null,
   "metadata": {},
   "outputs": [],
   "source": [
    "trained_model = train(train_dl, test_dl, print_batch_every=None)"
   ]
  }
 ],
 "metadata": {
  "kernelspec": {
   "display_name": "cogs118a_g5",
   "language": "python",
   "name": "python3"
  },
  "language_info": {
   "codemirror_mode": {
    "name": "ipython",
    "version": 3
   },
   "file_extension": ".py",
   "mimetype": "text/x-python",
   "name": "python",
   "nbconvert_exporter": "python",
   "pygments_lexer": "ipython3",
   "version": "3.11.3"
  },
  "orig_nbformat": 4
 },
 "nbformat": 4,
 "nbformat_minor": 2
}
